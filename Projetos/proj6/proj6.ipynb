{
 "cells": [
  {
   "cell_type": "markdown",
   "id": "5c080b6c",
   "metadata": {},
   "source": [
    "<h1>Taxa de inscrição</h1>\n",
    "<h2>O cenario</h2>\n",
    "\n",
    "No final de junho, enviamos conteúdo promocional a alguns de nossos clientes para o nosso \"Clube de Entrega\".\n",
    "inscrevendo-se no clube custaria alguns dolares e daria aos consumidores entregas gratis por um ano,comecando em 1 de julho. Queríamos ver se uma mala direta com aparência mais bonita atrairia mais clientes para se inscrever. Selecionamos aleatoriamente 3 grupos, o primeiro grupo recebeu o mala direta 1, uma versão muito básica e barata, descrevendo o negócio, o segundo grupo recebeu o mala direta 2, um mailer muito bonito e colorido impresso em papelão, e o terceiro grupo foi o grupo de controle e recebido a mala direta com tudo.\n",
    "\n",
    "Estamos muito confiantes de que os clientes que receberam a mala direta se inscreveram em uma taxa muito maior do que o grupo de controle... mas não temos certeza se há uma diferença significativa entre a taxa de inscrição para a correspondência mais barata e a mais cara. . À primeira vista, parece haver uma taxa de inscrição um pouco maior para a versão cara, mas antes de tirar qualquer conclusão, queremos que você dê uma olhada nos números.\n",
    "<h2>A tarefa</h2>\n",
    "Se existe uma diferenca entre mala direta 1 and mala direta 2 em termos de taxa de inscricao."
   ]
  },
  {
   "cell_type": "code",
   "execution_count": 1,
   "id": "2bb9bbba",
   "metadata": {},
   "outputs": [],
   "source": [
    "import pandas as pd\n",
    "import numpy as np\n",
    "import matplotlib.pyplot as plt\n",
    "from scipy.stats import chi2_contingency, chi2"
   ]
  },
  {
   "cell_type": "code",
   "execution_count": 2,
   "id": "2dc23771",
   "metadata": {},
   "outputs": [
    {
     "data": {
      "text/html": [
       "<div>\n",
       "<style scoped>\n",
       "    .dataframe tbody tr th:only-of-type {\n",
       "        vertical-align: middle;\n",
       "    }\n",
       "\n",
       "    .dataframe tbody tr th {\n",
       "        vertical-align: top;\n",
       "    }\n",
       "\n",
       "    .dataframe thead th {\n",
       "        text-align: right;\n",
       "    }\n",
       "</style>\n",
       "<table border=\"1\" class=\"dataframe\">\n",
       "  <thead>\n",
       "    <tr style=\"text-align: right;\">\n",
       "      <th></th>\n",
       "      <th>customer_id</th>\n",
       "      <th>campaign_name</th>\n",
       "      <th>campaign_date</th>\n",
       "      <th>mailer_type</th>\n",
       "      <th>signup_flag</th>\n",
       "    </tr>\n",
       "  </thead>\n",
       "  <tbody>\n",
       "    <tr>\n",
       "      <th>0</th>\n",
       "      <td>74</td>\n",
       "      <td>delivery_club</td>\n",
       "      <td>2020-07-01</td>\n",
       "      <td>Mailer1</td>\n",
       "      <td>1</td>\n",
       "    </tr>\n",
       "    <tr>\n",
       "      <th>1</th>\n",
       "      <td>524</td>\n",
       "      <td>delivery_club</td>\n",
       "      <td>2020-07-01</td>\n",
       "      <td>Mailer1</td>\n",
       "      <td>1</td>\n",
       "    </tr>\n",
       "    <tr>\n",
       "      <th>2</th>\n",
       "      <td>607</td>\n",
       "      <td>delivery_club</td>\n",
       "      <td>2020-07-01</td>\n",
       "      <td>Mailer2</td>\n",
       "      <td>1</td>\n",
       "    </tr>\n",
       "    <tr>\n",
       "      <th>3</th>\n",
       "      <td>343</td>\n",
       "      <td>delivery_club</td>\n",
       "      <td>2020-07-01</td>\n",
       "      <td>Mailer1</td>\n",
       "      <td>0</td>\n",
       "    </tr>\n",
       "    <tr>\n",
       "      <th>4</th>\n",
       "      <td>322</td>\n",
       "      <td>delivery_club</td>\n",
       "      <td>2020-07-01</td>\n",
       "      <td>Mailer2</td>\n",
       "      <td>1</td>\n",
       "    </tr>\n",
       "  </tbody>\n",
       "</table>\n",
       "</div>"
      ],
      "text/plain": [
       "   customer_id  campaign_name campaign_date mailer_type  signup_flag\n",
       "0           74  delivery_club    2020-07-01     Mailer1            1\n",
       "1          524  delivery_club    2020-07-01     Mailer1            1\n",
       "2          607  delivery_club    2020-07-01     Mailer2            1\n",
       "3          343  delivery_club    2020-07-01     Mailer1            0\n",
       "4          322  delivery_club    2020-07-01     Mailer2            1"
      ]
     },
     "execution_count": 2,
     "metadata": {},
     "output_type": "execute_result"
    }
   ],
   "source": [
    "campanha = pd.read_excel(\"grocery_database.xlsx\", sheet_name = \"campaign_data\")\n",
    "campanha.head()"
   ]
  },
  {
   "cell_type": "code",
   "execution_count": 3,
   "id": "6d826391",
   "metadata": {},
   "outputs": [
    {
     "data": {
      "text/plain": [
       "customer_id               int64\n",
       "campaign_name            object\n",
       "campaign_date    datetime64[ns]\n",
       "mailer_type              object\n",
       "signup_flag               int64\n",
       "dtype: object"
      ]
     },
     "execution_count": 3,
     "metadata": {},
     "output_type": "execute_result"
    }
   ],
   "source": [
    "campanha.dtypes"
   ]
  },
  {
   "cell_type": "code",
   "execution_count": 4,
   "id": "7bfda312",
   "metadata": {},
   "outputs": [],
   "source": [
    "campanha = campanha.loc[campanha[\"mailer_type\"] != \"Control\"]"
   ]
  },
  {
   "cell_type": "code",
   "execution_count": 5,
   "id": "3fcb39af",
   "metadata": {},
   "outputs": [
    {
     "data": {
      "text/plain": [
       "711"
      ]
     },
     "execution_count": 5,
     "metadata": {},
     "output_type": "execute_result"
    }
   ],
   "source": [
    "# Checamos se temos IDs duplicados\n",
    "campanha.customer_id.value_counts().count()"
   ]
  },
  {
   "cell_type": "code",
   "execution_count": 6,
   "id": "37d8a544",
   "metadata": {},
   "outputs": [
    {
     "data": {
      "text/plain": [
       "52.742616033755276"
      ]
     },
     "execution_count": 6,
     "metadata": {},
     "output_type": "execute_result"
    }
   ],
   "source": [
    "# Probabilidade de um usuário visualizar a variante 1\n",
    "campanha[campanha.mailer_type == 'Mailer1'].shape[0] / campanha.shape[0] * 100"
   ]
  },
  {
   "cell_type": "code",
   "execution_count": 7,
   "id": "2a932175",
   "metadata": {},
   "outputs": [
    {
     "data": {
      "text/plain": [
       "47.257383966244724"
      ]
     },
     "execution_count": 7,
     "metadata": {},
     "output_type": "execute_result"
    }
   ],
   "source": [
    "# Probabilidade de um usuário visualizar a variante 2\n",
    "campanha[campanha.mailer_type == 'Mailer2'].shape[0] / campanha.shape[0] * 100"
   ]
  },
  {
   "cell_type": "code",
   "execution_count": 8,
   "id": "b582875a",
   "metadata": {},
   "outputs": [
    {
     "data": {
      "text/plain": [
       "0    461\n",
       "1    250\n",
       "Name: signup_flag, dtype: int64"
      ]
     },
     "execution_count": 8,
     "metadata": {},
     "output_type": "execute_result"
    }
   ],
   "source": [
    "campanha.signup_flag.value_counts()"
   ]
  },
  {
   "cell_type": "code",
   "execution_count": 9,
   "id": "53c18ff1",
   "metadata": {},
   "outputs": [
    {
     "data": {
      "text/plain": [
       "0.35161744022503516"
      ]
     },
     "execution_count": 9,
     "metadata": {},
     "output_type": "execute_result"
    }
   ],
   "source": [
    "# Probabilidade de conversão independente da variante recebida\n",
    "campanha.signup_flag.mean()"
   ]
  },
  {
   "cell_type": "code",
   "execution_count": 10,
   "id": "74cf7746",
   "metadata": {},
   "outputs": [
    {
     "data": {
      "text/plain": [
       "123"
      ]
     },
     "execution_count": 10,
     "metadata": {},
     "output_type": "execute_result"
    }
   ],
   "source": [
    "# Total de compras realizadas quando a variante era Mailer1\n",
    "campanha[campanha.mailer_type == \"Mailer1\"].signup_flag.sum()"
   ]
  },
  {
   "cell_type": "code",
   "execution_count": 11,
   "id": "87a170ba",
   "metadata": {},
   "outputs": [
    {
     "data": {
      "text/plain": [
       "127"
      ]
     },
     "execution_count": 11,
     "metadata": {},
     "output_type": "execute_result"
    }
   ],
   "source": [
    "# Total de compras realizadas quando a variante era Mailer2\n",
    "campanha[campanha.mailer_type == \"Mailer2\"].signup_flag.sum()"
   ]
  },
  {
   "cell_type": "code",
   "execution_count": 12,
   "id": "1ed87767",
   "metadata": {},
   "outputs": [
    {
     "data": {
      "text/plain": [
       "(711, 5)"
      ]
     },
     "execution_count": 12,
     "metadata": {},
     "output_type": "execute_result"
    }
   ],
   "source": [
    "campanha.shape"
   ]
  },
  {
   "cell_type": "code",
   "execution_count": 13,
   "id": "eca7ce3c",
   "metadata": {},
   "outputs": [
    {
     "data": {
      "text/plain": [
       "mailer_type  signup_flag\n",
       "Mailer1      0              252\n",
       "             1              123\n",
       "Mailer2      0              209\n",
       "             1              127\n",
       "Name: signup_flag, dtype: int64"
      ]
     },
     "execution_count": 13,
     "metadata": {},
     "output_type": "execute_result"
    }
   ],
   "source": [
    "# numero de assinaturas por campanha\n",
    "campanha.groupby(\"mailer_type\")[\"signup_flag\"].value_counts()"
   ]
  },
  {
   "cell_type": "code",
   "execution_count": 14,
   "id": "e81f1b0b",
   "metadata": {},
   "outputs": [
    {
     "data": {
      "text/plain": [
       "array([[252, 123],\n",
       "       [209, 127]])"
      ]
     },
     "execution_count": 14,
     "metadata": {},
     "output_type": "execute_result"
    }
   ],
   "source": [
    "valores_observados = pd.crosstab(campanha[\"mailer_type\"], campanha[\"signup_flag\"]).values\n",
    "valores_observados"
   ]
  },
  {
   "cell_type": "code",
   "execution_count": 15,
   "id": "529ca178",
   "metadata": {},
   "outputs": [
    {
     "name": "stdout",
     "output_type": "stream",
     "text": [
      "0.328 0.37797619047619047\n"
     ]
    }
   ],
   "source": [
    "# computando a taxa de inscricao\n",
    "mailer1 = 123 / (252 + 123) \n",
    "mailer2 = 127 / (209 + 127)\n",
    "print(mailer1, mailer2)"
   ]
  },
  {
   "cell_type": "code",
   "execution_count": 16,
   "id": "0bee9e43",
   "metadata": {},
   "outputs": [],
   "source": [
    "#hipótese e criterio\n",
    "hipótese_nula = \"nao existe relacionamento entre as 2 variaveis(campanha e inscricoes),elas sao independentes\"\n",
    "hipótese_alternativa = \"ha relacionamento entre as variaveis(campanha e inscricoes)\"\n",
    "criterio = 0.05"
   ]
  },
  {
   "cell_type": "code",
   "execution_count": 17,
   "id": "2e13076b",
   "metadata": {},
   "outputs": [
    {
     "name": "stdout",
     "output_type": "stream",
     "text": [
      "1.9414468614812481 0.16351152223398197\n",
      "3.841458820694124\n"
     ]
    }
   ],
   "source": [
    "#calculando frequencias & chi quadrado\n",
    "#https://docs.scipy.org/doc/scipy/reference/generated/scipy.stats.chi2_contingency.html\n",
    "chi2_statistic, valor_p, dof, expected_values = chi2_contingency(valores_observados, correction = False)\n",
    "print(chi2_statistic, valor_p)\n",
    "# achando o valor critico do nosso teste\n",
    "\n",
    "#ppf retorna o valor x da variável que possui uma determinada probabilidade de distribuição\n",
    "#cumulativa (cdf). Assim, dado o cdf(x) de um valor x, ppf retorna o próprio valor x, portanto,\n",
    "#operando como o inverso de cdf\n",
    "#dof e degree of freedom(grau de liberdade)=ele e a o número de observações menos a quantidade de\n",
    "#parâmetros que precisamos estimar\n",
    "valor_critico = chi2.ppf(1 - criterio, dof)\n",
    "print(valor_critico)"
   ]
  },
  {
   "cell_type": "code",
   "execution_count": 18,
   "id": "335d5ec9",
   "metadata": {},
   "outputs": [
    {
     "name": "stdout",
     "output_type": "stream",
     "text": [
      "como nossa estatistica chi quadrado de 1.9414468614812481 e menor que nosso valor critico de 3.841458820694124 - nos mantemos a hipotese nula e concluimos que: nao existe relacionamento entre as 2 variaveis(campanha e inscricoes),elas sao independentes.\n",
      "Como nosso valor p de 0.16351152223398197 e maior que nosso criterio de 0.05 - nos mantemos a hipotese nula\n"
     ]
    }
   ],
   "source": [
    "if chi2_statistic >= valor_critico:\n",
    "    print(f\"como nossa estatistica chi quadrado de {chi2_statistic} e maior que nosso valor critico  de {valor_critico} - nos rejeitamos a hipotese nula e concluimos que: {hipótese_alternativa}.\")\n",
    "else:\n",
    "    print(f\"como nossa estatistica chi quadrado de {chi2_statistic} e menor que nosso valor critico de {valor_critico} - nos mantemos a hipotese nula e concluimos que: {hipótese_nula}.\")\n",
    "\n",
    "if valor_p <= criterio:\n",
    "    print(f\"Como nosso valor p de {valor_p} e menor que nosso criterio de  {criterio} - nos rejeitamos a hipotese nula e concluimos que: {hipótese_alternativa}.\")\n",
    "else:\n",
    "    print(f\"Como nosso valor p de {valor_p} e maior que nosso criterio de {criterio} - nos mantemos a hipotese nula\") "
   ]
  },
  {
   "cell_type": "code",
   "execution_count": null,
   "id": "9e5b3b82",
   "metadata": {},
   "outputs": [],
   "source": []
  }
 ],
 "metadata": {
  "kernelspec": {
   "display_name": "Python 3 (ipykernel)",
   "language": "python",
   "name": "python3"
  },
  "language_info": {
   "codemirror_mode": {
    "name": "ipython",
    "version": 3
   },
   "file_extension": ".py",
   "mimetype": "text/x-python",
   "name": "python",
   "nbconvert_exporter": "python",
   "pygments_lexer": "ipython3",
   "version": "3.9.12"
  }
 },
 "nbformat": 4,
 "nbformat_minor": 5
}
