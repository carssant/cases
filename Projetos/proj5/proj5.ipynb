{
 "cells": [
  {
   "cell_type": "code",
   "execution_count": 2,
   "id": "32d25738",
   "metadata": {},
   "outputs": [],
   "source": [
    "import numpy as np \n",
    "import pandas as pd \n",
    "from pyspark.sql import *\n",
    "from pyspark.sql.types import *\n",
    "from pyspark.ml.feature import StringIndexer\n",
    "from pyspark.ml.linalg import Vectors\n",
    "from pyspark.ml.regression import LinearRegression\n",
    "from pyspark.ml.feature import StringIndexer,OneHotEncoder\n",
    "from pyspark.ml.feature import MinMaxScaler\n",
    "from pyspark.ml.feature import VectorAssembler\n",
    "from pyspark.ml import Pipeline\n",
    "from pyspark.sql.functions import udf,col\n",
    "from pyspark.sql.types import DoubleType,IntegerType,FloatType\n",
    "import matplotlib.pylab as plt"
   ]
  },
  {
   "cell_type": "code",
   "execution_count": 3,
   "id": "6035b287",
   "metadata": {},
   "outputs": [
    {
     "name": "stdout",
     "output_type": "stream",
     "text": [
      "22/11/15 01:38:51 WARN SparkSession: Using an existing Spark session; only runtime SQL configurations will take effect.\n"
     ]
    }
   ],
   "source": [
    "spSession = SparkSession.builder.master(\"local\").appName(\"Spark_CostPrediction\").getOrCreate()\n",
    "spark.conf.set(\"spark.sql.execution.arrow.pyspark.enabled\", \"true\")\n"
   ]
  },
  {
   "cell_type": "code",
   "execution_count": 4,
   "id": "5f1598d2",
   "metadata": {
    "scrolled": true
   },
   "outputs": [
    {
     "name": "stderr",
     "output_type": "stream",
     "text": [
      "[Stage 1:==============>                                            (1 + 3) / 4]\r"
     ]
    },
    {
     "name": "stdout",
     "output_type": "stream",
     "text": [
      "root\n",
      " |-- food_category: string (nullable = true)\n",
      " |-- food_department: string (nullable = true)\n",
      " |-- food_family: string (nullable = true)\n",
      " |-- store_sales(in millions): double (nullable = true)\n",
      " |-- store_cost(in millions): double (nullable = true)\n",
      " |-- unit_sales(in millions): double (nullable = true)\n",
      " |-- promotion_name: string (nullable = true)\n",
      " |-- sales_country: string (nullable = true)\n",
      " |-- marital_status: string (nullable = true)\n",
      " |-- gender: string (nullable = true)\n",
      " |-- total_children: double (nullable = true)\n",
      " |-- education: string (nullable = true)\n",
      " |-- member_card: string (nullable = true)\n",
      " |-- occupation: string (nullable = true)\n",
      " |-- houseowner: string (nullable = true)\n",
      " |-- avg_cars_at home(approx): double (nullable = true)\n",
      " |-- avg_yearly_income: string (nullable = true)\n",
      " |-- num_children_at_home: double (nullable = true)\n",
      " |-- brand_name: string (nullable = true)\n",
      " |-- SRP: double (nullable = true)\n",
      " |-- gross_weight: double (nullable = true)\n",
      " |-- net_weight: double (nullable = true)\n",
      " |-- recyclable_package: double (nullable = true)\n",
      " |-- low_fat: double (nullable = true)\n",
      " |-- units_per_case: double (nullable = true)\n",
      " |-- store_type: string (nullable = true)\n",
      " |-- store_city: string (nullable = true)\n",
      " |-- store_state: string (nullable = true)\n",
      " |-- store_sqft: double (nullable = true)\n",
      " |-- grocery_sqft: double (nullable = true)\n",
      " |-- frozen_sqft: double (nullable = true)\n",
      " |-- meat_sqft: double (nullable = true)\n",
      " |-- coffee_bar: double (nullable = true)\n",
      " |-- video_store: double (nullable = true)\n",
      " |-- salad_bar: double (nullable = true)\n",
      " |-- prepared_food: double (nullable = true)\n",
      " |-- florist: double (nullable = true)\n",
      " |-- media_type: string (nullable = true)\n",
      " |-- cost: double (nullable = true)\n",
      "\n"
     ]
    },
    {
     "name": "stderr",
     "output_type": "stream",
     "text": [
      "\r",
      "                                                                                \r"
     ]
    }
   ],
   "source": [
    "#baixando o csv e deixando o spark verificar seu schema(atribuir automaticamente)\n",
    "df = spark.read.options(header='True', inferSchema='True').csv(\"data/mediapredictionandcost.csv\")\n",
    "df.printSchema()"
   ]
  },
  {
   "cell_type": "markdown",
   "id": "6ed64eaf",
   "metadata": {},
   "source": [
    "<h2>analise inicial e separacao de dados</h2>"
   ]
  },
  {
   "cell_type": "code",
   "execution_count": 5,
   "id": "870b91b8",
   "metadata": {},
   "outputs": [
    {
     "data": {
      "text/plain": [
       "['food_category',\n",
       " 'food_department',\n",
       " 'food_family',\n",
       " 'store_sales(in millions)',\n",
       " 'store_cost(in millions)',\n",
       " 'unit_sales(in millions)',\n",
       " 'promotion_name',\n",
       " 'sales_country',\n",
       " 'marital_status',\n",
       " 'gender',\n",
       " 'total_children',\n",
       " 'education',\n",
       " 'member_card',\n",
       " 'occupation',\n",
       " 'houseowner',\n",
       " 'avg_cars_at home(approx)',\n",
       " 'avg_yearly_income',\n",
       " 'num_children_at_home',\n",
       " 'brand_name',\n",
       " 'SRP',\n",
       " 'gross_weight',\n",
       " 'net_weight',\n",
       " 'recyclable_package',\n",
       " 'low_fat',\n",
       " 'units_per_case',\n",
       " 'store_type',\n",
       " 'store_city',\n",
       " 'store_state',\n",
       " 'store_sqft',\n",
       " 'grocery_sqft',\n",
       " 'frozen_sqft',\n",
       " 'meat_sqft',\n",
       " 'coffee_bar',\n",
       " 'video_store',\n",
       " 'salad_bar',\n",
       " 'prepared_food',\n",
       " 'florist',\n",
       " 'media_type',\n",
       " 'cost']"
      ]
     },
     "execution_count": 5,
     "metadata": {},
     "output_type": "execute_result"
    }
   ],
   "source": [
    "df.columns"
   ]
  },
  {
   "cell_type": "code",
   "execution_count": 6,
   "id": "85c7f611",
   "metadata": {},
   "outputs": [
    {
     "name": "stdout",
     "output_type": "stream",
     "text": [
      "22/11/15 01:39:03 WARN package: Truncated the string representation of a plan since it was too large. This behavior can be adjusted by setting 'spark.sql.debug.maxToStringFields'.\n"
     ]
    },
    {
     "name": "stderr",
     "output_type": "stream",
     "text": [
      "                                                                                \r"
     ]
    },
    {
     "data": {
      "text/html": [
       "<div>\n",
       "<style scoped>\n",
       "    .dataframe tbody tr th:only-of-type {\n",
       "        vertical-align: middle;\n",
       "    }\n",
       "\n",
       "    .dataframe tbody tr th {\n",
       "        vertical-align: top;\n",
       "    }\n",
       "\n",
       "    .dataframe thead th {\n",
       "        text-align: right;\n",
       "    }\n",
       "</style>\n",
       "<table border=\"1\" class=\"dataframe\">\n",
       "  <thead>\n",
       "    <tr style=\"text-align: right;\">\n",
       "      <th></th>\n",
       "      <th>food_category</th>\n",
       "      <th>food_department</th>\n",
       "      <th>food_family</th>\n",
       "      <th>store_sales(in millions)</th>\n",
       "      <th>store_cost(in millions)</th>\n",
       "      <th>unit_sales(in millions)</th>\n",
       "      <th>promotion_name</th>\n",
       "      <th>sales_country</th>\n",
       "      <th>marital_status</th>\n",
       "      <th>gender</th>\n",
       "      <th>...</th>\n",
       "      <th>grocery_sqft</th>\n",
       "      <th>frozen_sqft</th>\n",
       "      <th>meat_sqft</th>\n",
       "      <th>coffee_bar</th>\n",
       "      <th>video_store</th>\n",
       "      <th>salad_bar</th>\n",
       "      <th>prepared_food</th>\n",
       "      <th>florist</th>\n",
       "      <th>media_type</th>\n",
       "      <th>cost</th>\n",
       "    </tr>\n",
       "  </thead>\n",
       "  <tbody>\n",
       "    <tr>\n",
       "      <th>0</th>\n",
       "      <td>Breakfast Foods</td>\n",
       "      <td>Frozen Foods</td>\n",
       "      <td>Food</td>\n",
       "      <td>7.36</td>\n",
       "      <td>2.7232</td>\n",
       "      <td>4.0</td>\n",
       "      <td>Bag Stuffers</td>\n",
       "      <td>USA</td>\n",
       "      <td>M</td>\n",
       "      <td>F</td>\n",
       "      <td>...</td>\n",
       "      <td>18670.0</td>\n",
       "      <td>5415.0</td>\n",
       "      <td>3610.0</td>\n",
       "      <td>1.0</td>\n",
       "      <td>1.0</td>\n",
       "      <td>1.0</td>\n",
       "      <td>1.0</td>\n",
       "      <td>1.0</td>\n",
       "      <td>Daily Paper, Radio</td>\n",
       "      <td>126.62</td>\n",
       "    </tr>\n",
       "    <tr>\n",
       "      <th>1</th>\n",
       "      <td>Breakfast Foods</td>\n",
       "      <td>Frozen Foods</td>\n",
       "      <td>Food</td>\n",
       "      <td>5.52</td>\n",
       "      <td>2.5944</td>\n",
       "      <td>3.0</td>\n",
       "      <td>Cash Register Lottery</td>\n",
       "      <td>USA</td>\n",
       "      <td>M</td>\n",
       "      <td>M</td>\n",
       "      <td>...</td>\n",
       "      <td>18670.0</td>\n",
       "      <td>5415.0</td>\n",
       "      <td>3610.0</td>\n",
       "      <td>1.0</td>\n",
       "      <td>1.0</td>\n",
       "      <td>1.0</td>\n",
       "      <td>1.0</td>\n",
       "      <td>1.0</td>\n",
       "      <td>Daily Paper, Radio</td>\n",
       "      <td>59.86</td>\n",
       "    </tr>\n",
       "    <tr>\n",
       "      <th>2</th>\n",
       "      <td>Breakfast Foods</td>\n",
       "      <td>Frozen Foods</td>\n",
       "      <td>Food</td>\n",
       "      <td>3.68</td>\n",
       "      <td>1.3616</td>\n",
       "      <td>2.0</td>\n",
       "      <td>High Roller Savings</td>\n",
       "      <td>USA</td>\n",
       "      <td>S</td>\n",
       "      <td>F</td>\n",
       "      <td>...</td>\n",
       "      <td>18670.0</td>\n",
       "      <td>5415.0</td>\n",
       "      <td>3610.0</td>\n",
       "      <td>1.0</td>\n",
       "      <td>1.0</td>\n",
       "      <td>1.0</td>\n",
       "      <td>1.0</td>\n",
       "      <td>1.0</td>\n",
       "      <td>Daily Paper, Radio</td>\n",
       "      <td>84.16</td>\n",
       "    </tr>\n",
       "    <tr>\n",
       "      <th>3</th>\n",
       "      <td>Breakfast Foods</td>\n",
       "      <td>Frozen Foods</td>\n",
       "      <td>Food</td>\n",
       "      <td>3.68</td>\n",
       "      <td>1.1776</td>\n",
       "      <td>2.0</td>\n",
       "      <td>Cash Register Lottery</td>\n",
       "      <td>USA</td>\n",
       "      <td>M</td>\n",
       "      <td>F</td>\n",
       "      <td>...</td>\n",
       "      <td>18670.0</td>\n",
       "      <td>5415.0</td>\n",
       "      <td>3610.0</td>\n",
       "      <td>1.0</td>\n",
       "      <td>1.0</td>\n",
       "      <td>1.0</td>\n",
       "      <td>1.0</td>\n",
       "      <td>1.0</td>\n",
       "      <td>In-Store Coupon</td>\n",
       "      <td>95.78</td>\n",
       "    </tr>\n",
       "    <tr>\n",
       "      <th>4</th>\n",
       "      <td>Breakfast Foods</td>\n",
       "      <td>Frozen Foods</td>\n",
       "      <td>Food</td>\n",
       "      <td>4.08</td>\n",
       "      <td>1428.0000</td>\n",
       "      <td>3.0</td>\n",
       "      <td>Double Down Sale</td>\n",
       "      <td>USA</td>\n",
       "      <td>M</td>\n",
       "      <td>M</td>\n",
       "      <td>...</td>\n",
       "      <td>18670.0</td>\n",
       "      <td>5415.0</td>\n",
       "      <td>3610.0</td>\n",
       "      <td>1.0</td>\n",
       "      <td>1.0</td>\n",
       "      <td>1.0</td>\n",
       "      <td>1.0</td>\n",
       "      <td>1.0</td>\n",
       "      <td>Radio</td>\n",
       "      <td>50.79</td>\n",
       "    </tr>\n",
       "    <tr>\n",
       "      <th>...</th>\n",
       "      <td>...</td>\n",
       "      <td>...</td>\n",
       "      <td>...</td>\n",
       "      <td>...</td>\n",
       "      <td>...</td>\n",
       "      <td>...</td>\n",
       "      <td>...</td>\n",
       "      <td>...</td>\n",
       "      <td>...</td>\n",
       "      <td>...</td>\n",
       "      <td>...</td>\n",
       "      <td>...</td>\n",
       "      <td>...</td>\n",
       "      <td>...</td>\n",
       "      <td>...</td>\n",
       "      <td>...</td>\n",
       "      <td>...</td>\n",
       "      <td>...</td>\n",
       "      <td>...</td>\n",
       "      <td>...</td>\n",
       "      <td>...</td>\n",
       "    </tr>\n",
       "    <tr>\n",
       "      <th>60423</th>\n",
       "      <td>Specialty</td>\n",
       "      <td>Carousel</td>\n",
       "      <td>Non-Consumable</td>\n",
       "      <td>2.76</td>\n",
       "      <td>1.3248</td>\n",
       "      <td>1.0</td>\n",
       "      <td>You Save Days</td>\n",
       "      <td>USA</td>\n",
       "      <td>M</td>\n",
       "      <td>F</td>\n",
       "      <td>...</td>\n",
       "      <td>15321.0</td>\n",
       "      <td>4294.0</td>\n",
       "      <td>2863.0</td>\n",
       "      <td>1.0</td>\n",
       "      <td>0.0</td>\n",
       "      <td>0.0</td>\n",
       "      <td>0.0</td>\n",
       "      <td>0.0</td>\n",
       "      <td>In-Store Coupon</td>\n",
       "      <td>95.25</td>\n",
       "    </tr>\n",
       "    <tr>\n",
       "      <th>60424</th>\n",
       "      <td>Specialty</td>\n",
       "      <td>Carousel</td>\n",
       "      <td>Non-Consumable</td>\n",
       "      <td>1.60</td>\n",
       "      <td>496.0000</td>\n",
       "      <td>1.0</td>\n",
       "      <td>Price Cutters</td>\n",
       "      <td>USA</td>\n",
       "      <td>S</td>\n",
       "      <td>F</td>\n",
       "      <td>...</td>\n",
       "      <td>15321.0</td>\n",
       "      <td>4294.0</td>\n",
       "      <td>2863.0</td>\n",
       "      <td>1.0</td>\n",
       "      <td>0.0</td>\n",
       "      <td>0.0</td>\n",
       "      <td>0.0</td>\n",
       "      <td>0.0</td>\n",
       "      <td>Sunday Paper</td>\n",
       "      <td>69.42</td>\n",
       "    </tr>\n",
       "    <tr>\n",
       "      <th>60425</th>\n",
       "      <td>Specialty</td>\n",
       "      <td>Carousel</td>\n",
       "      <td>Non-Consumable</td>\n",
       "      <td>5.52</td>\n",
       "      <td>2.5392</td>\n",
       "      <td>2.0</td>\n",
       "      <td>Weekend Markdown</td>\n",
       "      <td>USA</td>\n",
       "      <td>M</td>\n",
       "      <td>M</td>\n",
       "      <td>...</td>\n",
       "      <td>15321.0</td>\n",
       "      <td>4294.0</td>\n",
       "      <td>2863.0</td>\n",
       "      <td>1.0</td>\n",
       "      <td>0.0</td>\n",
       "      <td>0.0</td>\n",
       "      <td>0.0</td>\n",
       "      <td>0.0</td>\n",
       "      <td>Sunday Paper, Radio, TV</td>\n",
       "      <td>67.51</td>\n",
       "    </tr>\n",
       "    <tr>\n",
       "      <th>60426</th>\n",
       "      <td>Specialty</td>\n",
       "      <td>Carousel</td>\n",
       "      <td>Non-Consumable</td>\n",
       "      <td>8.28</td>\n",
       "      <td>2.5668</td>\n",
       "      <td>3.0</td>\n",
       "      <td>Sales Days</td>\n",
       "      <td>Canada</td>\n",
       "      <td>S</td>\n",
       "      <td>M</td>\n",
       "      <td>...</td>\n",
       "      <td>27463.0</td>\n",
       "      <td>4193.0</td>\n",
       "      <td>2795.0</td>\n",
       "      <td>1.0</td>\n",
       "      <td>0.0</td>\n",
       "      <td>0.0</td>\n",
       "      <td>0.0</td>\n",
       "      <td>1.0</td>\n",
       "      <td>Sunday Paper</td>\n",
       "      <td>132.88</td>\n",
       "    </tr>\n",
       "    <tr>\n",
       "      <th>60427</th>\n",
       "      <td>Specialty</td>\n",
       "      <td>Carousel</td>\n",
       "      <td>Non-Consumable</td>\n",
       "      <td>9.20</td>\n",
       "      <td>4232.0000</td>\n",
       "      <td>4.0</td>\n",
       "      <td>Super Duper Savers</td>\n",
       "      <td>Canada</td>\n",
       "      <td>S</td>\n",
       "      <td>F</td>\n",
       "      <td>...</td>\n",
       "      <td>27463.0</td>\n",
       "      <td>4193.0</td>\n",
       "      <td>2795.0</td>\n",
       "      <td>1.0</td>\n",
       "      <td>0.0</td>\n",
       "      <td>0.0</td>\n",
       "      <td>0.0</td>\n",
       "      <td>1.0</td>\n",
       "      <td>Daily Paper, Radio</td>\n",
       "      <td>87.76</td>\n",
       "    </tr>\n",
       "  </tbody>\n",
       "</table>\n",
       "<p>60428 rows × 39 columns</p>\n",
       "</div>"
      ],
      "text/plain": [
       "         food_category food_department     food_family  \\\n",
       "0      Breakfast Foods    Frozen Foods            Food   \n",
       "1      Breakfast Foods    Frozen Foods            Food   \n",
       "2      Breakfast Foods    Frozen Foods            Food   \n",
       "3      Breakfast Foods    Frozen Foods            Food   \n",
       "4      Breakfast Foods    Frozen Foods            Food   \n",
       "...                ...             ...             ...   \n",
       "60423        Specialty        Carousel  Non-Consumable   \n",
       "60424        Specialty        Carousel  Non-Consumable   \n",
       "60425        Specialty        Carousel  Non-Consumable   \n",
       "60426        Specialty        Carousel  Non-Consumable   \n",
       "60427        Specialty        Carousel  Non-Consumable   \n",
       "\n",
       "       store_sales(in millions)  store_cost(in millions)  \\\n",
       "0                          7.36                   2.7232   \n",
       "1                          5.52                   2.5944   \n",
       "2                          3.68                   1.3616   \n",
       "3                          3.68                   1.1776   \n",
       "4                          4.08                1428.0000   \n",
       "...                         ...                      ...   \n",
       "60423                      2.76                   1.3248   \n",
       "60424                      1.60                 496.0000   \n",
       "60425                      5.52                   2.5392   \n",
       "60426                      8.28                   2.5668   \n",
       "60427                      9.20                4232.0000   \n",
       "\n",
       "       unit_sales(in millions)         promotion_name sales_country  \\\n",
       "0                          4.0           Bag Stuffers           USA   \n",
       "1                          3.0  Cash Register Lottery           USA   \n",
       "2                          2.0    High Roller Savings           USA   \n",
       "3                          2.0  Cash Register Lottery           USA   \n",
       "4                          3.0       Double Down Sale           USA   \n",
       "...                        ...                    ...           ...   \n",
       "60423                      1.0          You Save Days           USA   \n",
       "60424                      1.0          Price Cutters           USA   \n",
       "60425                      2.0       Weekend Markdown           USA   \n",
       "60426                      3.0             Sales Days        Canada   \n",
       "60427                      4.0     Super Duper Savers        Canada   \n",
       "\n",
       "      marital_status gender  ...  grocery_sqft frozen_sqft meat_sqft  \\\n",
       "0                  M      F  ...       18670.0      5415.0    3610.0   \n",
       "1                  M      M  ...       18670.0      5415.0    3610.0   \n",
       "2                  S      F  ...       18670.0      5415.0    3610.0   \n",
       "3                  M      F  ...       18670.0      5415.0    3610.0   \n",
       "4                  M      M  ...       18670.0      5415.0    3610.0   \n",
       "...              ...    ...  ...           ...         ...       ...   \n",
       "60423              M      F  ...       15321.0      4294.0    2863.0   \n",
       "60424              S      F  ...       15321.0      4294.0    2863.0   \n",
       "60425              M      M  ...       15321.0      4294.0    2863.0   \n",
       "60426              S      M  ...       27463.0      4193.0    2795.0   \n",
       "60427              S      F  ...       27463.0      4193.0    2795.0   \n",
       "\n",
       "      coffee_bar video_store  salad_bar prepared_food  florist  \\\n",
       "0            1.0         1.0        1.0           1.0      1.0   \n",
       "1            1.0         1.0        1.0           1.0      1.0   \n",
       "2            1.0         1.0        1.0           1.0      1.0   \n",
       "3            1.0         1.0        1.0           1.0      1.0   \n",
       "4            1.0         1.0        1.0           1.0      1.0   \n",
       "...          ...         ...        ...           ...      ...   \n",
       "60423        1.0         0.0        0.0           0.0      0.0   \n",
       "60424        1.0         0.0        0.0           0.0      0.0   \n",
       "60425        1.0         0.0        0.0           0.0      0.0   \n",
       "60426        1.0         0.0        0.0           0.0      1.0   \n",
       "60427        1.0         0.0        0.0           0.0      1.0   \n",
       "\n",
       "                    media_type    cost  \n",
       "0           Daily Paper, Radio  126.62  \n",
       "1           Daily Paper, Radio   59.86  \n",
       "2           Daily Paper, Radio   84.16  \n",
       "3              In-Store Coupon   95.78  \n",
       "4                        Radio   50.79  \n",
       "...                        ...     ...  \n",
       "60423          In-Store Coupon   95.25  \n",
       "60424             Sunday Paper   69.42  \n",
       "60425  Sunday Paper, Radio, TV   67.51  \n",
       "60426             Sunday Paper  132.88  \n",
       "60427       Daily Paper, Radio   87.76  \n",
       "\n",
       "[60428 rows x 39 columns]"
      ]
     },
     "execution_count": 6,
     "metadata": {},
     "output_type": "execute_result"
    }
   ],
   "source": [
    "df.toPandas()"
   ]
  },
  {
   "cell_type": "code",
   "execution_count": 7,
   "id": "926f5520",
   "metadata": {},
   "outputs": [
    {
     "data": {
      "text/plain": [
       "[Row(food_category='Breakfast Foods', food_department='Frozen Foods', food_family='Food', store_sales(in millions)=7.36, store_cost(in millions)=2.7232, unit_sales(in millions)=4.0, promotion_name='Bag Stuffers', sales_country='USA', marital_status='M', gender='F', total_children=1.0, education='Partial High School', member_card='Normal', occupation='Skilled Manual', houseowner='Y', avg_cars_at home(approx)=1.0, avg_yearly_income='$10K - $30K', num_children_at_home=1.0, brand_name='Carrington', SRP=1.84, gross_weight=19.7, net_weight=17.7, recyclable_package=1.0, low_fat=0.0, units_per_case=17.0, store_type='Deluxe Supermarket', store_city='Salem', store_state='OR', store_sqft=27694.0, grocery_sqft=18670.0, frozen_sqft=5415.0, meat_sqft=3610.0, coffee_bar=1.0, video_store=1.0, salad_bar=1.0, prepared_food=1.0, florist=1.0, media_type='Daily Paper, Radio', cost=126.62),\n",
       " Row(food_category='Breakfast Foods', food_department='Frozen Foods', food_family='Food', store_sales(in millions)=5.52, store_cost(in millions)=2.5944, unit_sales(in millions)=3.0, promotion_name='Cash Register Lottery', sales_country='USA', marital_status='M', gender='M', total_children=0.0, education='Bachelors Degree', member_card='Silver', occupation='Professional', houseowner='Y', avg_cars_at home(approx)=4.0, avg_yearly_income='$50K - $70K', num_children_at_home=0.0, brand_name='Carrington', SRP=1.84, gross_weight=19.7, net_weight=17.7, recyclable_package=1.0, low_fat=0.0, units_per_case=17.0, store_type='Deluxe Supermarket', store_city='Salem', store_state='OR', store_sqft=27694.0, grocery_sqft=18670.0, frozen_sqft=5415.0, meat_sqft=3610.0, coffee_bar=1.0, video_store=1.0, salad_bar=1.0, prepared_food=1.0, florist=1.0, media_type='Daily Paper, Radio', cost=59.86)]"
      ]
     },
     "execution_count": 7,
     "metadata": {},
     "output_type": "execute_result"
    }
   ],
   "source": [
    "df.take(2)"
   ]
  },
  {
   "cell_type": "code",
   "execution_count": 8,
   "id": "f5e7aa9f",
   "metadata": {},
   "outputs": [],
   "source": [
    "#separando as variaveis categoricas e numericas iterando o dtypes\n",
    "categorica= [item[0] for item in df.dtypes if item[1].startswith('string')]\n",
    "numerica = [item[0] for item in df.dtypes if item[1].startswith('double')]"
   ]
  },
  {
   "cell_type": "code",
   "execution_count": 9,
   "id": "99cf8371",
   "metadata": {},
   "outputs": [
    {
     "name": "stdout",
     "output_type": "stream",
     "text": [
      "['food_category', 'food_department', 'food_family', 'promotion_name', 'sales_country', 'marital_status', 'gender', 'education', 'member_card', 'occupation', 'houseowner', 'avg_yearly_income', 'brand_name', 'store_type', 'store_city', 'store_state', 'media_type']\n"
     ]
    }
   ],
   "source": [
    "print(categorica)"
   ]
  },
  {
   "cell_type": "code",
   "execution_count": 10,
   "id": "016fe003",
   "metadata": {},
   "outputs": [],
   "source": [
    "#separando em categoricas e numericas\n",
    "dfcat=df.select(*categorica)\n",
    "dfnum=df.select(*numerica)"
   ]
  },
  {
   "cell_type": "code",
   "execution_count": 11,
   "id": "12ff23f4",
   "metadata": {},
   "outputs": [],
   "source": [
    "#excluindo a variavel avg que contem uma faixa de valores ex:$10K - $30K\n",
    "dfcat=dfcat.drop(\"avg_yearly_income\")"
   ]
  },
  {
   "cell_type": "code",
   "execution_count": 12,
   "id": "ff5454a0",
   "metadata": {},
   "outputs": [
    {
     "name": "stderr",
     "output_type": "stream",
     "text": [
      "[Stage 4:==============>                                            (1 + 3) / 4]\r"
     ]
    },
    {
     "name": "stdout",
     "output_type": "stream",
     "text": [
      "+--------------------+-----+\n",
      "|       food_category|count|\n",
      "+--------------------+-----+\n",
      "|     Breakfast Foods| 1946|\n",
      "|     Frozen Desserts| 1446|\n",
      "|       Starchy Foods| 1103|\n",
      "|        Baking Goods| 1947|\n",
      "|   Cleaning Supplies|  748|\n",
      "|                Meat| 3107|\n",
      "|    Jams and Jellies| 2550|\n",
      "|       Hot Beverages|  891|\n",
      "|          Vegetables| 7440|\n",
      "|               Dairy| 3835|\n",
      "|         Snack Foods| 6919|\n",
      "|               Candy| 1538|\n",
      "|       Decongestants|  396|\n",
      "|       Canned Shrimp|  182|\n",
      "|               Bread| 1797|\n",
      "|             Seafood|  375|\n",
      "|Carbonated Beverages|  782|\n",
      "|    Kitchen Products|  969|\n",
      "|             Candles|  195|\n",
      "|           Specialty| 1174|\n",
      "+--------------------+-----+\n",
      "only showing top 20 rows\n",
      "\n"
     ]
    },
    {
     "name": "stderr",
     "output_type": "stream",
     "text": [
      "\r",
      "                                                                                \r"
     ]
    }
   ],
   "source": [
    "df.groupBy('food_category').count().show()\n",
    "#equivalente ao valuecounts"
   ]
  },
  {
   "cell_type": "code",
   "execution_count": 13,
   "id": "e65d28f3",
   "metadata": {
    "scrolled": true
   },
   "outputs": [
    {
     "name": "stderr",
     "output_type": "stream",
     "text": [
      "                                                                                \r"
     ]
    },
    {
     "data": {
      "text/html": [
       "<div>\n",
       "<style scoped>\n",
       "    .dataframe tbody tr th:only-of-type {\n",
       "        vertical-align: middle;\n",
       "    }\n",
       "\n",
       "    .dataframe tbody tr th {\n",
       "        vertical-align: top;\n",
       "    }\n",
       "\n",
       "    .dataframe thead th {\n",
       "        text-align: right;\n",
       "    }\n",
       "</style>\n",
       "<table border=\"1\" class=\"dataframe\">\n",
       "  <thead>\n",
       "    <tr style=\"text-align: right;\">\n",
       "      <th></th>\n",
       "      <th>food_category1</th>\n",
       "      <th>food_department1</th>\n",
       "      <th>food_family1</th>\n",
       "      <th>promotion_name1</th>\n",
       "      <th>sales_country1</th>\n",
       "      <th>marital_status1</th>\n",
       "      <th>gender1</th>\n",
       "      <th>education1</th>\n",
       "      <th>member_card1</th>\n",
       "      <th>occupation1</th>\n",
       "      <th>houseowner1</th>\n",
       "      <th>brand_name1</th>\n",
       "      <th>store_type1</th>\n",
       "      <th>store_city1</th>\n",
       "      <th>store_state1</th>\n",
       "      <th>media_type1</th>\n",
       "    </tr>\n",
       "  </thead>\n",
       "  <tbody>\n",
       "    <tr>\n",
       "      <th>0</th>\n",
       "      <td>7.0</td>\n",
       "      <td>3.0</td>\n",
       "      <td>0.0</td>\n",
       "      <td>30.0</td>\n",
       "      <td>0.0</td>\n",
       "      <td>1.0</td>\n",
       "      <td>0.0</td>\n",
       "      <td>0.0</td>\n",
       "      <td>1.0</td>\n",
       "      <td>1.0</td>\n",
       "      <td>0.0</td>\n",
       "      <td>12.0</td>\n",
       "      <td>1.0</td>\n",
       "      <td>1.0</td>\n",
       "      <td>1.0</td>\n",
       "      <td>0.0</td>\n",
       "    </tr>\n",
       "    <tr>\n",
       "      <th>1</th>\n",
       "      <td>7.0</td>\n",
       "      <td>3.0</td>\n",
       "      <td>0.0</td>\n",
       "      <td>14.0</td>\n",
       "      <td>0.0</td>\n",
       "      <td>1.0</td>\n",
       "      <td>1.0</td>\n",
       "      <td>2.0</td>\n",
       "      <td>3.0</td>\n",
       "      <td>0.0</td>\n",
       "      <td>0.0</td>\n",
       "      <td>12.0</td>\n",
       "      <td>1.0</td>\n",
       "      <td>1.0</td>\n",
       "      <td>1.0</td>\n",
       "      <td>0.0</td>\n",
       "    </tr>\n",
       "    <tr>\n",
       "      <th>2</th>\n",
       "      <td>7.0</td>\n",
       "      <td>3.0</td>\n",
       "      <td>0.0</td>\n",
       "      <td>9.0</td>\n",
       "      <td>0.0</td>\n",
       "      <td>0.0</td>\n",
       "      <td>0.0</td>\n",
       "      <td>0.0</td>\n",
       "      <td>1.0</td>\n",
       "      <td>2.0</td>\n",
       "      <td>1.0</td>\n",
       "      <td>12.0</td>\n",
       "      <td>1.0</td>\n",
       "      <td>1.0</td>\n",
       "      <td>1.0</td>\n",
       "      <td>0.0</td>\n",
       "    </tr>\n",
       "    <tr>\n",
       "      <th>3</th>\n",
       "      <td>7.0</td>\n",
       "      <td>3.0</td>\n",
       "      <td>0.0</td>\n",
       "      <td>14.0</td>\n",
       "      <td>0.0</td>\n",
       "      <td>1.0</td>\n",
       "      <td>0.0</td>\n",
       "      <td>1.0</td>\n",
       "      <td>0.0</td>\n",
       "      <td>2.0</td>\n",
       "      <td>0.0</td>\n",
       "      <td>12.0</td>\n",
       "      <td>1.0</td>\n",
       "      <td>1.0</td>\n",
       "      <td>1.0</td>\n",
       "      <td>7.0</td>\n",
       "    </tr>\n",
       "    <tr>\n",
       "      <th>4</th>\n",
       "      <td>7.0</td>\n",
       "      <td>3.0</td>\n",
       "      <td>0.0</td>\n",
       "      <td>8.0</td>\n",
       "      <td>0.0</td>\n",
       "      <td>1.0</td>\n",
       "      <td>1.0</td>\n",
       "      <td>0.0</td>\n",
       "      <td>0.0</td>\n",
       "      <td>1.0</td>\n",
       "      <td>1.0</td>\n",
       "      <td>16.0</td>\n",
       "      <td>1.0</td>\n",
       "      <td>1.0</td>\n",
       "      <td>1.0</td>\n",
       "      <td>5.0</td>\n",
       "    </tr>\n",
       "    <tr>\n",
       "      <th>...</th>\n",
       "      <td>...</td>\n",
       "      <td>...</td>\n",
       "      <td>...</td>\n",
       "      <td>...</td>\n",
       "      <td>...</td>\n",
       "      <td>...</td>\n",
       "      <td>...</td>\n",
       "      <td>...</td>\n",
       "      <td>...</td>\n",
       "      <td>...</td>\n",
       "      <td>...</td>\n",
       "      <td>...</td>\n",
       "      <td>...</td>\n",
       "      <td>...</td>\n",
       "      <td>...</td>\n",
       "      <td>...</td>\n",
       "    </tr>\n",
       "    <tr>\n",
       "      <th>60423</th>\n",
       "      <td>16.0</td>\n",
       "      <td>21.0</td>\n",
       "      <td>1.0</td>\n",
       "      <td>28.0</td>\n",
       "      <td>0.0</td>\n",
       "      <td>1.0</td>\n",
       "      <td>0.0</td>\n",
       "      <td>0.0</td>\n",
       "      <td>1.0</td>\n",
       "      <td>1.0</td>\n",
       "      <td>0.0</td>\n",
       "      <td>106.0</td>\n",
       "      <td>4.0</td>\n",
       "      <td>15.0</td>\n",
       "      <td>2.0</td>\n",
       "      <td>7.0</td>\n",
       "    </tr>\n",
       "    <tr>\n",
       "      <th>60424</th>\n",
       "      <td>16.0</td>\n",
       "      <td>21.0</td>\n",
       "      <td>1.0</td>\n",
       "      <td>27.0</td>\n",
       "      <td>0.0</td>\n",
       "      <td>0.0</td>\n",
       "      <td>0.0</td>\n",
       "      <td>1.0</td>\n",
       "      <td>0.0</td>\n",
       "      <td>1.0</td>\n",
       "      <td>1.0</td>\n",
       "      <td>107.0</td>\n",
       "      <td>4.0</td>\n",
       "      <td>15.0</td>\n",
       "      <td>2.0</td>\n",
       "      <td>6.0</td>\n",
       "    </tr>\n",
       "    <tr>\n",
       "      <th>60425</th>\n",
       "      <td>16.0</td>\n",
       "      <td>21.0</td>\n",
       "      <td>1.0</td>\n",
       "      <td>0.0</td>\n",
       "      <td>0.0</td>\n",
       "      <td>1.0</td>\n",
       "      <td>1.0</td>\n",
       "      <td>1.0</td>\n",
       "      <td>0.0</td>\n",
       "      <td>2.0</td>\n",
       "      <td>0.0</td>\n",
       "      <td>106.0</td>\n",
       "      <td>4.0</td>\n",
       "      <td>15.0</td>\n",
       "      <td>2.0</td>\n",
       "      <td>12.0</td>\n",
       "    </tr>\n",
       "    <tr>\n",
       "      <th>60426</th>\n",
       "      <td>16.0</td>\n",
       "      <td>21.0</td>\n",
       "      <td>1.0</td>\n",
       "      <td>26.0</td>\n",
       "      <td>2.0</td>\n",
       "      <td>0.0</td>\n",
       "      <td>1.0</td>\n",
       "      <td>2.0</td>\n",
       "      <td>0.0</td>\n",
       "      <td>0.0</td>\n",
       "      <td>1.0</td>\n",
       "      <td>106.0</td>\n",
       "      <td>3.0</td>\n",
       "      <td>17.0</td>\n",
       "      <td>5.0</td>\n",
       "      <td>6.0</td>\n",
       "    </tr>\n",
       "    <tr>\n",
       "      <th>60427</th>\n",
       "      <td>16.0</td>\n",
       "      <td>21.0</td>\n",
       "      <td>1.0</td>\n",
       "      <td>5.0</td>\n",
       "      <td>2.0</td>\n",
       "      <td>0.0</td>\n",
       "      <td>0.0</td>\n",
       "      <td>0.0</td>\n",
       "      <td>0.0</td>\n",
       "      <td>2.0</td>\n",
       "      <td>0.0</td>\n",
       "      <td>108.0</td>\n",
       "      <td>3.0</td>\n",
       "      <td>17.0</td>\n",
       "      <td>5.0</td>\n",
       "      <td>0.0</td>\n",
       "    </tr>\n",
       "  </tbody>\n",
       "</table>\n",
       "<p>60428 rows × 16 columns</p>\n",
       "</div>"
      ],
      "text/plain": [
       "       food_category1  food_department1  food_family1  promotion_name1  \\\n",
       "0                 7.0               3.0           0.0             30.0   \n",
       "1                 7.0               3.0           0.0             14.0   \n",
       "2                 7.0               3.0           0.0              9.0   \n",
       "3                 7.0               3.0           0.0             14.0   \n",
       "4                 7.0               3.0           0.0              8.0   \n",
       "...               ...               ...           ...              ...   \n",
       "60423            16.0              21.0           1.0             28.0   \n",
       "60424            16.0              21.0           1.0             27.0   \n",
       "60425            16.0              21.0           1.0              0.0   \n",
       "60426            16.0              21.0           1.0             26.0   \n",
       "60427            16.0              21.0           1.0              5.0   \n",
       "\n",
       "       sales_country1  marital_status1  gender1  education1  member_card1  \\\n",
       "0                 0.0              1.0      0.0         0.0           1.0   \n",
       "1                 0.0              1.0      1.0         2.0           3.0   \n",
       "2                 0.0              0.0      0.0         0.0           1.0   \n",
       "3                 0.0              1.0      0.0         1.0           0.0   \n",
       "4                 0.0              1.0      1.0         0.0           0.0   \n",
       "...               ...              ...      ...         ...           ...   \n",
       "60423             0.0              1.0      0.0         0.0           1.0   \n",
       "60424             0.0              0.0      0.0         1.0           0.0   \n",
       "60425             0.0              1.0      1.0         1.0           0.0   \n",
       "60426             2.0              0.0      1.0         2.0           0.0   \n",
       "60427             2.0              0.0      0.0         0.0           0.0   \n",
       "\n",
       "       occupation1  houseowner1  brand_name1  store_type1  store_city1  \\\n",
       "0              1.0          0.0         12.0          1.0          1.0   \n",
       "1              0.0          0.0         12.0          1.0          1.0   \n",
       "2              2.0          1.0         12.0          1.0          1.0   \n",
       "3              2.0          0.0         12.0          1.0          1.0   \n",
       "4              1.0          1.0         16.0          1.0          1.0   \n",
       "...            ...          ...          ...          ...          ...   \n",
       "60423          1.0          0.0        106.0          4.0         15.0   \n",
       "60424          1.0          1.0        107.0          4.0         15.0   \n",
       "60425          2.0          0.0        106.0          4.0         15.0   \n",
       "60426          0.0          1.0        106.0          3.0         17.0   \n",
       "60427          2.0          0.0        108.0          3.0         17.0   \n",
       "\n",
       "       store_state1  media_type1  \n",
       "0               1.0          0.0  \n",
       "1               1.0          0.0  \n",
       "2               1.0          0.0  \n",
       "3               1.0          7.0  \n",
       "4               1.0          5.0  \n",
       "...             ...          ...  \n",
       "60423           2.0          7.0  \n",
       "60424           2.0          6.0  \n",
       "60425           2.0         12.0  \n",
       "60426           5.0          6.0  \n",
       "60427           5.0          0.0  \n",
       "\n",
       "[60428 rows x 16 columns]"
      ]
     },
     "execution_count": 13,
     "metadata": {},
     "output_type": "execute_result"
    }
   ],
   "source": [
    "#transformando as categoricas em numeros\n",
    "indexer = StringIndexer(inputCols=[cols for cols in dfcat.columns], \n",
    "                   outputCols=[cols + \"1\" for cols in dfcat.columns])\n",
    "indexer_fitted = indexer.fit(dfcat)\n",
    "dfcat2 = indexer_fitted.transform(dfcat)\n",
    "dfcat2 = dfcat2.drop(*[cols for cols in dfcat.columns])\n",
    "dfcat2.toPandas()"
   ]
  },
  {
   "cell_type": "code",
   "execution_count": 14,
   "id": "c2a3b86b",
   "metadata": {},
   "outputs": [
    {
     "name": "stdout",
     "output_type": "stream",
     "text": [
      "DataFrame[food_category1: double, food_department1: double, food_family1: double, promotion_name1: double, sales_country1: double, marital_status1: double, gender1: double, education1: double, member_card1: double, occupation1: double, houseowner1: double, brand_name1: double, store_type1: double, store_city1: double, store_state1: double, media_type1: double]\n"
     ]
    }
   ],
   "source": [
    "print(dfcat2)"
   ]
  },
  {
   "cell_type": "code",
   "execution_count": 15,
   "id": "72cde23c",
   "metadata": {},
   "outputs": [],
   "source": [
    "# analisando as viariaveis numericas"
   ]
  },
  {
   "cell_type": "code",
   "execution_count": 16,
   "id": "6e9e6827",
   "metadata": {},
   "outputs": [
    {
     "name": "stderr",
     "output_type": "stream",
     "text": [
      "\r",
      "[Stage 11:==============>                                           (1 + 3) / 4]\r",
      "\r",
      "[Stage 11:=============================>                            (2 + 2) / 4]\r"
     ]
    },
    {
     "name": "stdout",
     "output_type": "stream",
     "text": [
      "+-------+-------------+---------+----------+-----------+------------------+-------+-----+\n",
      "|florist|prepared_food|salad_bar|coffee_bar|video_store|recyclable_package|low_fat|count|\n",
      "+-------+-------------+---------+----------+-----------+------------------+-------+-----+\n",
      "|    0.0|          0.0|      0.0|       1.0|        0.0|               1.0|    0.0| 2588|\n",
      "|    1.0|          0.0|      0.0|       1.0|        0.0|               0.0|    1.0|   89|\n",
      "|    1.0|          1.0|      1.0|       1.0|        1.0|               1.0|    0.0| 7968|\n",
      "|    1.0|          1.0|      1.0|       1.0|        0.0|               1.0|    0.0| 2872|\n",
      "|    0.0|          1.0|      1.0|       0.0|        0.0|               1.0|    1.0| 1174|\n",
      "|    1.0|          0.0|      0.0|       0.0|        0.0|               1.0|    0.0| 1474|\n",
      "|    0.0|          0.0|      0.0|       0.0|        0.0|               0.0|    0.0| 3767|\n",
      "|    1.0|          1.0|      1.0|       1.0|        0.0|               1.0|    1.0| 1587|\n",
      "|    0.0|          0.0|      0.0|       0.0|        0.0|               1.0|    1.0| 2524|\n",
      "|    1.0|          1.0|      1.0|       1.0|        0.0|               0.0|    0.0| 2262|\n",
      "|    0.0|          1.0|      1.0|       0.0|        0.0|               1.0|    0.0| 2250|\n",
      "|    1.0|          1.0|      1.0|       1.0|        1.0|               0.0|    1.0| 3429|\n",
      "|    1.0|          0.0|      0.0|       0.0|        0.0|               0.0|    0.0| 1090|\n",
      "|    1.0|          0.0|      0.0|       0.0|        0.0|               1.0|    1.0|  734|\n",
      "|    0.0|          0.0|      0.0|       0.0|        0.0|               1.0|    0.0| 4933|\n",
      "|    1.0|          1.0|      1.0|       1.0|        1.0|               1.0|    1.0| 4009|\n",
      "|    1.0|          0.0|      0.0|       1.0|        0.0|               1.0|    1.0|  106|\n",
      "|    1.0|          0.0|      0.0|       1.0|        0.0|               0.0|    0.0|  162|\n",
      "|    1.0|          1.0|      1.0|       1.0|        0.0|               0.0|    1.0| 1335|\n",
      "|    0.0|          0.0|      0.0|       0.0|        0.0|               0.0|    1.0| 2151|\n",
      "+-------+-------------+---------+----------+-----------+------------------+-------+-----+\n",
      "only showing top 20 rows\n",
      "\n",
      "DataFrame[florist: double, prepared_food: double, salad_bar: double, coffee_bar: double, video_store: double, recyclable_package: double, low_fat: double]\n"
     ]
    },
    {
     "name": "stderr",
     "output_type": "stream",
     "text": [
      "\r",
      "                                                                                \r"
     ]
    }
   ],
   "source": [
    "#estas variaveis estao como numericas ,mas,sao categoricas\n",
    "dfnum.groupBy('florist','prepared_food','salad_bar','coffee_bar','video_store','recyclable_package','low_fat').count().show()\n",
    "dfnumcat=dfnum.select('florist','prepared_food','salad_bar','coffee_bar','video_store','recyclable_package','low_fat')\n",
    "dfnum=dfnum.drop(*[cols for cols in dfnumcat.columns])\n",
    "print(dfnumcat)"
   ]
  },
  {
   "cell_type": "code",
   "execution_count": 17,
   "id": "758ac5a0",
   "metadata": {},
   "outputs": [
    {
     "name": "stderr",
     "output_type": "stream",
     "text": [
      "                                                                                \r"
     ]
    }
   ],
   "source": [
    "#juntando (numericas que sao categoricas com as variaveis categoricas ja definidas) \n",
    "df1=dfnumcat.toPandas()\n",
    "df2=dfcat2.toPandas()\n",
    "df3=pd.concat([df1, df2], axis=1, join='inner')\n",
    "\n",
    "dfcat2=spark.createDataFrame(df3) "
   ]
  },
  {
   "cell_type": "code",
   "execution_count": 18,
   "id": "433d0e29",
   "metadata": {},
   "outputs": [
    {
     "data": {
      "text/plain": [
       "['florist',\n",
       " 'prepared_food',\n",
       " 'salad_bar',\n",
       " 'coffee_bar',\n",
       " 'video_store',\n",
       " 'recyclable_package',\n",
       " 'low_fat',\n",
       " 'food_category1',\n",
       " 'food_department1',\n",
       " 'food_family1',\n",
       " 'promotion_name1',\n",
       " 'sales_country1',\n",
       " 'marital_status1',\n",
       " 'gender1',\n",
       " 'education1',\n",
       " 'member_card1',\n",
       " 'occupation1',\n",
       " 'houseowner1',\n",
       " 'brand_name1',\n",
       " 'store_type1',\n",
       " 'store_city1',\n",
       " 'store_state1',\n",
       " 'media_type1']"
      ]
     },
     "execution_count": 18,
     "metadata": {},
     "output_type": "execute_result"
    }
   ],
   "source": [
    "dfcat2.columns"
   ]
  },
  {
   "cell_type": "code",
   "execution_count": 19,
   "id": "5f62a779",
   "metadata": {},
   "outputs": [
    {
     "name": "stderr",
     "output_type": "stream",
     "text": [
      "                                                                                \r"
     ]
    },
    {
     "data": {
      "text/html": [
       "<div>\n",
       "<style scoped>\n",
       "    .dataframe tbody tr th:only-of-type {\n",
       "        vertical-align: middle;\n",
       "    }\n",
       "\n",
       "    .dataframe tbody tr th {\n",
       "        vertical-align: top;\n",
       "    }\n",
       "\n",
       "    .dataframe thead th {\n",
       "        text-align: right;\n",
       "    }\n",
       "</style>\n",
       "<table border=\"1\" class=\"dataframe\">\n",
       "  <thead>\n",
       "    <tr style=\"text-align: right;\">\n",
       "      <th></th>\n",
       "      <th>store_sales(in millions)</th>\n",
       "      <th>store_cost(in millions)</th>\n",
       "      <th>unit_sales(in millions)</th>\n",
       "      <th>total_children</th>\n",
       "      <th>avg_cars_at home(approx)</th>\n",
       "      <th>num_children_at_home</th>\n",
       "      <th>SRP</th>\n",
       "      <th>gross_weight</th>\n",
       "      <th>net_weight</th>\n",
       "      <th>units_per_case</th>\n",
       "      <th>store_sqft</th>\n",
       "      <th>grocery_sqft</th>\n",
       "      <th>frozen_sqft</th>\n",
       "      <th>meat_sqft</th>\n",
       "      <th>cost</th>\n",
       "    </tr>\n",
       "  </thead>\n",
       "  <tbody>\n",
       "    <tr>\n",
       "      <th>0</th>\n",
       "      <td>7.36</td>\n",
       "      <td>2.7232</td>\n",
       "      <td>4.0</td>\n",
       "      <td>1.0</td>\n",
       "      <td>1.0</td>\n",
       "      <td>1.0</td>\n",
       "      <td>1.84</td>\n",
       "      <td>19.70</td>\n",
       "      <td>17.70</td>\n",
       "      <td>17.0</td>\n",
       "      <td>27694.0</td>\n",
       "      <td>18670.0</td>\n",
       "      <td>5415.0</td>\n",
       "      <td>3610.0</td>\n",
       "      <td>126.62</td>\n",
       "    </tr>\n",
       "    <tr>\n",
       "      <th>1</th>\n",
       "      <td>5.52</td>\n",
       "      <td>2.5944</td>\n",
       "      <td>3.0</td>\n",
       "      <td>0.0</td>\n",
       "      <td>4.0</td>\n",
       "      <td>0.0</td>\n",
       "      <td>1.84</td>\n",
       "      <td>19.70</td>\n",
       "      <td>17.70</td>\n",
       "      <td>17.0</td>\n",
       "      <td>27694.0</td>\n",
       "      <td>18670.0</td>\n",
       "      <td>5415.0</td>\n",
       "      <td>3610.0</td>\n",
       "      <td>59.86</td>\n",
       "    </tr>\n",
       "    <tr>\n",
       "      <th>2</th>\n",
       "      <td>3.68</td>\n",
       "      <td>1.3616</td>\n",
       "      <td>2.0</td>\n",
       "      <td>4.0</td>\n",
       "      <td>1.0</td>\n",
       "      <td>0.0</td>\n",
       "      <td>1.84</td>\n",
       "      <td>19.70</td>\n",
       "      <td>17.70</td>\n",
       "      <td>17.0</td>\n",
       "      <td>27694.0</td>\n",
       "      <td>18670.0</td>\n",
       "      <td>5415.0</td>\n",
       "      <td>3610.0</td>\n",
       "      <td>84.16</td>\n",
       "    </tr>\n",
       "    <tr>\n",
       "      <th>3</th>\n",
       "      <td>3.68</td>\n",
       "      <td>1.1776</td>\n",
       "      <td>2.0</td>\n",
       "      <td>2.0</td>\n",
       "      <td>2.0</td>\n",
       "      <td>2.0</td>\n",
       "      <td>1.84</td>\n",
       "      <td>19.70</td>\n",
       "      <td>17.70</td>\n",
       "      <td>17.0</td>\n",
       "      <td>27694.0</td>\n",
       "      <td>18670.0</td>\n",
       "      <td>5415.0</td>\n",
       "      <td>3610.0</td>\n",
       "      <td>95.78</td>\n",
       "    </tr>\n",
       "    <tr>\n",
       "      <th>4</th>\n",
       "      <td>4.08</td>\n",
       "      <td>1428.0000</td>\n",
       "      <td>3.0</td>\n",
       "      <td>0.0</td>\n",
       "      <td>2.0</td>\n",
       "      <td>0.0</td>\n",
       "      <td>1.36</td>\n",
       "      <td>7.12</td>\n",
       "      <td>5.11</td>\n",
       "      <td>29.0</td>\n",
       "      <td>27694.0</td>\n",
       "      <td>18670.0</td>\n",
       "      <td>5415.0</td>\n",
       "      <td>3610.0</td>\n",
       "      <td>50.79</td>\n",
       "    </tr>\n",
       "    <tr>\n",
       "      <th>...</th>\n",
       "      <td>...</td>\n",
       "      <td>...</td>\n",
       "      <td>...</td>\n",
       "      <td>...</td>\n",
       "      <td>...</td>\n",
       "      <td>...</td>\n",
       "      <td>...</td>\n",
       "      <td>...</td>\n",
       "      <td>...</td>\n",
       "      <td>...</td>\n",
       "      <td>...</td>\n",
       "      <td>...</td>\n",
       "      <td>...</td>\n",
       "      <td>...</td>\n",
       "      <td>...</td>\n",
       "    </tr>\n",
       "    <tr>\n",
       "      <th>60423</th>\n",
       "      <td>2.76</td>\n",
       "      <td>1.3248</td>\n",
       "      <td>1.0</td>\n",
       "      <td>1.0</td>\n",
       "      <td>1.0</td>\n",
       "      <td>1.0</td>\n",
       "      <td>2.76</td>\n",
       "      <td>19.60</td>\n",
       "      <td>18.60</td>\n",
       "      <td>26.0</td>\n",
       "      <td>22478.0</td>\n",
       "      <td>15321.0</td>\n",
       "      <td>4294.0</td>\n",
       "      <td>2863.0</td>\n",
       "      <td>95.25</td>\n",
       "    </tr>\n",
       "    <tr>\n",
       "      <th>60424</th>\n",
       "      <td>1.60</td>\n",
       "      <td>496.0000</td>\n",
       "      <td>1.0</td>\n",
       "      <td>2.0</td>\n",
       "      <td>2.0</td>\n",
       "      <td>0.0</td>\n",
       "      <td>1.60</td>\n",
       "      <td>17.40</td>\n",
       "      <td>15.30</td>\n",
       "      <td>36.0</td>\n",
       "      <td>22478.0</td>\n",
       "      <td>15321.0</td>\n",
       "      <td>4294.0</td>\n",
       "      <td>2863.0</td>\n",
       "      <td>69.42</td>\n",
       "    </tr>\n",
       "    <tr>\n",
       "      <th>60425</th>\n",
       "      <td>5.52</td>\n",
       "      <td>2.5392</td>\n",
       "      <td>2.0</td>\n",
       "      <td>1.0</td>\n",
       "      <td>3.0</td>\n",
       "      <td>0.0</td>\n",
       "      <td>2.76</td>\n",
       "      <td>19.60</td>\n",
       "      <td>18.60</td>\n",
       "      <td>26.0</td>\n",
       "      <td>22478.0</td>\n",
       "      <td>15321.0</td>\n",
       "      <td>4294.0</td>\n",
       "      <td>2863.0</td>\n",
       "      <td>67.51</td>\n",
       "    </tr>\n",
       "    <tr>\n",
       "      <th>60426</th>\n",
       "      <td>8.28</td>\n",
       "      <td>2.5668</td>\n",
       "      <td>3.0</td>\n",
       "      <td>2.0</td>\n",
       "      <td>4.0</td>\n",
       "      <td>0.0</td>\n",
       "      <td>2.76</td>\n",
       "      <td>19.60</td>\n",
       "      <td>18.60</td>\n",
       "      <td>26.0</td>\n",
       "      <td>34452.0</td>\n",
       "      <td>27463.0</td>\n",
       "      <td>4193.0</td>\n",
       "      <td>2795.0</td>\n",
       "      <td>132.88</td>\n",
       "    </tr>\n",
       "    <tr>\n",
       "      <th>60427</th>\n",
       "      <td>9.20</td>\n",
       "      <td>4232.0000</td>\n",
       "      <td>4.0</td>\n",
       "      <td>3.0</td>\n",
       "      <td>1.0</td>\n",
       "      <td>0.0</td>\n",
       "      <td>2.30</td>\n",
       "      <td>21.50</td>\n",
       "      <td>19.50</td>\n",
       "      <td>29.0</td>\n",
       "      <td>34452.0</td>\n",
       "      <td>27463.0</td>\n",
       "      <td>4193.0</td>\n",
       "      <td>2795.0</td>\n",
       "      <td>87.76</td>\n",
       "    </tr>\n",
       "  </tbody>\n",
       "</table>\n",
       "<p>60428 rows × 15 columns</p>\n",
       "</div>"
      ],
      "text/plain": [
       "       store_sales(in millions)  store_cost(in millions)  \\\n",
       "0                          7.36                   2.7232   \n",
       "1                          5.52                   2.5944   \n",
       "2                          3.68                   1.3616   \n",
       "3                          3.68                   1.1776   \n",
       "4                          4.08                1428.0000   \n",
       "...                         ...                      ...   \n",
       "60423                      2.76                   1.3248   \n",
       "60424                      1.60                 496.0000   \n",
       "60425                      5.52                   2.5392   \n",
       "60426                      8.28                   2.5668   \n",
       "60427                      9.20                4232.0000   \n",
       "\n",
       "       unit_sales(in millions)  total_children  avg_cars_at home(approx)  \\\n",
       "0                          4.0             1.0                       1.0   \n",
       "1                          3.0             0.0                       4.0   \n",
       "2                          2.0             4.0                       1.0   \n",
       "3                          2.0             2.0                       2.0   \n",
       "4                          3.0             0.0                       2.0   \n",
       "...                        ...             ...                       ...   \n",
       "60423                      1.0             1.0                       1.0   \n",
       "60424                      1.0             2.0                       2.0   \n",
       "60425                      2.0             1.0                       3.0   \n",
       "60426                      3.0             2.0                       4.0   \n",
       "60427                      4.0             3.0                       1.0   \n",
       "\n",
       "       num_children_at_home   SRP  gross_weight  net_weight  units_per_case  \\\n",
       "0                       1.0  1.84         19.70       17.70            17.0   \n",
       "1                       0.0  1.84         19.70       17.70            17.0   \n",
       "2                       0.0  1.84         19.70       17.70            17.0   \n",
       "3                       2.0  1.84         19.70       17.70            17.0   \n",
       "4                       0.0  1.36          7.12        5.11            29.0   \n",
       "...                     ...   ...           ...         ...             ...   \n",
       "60423                   1.0  2.76         19.60       18.60            26.0   \n",
       "60424                   0.0  1.60         17.40       15.30            36.0   \n",
       "60425                   0.0  2.76         19.60       18.60            26.0   \n",
       "60426                   0.0  2.76         19.60       18.60            26.0   \n",
       "60427                   0.0  2.30         21.50       19.50            29.0   \n",
       "\n",
       "       store_sqft  grocery_sqft  frozen_sqft  meat_sqft    cost  \n",
       "0         27694.0       18670.0       5415.0     3610.0  126.62  \n",
       "1         27694.0       18670.0       5415.0     3610.0   59.86  \n",
       "2         27694.0       18670.0       5415.0     3610.0   84.16  \n",
       "3         27694.0       18670.0       5415.0     3610.0   95.78  \n",
       "4         27694.0       18670.0       5415.0     3610.0   50.79  \n",
       "...           ...           ...          ...        ...     ...  \n",
       "60423     22478.0       15321.0       4294.0     2863.0   95.25  \n",
       "60424     22478.0       15321.0       4294.0     2863.0   69.42  \n",
       "60425     22478.0       15321.0       4294.0     2863.0   67.51  \n",
       "60426     34452.0       27463.0       4193.0     2795.0  132.88  \n",
       "60427     34452.0       27463.0       4193.0     2795.0   87.76  \n",
       "\n",
       "[60428 rows x 15 columns]"
      ]
     },
     "execution_count": 19,
     "metadata": {},
     "output_type": "execute_result"
    }
   ],
   "source": [
    "#variaveis numericas antes de mudar a escala\n",
    "dfnum.toPandas()"
   ]
  },
  {
   "cell_type": "code",
   "execution_count": 20,
   "id": "93918a1d",
   "metadata": {},
   "outputs": [
    {
     "name": "stderr",
     "output_type": "stream",
     "text": [
      "                                                                                \r"
     ]
    },
    {
     "data": {
      "text/html": [
       "<div>\n",
       "<style scoped>\n",
       "    .dataframe tbody tr th:only-of-type {\n",
       "        vertical-align: middle;\n",
       "    }\n",
       "\n",
       "    .dataframe tbody tr th {\n",
       "        vertical-align: top;\n",
       "    }\n",
       "\n",
       "    .dataframe thead th {\n",
       "        text-align: right;\n",
       "    }\n",
       "</style>\n",
       "<table border=\"1\" class=\"dataframe\">\n",
       "  <thead>\n",
       "    <tr style=\"text-align: right;\">\n",
       "      <th></th>\n",
       "      <th>store_sales(in millions)</th>\n",
       "      <th>store_cost(in millions)</th>\n",
       "      <th>unit_sales(in millions)</th>\n",
       "      <th>total_children</th>\n",
       "      <th>avg_cars_at home(approx)</th>\n",
       "      <th>num_children_at_home</th>\n",
       "      <th>SRP</th>\n",
       "      <th>gross_weight</th>\n",
       "      <th>net_weight</th>\n",
       "      <th>units_per_case</th>\n",
       "      <th>store_sqft</th>\n",
       "      <th>grocery_sqft</th>\n",
       "      <th>frozen_sqft</th>\n",
       "      <th>meat_sqft</th>\n",
       "      <th>cost</th>\n",
       "    </tr>\n",
       "  </thead>\n",
       "  <tbody>\n",
       "    <tr>\n",
       "      <th>count</th>\n",
       "      <td>60428.000000</td>\n",
       "      <td>60428.000000</td>\n",
       "      <td>60428.000000</td>\n",
       "      <td>60428.000000</td>\n",
       "      <td>60428.000000</td>\n",
       "      <td>60428.000000</td>\n",
       "      <td>60428.000000</td>\n",
       "      <td>60428.000000</td>\n",
       "      <td>60428.000000</td>\n",
       "      <td>60428.000000</td>\n",
       "      <td>60428.000000</td>\n",
       "      <td>60428.000000</td>\n",
       "      <td>60428.000000</td>\n",
       "      <td>60428.000000</td>\n",
       "      <td>60428.000000</td>\n",
       "    </tr>\n",
       "    <tr>\n",
       "      <th>mean</th>\n",
       "      <td>6.541031</td>\n",
       "      <td>714.371465</td>\n",
       "      <td>3.093169</td>\n",
       "      <td>2.533875</td>\n",
       "      <td>2.200271</td>\n",
       "      <td>0.829351</td>\n",
       "      <td>2.115258</td>\n",
       "      <td>13.806433</td>\n",
       "      <td>11.796289</td>\n",
       "      <td>18.860694</td>\n",
       "      <td>27988.477494</td>\n",
       "      <td>19133.799696</td>\n",
       "      <td>5312.852552</td>\n",
       "      <td>3541.846280</td>\n",
       "      <td>99.262366</td>\n",
       "    </tr>\n",
       "    <tr>\n",
       "      <th>std</th>\n",
       "      <td>3.463047</td>\n",
       "      <td>1405.516069</td>\n",
       "      <td>0.827677</td>\n",
       "      <td>1.490165</td>\n",
       "      <td>1.109644</td>\n",
       "      <td>1.303424</td>\n",
       "      <td>0.932829</td>\n",
       "      <td>4.622693</td>\n",
       "      <td>4.682986</td>\n",
       "      <td>10.258555</td>\n",
       "      <td>5701.022090</td>\n",
       "      <td>3987.395735</td>\n",
       "      <td>1575.907263</td>\n",
       "      <td>1050.471635</td>\n",
       "      <td>30.011257</td>\n",
       "    </tr>\n",
       "    <tr>\n",
       "      <th>min</th>\n",
       "      <td>0.510000</td>\n",
       "      <td>0.163200</td>\n",
       "      <td>1.000000</td>\n",
       "      <td>0.000000</td>\n",
       "      <td>0.000000</td>\n",
       "      <td>0.000000</td>\n",
       "      <td>0.500000</td>\n",
       "      <td>6.000000</td>\n",
       "      <td>3.050000</td>\n",
       "      <td>1.000000</td>\n",
       "      <td>20319.000000</td>\n",
       "      <td>13305.000000</td>\n",
       "      <td>2452.000000</td>\n",
       "      <td>1635.000000</td>\n",
       "      <td>50.790000</td>\n",
       "    </tr>\n",
       "    <tr>\n",
       "      <th>25%</th>\n",
       "      <td>3.810000</td>\n",
       "      <td>1.846800</td>\n",
       "      <td>3.000000</td>\n",
       "      <td>1.000000</td>\n",
       "      <td>1.000000</td>\n",
       "      <td>0.000000</td>\n",
       "      <td>1.410000</td>\n",
       "      <td>9.700000</td>\n",
       "      <td>7.710000</td>\n",
       "      <td>10.000000</td>\n",
       "      <td>23593.000000</td>\n",
       "      <td>16232.000000</td>\n",
       "      <td>4746.000000</td>\n",
       "      <td>3164.000000</td>\n",
       "      <td>69.650000</td>\n",
       "    </tr>\n",
       "    <tr>\n",
       "      <th>50%</th>\n",
       "      <td>5.940000</td>\n",
       "      <td>3.169200</td>\n",
       "      <td>3.000000</td>\n",
       "      <td>3.000000</td>\n",
       "      <td>2.000000</td>\n",
       "      <td>0.000000</td>\n",
       "      <td>2.130000</td>\n",
       "      <td>13.600000</td>\n",
       "      <td>11.600000</td>\n",
       "      <td>19.000000</td>\n",
       "      <td>27694.000000</td>\n",
       "      <td>18670.000000</td>\n",
       "      <td>5062.000000</td>\n",
       "      <td>3375.000000</td>\n",
       "      <td>98.520000</td>\n",
       "    </tr>\n",
       "    <tr>\n",
       "      <th>75%</th>\n",
       "      <td>8.670000</td>\n",
       "      <td>826.000000</td>\n",
       "      <td>4.000000</td>\n",
       "      <td>4.000000</td>\n",
       "      <td>3.000000</td>\n",
       "      <td>1.000000</td>\n",
       "      <td>2.790000</td>\n",
       "      <td>17.700000</td>\n",
       "      <td>16.000000</td>\n",
       "      <td>28.000000</td>\n",
       "      <td>30797.000000</td>\n",
       "      <td>22123.000000</td>\n",
       "      <td>5751.000000</td>\n",
       "      <td>3834.000000</td>\n",
       "      <td>126.620000</td>\n",
       "    </tr>\n",
       "    <tr>\n",
       "      <th>max</th>\n",
       "      <td>22.920000</td>\n",
       "      <td>9525.000000</td>\n",
       "      <td>6.000000</td>\n",
       "      <td>5.000000</td>\n",
       "      <td>4.000000</td>\n",
       "      <td>5.000000</td>\n",
       "      <td>3.980000</td>\n",
       "      <td>21.900000</td>\n",
       "      <td>20.800000</td>\n",
       "      <td>36.000000</td>\n",
       "      <td>39696.000000</td>\n",
       "      <td>30351.000000</td>\n",
       "      <td>9184.000000</td>\n",
       "      <td>6122.000000</td>\n",
       "      <td>149.750000</td>\n",
       "    </tr>\n",
       "  </tbody>\n",
       "</table>\n",
       "</div>"
      ],
      "text/plain": [
       "       store_sales(in millions)  store_cost(in millions)  \\\n",
       "count              60428.000000             60428.000000   \n",
       "mean                   6.541031               714.371465   \n",
       "std                    3.463047              1405.516069   \n",
       "min                    0.510000                 0.163200   \n",
       "25%                    3.810000                 1.846800   \n",
       "50%                    5.940000                 3.169200   \n",
       "75%                    8.670000               826.000000   \n",
       "max                   22.920000              9525.000000   \n",
       "\n",
       "       unit_sales(in millions)  total_children  avg_cars_at home(approx)  \\\n",
       "count             60428.000000    60428.000000              60428.000000   \n",
       "mean                  3.093169        2.533875                  2.200271   \n",
       "std                   0.827677        1.490165                  1.109644   \n",
       "min                   1.000000        0.000000                  0.000000   \n",
       "25%                   3.000000        1.000000                  1.000000   \n",
       "50%                   3.000000        3.000000                  2.000000   \n",
       "75%                   4.000000        4.000000                  3.000000   \n",
       "max                   6.000000        5.000000                  4.000000   \n",
       "\n",
       "       num_children_at_home           SRP  gross_weight    net_weight  \\\n",
       "count          60428.000000  60428.000000  60428.000000  60428.000000   \n",
       "mean               0.829351      2.115258     13.806433     11.796289   \n",
       "std                1.303424      0.932829      4.622693      4.682986   \n",
       "min                0.000000      0.500000      6.000000      3.050000   \n",
       "25%                0.000000      1.410000      9.700000      7.710000   \n",
       "50%                0.000000      2.130000     13.600000     11.600000   \n",
       "75%                1.000000      2.790000     17.700000     16.000000   \n",
       "max                5.000000      3.980000     21.900000     20.800000   \n",
       "\n",
       "       units_per_case    store_sqft  grocery_sqft   frozen_sqft     meat_sqft  \\\n",
       "count    60428.000000  60428.000000  60428.000000  60428.000000  60428.000000   \n",
       "mean        18.860694  27988.477494  19133.799696   5312.852552   3541.846280   \n",
       "std         10.258555   5701.022090   3987.395735   1575.907263   1050.471635   \n",
       "min          1.000000  20319.000000  13305.000000   2452.000000   1635.000000   \n",
       "25%         10.000000  23593.000000  16232.000000   4746.000000   3164.000000   \n",
       "50%         19.000000  27694.000000  18670.000000   5062.000000   3375.000000   \n",
       "75%         28.000000  30797.000000  22123.000000   5751.000000   3834.000000   \n",
       "max         36.000000  39696.000000  30351.000000   9184.000000   6122.000000   \n",
       "\n",
       "               cost  \n",
       "count  60428.000000  \n",
       "mean      99.262366  \n",
       "std       30.011257  \n",
       "min       50.790000  \n",
       "25%       69.650000  \n",
       "50%       98.520000  \n",
       "75%      126.620000  \n",
       "max      149.750000  "
      ]
     },
     "execution_count": 20,
     "metadata": {},
     "output_type": "execute_result"
    }
   ],
   "source": [
    "#analise estatistica\n",
    "dfnum.toPandas().describe()"
   ]
  },
  {
   "cell_type": "code",
   "execution_count": 21,
   "id": "05d4129a",
   "metadata": {},
   "outputs": [],
   "source": [
    "#variavel target\n",
    "target=dfnum.select(\"cost\")"
   ]
  },
  {
   "cell_type": "code",
   "execution_count": 22,
   "id": "b632cbf4",
   "metadata": {
    "scrolled": true
   },
   "outputs": [
    {
     "name": "stderr",
     "output_type": "stream",
     "text": [
      "                                                                                \r"
     ]
    },
    {
     "name": "stdout",
     "output_type": "stream",
     "text": [
      "After Scaling :\n"
     ]
    },
    {
     "name": "stderr",
     "output_type": "stream",
     "text": [
      "\r",
      "[Stage 63:>                                                         (0 + 1) / 1]\r"
     ]
    },
    {
     "name": "stdout",
     "output_type": "stream",
     "text": [
      "+-------------------------------+------------------------------+------------------------------+---------------------+-------------------------------+---------------------------+----------+-------------------+-----------------+---------------------+-----------------+-------------------+------------------+----------------+\n",
      "|store_sales(in millions)_Scaled|store_cost(in millions)_Scaled|unit_sales(in millions)_Scaled|total_children_Scaled|avg_cars_at home(approx)_Scaled|num_children_at_home_Scaled|SRP_Scaled|gross_weight_Scaled|net_weight_Scaled|units_per_case_Scaled|store_sqft_Scaled|grocery_sqft_Scaled|frozen_sqft_Scaled|meat_sqft_Scaled|\n",
      "+-------------------------------+------------------------------+------------------------------+---------------------+-------------------------------+---------------------------+----------+-------------------+-----------------+---------------------+-----------------+-------------------+------------------+----------------+\n",
      "|                          0.306|                           0.0|                           0.6|                  0.2|                           0.25|                        0.2|     0.385|              0.862|            0.825|                0.457|            0.381|              0.315|              0.44|            0.44|\n",
      "+-------------------------------+------------------------------+------------------------------+---------------------+-------------------------------+---------------------------+----------+-------------------+-----------------+---------------------+-----------------+-------------------+------------------+----------------+\n",
      "only showing top 1 row\n",
      "\n"
     ]
    },
    {
     "name": "stderr",
     "output_type": "stream",
     "text": [
      "\r",
      "                                                                                \r"
     ]
    }
   ],
   "source": [
    "#escalando as variaveis numericas\n",
    "dfnum2=dfnum\n",
    "\n",
    "# UDF para converter coluna para vetor \n",
    "unlist = udf(lambda x: round(float(list(x)[0]),3), DoubleType())\n",
    "\n",
    "# iterando as colunas\n",
    "for i in [cols for cols in dfnum2.columns]:\n",
    "    \n",
    "    # convertendo coluna para vetor\n",
    "    assembler = VectorAssembler(inputCols=[i],outputCol=i+\"_Vect\")\n",
    "\n",
    "    # MinMaxScaler \n",
    "    scaler = MinMaxScaler(inputCol=i+\"_Vect\", outputCol=i+\"_Scaled\")\n",
    "\n",
    "    # Pipeline \n",
    "    pipeline = Pipeline(stages=[assembler, scaler])\n",
    "\n",
    "    # preenchendo pipeline no dataframe\n",
    "    dfnum2 = pipeline.fit(dfnum2).transform(dfnum2).withColumn(i+\"_Scaled\", unlist(i+\"_Scaled\")).drop(i+\"_Vect\")\n",
    "\n",
    "#dropando as colunas anteriores e a coluna target\n",
    "dfnum2=dfnum2.drop('store_sales(in millions)', 'store_cost(in millions)', 'unit_sales(in millions)',\n",
    "                   'total_children', 'avg_cars_at home(approx)', 'num_children_at_home', 'SRP',\n",
    "                   'gross_weight', 'net_weight', 'recyclable_package', 'low_fat', 'units_per_case',\n",
    "                   'store_sqft', 'grocery_sqft', 'frozen_sqft', 'meat_sqft', 'coffee_bar', 'video_store',\n",
    "                   'salad_bar', 'prepared_food', 'florist', 'cost','cost_Scaled')\n",
    "\n",
    "print(\"After Scaling :\")\n",
    "dfnum2.show(1)"
   ]
  },
  {
   "cell_type": "code",
   "execution_count": 23,
   "id": "c266426b",
   "metadata": {},
   "outputs": [
    {
     "name": "stderr",
     "output_type": "stream",
     "text": [
      "                                                                                \r"
     ]
    },
    {
     "data": {
      "text/html": [
       "<div>\n",
       "<style scoped>\n",
       "    .dataframe tbody tr th:only-of-type {\n",
       "        vertical-align: middle;\n",
       "    }\n",
       "\n",
       "    .dataframe tbody tr th {\n",
       "        vertical-align: top;\n",
       "    }\n",
       "\n",
       "    .dataframe thead th {\n",
       "        text-align: right;\n",
       "    }\n",
       "</style>\n",
       "<table border=\"1\" class=\"dataframe\">\n",
       "  <thead>\n",
       "    <tr style=\"text-align: right;\">\n",
       "      <th></th>\n",
       "      <th>store_sales(in millions)_Scaled</th>\n",
       "      <th>store_cost(in millions)_Scaled</th>\n",
       "      <th>unit_sales(in millions)_Scaled</th>\n",
       "      <th>total_children_Scaled</th>\n",
       "      <th>avg_cars_at home(approx)_Scaled</th>\n",
       "      <th>num_children_at_home_Scaled</th>\n",
       "      <th>SRP_Scaled</th>\n",
       "      <th>gross_weight_Scaled</th>\n",
       "      <th>net_weight_Scaled</th>\n",
       "      <th>units_per_case_Scaled</th>\n",
       "      <th>store_sqft_Scaled</th>\n",
       "      <th>grocery_sqft_Scaled</th>\n",
       "      <th>frozen_sqft_Scaled</th>\n",
       "      <th>meat_sqft_Scaled</th>\n",
       "    </tr>\n",
       "  </thead>\n",
       "  <tbody>\n",
       "    <tr>\n",
       "      <th>0</th>\n",
       "      <td>0.306</td>\n",
       "      <td>0.000</td>\n",
       "      <td>0.6</td>\n",
       "      <td>0.2</td>\n",
       "      <td>0.25</td>\n",
       "      <td>0.2</td>\n",
       "      <td>0.385</td>\n",
       "      <td>0.862</td>\n",
       "      <td>0.825</td>\n",
       "      <td>0.457</td>\n",
       "      <td>0.381</td>\n",
       "      <td>0.315</td>\n",
       "      <td>0.440</td>\n",
       "      <td>0.440</td>\n",
       "    </tr>\n",
       "    <tr>\n",
       "      <th>1</th>\n",
       "      <td>0.224</td>\n",
       "      <td>0.000</td>\n",
       "      <td>0.4</td>\n",
       "      <td>0.0</td>\n",
       "      <td>1.00</td>\n",
       "      <td>0.0</td>\n",
       "      <td>0.385</td>\n",
       "      <td>0.862</td>\n",
       "      <td>0.825</td>\n",
       "      <td>0.457</td>\n",
       "      <td>0.381</td>\n",
       "      <td>0.315</td>\n",
       "      <td>0.440</td>\n",
       "      <td>0.440</td>\n",
       "    </tr>\n",
       "    <tr>\n",
       "      <th>2</th>\n",
       "      <td>0.141</td>\n",
       "      <td>0.000</td>\n",
       "      <td>0.2</td>\n",
       "      <td>0.8</td>\n",
       "      <td>0.25</td>\n",
       "      <td>0.0</td>\n",
       "      <td>0.385</td>\n",
       "      <td>0.862</td>\n",
       "      <td>0.825</td>\n",
       "      <td>0.457</td>\n",
       "      <td>0.381</td>\n",
       "      <td>0.315</td>\n",
       "      <td>0.440</td>\n",
       "      <td>0.440</td>\n",
       "    </tr>\n",
       "    <tr>\n",
       "      <th>3</th>\n",
       "      <td>0.141</td>\n",
       "      <td>0.000</td>\n",
       "      <td>0.2</td>\n",
       "      <td>0.4</td>\n",
       "      <td>0.50</td>\n",
       "      <td>0.4</td>\n",
       "      <td>0.385</td>\n",
       "      <td>0.862</td>\n",
       "      <td>0.825</td>\n",
       "      <td>0.457</td>\n",
       "      <td>0.381</td>\n",
       "      <td>0.315</td>\n",
       "      <td>0.440</td>\n",
       "      <td>0.440</td>\n",
       "    </tr>\n",
       "    <tr>\n",
       "      <th>4</th>\n",
       "      <td>0.159</td>\n",
       "      <td>0.150</td>\n",
       "      <td>0.4</td>\n",
       "      <td>0.0</td>\n",
       "      <td>0.50</td>\n",
       "      <td>0.0</td>\n",
       "      <td>0.247</td>\n",
       "      <td>0.070</td>\n",
       "      <td>0.116</td>\n",
       "      <td>0.800</td>\n",
       "      <td>0.381</td>\n",
       "      <td>0.315</td>\n",
       "      <td>0.440</td>\n",
       "      <td>0.440</td>\n",
       "    </tr>\n",
       "    <tr>\n",
       "      <th>...</th>\n",
       "      <td>...</td>\n",
       "      <td>...</td>\n",
       "      <td>...</td>\n",
       "      <td>...</td>\n",
       "      <td>...</td>\n",
       "      <td>...</td>\n",
       "      <td>...</td>\n",
       "      <td>...</td>\n",
       "      <td>...</td>\n",
       "      <td>...</td>\n",
       "      <td>...</td>\n",
       "      <td>...</td>\n",
       "      <td>...</td>\n",
       "      <td>...</td>\n",
       "    </tr>\n",
       "    <tr>\n",
       "      <th>60423</th>\n",
       "      <td>0.100</td>\n",
       "      <td>0.000</td>\n",
       "      <td>0.0</td>\n",
       "      <td>0.2</td>\n",
       "      <td>0.25</td>\n",
       "      <td>0.2</td>\n",
       "      <td>0.649</td>\n",
       "      <td>0.855</td>\n",
       "      <td>0.876</td>\n",
       "      <td>0.714</td>\n",
       "      <td>0.111</td>\n",
       "      <td>0.118</td>\n",
       "      <td>0.274</td>\n",
       "      <td>0.274</td>\n",
       "    </tr>\n",
       "    <tr>\n",
       "      <th>60424</th>\n",
       "      <td>0.049</td>\n",
       "      <td>0.052</td>\n",
       "      <td>0.0</td>\n",
       "      <td>0.4</td>\n",
       "      <td>0.50</td>\n",
       "      <td>0.0</td>\n",
       "      <td>0.316</td>\n",
       "      <td>0.717</td>\n",
       "      <td>0.690</td>\n",
       "      <td>1.000</td>\n",
       "      <td>0.111</td>\n",
       "      <td>0.118</td>\n",
       "      <td>0.274</td>\n",
       "      <td>0.274</td>\n",
       "    </tr>\n",
       "    <tr>\n",
       "      <th>60425</th>\n",
       "      <td>0.224</td>\n",
       "      <td>0.000</td>\n",
       "      <td>0.2</td>\n",
       "      <td>0.2</td>\n",
       "      <td>0.75</td>\n",
       "      <td>0.0</td>\n",
       "      <td>0.649</td>\n",
       "      <td>0.855</td>\n",
       "      <td>0.876</td>\n",
       "      <td>0.714</td>\n",
       "      <td>0.111</td>\n",
       "      <td>0.118</td>\n",
       "      <td>0.274</td>\n",
       "      <td>0.274</td>\n",
       "    </tr>\n",
       "    <tr>\n",
       "      <th>60426</th>\n",
       "      <td>0.347</td>\n",
       "      <td>0.000</td>\n",
       "      <td>0.4</td>\n",
       "      <td>0.4</td>\n",
       "      <td>1.00</td>\n",
       "      <td>0.0</td>\n",
       "      <td>0.649</td>\n",
       "      <td>0.855</td>\n",
       "      <td>0.876</td>\n",
       "      <td>0.714</td>\n",
       "      <td>0.729</td>\n",
       "      <td>0.831</td>\n",
       "      <td>0.259</td>\n",
       "      <td>0.259</td>\n",
       "    </tr>\n",
       "    <tr>\n",
       "      <th>60427</th>\n",
       "      <td>0.388</td>\n",
       "      <td>0.444</td>\n",
       "      <td>0.6</td>\n",
       "      <td>0.6</td>\n",
       "      <td>0.25</td>\n",
       "      <td>0.0</td>\n",
       "      <td>0.517</td>\n",
       "      <td>0.975</td>\n",
       "      <td>0.927</td>\n",
       "      <td>0.800</td>\n",
       "      <td>0.729</td>\n",
       "      <td>0.831</td>\n",
       "      <td>0.259</td>\n",
       "      <td>0.259</td>\n",
       "    </tr>\n",
       "  </tbody>\n",
       "</table>\n",
       "<p>60428 rows × 14 columns</p>\n",
       "</div>"
      ],
      "text/plain": [
       "       store_sales(in millions)_Scaled  store_cost(in millions)_Scaled  \\\n",
       "0                                0.306                           0.000   \n",
       "1                                0.224                           0.000   \n",
       "2                                0.141                           0.000   \n",
       "3                                0.141                           0.000   \n",
       "4                                0.159                           0.150   \n",
       "...                                ...                             ...   \n",
       "60423                            0.100                           0.000   \n",
       "60424                            0.049                           0.052   \n",
       "60425                            0.224                           0.000   \n",
       "60426                            0.347                           0.000   \n",
       "60427                            0.388                           0.444   \n",
       "\n",
       "       unit_sales(in millions)_Scaled  total_children_Scaled  \\\n",
       "0                                 0.6                    0.2   \n",
       "1                                 0.4                    0.0   \n",
       "2                                 0.2                    0.8   \n",
       "3                                 0.2                    0.4   \n",
       "4                                 0.4                    0.0   \n",
       "...                               ...                    ...   \n",
       "60423                             0.0                    0.2   \n",
       "60424                             0.0                    0.4   \n",
       "60425                             0.2                    0.2   \n",
       "60426                             0.4                    0.4   \n",
       "60427                             0.6                    0.6   \n",
       "\n",
       "       avg_cars_at home(approx)_Scaled  num_children_at_home_Scaled  \\\n",
       "0                                 0.25                          0.2   \n",
       "1                                 1.00                          0.0   \n",
       "2                                 0.25                          0.0   \n",
       "3                                 0.50                          0.4   \n",
       "4                                 0.50                          0.0   \n",
       "...                                ...                          ...   \n",
       "60423                             0.25                          0.2   \n",
       "60424                             0.50                          0.0   \n",
       "60425                             0.75                          0.0   \n",
       "60426                             1.00                          0.0   \n",
       "60427                             0.25                          0.0   \n",
       "\n",
       "       SRP_Scaled  gross_weight_Scaled  net_weight_Scaled  \\\n",
       "0           0.385                0.862              0.825   \n",
       "1           0.385                0.862              0.825   \n",
       "2           0.385                0.862              0.825   \n",
       "3           0.385                0.862              0.825   \n",
       "4           0.247                0.070              0.116   \n",
       "...           ...                  ...                ...   \n",
       "60423       0.649                0.855              0.876   \n",
       "60424       0.316                0.717              0.690   \n",
       "60425       0.649                0.855              0.876   \n",
       "60426       0.649                0.855              0.876   \n",
       "60427       0.517                0.975              0.927   \n",
       "\n",
       "       units_per_case_Scaled  store_sqft_Scaled  grocery_sqft_Scaled  \\\n",
       "0                      0.457              0.381                0.315   \n",
       "1                      0.457              0.381                0.315   \n",
       "2                      0.457              0.381                0.315   \n",
       "3                      0.457              0.381                0.315   \n",
       "4                      0.800              0.381                0.315   \n",
       "...                      ...                ...                  ...   \n",
       "60423                  0.714              0.111                0.118   \n",
       "60424                  1.000              0.111                0.118   \n",
       "60425                  0.714              0.111                0.118   \n",
       "60426                  0.714              0.729                0.831   \n",
       "60427                  0.800              0.729                0.831   \n",
       "\n",
       "       frozen_sqft_Scaled  meat_sqft_Scaled  \n",
       "0                   0.440             0.440  \n",
       "1                   0.440             0.440  \n",
       "2                   0.440             0.440  \n",
       "3                   0.440             0.440  \n",
       "4                   0.440             0.440  \n",
       "...                   ...               ...  \n",
       "60423               0.274             0.274  \n",
       "60424               0.274             0.274  \n",
       "60425               0.274             0.274  \n",
       "60426               0.259             0.259  \n",
       "60427               0.259             0.259  \n",
       "\n",
       "[60428 rows x 14 columns]"
      ]
     },
     "execution_count": 23,
     "metadata": {},
     "output_type": "execute_result"
    }
   ],
   "source": [
    "dfnum2.toPandas()"
   ]
  },
  {
   "cell_type": "markdown",
   "id": "06cb40c8",
   "metadata": {},
   "source": [
    "<h2>analisando graficamente e limpando os dados</h2>"
   ]
  },
  {
   "cell_type": "code",
   "execution_count": 24,
   "id": "1586c7fb",
   "metadata": {
    "scrolled": true
   },
   "outputs": [
    {
     "name": "stderr",
     "output_type": "stream",
     "text": [
      "                                                                                \r"
     ]
    },
    {
     "ename": "TypeError",
     "evalue": "'AxesSubplot' object is not subscriptable",
     "output_type": "error",
     "traceback": [
      "\u001b[0;31m---------------------------------------------------------------------------\u001b[0m",
      "\u001b[0;31mTypeError\u001b[0m                                 Traceback (most recent call last)",
      "Input \u001b[0;32mIn [24]\u001b[0m, in \u001b[0;36m<cell line: 5>\u001b[0;34m()\u001b[0m\n\u001b[1;32m      4\u001b[0m n \u001b[38;5;241m=\u001b[39m \u001b[38;5;28mlen\u001b[39m(data\u001b[38;5;241m.\u001b[39mcolumns)\n\u001b[1;32m      5\u001b[0m \u001b[38;5;28;01mfor\u001b[39;00m i \u001b[38;5;129;01min\u001b[39;00m \u001b[38;5;28mrange\u001b[39m(n):\n\u001b[0;32m----> 6\u001b[0m     v \u001b[38;5;241m=\u001b[39m \u001b[43maxs\u001b[49m\u001b[43m[\u001b[49m\u001b[43mi\u001b[49m\u001b[43m,\u001b[49m\u001b[43m \u001b[49m\u001b[38;5;241;43m0\u001b[39;49m\u001b[43m]\u001b[49m\n\u001b[1;32m      7\u001b[0m     v\u001b[38;5;241m.\u001b[39myaxis\u001b[38;5;241m.\u001b[39mlabel\u001b[38;5;241m.\u001b[39mset_rotation(\u001b[38;5;241m0\u001b[39m)\n\u001b[1;32m      8\u001b[0m     v\u001b[38;5;241m.\u001b[39myaxis\u001b[38;5;241m.\u001b[39mlabel\u001b[38;5;241m.\u001b[39mset_ha(\u001b[38;5;124m'\u001b[39m\u001b[38;5;124mright\u001b[39m\u001b[38;5;124m'\u001b[39m)\n",
      "\u001b[0;31mTypeError\u001b[0m: 'AxesSubplot' object is not subscriptable"
     ]
    },
    {
     "data": {
      "image/png": "[encoded data removed]",
      "text/plain": [
       "<Figure size 720x720 with 1 Axes>"
      ]
     },
     "metadata": {
      "needs_background": "light"
     },
     "output_type": "display_data"
    }
   ],
   "source": [
    "#boxplot das variaveis numericas\n",
    "data = dfnum2.sample(False, 0.8).toPandas()\n",
    "axs = pd.plotting.boxplot(data, figsize=(10, 10))\n",
    "n = len(data.columns)\n",
    "for i in range(n):\n",
    "    v = axs[i, 0]\n",
    "    v.yaxis.label.set_rotation(0)\n",
    "    v.yaxis.label.set_ha('right')\n",
    "    v.set_yticks(())\n",
    "    h = axs[n-1, i]\n",
    "    h.xaxis.label.set_rotation(90)\n",
    "    h.set_xticks(())\n",
    "    \n",
    "    # as 2 primeiras variaveis tem bastante outliers\n",
    "    #mas se excluirmos, sera um valor grande de linhas"
   ]
  },
  {
   "cell_type": "code",
   "execution_count": 25,
   "id": "b683c7f6",
   "metadata": {},
   "outputs": [
    {
     "name": "stderr",
     "output_type": "stream",
     "text": [
      "                                                                                \r"
     ]
    },
    {
     "name": "stdout",
     "output_type": "stream",
     "text": [
      "+-------------------------------+-----+\n",
      "|store_sales(in millions)_Scaled|count|\n",
      "+-------------------------------+-----+\n",
      "|                          0.332|  399|\n",
      "|                          0.241|  344|\n",
      "|                          0.183|  338|\n",
      "|                          0.102|  325|\n",
      "|                          0.224|  324|\n",
      "|                          0.324|  314|\n",
      "|                          0.202|  311|\n",
      "|                           0.22|  300|\n",
      "|                            0.3|  296|\n",
      "|                          0.232|  294|\n",
      "|                          0.286|  284|\n",
      "|                          0.191|  284|\n",
      "|                          0.199|  280|\n",
      "|                          0.216|  278|\n",
      "|                          0.308|  277|\n",
      "|                          0.207|  273|\n",
      "|                          0.218|  270|\n",
      "|                          0.225|  269|\n",
      "|                          0.372|  268|\n",
      "|                          0.141|  262|\n",
      "|                            0.1|  261|\n",
      "|                          0.274|  261|\n",
      "|                          0.149|  260|\n",
      "|                          0.282|  257|\n",
      "|                          0.095|  255|\n",
      "|                           0.19|  255|\n",
      "|                          0.357|  255|\n",
      "|                          0.206|  251|\n",
      "|                          0.174|  251|\n",
      "|                          0.299|  249|\n",
      "+-------------------------------+-----+\n",
      "only showing top 30 rows\n",
      "\n"
     ]
    },
    {
     "name": "stderr",
     "output_type": "stream",
     "text": [
      "[Stage 69:==============>                                           (1 + 3) / 4]\r"
     ]
    },
    {
     "name": "stdout",
     "output_type": "stream",
     "text": [
      "+------------------------------+-----+\n",
      "|store_cost(in millions)_Scaled|count|\n",
      "+------------------------------+-----+\n",
      "|                           0.0|40752|\n",
      "|                         0.001| 3302|\n",
      "|                         0.159|  121|\n",
      "|                         0.215|  113|\n",
      "|                         0.128|   93|\n",
      "|                         0.144|   92|\n",
      "|                         0.247|   89|\n",
      "|                         0.212|   89|\n",
      "|                         0.181|   85|\n",
      "|                         0.166|   84|\n",
      "|                         0.207|   83|\n",
      "|                         0.317|   80|\n",
      "|                         0.163|   80|\n",
      "|                         0.111|   77|\n",
      "|                         0.225|   77|\n",
      "|                         0.249|   76|\n",
      "|                         0.291|   74|\n",
      "|                         0.203|   73|\n",
      "|                         0.121|   72|\n",
      "|                         0.185|   72|\n",
      "|                         0.326|   72|\n",
      "|                         0.108|   71|\n",
      "|                         0.273|   69|\n",
      "|                         0.096|   69|\n",
      "|                         0.272|   69|\n",
      "|                         0.319|   68|\n",
      "|                         0.257|   66|\n",
      "|                         0.251|   66|\n",
      "|                          0.37|   66|\n",
      "|                         0.176|   65|\n",
      "+------------------------------+-----+\n",
      "only showing top 30 rows\n",
      "\n"
     ]
    },
    {
     "name": "stderr",
     "output_type": "stream",
     "text": [
      "\r",
      "                                                                                \r"
     ]
    }
   ],
   "source": [
    "#verificando a ocorrencia das variaveis em ordem decrescente\n",
    "dfnum2.groupBy(\"store_sales(in millions)_Scaled\").count().orderBy('count', ascending=False).show(30)\n",
    "dfnum2.groupBy(\"store_cost(in millions)_Scaled\").count().orderBy('count', ascending=False).show(30)"
   ]
  },
  {
   "cell_type": "code",
   "execution_count": 26,
   "id": "65fcf7c3",
   "metadata": {},
   "outputs": [],
   "source": [
    "#dropando a variavel,com 40000 zeros\n",
    "dfnum2=dfnum2.drop(\"store_cost(in millions)_Scaled\")"
   ]
  },
  {
   "cell_type": "code",
   "execution_count": 27,
   "id": "fdb5924f",
   "metadata": {},
   "outputs": [
    {
     "name": "stderr",
     "output_type": "stream",
     "text": [
      "                                                                                \r"
     ]
    }
   ],
   "source": [
    "#excluindo 1 porcento de cada faixa para tirar os outliers\n",
    "df=dfnum2.toPandas()\n",
    "#falta esta parte\n",
    "q1=df[\"store_sales(in millions)_Scaled\"].quantile(0.99)\n",
    "q2=df[\"store_sales(in millions)_Scaled\"].quantile(0.01)"
   ]
  },
  {
   "cell_type": "code",
   "execution_count": 28,
   "id": "0e0ddf7e",
   "metadata": {},
   "outputs": [
    {
     "name": "stdout",
     "output_type": "stream",
     "text": [
      "0.679\n",
      "0.031\n"
     ]
    }
   ],
   "source": [
    "print(q1)\n",
    "print(q2)"
   ]
  },
  {
   "cell_type": "code",
   "execution_count": 29,
   "id": "ac4445ab",
   "metadata": {},
   "outputs": [],
   "source": [
    "df = df[(df[\"store_sales(in millions)_Scaled\"] <= q1) & (df[\"store_sales(in millions)_Scaled\"] >= q2)]\n",
    "\n",
    "dfnum2=spark.createDataFrame(df) "
   ]
  },
  {
   "cell_type": "code",
   "execution_count": 30,
   "id": "74b3ff50",
   "metadata": {},
   "outputs": [
    {
     "name": "stdout",
     "output_type": "stream",
     "text": [
      "22/11/15 01:42:18 WARN TaskSetManager: Stage 73 contains a task of very large size (1509 KiB). The maximum recommended task size is 1000 KiB.\n"
     ]
    },
    {
     "name": "stderr",
     "output_type": "stream",
     "text": [
      "                                                                                \r"
     ]
    },
    {
     "name": "stdout",
     "output_type": "stream",
     "text": [
      "22/11/15 01:42:19 WARN TaskSetManager: Stage 74 contains a task of very large size (2720 KiB). The maximum recommended task size is 1000 KiB.\n"
     ]
    },
    {
     "name": "stderr",
     "output_type": "stream",
     "text": [
      "\r",
      "[Stage 74:>                                                         (0 + 4) / 4]\r",
      "\r",
      "                                                                                \r"
     ]
    }
   ],
   "source": [
    "#normalizados os dados, vamos juntar tudo\n",
    "df1=dfnum2.toPandas()\n",
    "df2=dfcat2.toPandas()\n",
    "df3=target.toPandas()\n",
    "\n",
    "df=pd.concat([df1, df2,df3], axis=1, join='inner')\n",
    "\n",
    "dffinal=spark.createDataFrame(df) "
   ]
  },
  {
   "cell_type": "code",
   "execution_count": 31,
   "id": "0a0061ad",
   "metadata": {},
   "outputs": [
    {
     "name": "stdout",
     "output_type": "stream",
     "text": [
      "22/11/15 01:42:21 WARN TaskSetManager: Stage 76 contains a task of very large size (4288 KiB). The maximum recommended task size is 1000 KiB.\n"
     ]
    },
    {
     "data": {
      "text/html": [
       "<div>\n",
       "<style scoped>\n",
       "    .dataframe tbody tr th:only-of-type {\n",
       "        vertical-align: middle;\n",
       "    }\n",
       "\n",
       "    .dataframe tbody tr th {\n",
       "        vertical-align: top;\n",
       "    }\n",
       "\n",
       "    .dataframe thead th {\n",
       "        text-align: right;\n",
       "    }\n",
       "</style>\n",
       "<table border=\"1\" class=\"dataframe\">\n",
       "  <thead>\n",
       "    <tr style=\"text-align: right;\">\n",
       "      <th></th>\n",
       "      <th>store_sales(in millions)_Scaled</th>\n",
       "      <th>unit_sales(in millions)_Scaled</th>\n",
       "      <th>total_children_Scaled</th>\n",
       "      <th>avg_cars_at home(approx)_Scaled</th>\n",
       "      <th>num_children_at_home_Scaled</th>\n",
       "      <th>SRP_Scaled</th>\n",
       "      <th>gross_weight_Scaled</th>\n",
       "      <th>net_weight_Scaled</th>\n",
       "      <th>units_per_case_Scaled</th>\n",
       "      <th>store_sqft_Scaled</th>\n",
       "      <th>...</th>\n",
       "      <th>education1</th>\n",
       "      <th>member_card1</th>\n",
       "      <th>occupation1</th>\n",
       "      <th>houseowner1</th>\n",
       "      <th>brand_name1</th>\n",
       "      <th>store_type1</th>\n",
       "      <th>store_city1</th>\n",
       "      <th>store_state1</th>\n",
       "      <th>media_type1</th>\n",
       "      <th>cost</th>\n",
       "    </tr>\n",
       "  </thead>\n",
       "  <tbody>\n",
       "    <tr>\n",
       "      <th>0</th>\n",
       "      <td>0.306</td>\n",
       "      <td>0.6</td>\n",
       "      <td>0.2</td>\n",
       "      <td>0.25</td>\n",
       "      <td>0.2</td>\n",
       "      <td>0.385</td>\n",
       "      <td>0.862</td>\n",
       "      <td>0.825</td>\n",
       "      <td>0.457</td>\n",
       "      <td>0.381</td>\n",
       "      <td>...</td>\n",
       "      <td>0.0</td>\n",
       "      <td>1.0</td>\n",
       "      <td>1.0</td>\n",
       "      <td>0.0</td>\n",
       "      <td>12.0</td>\n",
       "      <td>1.0</td>\n",
       "      <td>1.0</td>\n",
       "      <td>1.0</td>\n",
       "      <td>0.0</td>\n",
       "      <td>126.62</td>\n",
       "    </tr>\n",
       "    <tr>\n",
       "      <th>1</th>\n",
       "      <td>0.224</td>\n",
       "      <td>0.4</td>\n",
       "      <td>0.0</td>\n",
       "      <td>1.00</td>\n",
       "      <td>0.0</td>\n",
       "      <td>0.385</td>\n",
       "      <td>0.862</td>\n",
       "      <td>0.825</td>\n",
       "      <td>0.457</td>\n",
       "      <td>0.381</td>\n",
       "      <td>...</td>\n",
       "      <td>2.0</td>\n",
       "      <td>3.0</td>\n",
       "      <td>0.0</td>\n",
       "      <td>0.0</td>\n",
       "      <td>12.0</td>\n",
       "      <td>1.0</td>\n",
       "      <td>1.0</td>\n",
       "      <td>1.0</td>\n",
       "      <td>0.0</td>\n",
       "      <td>59.86</td>\n",
       "    </tr>\n",
       "    <tr>\n",
       "      <th>2</th>\n",
       "      <td>0.141</td>\n",
       "      <td>0.2</td>\n",
       "      <td>0.8</td>\n",
       "      <td>0.25</td>\n",
       "      <td>0.0</td>\n",
       "      <td>0.385</td>\n",
       "      <td>0.862</td>\n",
       "      <td>0.825</td>\n",
       "      <td>0.457</td>\n",
       "      <td>0.381</td>\n",
       "      <td>...</td>\n",
       "      <td>0.0</td>\n",
       "      <td>1.0</td>\n",
       "      <td>2.0</td>\n",
       "      <td>1.0</td>\n",
       "      <td>12.0</td>\n",
       "      <td>1.0</td>\n",
       "      <td>1.0</td>\n",
       "      <td>1.0</td>\n",
       "      <td>0.0</td>\n",
       "      <td>84.16</td>\n",
       "    </tr>\n",
       "    <tr>\n",
       "      <th>3</th>\n",
       "      <td>0.141</td>\n",
       "      <td>0.2</td>\n",
       "      <td>0.4</td>\n",
       "      <td>0.50</td>\n",
       "      <td>0.4</td>\n",
       "      <td>0.385</td>\n",
       "      <td>0.862</td>\n",
       "      <td>0.825</td>\n",
       "      <td>0.457</td>\n",
       "      <td>0.381</td>\n",
       "      <td>...</td>\n",
       "      <td>1.0</td>\n",
       "      <td>0.0</td>\n",
       "      <td>2.0</td>\n",
       "      <td>0.0</td>\n",
       "      <td>12.0</td>\n",
       "      <td>1.0</td>\n",
       "      <td>1.0</td>\n",
       "      <td>1.0</td>\n",
       "      <td>7.0</td>\n",
       "      <td>95.78</td>\n",
       "    </tr>\n",
       "    <tr>\n",
       "      <th>4</th>\n",
       "      <td>0.159</td>\n",
       "      <td>0.4</td>\n",
       "      <td>0.0</td>\n",
       "      <td>0.50</td>\n",
       "      <td>0.0</td>\n",
       "      <td>0.247</td>\n",
       "      <td>0.070</td>\n",
       "      <td>0.116</td>\n",
       "      <td>0.800</td>\n",
       "      <td>0.381</td>\n",
       "      <td>...</td>\n",
       "      <td>0.0</td>\n",
       "      <td>0.0</td>\n",
       "      <td>1.0</td>\n",
       "      <td>1.0</td>\n",
       "      <td>16.0</td>\n",
       "      <td>1.0</td>\n",
       "      <td>1.0</td>\n",
       "      <td>1.0</td>\n",
       "      <td>5.0</td>\n",
       "      <td>50.79</td>\n",
       "    </tr>\n",
       "    <tr>\n",
       "      <th>...</th>\n",
       "      <td>...</td>\n",
       "      <td>...</td>\n",
       "      <td>...</td>\n",
       "      <td>...</td>\n",
       "      <td>...</td>\n",
       "      <td>...</td>\n",
       "      <td>...</td>\n",
       "      <td>...</td>\n",
       "      <td>...</td>\n",
       "      <td>...</td>\n",
       "      <td>...</td>\n",
       "      <td>...</td>\n",
       "      <td>...</td>\n",
       "      <td>...</td>\n",
       "      <td>...</td>\n",
       "      <td>...</td>\n",
       "      <td>...</td>\n",
       "      <td>...</td>\n",
       "      <td>...</td>\n",
       "      <td>...</td>\n",
       "      <td>...</td>\n",
       "    </tr>\n",
       "    <tr>\n",
       "      <th>59246</th>\n",
       "      <td>0.100</td>\n",
       "      <td>0.0</td>\n",
       "      <td>0.2</td>\n",
       "      <td>0.25</td>\n",
       "      <td>0.2</td>\n",
       "      <td>0.649</td>\n",
       "      <td>0.855</td>\n",
       "      <td>0.876</td>\n",
       "      <td>0.714</td>\n",
       "      <td>0.111</td>\n",
       "      <td>...</td>\n",
       "      <td>1.0</td>\n",
       "      <td>0.0</td>\n",
       "      <td>1.0</td>\n",
       "      <td>0.0</td>\n",
       "      <td>32.0</td>\n",
       "      <td>1.0</td>\n",
       "      <td>10.0</td>\n",
       "      <td>5.0</td>\n",
       "      <td>12.0</td>\n",
       "      <td>77.24</td>\n",
       "    </tr>\n",
       "    <tr>\n",
       "      <th>59247</th>\n",
       "      <td>0.049</td>\n",
       "      <td>0.0</td>\n",
       "      <td>0.4</td>\n",
       "      <td>0.50</td>\n",
       "      <td>0.0</td>\n",
       "      <td>0.316</td>\n",
       "      <td>0.717</td>\n",
       "      <td>0.690</td>\n",
       "      <td>1.000</td>\n",
       "      <td>0.111</td>\n",
       "      <td>...</td>\n",
       "      <td>0.0</td>\n",
       "      <td>0.0</td>\n",
       "      <td>1.0</td>\n",
       "      <td>0.0</td>\n",
       "      <td>34.0</td>\n",
       "      <td>1.0</td>\n",
       "      <td>10.0</td>\n",
       "      <td>5.0</td>\n",
       "      <td>6.0</td>\n",
       "      <td>138.18</td>\n",
       "    </tr>\n",
       "    <tr>\n",
       "      <th>59248</th>\n",
       "      <td>0.224</td>\n",
       "      <td>0.2</td>\n",
       "      <td>0.2</td>\n",
       "      <td>0.75</td>\n",
       "      <td>0.0</td>\n",
       "      <td>0.649</td>\n",
       "      <td>0.855</td>\n",
       "      <td>0.876</td>\n",
       "      <td>0.714</td>\n",
       "      <td>0.111</td>\n",
       "      <td>...</td>\n",
       "      <td>1.0</td>\n",
       "      <td>3.0</td>\n",
       "      <td>3.0</td>\n",
       "      <td>0.0</td>\n",
       "      <td>31.0</td>\n",
       "      <td>1.0</td>\n",
       "      <td>10.0</td>\n",
       "      <td>5.0</td>\n",
       "      <td>4.0</td>\n",
       "      <td>144.54</td>\n",
       "    </tr>\n",
       "    <tr>\n",
       "      <th>59249</th>\n",
       "      <td>0.347</td>\n",
       "      <td>0.4</td>\n",
       "      <td>0.4</td>\n",
       "      <td>1.00</td>\n",
       "      <td>0.0</td>\n",
       "      <td>0.649</td>\n",
       "      <td>0.855</td>\n",
       "      <td>0.876</td>\n",
       "      <td>0.714</td>\n",
       "      <td>0.729</td>\n",
       "      <td>...</td>\n",
       "      <td>2.0</td>\n",
       "      <td>0.0</td>\n",
       "      <td>0.0</td>\n",
       "      <td>1.0</td>\n",
       "      <td>31.0</td>\n",
       "      <td>1.0</td>\n",
       "      <td>10.0</td>\n",
       "      <td>5.0</td>\n",
       "      <td>7.0</td>\n",
       "      <td>75.22</td>\n",
       "    </tr>\n",
       "    <tr>\n",
       "      <th>59250</th>\n",
       "      <td>0.388</td>\n",
       "      <td>0.6</td>\n",
       "      <td>0.6</td>\n",
       "      <td>0.25</td>\n",
       "      <td>0.0</td>\n",
       "      <td>0.517</td>\n",
       "      <td>0.975</td>\n",
       "      <td>0.927</td>\n",
       "      <td>0.800</td>\n",
       "      <td>0.729</td>\n",
       "      <td>...</td>\n",
       "      <td>2.0</td>\n",
       "      <td>3.0</td>\n",
       "      <td>0.0</td>\n",
       "      <td>0.0</td>\n",
       "      <td>34.0</td>\n",
       "      <td>1.0</td>\n",
       "      <td>10.0</td>\n",
       "      <td>5.0</td>\n",
       "      <td>9.0</td>\n",
       "      <td>122.77</td>\n",
       "    </tr>\n",
       "  </tbody>\n",
       "</table>\n",
       "<p>59251 rows × 37 columns</p>\n",
       "</div>"
      ],
      "text/plain": [
       "       store_sales(in millions)_Scaled  unit_sales(in millions)_Scaled  \\\n",
       "0                                0.306                             0.6   \n",
       "1                                0.224                             0.4   \n",
       "2                                0.141                             0.2   \n",
       "3                                0.141                             0.2   \n",
       "4                                0.159                             0.4   \n",
       "...                                ...                             ...   \n",
       "59246                            0.100                             0.0   \n",
       "59247                            0.049                             0.0   \n",
       "59248                            0.224                             0.2   \n",
       "59249                            0.347                             0.4   \n",
       "59250                            0.388                             0.6   \n",
       "\n",
       "       total_children_Scaled  avg_cars_at home(approx)_Scaled  \\\n",
       "0                        0.2                             0.25   \n",
       "1                        0.0                             1.00   \n",
       "2                        0.8                             0.25   \n",
       "3                        0.4                             0.50   \n",
       "4                        0.0                             0.50   \n",
       "...                      ...                              ...   \n",
       "59246                    0.2                             0.25   \n",
       "59247                    0.4                             0.50   \n",
       "59248                    0.2                             0.75   \n",
       "59249                    0.4                             1.00   \n",
       "59250                    0.6                             0.25   \n",
       "\n",
       "       num_children_at_home_Scaled  SRP_Scaled  gross_weight_Scaled  \\\n",
       "0                              0.2       0.385                0.862   \n",
       "1                              0.0       0.385                0.862   \n",
       "2                              0.0       0.385                0.862   \n",
       "3                              0.4       0.385                0.862   \n",
       "4                              0.0       0.247                0.070   \n",
       "...                            ...         ...                  ...   \n",
       "59246                          0.2       0.649                0.855   \n",
       "59247                          0.0       0.316                0.717   \n",
       "59248                          0.0       0.649                0.855   \n",
       "59249                          0.0       0.649                0.855   \n",
       "59250                          0.0       0.517                0.975   \n",
       "\n",
       "       net_weight_Scaled  units_per_case_Scaled  store_sqft_Scaled  ...  \\\n",
       "0                  0.825                  0.457              0.381  ...   \n",
       "1                  0.825                  0.457              0.381  ...   \n",
       "2                  0.825                  0.457              0.381  ...   \n",
       "3                  0.825                  0.457              0.381  ...   \n",
       "4                  0.116                  0.800              0.381  ...   \n",
       "...                  ...                    ...                ...  ...   \n",
       "59246              0.876                  0.714              0.111  ...   \n",
       "59247              0.690                  1.000              0.111  ...   \n",
       "59248              0.876                  0.714              0.111  ...   \n",
       "59249              0.876                  0.714              0.729  ...   \n",
       "59250              0.927                  0.800              0.729  ...   \n",
       "\n",
       "       education1  member_card1  occupation1  houseowner1  brand_name1  \\\n",
       "0             0.0           1.0          1.0          0.0         12.0   \n",
       "1             2.0           3.0          0.0          0.0         12.0   \n",
       "2             0.0           1.0          2.0          1.0         12.0   \n",
       "3             1.0           0.0          2.0          0.0         12.0   \n",
       "4             0.0           0.0          1.0          1.0         16.0   \n",
       "...           ...           ...          ...          ...          ...   \n",
       "59246         1.0           0.0          1.0          0.0         32.0   \n",
       "59247         0.0           0.0          1.0          0.0         34.0   \n",
       "59248         1.0           3.0          3.0          0.0         31.0   \n",
       "59249         2.0           0.0          0.0          1.0         31.0   \n",
       "59250         2.0           3.0          0.0          0.0         34.0   \n",
       "\n",
       "       store_type1  store_city1  store_state1  media_type1    cost  \n",
       "0              1.0          1.0           1.0          0.0  126.62  \n",
       "1              1.0          1.0           1.0          0.0   59.86  \n",
       "2              1.0          1.0           1.0          0.0   84.16  \n",
       "3              1.0          1.0           1.0          7.0   95.78  \n",
       "4              1.0          1.0           1.0          5.0   50.79  \n",
       "...            ...          ...           ...          ...     ...  \n",
       "59246          1.0         10.0           5.0         12.0   77.24  \n",
       "59247          1.0         10.0           5.0          6.0  138.18  \n",
       "59248          1.0         10.0           5.0          4.0  144.54  \n",
       "59249          1.0         10.0           5.0          7.0   75.22  \n",
       "59250          1.0         10.0           5.0          9.0  122.77  \n",
       "\n",
       "[59251 rows x 37 columns]"
      ]
     },
     "execution_count": 31,
     "metadata": {},
     "output_type": "execute_result"
    }
   ],
   "source": [
    "dffinal.toPandas()"
   ]
  },
  {
   "cell_type": "code",
   "execution_count": 32,
   "id": "4c582b4c",
   "metadata": {
    "scrolled": false
   },
   "outputs": [
    {
     "name": "stdout",
     "output_type": "stream",
     "text": [
      "22/11/15 01:42:23 WARN TaskSetManager: Stage 77 contains a task of very large size (4288 KiB). The maximum recommended task size is 1000 KiB.\n"
     ]
    },
    {
     "name": "stderr",
     "output_type": "stream",
     "text": [
      "\r",
      "[Stage 77:=============================>                            (2 + 2) / 4]\r",
      "\r",
      "                                                                                \r"
     ]
    },
    {
     "data": {
      "image/png": "[encoded data removed]",
      "text/plain": [
       "<Figure size 432x288 with 2 Axes>"
      ]
     },
     "metadata": {
      "needs_background": "light"
     },
     "output_type": "display_data"
    },
    {
     "data": {
      "image/png": "[encoded data removed]",
      "text/plain": [
       "<Figure size 1440x1440 with 2 Axes>"
      ]
     },
     "metadata": {
      "needs_background": "light"
     },
     "output_type": "display_data"
    }
   ],
   "source": [
    "#!pip install heatmapz\n",
    "#mapa de correlacao\n",
    "from heatmap import heatmap, corrplot\n",
    "import seaborn as sns\n",
    "\n",
    "\n",
    "corr = dffinal.toPandas()\n",
    "corr = corr.corr()\n",
    "\n",
    "ax = sns.heatmap(\n",
    "    corr, \n",
    "    vmin=-1, vmax=1, center=0,\n",
    "    cmap=sns.diverging_palette(30, 220, n=200),\n",
    "    square=True\n",
    ")\n",
    "ax.set_xticklabels(\n",
    "    ax.get_xticklabels(),\n",
    "    rotation=45,\n",
    "    horizontalalignment='right'\n",
    ");\n",
    "\n",
    "plt.figure(figsize=(20, 20))\n",
    "corrplot(corr.corr(), size_scale=2000);"
   ]
  },
  {
   "cell_type": "code",
   "execution_count": 33,
   "id": "2e57e625",
   "metadata": {},
   "outputs": [
    {
     "name": "stdout",
     "output_type": "stream",
     "text": [
      "22/11/15 01:42:28 WARN TaskSetManager: Stage 78 contains a task of very large size (1509 KiB). The maximum recommended task size is 1000 KiB.\n"
     ]
    },
    {
     "ename": "IndexError",
     "evalue": "index 12 is out of bounds for axis 0 with size 4",
     "output_type": "error",
     "traceback": [
      "\u001b[0;31m---------------------------------------------------------------------------\u001b[0m",
      "\u001b[0;31mIndexError\u001b[0m                                Traceback (most recent call last)",
      "Input \u001b[0;32mIn [33]\u001b[0m, in \u001b[0;36m<cell line: 5>\u001b[0;34m()\u001b[0m\n\u001b[1;32m      8\u001b[0m v\u001b[38;5;241m.\u001b[39myaxis\u001b[38;5;241m.\u001b[39mlabel\u001b[38;5;241m.\u001b[39mset_ha(\u001b[38;5;124m'\u001b[39m\u001b[38;5;124mright\u001b[39m\u001b[38;5;124m'\u001b[39m)\n\u001b[1;32m      9\u001b[0m v\u001b[38;5;241m.\u001b[39mset_yticks(())\n\u001b[0;32m---> 10\u001b[0m h \u001b[38;5;241m=\u001b[39m \u001b[43maxs\u001b[49m\u001b[43m[\u001b[49m\u001b[43mn\u001b[49m\u001b[38;5;241;43m-\u001b[39;49m\u001b[38;5;241;43m1\u001b[39;49m\u001b[43m,\u001b[49m\u001b[43m \u001b[49m\u001b[43mi\u001b[49m\u001b[43m]\u001b[49m\n\u001b[1;32m     11\u001b[0m h\u001b[38;5;241m.\u001b[39mxaxis\u001b[38;5;241m.\u001b[39mlabel\u001b[38;5;241m.\u001b[39mset_rotation(\u001b[38;5;241m90\u001b[39m)\n\u001b[1;32m     12\u001b[0m h\u001b[38;5;241m.\u001b[39mset_xticks(())\n",
      "\u001b[0;31mIndexError\u001b[0m: index 12 is out of bounds for axis 0 with size 4"
     ]
    },
    {
     "data": {
      "image/png": "[encoded data removed]",
      "text/plain": [
       "<Figure size 864x864 with 16 Axes>"
      ]
     },
     "metadata": {
      "needs_background": "light"
     },
     "output_type": "display_data"
    }
   ],
   "source": [
    "#histograma das variaveis numericas\n",
    "data = dfnum2.sample(False, 0.8).toPandas()\n",
    "axs = pd.plotting.hist_frame(data, figsize=(12, 12))\n",
    "n = len(data.columns)\n",
    "for i in range(n):\n",
    "    v = axs[i, 0]\n",
    "    v.yaxis.label.set_rotation(0)\n",
    "    v.yaxis.label.set_ha('right')\n",
    "    v.set_yticks(())\n",
    "    h = axs[n-1, i]\n",
    "    h.xaxis.label.set_rotation(90)\n",
    "    h.set_xticks(())"
   ]
  },
  {
   "cell_type": "code",
   "execution_count": 61,
   "id": "c23bfd09",
   "metadata": {},
   "outputs": [
    {
     "name": "stdout",
     "output_type": "stream",
     "text": [
      "22/11/15 02:00:28 WARN TaskSetManager: Stage 278 contains a task of very large size (4288 KiB). The maximum recommended task size is 1000 KiB.\n",
      "+--------------------+------+\n",
      "|            features|  cost|\n",
      "+--------------------+------+\n",
      "|[0.306,0.6,0.2,0....|126.62|\n",
      "|[0.224,0.4,0.0,1....| 59.86|\n",
      "|[0.141,0.2,0.8,0....| 84.16|\n",
      "+--------------------+------+\n",
      "only showing top 3 rows\n",
      "\n"
     ]
    }
   ],
   "source": [
    "#Vamos vetorizar para passar o modelo\n",
    "vetor = VectorAssembler(inputCols = [*[cols for cols in dffinal.columns]], outputCol = \"features\")\n",
    "df = vetor.transform(dffinal)\n",
    "df = df.select([\"features\", \"cost\"])\n",
    "df.show(3)"
   ]
  },
  {
   "cell_type": "code",
   "execution_count": 62,
   "id": "3c63b97a",
   "metadata": {},
   "outputs": [],
   "source": [
    "#separando em treino e teste\n",
    "splits = df.randomSplit([0.7, 0.3])\n",
    "treino = splits[0]\n",
    "teste= splits[1]"
   ]
  },
  {
   "cell_type": "markdown",
   "id": "10b20776",
   "metadata": {},
   "source": [
    "<h2>modelo de regressao linear</h2>"
   ]
  },
  {
   "cell_type": "code",
   "execution_count": 36,
   "id": "45841bd0",
   "metadata": {},
   "outputs": [
    {
     "name": "stdout",
     "output_type": "stream",
     "text": [
      "22/11/15 01:42:48 WARN TaskSetManager: Stage 80 contains a task of very large size (4288 KiB). The maximum recommended task size is 1000 KiB.\n"
     ]
    },
    {
     "name": "stderr",
     "output_type": "stream",
     "text": [
      "                                                                                \r"
     ]
    },
    {
     "name": "stdout",
     "output_type": "stream",
     "text": [
      "22/11/15 01:42:51 WARN TaskSetManager: Stage 81 contains a task of very large size (4288 KiB). The maximum recommended task size is 1000 KiB.\n"
     ]
    },
    {
     "name": "stderr",
     "output_type": "stream",
     "text": [
      "\r",
      "[Stage 81:>                                                         (0 + 4) / 4]\r"
     ]
    },
    {
     "name": "stdout",
     "output_type": "stream",
     "text": [
      "coeficientes: [0.0,0.0,0.0,0.0,0.0,0.0,0.0,0.0,0.0,0.0,0.0,0.0,0.0,0.0,0.0,0.0,0.0,0.0,0.0,0.0,0.0,0.0,0.0,0.0,0.0,0.0,0.0,0.0,0.0,0.0,0.0,0.0,0.0,0.0,0.0,0.0,0.9900266384005865]\n",
      "intercepto: 0.9901271299555691\n"
     ]
    },
    {
     "name": "stderr",
     "output_type": "stream",
     "text": [
      "\r",
      "[Stage 81:==============>                                           (1 + 3) / 4]\r",
      "\r",
      "                                                                                \r"
     ]
    }
   ],
   "source": [
    "#treinando modelo de regressao linear\n",
    "lr = LinearRegression(featuresCol = 'features', labelCol='cost', maxIter=10, regParam=0.3, elasticNetParam=0.8)\n",
    "lr_model = lr.fit(treino)\n",
    "print(\"coeficientes: \" + str(lr_model.coefficients))\n",
    "print(\"intercepto: \" + str(lr_model.intercept))"
   ]
  },
  {
   "cell_type": "code",
   "execution_count": 38,
   "id": "e0636d04",
   "metadata": {},
   "outputs": [
    {
     "name": "stdout",
     "output_type": "stream",
     "text": [
      "RMSE: 0.299402\n",
      "r2: 0.999901\n"
     ]
    }
   ],
   "source": [
    "#avaliacao\n",
    "trainingSummary = lr_model.summary\n",
    "print(\"RMSE: %f\" % trainingSummary.rootMeanSquaredError)\n",
    "print(\"r2: %f\" % trainingSummary.r2)"
   ]
  },
  {
   "cell_type": "markdown",
   "id": "1f8d6c0d",
   "metadata": {},
   "source": [
    "<h2>random forest</h2>"
   ]
  },
  {
   "cell_type": "code",
   "execution_count": 142,
   "id": "7ad2e3ad",
   "metadata": {},
   "outputs": [
    {
     "name": "stdout",
     "output_type": "stream",
     "text": [
      "22/11/15 02:50:51 WARN TaskSetManager: Stage 3273 contains a task of very large size (4288 KiB). The maximum recommended task size is 1000 KiB.\n",
      "22/11/15 02:50:51 WARN TaskSetManager: Stage 3274 contains a task of very large size (4288 KiB). The maximum recommended task size is 1000 KiB.\n"
     ]
    },
    {
     "name": "stderr",
     "output_type": "stream",
     "text": [
      "\r",
      "[Stage 3274:>                                                       (0 + 4) / 4]\r",
      "\r",
      "                                                                                \r"
     ]
    },
    {
     "name": "stdout",
     "output_type": "stream",
     "text": [
      "22/11/15 02:50:52 WARN TaskSetManager: Stage 3275 contains a task of very large size (4288 KiB). The maximum recommended task size is 1000 KiB.\n"
     ]
    },
    {
     "name": "stderr",
     "output_type": "stream",
     "text": [
      "                                                                                \r"
     ]
    },
    {
     "name": "stdout",
     "output_type": "stream",
     "text": [
      "22/11/15 02:50:53 WARN TaskSetManager: Stage 3277 contains a task of very large size (4288 KiB). The maximum recommended task size is 1000 KiB.\n"
     ]
    },
    {
     "name": "stderr",
     "output_type": "stream",
     "text": [
      "                                                                                \r"
     ]
    },
    {
     "name": "stdout",
     "output_type": "stream",
     "text": [
      "22/11/15 02:50:54 WARN TaskSetManager: Stage 3279 contains a task of very large size (4288 KiB). The maximum recommended task size is 1000 KiB.\n",
      "22/11/15 02:50:54 WARN TaskSetManager: Stage 3281 contains a task of very large size (4288 KiB). The maximum recommended task size is 1000 KiB.\n",
      "22/11/15 02:50:55 WARN TaskSetManager: Stage 3283 contains a task of very large size (4288 KiB). The maximum recommended task size is 1000 KiB.\n"
     ]
    },
    {
     "name": "stderr",
     "output_type": "stream",
     "text": [
      "\r",
      "[Stage 3283:==========================================>             (3 + 1) / 4]\r",
      "\r",
      "                                                                                \r"
     ]
    },
    {
     "name": "stdout",
     "output_type": "stream",
     "text": [
      "22/11/15 02:50:56 WARN TaskSetManager: Stage 3285 contains a task of very large size (4288 KiB). The maximum recommended task size is 1000 KiB.\n"
     ]
    },
    {
     "name": "stderr",
     "output_type": "stream",
     "text": [
      "                                                                                \r"
     ]
    }
   ],
   "source": [
    "from pyspark.ml.regression import RandomForestRegressor\n",
    "rf = RandomForestRegressor(labelCol=\"cost\", featuresCol=\"features\")\n",
    "modelo=rf.fit(treino)"
   ]
  },
  {
   "cell_type": "code",
   "execution_count": 146,
   "id": "0d4641a1",
   "metadata": {},
   "outputs": [],
   "source": [
    "avaliador = RegressionEvaluator(predictionCol=\"prediction\", labelCol=\"cost\", metricName=\"r2\")"
   ]
  },
  {
   "cell_type": "code",
   "execution_count": 147,
   "id": "9c537fae",
   "metadata": {},
   "outputs": [],
   "source": [
    "previsao=modelo.transform(teste)"
   ]
  },
  {
   "cell_type": "code",
   "execution_count": 148,
   "id": "3c4142c8",
   "metadata": {},
   "outputs": [
    {
     "name": "stdout",
     "output_type": "stream",
     "text": [
      "22/11/15 02:56:25 WARN TaskSetManager: Stage 3287 contains a task of very large size (4288 KiB). The maximum recommended task size is 1000 KiB.\n"
     ]
    },
    {
     "name": "stderr",
     "output_type": "stream",
     "text": [
      "\r",
      "[Stage 3287:>                                                       (0 + 4) / 4]\r"
     ]
    },
    {
     "name": "stdout",
     "output_type": "stream",
     "text": [
      "R2: 0.9649465978208528\n"
     ]
    },
    {
     "name": "stderr",
     "output_type": "stream",
     "text": [
      "\r",
      "[Stage 3287:============================>                           (2 + 2) / 4]\r",
      "\r",
      "                                                                                \r"
     ]
    }
   ],
   "source": [
    "print('R2:', avaliador.evaluate(previsao))"
   ]
  },
  {
   "cell_type": "code",
   "execution_count": 118,
   "id": "e484febf",
   "metadata": {},
   "outputs": [],
   "source": [
    "#usando o grid builder para tunar os hyperparametros\n",
    "from pyspark.ml.tuning import ParamGridBuilder, CrossValidator\n",
    "\n",
    "parametros = (ParamGridBuilder()\n",
    "               .addGrid(rf.maxDepth, [5, 8, 10])\n",
    "               .addGrid(rf.maxBins, [10, 50, 100])\n",
    "               .addGrid(rf.numTrees, [5, 10, 20])\n",
    "             .build())"
   ]
  },
  {
   "cell_type": "code",
   "execution_count": 121,
   "id": "ae2f5179",
   "metadata": {},
   "outputs": [],
   "source": [
    "#fazendo a cross validation com 5 folds\n",
    "cross = CrossValidator(estimator = rf,\n",
    "                      estimatorParamMaps = parametros,\n",
    "                      evaluator = avaliador,\n",
    "                      numFolds = 5)"
   ]
  },
  {
   "cell_type": "code",
   "execution_count": 123,
   "id": "9b05cdc9",
   "metadata": {},
   "outputs": [
    {
     "name": "stdout",
     "output_type": "stream",
     "text": [
      "22/11/15 02:30:45 WARN TaskSetManager: Stage 502 contains a task of very large size (4288 KiB). The maximum recommended task size is 1000 KiB.\n",
      "22/11/15 02:30:46 WARN TaskSetManager: Stage 503 contains a task of very large size (4288 KiB). The maximum recommended task size is 1000 KiB.\n"
     ]
    },
    {
     "name": "stderr",
     "output_type": "stream",
     "text": [
      "                                                                                \r"
     ]
    },
    {
     "name": "stdout",
     "output_type": "stream",
     "text": [
      "22/11/15 02:30:47 WARN TaskSetManager: Stage 504 contains a task of very large size (4288 KiB). The maximum recommended task size is 1000 KiB.\n",
      "22/11/15 02:30:47 WARN TaskSetManager: Stage 506 contains a task of very large size (4288 KiB). The maximum recommended task size is 1000 KiB.\n",
      "22/11/15 02:30:48 WARN TaskSetManager: Stage 508 contains a task of very large size (4288 KiB). The maximum recommended task size is 1000 KiB.\n",
      "22/11/15 02:30:48 WARN TaskSetManager: Stage 510 contains a task of very large size (4288 KiB). The maximum recommended task size is 1000 KiB.\n",
      "22/11/15 02:30:48 WARN TaskSetManager: Stage 512 contains a task of very large size (4288 KiB). The maximum recommended task size is 1000 KiB.\n",
      "22/11/15 02:30:48 WARN TaskSetManager: Stage 514 contains a task of very large size (4288 KiB). The maximum recommended task size is 1000 KiB.\n",
      "22/11/15 02:30:49 WARN TaskSetManager: Stage 516 contains a task of very large size (4288 KiB). The maximum recommended task size is 1000 KiB.\n"
     ]
    },
    {
     "name": "stderr",
     "output_type": "stream",
     "text": [
      "\r",
      "[Stage 516:>                                                        (0 + 4) / 4]\r",
      "\r",
      "                                                                                \r"
     ]
    },
    {
     "name": "stdout",
     "output_type": "stream",
     "text": [
      "22/11/15 02:30:50 WARN TaskSetManager: Stage 517 contains a task of very large size (4288 KiB). The maximum recommended task size is 1000 KiB.\n",
      "22/11/15 02:30:50 WARN TaskSetManager: Stage 518 contains a task of very large size (4288 KiB). The maximum recommended task size is 1000 KiB.\n",
      "22/11/15 02:30:50 WARN TaskSetManager: Stage 519 contains a task of very large size (4288 KiB). The maximum recommended task size is 1000 KiB.\n",
      "22/11/15 02:30:51 WARN TaskSetManager: Stage 521 contains a task of very large size (4288 KiB). The maximum recommended task size is 1000 KiB.\n",
      "22/11/15 02:30:51 WARN TaskSetManager: Stage 523 contains a task of very large size (4288 KiB). The maximum recommended task size is 1000 KiB.\n",
      "22/11/15 02:30:51 WARN TaskSetManager: Stage 525 contains a task of very large size (4288 KiB). The maximum recommended task size is 1000 KiB.\n",
      "22/11/15 02:30:52 WARN TaskSetManager: Stage 527 contains a task of very large size (4288 KiB). The maximum recommended task size is 1000 KiB.\n",
      "22/11/15 02:30:52 WARN TaskSetManager: Stage 529 contains a task of very large size (4288 KiB). The maximum recommended task size is 1000 KiB.\n",
      "22/11/15 02:30:52 WARN TaskSetManager: Stage 531 contains a task of very large size (4288 KiB). The maximum recommended task size is 1000 KiB.\n",
      "22/11/15 02:30:53 WARN TaskSetManager: Stage 532 contains a task of very large size (4288 KiB). The maximum recommended task size is 1000 KiB.\n",
      "22/11/15 02:30:53 WARN TaskSetManager: Stage 533 contains a task of very large size (4288 KiB). The maximum recommended task size is 1000 KiB.\n",
      "22/11/15 02:30:53 WARN TaskSetManager: Stage 534 contains a task of very large size (4288 KiB). The maximum recommended task size is 1000 KiB.\n",
      "22/11/15 02:30:53 WARN TaskSetManager: Stage 536 contains a task of very large size (4288 KiB). The maximum recommended task size is 1000 KiB.\n"
     ]
    },
    {
     "name": "stderr",
     "output_type": "stream",
     "text": [
      "\r",
      "[Stage 536:==============>                                          (1 + 3) / 4]\r",
      "\r",
      "                                                                                \r"
     ]
    },
    {
     "name": "stdout",
     "output_type": "stream",
     "text": [
      "22/11/15 02:30:54 WARN TaskSetManager: Stage 538 contains a task of very large size (4288 KiB). The maximum recommended task size is 1000 KiB.\n",
      "22/11/15 02:30:54 WARN TaskSetManager: Stage 540 contains a task of very large size (4288 KiB). The maximum recommended task size is 1000 KiB.\n",
      "22/11/15 02:30:55 WARN TaskSetManager: Stage 542 contains a task of very large size (4288 KiB). The maximum recommended task size is 1000 KiB.\n",
      "22/11/15 02:30:55 WARN TaskSetManager: Stage 544 contains a task of very large size (4288 KiB). The maximum recommended task size is 1000 KiB.\n",
      "22/11/15 02:30:56 WARN TaskSetManager: Stage 546 contains a task of very large size (4288 KiB). The maximum recommended task size is 1000 KiB.\n",
      "22/11/15 02:30:56 WARN TaskSetManager: Stage 547 contains a task of very large size (4288 KiB). The maximum recommended task size is 1000 KiB.\n",
      "22/11/15 02:30:56 WARN TaskSetManager: Stage 548 contains a task of very large size (4288 KiB). The maximum recommended task size is 1000 KiB.\n",
      "22/11/15 02:30:57 WARN TaskSetManager: Stage 549 contains a task of very large size (4288 KiB). The maximum recommended task size is 1000 KiB.\n",
      "22/11/15 02:30:57 WARN TaskSetManager: Stage 551 contains a task of very large size (4288 KiB). The maximum recommended task size is 1000 KiB.\n",
      "22/11/15 02:30:57 WARN TaskSetManager: Stage 553 contains a task of very large size (4288 KiB). The maximum recommended task size is 1000 KiB.\n",
      "22/11/15 02:30:58 WARN TaskSetManager: Stage 555 contains a task of very large size (4288 KiB). The maximum recommended task size is 1000 KiB.\n",
      "22/11/15 02:30:58 WARN TaskSetManager: Stage 557 contains a task of very large size (4288 KiB). The maximum recommended task size is 1000 KiB.\n",
      "22/11/15 02:30:58 WARN TaskSetManager: Stage 559 contains a task of very large size (4288 KiB). The maximum recommended task size is 1000 KiB.\n",
      "22/11/15 02:30:59 WARN TaskSetManager: Stage 561 contains a task of very large size (4288 KiB). The maximum recommended task size is 1000 KiB.\n",
      "22/11/15 02:30:59 WARN TaskSetManager: Stage 562 contains a task of very large size (4288 KiB). The maximum recommended task size is 1000 KiB.\n",
      "22/11/15 02:30:59 WARN TaskSetManager: Stage 563 contains a task of very large size (4288 KiB). The maximum recommended task size is 1000 KiB.\n",
      "22/11/15 02:30:59 WARN TaskSetManager: Stage 564 contains a task of very large size (4288 KiB). The maximum recommended task size is 1000 KiB.\n",
      "22/11/15 02:30:59 WARN TaskSetManager: Stage 566 contains a task of very large size (4288 KiB). The maximum recommended task size is 1000 KiB.\n",
      "22/11/15 02:31:00 WARN TaskSetManager: Stage 568 contains a task of very large size (4288 KiB). The maximum recommended task size is 1000 KiB.\n",
      "22/11/15 02:31:00 WARN TaskSetManager: Stage 570 contains a task of very large size (4288 KiB). The maximum recommended task size is 1000 KiB.\n",
      "22/11/15 02:31:00 WARN TaskSetManager: Stage 572 contains a task of very large size (4288 KiB). The maximum recommended task size is 1000 KiB.\n",
      "22/11/15 02:31:01 WARN TaskSetManager: Stage 574 contains a task of very large size (4288 KiB). The maximum recommended task size is 1000 KiB.\n",
      "22/11/15 02:31:01 WARN TaskSetManager: Stage 576 contains a task of very large size (4288 KiB). The maximum recommended task size is 1000 KiB.\n",
      "22/11/15 02:31:02 WARN TaskSetManager: Stage 577 contains a task of very large size (4288 KiB). The maximum recommended task size is 1000 KiB.\n",
      "22/11/15 02:31:02 WARN TaskSetManager: Stage 578 contains a task of very large size (4288 KiB). The maximum recommended task size is 1000 KiB.\n",
      "22/11/15 02:31:02 WARN TaskSetManager: Stage 579 contains a task of very large size (4288 KiB). The maximum recommended task size is 1000 KiB.\n",
      "22/11/15 02:31:02 WARN TaskSetManager: Stage 581 contains a task of very large size (4288 KiB). The maximum recommended task size is 1000 KiB.\n",
      "22/11/15 02:31:03 WARN TaskSetManager: Stage 583 contains a task of very large size (4288 KiB). The maximum recommended task size is 1000 KiB.\n",
      "22/11/15 02:31:03 WARN TaskSetManager: Stage 585 contains a task of very large size (4288 KiB). The maximum recommended task size is 1000 KiB.\n",
      "22/11/15 02:31:04 WARN TaskSetManager: Stage 587 contains a task of very large size (4288 KiB). The maximum recommended task size is 1000 KiB.\n",
      "22/11/15 02:31:04 WARN TaskSetManager: Stage 589 contains a task of very large size (4288 KiB). The maximum recommended task size is 1000 KiB.\n",
      "22/11/15 02:31:05 WARN TaskSetManager: Stage 591 contains a task of very large size (4288 KiB). The maximum recommended task size is 1000 KiB.\n",
      "22/11/15 02:31:05 WARN TaskSetManager: Stage 592 contains a task of very large size (4288 KiB). The maximum recommended task size is 1000 KiB.\n",
      "22/11/15 02:31:05 WARN TaskSetManager: Stage 593 contains a task of very large size (4288 KiB). The maximum recommended task size is 1000 KiB.\n",
      "22/11/15 02:31:05 WARN TaskSetManager: Stage 594 contains a task of very large size (4288 KiB). The maximum recommended task size is 1000 KiB.\n",
      "22/11/15 02:31:06 WARN TaskSetManager: Stage 596 contains a task of very large size (4288 KiB). The maximum recommended task size is 1000 KiB.\n",
      "22/11/15 02:31:06 WARN TaskSetManager: Stage 598 contains a task of very large size (4288 KiB). The maximum recommended task size is 1000 KiB.\n",
      "22/11/15 02:31:06 WARN TaskSetManager: Stage 600 contains a task of very large size (4288 KiB). The maximum recommended task size is 1000 KiB.\n",
      "22/11/15 02:31:06 WARN TaskSetManager: Stage 602 contains a task of very large size (4288 KiB). The maximum recommended task size is 1000 KiB.\n",
      "22/11/15 02:31:06 WARN TaskSetManager: Stage 604 contains a task of very large size (4288 KiB). The maximum recommended task size is 1000 KiB.\n",
      "22/11/15 02:31:07 WARN TaskSetManager: Stage 606 contains a task of very large size (4288 KiB). The maximum recommended task size is 1000 KiB.\n",
      "22/11/15 02:31:07 WARN TaskSetManager: Stage 607 contains a task of very large size (4288 KiB). The maximum recommended task size is 1000 KiB.\n",
      "22/11/15 02:31:07 WARN TaskSetManager: Stage 608 contains a task of very large size (4288 KiB). The maximum recommended task size is 1000 KiB.\n",
      "22/11/15 02:31:07 WARN TaskSetManager: Stage 609 contains a task of very large size (4288 KiB). The maximum recommended task size is 1000 KiB.\n",
      "22/11/15 02:31:08 WARN TaskSetManager: Stage 611 contains a task of very large size (4288 KiB). The maximum recommended task size is 1000 KiB.\n",
      "22/11/15 02:31:08 WARN TaskSetManager: Stage 613 contains a task of very large size (4288 KiB). The maximum recommended task size is 1000 KiB.\n",
      "22/11/15 02:31:08 WARN TaskSetManager: Stage 615 contains a task of very large size (4288 KiB). The maximum recommended task size is 1000 KiB.\n",
      "22/11/15 02:31:08 WARN TaskSetManager: Stage 617 contains a task of very large size (4288 KiB). The maximum recommended task size is 1000 KiB.\n",
      "22/11/15 02:31:09 WARN TaskSetManager: Stage 619 contains a task of very large size (4288 KiB). The maximum recommended task size is 1000 KiB.\n",
      "22/11/15 02:31:09 WARN TaskSetManager: Stage 621 contains a task of very large size (4288 KiB). The maximum recommended task size is 1000 KiB.\n",
      "22/11/15 02:31:10 WARN TaskSetManager: Stage 622 contains a task of very large size (4288 KiB). The maximum recommended task size is 1000 KiB.\n",
      "22/11/15 02:31:10 WARN TaskSetManager: Stage 623 contains a task of very large size (4288 KiB). The maximum recommended task size is 1000 KiB.\n",
      "22/11/15 02:31:10 WARN TaskSetManager: Stage 624 contains a task of very large size (4288 KiB). The maximum recommended task size is 1000 KiB.\n",
      "22/11/15 02:31:10 WARN TaskSetManager: Stage 626 contains a task of very large size (4288 KiB). The maximum recommended task size is 1000 KiB.\n",
      "22/11/15 02:31:11 WARN TaskSetManager: Stage 628 contains a task of very large size (4288 KiB). The maximum recommended task size is 1000 KiB.\n",
      "22/11/15 02:31:11 WARN TaskSetManager: Stage 630 contains a task of very large size (4288 KiB). The maximum recommended task size is 1000 KiB.\n",
      "22/11/15 02:31:11 WARN TaskSetManager: Stage 632 contains a task of very large size (4288 KiB). The maximum recommended task size is 1000 KiB.\n",
      "22/11/15 02:31:12 WARN TaskSetManager: Stage 634 contains a task of very large size (4288 KiB). The maximum recommended task size is 1000 KiB.\n"
     ]
    },
    {
     "name": "stdout",
     "output_type": "stream",
     "text": [
      "22/11/15 02:31:12 WARN TaskSetManager: Stage 636 contains a task of very large size (4288 KiB). The maximum recommended task size is 1000 KiB.\n",
      "22/11/15 02:31:13 WARN TaskSetManager: Stage 637 contains a task of very large size (4288 KiB). The maximum recommended task size is 1000 KiB.\n",
      "22/11/15 02:31:13 WARN TaskSetManager: Stage 638 contains a task of very large size (4288 KiB). The maximum recommended task size is 1000 KiB.\n",
      "22/11/15 02:31:13 WARN TaskSetManager: Stage 639 contains a task of very large size (4288 KiB). The maximum recommended task size is 1000 KiB.\n",
      "22/11/15 02:31:13 WARN TaskSetManager: Stage 641 contains a task of very large size (4288 KiB). The maximum recommended task size is 1000 KiB.\n",
      "22/11/15 02:31:13 WARN TaskSetManager: Stage 643 contains a task of very large size (4288 KiB). The maximum recommended task size is 1000 KiB.\n",
      "22/11/15 02:31:14 WARN TaskSetManager: Stage 645 contains a task of very large size (4288 KiB). The maximum recommended task size is 1000 KiB.\n",
      "22/11/15 02:31:14 WARN TaskSetManager: Stage 647 contains a task of very large size (4288 KiB). The maximum recommended task size is 1000 KiB.\n",
      "22/11/15 02:31:14 WARN TaskSetManager: Stage 649 contains a task of very large size (4288 KiB). The maximum recommended task size is 1000 KiB.\n",
      "22/11/15 02:31:14 WARN TaskSetManager: Stage 651 contains a task of very large size (4288 KiB). The maximum recommended task size is 1000 KiB.\n",
      "22/11/15 02:31:15 WARN TaskSetManager: Stage 653 contains a task of very large size (4288 KiB). The maximum recommended task size is 1000 KiB.\n",
      "22/11/15 02:31:15 WARN TaskSetManager: Stage 655 contains a task of very large size (4288 KiB). The maximum recommended task size is 1000 KiB.\n",
      "22/11/15 02:31:15 WARN TaskSetManager: Stage 657 contains a task of very large size (4288 KiB). The maximum recommended task size is 1000 KiB.\n",
      "22/11/15 02:31:16 WARN TaskSetManager: Stage 658 contains a task of very large size (4288 KiB). The maximum recommended task size is 1000 KiB.\n",
      "22/11/15 02:31:16 WARN TaskSetManager: Stage 659 contains a task of very large size (4288 KiB). The maximum recommended task size is 1000 KiB.\n",
      "22/11/15 02:31:16 WARN TaskSetManager: Stage 660 contains a task of very large size (4288 KiB). The maximum recommended task size is 1000 KiB.\n",
      "22/11/15 02:31:16 WARN TaskSetManager: Stage 662 contains a task of very large size (4288 KiB). The maximum recommended task size is 1000 KiB.\n",
      "22/11/15 02:31:16 WARN TaskSetManager: Stage 664 contains a task of very large size (4288 KiB). The maximum recommended task size is 1000 KiB.\n",
      "22/11/15 02:31:17 WARN TaskSetManager: Stage 666 contains a task of very large size (4288 KiB). The maximum recommended task size is 1000 KiB.\n",
      "22/11/15 02:31:17 WARN TaskSetManager: Stage 668 contains a task of very large size (4288 KiB). The maximum recommended task size is 1000 KiB.\n",
      "22/11/15 02:31:17 WARN TaskSetManager: Stage 670 contains a task of very large size (4288 KiB). The maximum recommended task size is 1000 KiB.\n",
      "22/11/15 02:31:17 WARN TaskSetManager: Stage 672 contains a task of very large size (4288 KiB). The maximum recommended task size is 1000 KiB.\n",
      "22/11/15 02:31:18 WARN TaskSetManager: Stage 674 contains a task of very large size (4288 KiB). The maximum recommended task size is 1000 KiB.\n",
      "22/11/15 02:31:18 WARN TaskSetManager: Stage 676 contains a task of very large size (4288 KiB). The maximum recommended task size is 1000 KiB.\n",
      "22/11/15 02:31:19 WARN TaskSetManager: Stage 678 contains a task of very large size (4288 KiB). The maximum recommended task size is 1000 KiB.\n",
      "22/11/15 02:31:20 WARN TaskSetManager: Stage 679 contains a task of very large size (4288 KiB). The maximum recommended task size is 1000 KiB.\n",
      "22/11/15 02:31:20 WARN TaskSetManager: Stage 680 contains a task of very large size (4288 KiB). The maximum recommended task size is 1000 KiB.\n",
      "22/11/15 02:31:20 WARN TaskSetManager: Stage 681 contains a task of very large size (4288 KiB). The maximum recommended task size is 1000 KiB.\n",
      "22/11/15 02:31:20 WARN TaskSetManager: Stage 683 contains a task of very large size (4288 KiB). The maximum recommended task size is 1000 KiB.\n",
      "22/11/15 02:31:21 WARN TaskSetManager: Stage 685 contains a task of very large size (4288 KiB). The maximum recommended task size is 1000 KiB.\n",
      "22/11/15 02:31:21 WARN TaskSetManager: Stage 687 contains a task of very large size (4288 KiB). The maximum recommended task size is 1000 KiB.\n",
      "22/11/15 02:31:21 WARN TaskSetManager: Stage 689 contains a task of very large size (4288 KiB). The maximum recommended task size is 1000 KiB.\n",
      "22/11/15 02:31:22 WARN TaskSetManager: Stage 691 contains a task of very large size (4288 KiB). The maximum recommended task size is 1000 KiB.\n",
      "22/11/15 02:31:22 WARN TaskSetManager: Stage 693 contains a task of very large size (4288 KiB). The maximum recommended task size is 1000 KiB.\n",
      "22/11/15 02:31:23 WARN TaskSetManager: Stage 695 contains a task of very large size (4288 KiB). The maximum recommended task size is 1000 KiB.\n"
     ]
    },
    {
     "name": "stderr",
     "output_type": "stream",
     "text": [
      "                                                                                \r"
     ]
    },
    {
     "name": "stdout",
     "output_type": "stream",
     "text": [
      "22/11/15 02:31:24 WARN TaskSetManager: Stage 697 contains a task of very large size (4288 KiB). The maximum recommended task size is 1000 KiB.\n"
     ]
    },
    {
     "name": "stderr",
     "output_type": "stream",
     "text": [
      "                                                                                \r"
     ]
    },
    {
     "name": "stdout",
     "output_type": "stream",
     "text": [
      "22/11/15 02:31:25 WARN TaskSetManager: Stage 699 contains a task of very large size (4288 KiB). The maximum recommended task size is 1000 KiB.\n",
      "22/11/15 02:31:25 WARN TaskSetManager: Stage 700 contains a task of very large size (4288 KiB). The maximum recommended task size is 1000 KiB.\n",
      "22/11/15 02:31:25 WARN TaskSetManager: Stage 701 contains a task of very large size (4288 KiB). The maximum recommended task size is 1000 KiB.\n",
      "22/11/15 02:31:26 WARN TaskSetManager: Stage 702 contains a task of very large size (4288 KiB). The maximum recommended task size is 1000 KiB.\n",
      "22/11/15 02:31:26 WARN TaskSetManager: Stage 704 contains a task of very large size (4288 KiB). The maximum recommended task size is 1000 KiB.\n",
      "22/11/15 02:31:26 WARN TaskSetManager: Stage 706 contains a task of very large size (4288 KiB). The maximum recommended task size is 1000 KiB.\n",
      "22/11/15 02:31:26 WARN TaskSetManager: Stage 708 contains a task of very large size (4288 KiB). The maximum recommended task size is 1000 KiB.\n",
      "22/11/15 02:31:27 WARN TaskSetManager: Stage 710 contains a task of very large size (4288 KiB). The maximum recommended task size is 1000 KiB.\n",
      "22/11/15 02:31:27 WARN TaskSetManager: Stage 712 contains a task of very large size (4288 KiB). The maximum recommended task size is 1000 KiB.\n",
      "22/11/15 02:31:27 WARN TaskSetManager: Stage 714 contains a task of very large size (4288 KiB). The maximum recommended task size is 1000 KiB.\n",
      "22/11/15 02:31:28 WARN TaskSetManager: Stage 716 contains a task of very large size (4288 KiB). The maximum recommended task size is 1000 KiB.\n",
      "22/11/15 02:31:28 WARN TaskSetManager: Stage 718 contains a task of very large size (4288 KiB). The maximum recommended task size is 1000 KiB.\n",
      "22/11/15 02:31:28 WARN TaskSetManager: Stage 720 contains a task of very large size (4288 KiB). The maximum recommended task size is 1000 KiB.\n",
      "22/11/15 02:31:29 WARN TaskSetManager: Stage 721 contains a task of very large size (4288 KiB). The maximum recommended task size is 1000 KiB.\n",
      "22/11/15 02:31:29 WARN TaskSetManager: Stage 722 contains a task of very large size (4288 KiB). The maximum recommended task size is 1000 KiB.\n",
      "22/11/15 02:31:29 WARN TaskSetManager: Stage 723 contains a task of very large size (4288 KiB). The maximum recommended task size is 1000 KiB.\n",
      "22/11/15 02:31:29 WARN TaskSetManager: Stage 725 contains a task of very large size (4288 KiB). The maximum recommended task size is 1000 KiB.\n",
      "22/11/15 02:31:30 WARN TaskSetManager: Stage 727 contains a task of very large size (4288 KiB). The maximum recommended task size is 1000 KiB.\n",
      "22/11/15 02:31:30 WARN TaskSetManager: Stage 729 contains a task of very large size (4288 KiB). The maximum recommended task size is 1000 KiB.\n",
      "22/11/15 02:31:30 WARN TaskSetManager: Stage 731 contains a task of very large size (4288 KiB). The maximum recommended task size is 1000 KiB.\n",
      "22/11/15 02:31:30 WARN TaskSetManager: Stage 733 contains a task of very large size (4288 KiB). The maximum recommended task size is 1000 KiB.\n",
      "22/11/15 02:31:31 WARN TaskSetManager: Stage 735 contains a task of very large size (4288 KiB). The maximum recommended task size is 1000 KiB.\n",
      "22/11/15 02:31:31 WARN TaskSetManager: Stage 737 contains a task of very large size (4288 KiB). The maximum recommended task size is 1000 KiB.\n",
      "22/11/15 02:31:32 WARN TaskSetManager: Stage 739 contains a task of very large size (4288 KiB). The maximum recommended task size is 1000 KiB.\n",
      "22/11/15 02:31:33 WARN TaskSetManager: Stage 741 contains a task of very large size (4288 KiB). The maximum recommended task size is 1000 KiB.\n",
      "22/11/15 02:31:33 WARN TaskSetManager: Stage 742 contains a task of very large size (4288 KiB). The maximum recommended task size is 1000 KiB.\n",
      "22/11/15 02:31:33 WARN TaskSetManager: Stage 743 contains a task of very large size (4288 KiB). The maximum recommended task size is 1000 KiB.\n",
      "22/11/15 02:31:33 WARN TaskSetManager: Stage 744 contains a task of very large size (4288 KiB). The maximum recommended task size is 1000 KiB.\n",
      "22/11/15 02:31:33 WARN TaskSetManager: Stage 746 contains a task of very large size (4288 KiB). The maximum recommended task size is 1000 KiB.\n",
      "22/11/15 02:31:34 WARN TaskSetManager: Stage 748 contains a task of very large size (4288 KiB). The maximum recommended task size is 1000 KiB.\n",
      "22/11/15 02:31:34 WARN TaskSetManager: Stage 750 contains a task of very large size (4288 KiB). The maximum recommended task size is 1000 KiB.\n",
      "22/11/15 02:31:35 WARN TaskSetManager: Stage 752 contains a task of very large size (4288 KiB). The maximum recommended task size is 1000 KiB.\n",
      "22/11/15 02:31:35 WARN TaskSetManager: Stage 754 contains a task of very large size (4288 KiB). The maximum recommended task size is 1000 KiB.\n",
      "22/11/15 02:31:35 WARN TaskSetManager: Stage 756 contains a task of very large size (4288 KiB). The maximum recommended task size is 1000 KiB.\n",
      "22/11/15 02:31:36 WARN TaskSetManager: Stage 758 contains a task of very large size (4288 KiB). The maximum recommended task size is 1000 KiB.\n"
     ]
    },
    {
     "name": "stderr",
     "output_type": "stream",
     "text": [
      "                                                                                \r"
     ]
    },
    {
     "name": "stdout",
     "output_type": "stream",
     "text": [
      "22/11/15 02:31:37 WARN TaskSetManager: Stage 760 contains a task of very large size (4288 KiB). The maximum recommended task size is 1000 KiB.\n"
     ]
    },
    {
     "name": "stderr",
     "output_type": "stream",
     "text": [
      "                                                                                \r"
     ]
    },
    {
     "name": "stdout",
     "output_type": "stream",
     "text": [
      "22/11/15 02:31:39 WARN TaskSetManager: Stage 762 contains a task of very large size (4288 KiB). The maximum recommended task size is 1000 KiB.\n",
      "22/11/15 02:31:39 WARN TaskSetManager: Stage 763 contains a task of very large size (4288 KiB). The maximum recommended task size is 1000 KiB.\n",
      "22/11/15 02:31:39 WARN TaskSetManager: Stage 764 contains a task of very large size (4288 KiB). The maximum recommended task size is 1000 KiB.\n",
      "22/11/15 02:31:39 WARN TaskSetManager: Stage 765 contains a task of very large size (4288 KiB). The maximum recommended task size is 1000 KiB.\n",
      "22/11/15 02:31:40 WARN TaskSetManager: Stage 767 contains a task of very large size (4288 KiB). The maximum recommended task size is 1000 KiB.\n",
      "22/11/15 02:31:40 WARN TaskSetManager: Stage 769 contains a task of very large size (4288 KiB). The maximum recommended task size is 1000 KiB.\n",
      "22/11/15 02:31:40 WARN TaskSetManager: Stage 771 contains a task of very large size (4288 KiB). The maximum recommended task size is 1000 KiB.\n",
      "22/11/15 02:31:40 WARN TaskSetManager: Stage 773 contains a task of very large size (4288 KiB). The maximum recommended task size is 1000 KiB.\n",
      "22/11/15 02:31:41 WARN TaskSetManager: Stage 775 contains a task of very large size (4288 KiB). The maximum recommended task size is 1000 KiB.\n",
      "22/11/15 02:31:41 WARN TaskSetManager: Stage 777 contains a task of very large size (4288 KiB). The maximum recommended task size is 1000 KiB.\n",
      "22/11/15 02:31:41 WARN TaskSetManager: Stage 779 contains a task of very large size (4288 KiB). The maximum recommended task size is 1000 KiB.\n",
      "22/11/15 02:31:42 WARN TaskSetManager: Stage 781 contains a task of very large size (4288 KiB). The maximum recommended task size is 1000 KiB.\n",
      "22/11/15 02:31:42 WARN TaskSetManager: Stage 783 contains a task of very large size (4288 KiB). The maximum recommended task size is 1000 KiB.\n",
      "22/11/15 02:31:42 WARN TaskSetManager: Stage 784 contains a task of very large size (4288 KiB). The maximum recommended task size is 1000 KiB.\n",
      "22/11/15 02:31:43 WARN TaskSetManager: Stage 785 contains a task of very large size (4288 KiB). The maximum recommended task size is 1000 KiB.\n",
      "22/11/15 02:31:43 WARN TaskSetManager: Stage 786 contains a task of very large size (4288 KiB). The maximum recommended task size is 1000 KiB.\n",
      "22/11/15 02:31:43 WARN TaskSetManager: Stage 788 contains a task of very large size (4288 KiB). The maximum recommended task size is 1000 KiB.\n",
      "22/11/15 02:31:43 WARN TaskSetManager: Stage 790 contains a task of very large size (4288 KiB). The maximum recommended task size is 1000 KiB.\n",
      "22/11/15 02:31:44 WARN TaskSetManager: Stage 792 contains a task of very large size (4288 KiB). The maximum recommended task size is 1000 KiB.\n",
      "22/11/15 02:31:44 WARN TaskSetManager: Stage 794 contains a task of very large size (4288 KiB). The maximum recommended task size is 1000 KiB.\n",
      "22/11/15 02:31:44 WARN TaskSetManager: Stage 796 contains a task of very large size (4288 KiB). The maximum recommended task size is 1000 KiB.\n",
      "22/11/15 02:31:44 WARN TaskSetManager: Stage 798 contains a task of very large size (4288 KiB). The maximum recommended task size is 1000 KiB.\n",
      "22/11/15 02:31:45 WARN TaskSetManager: Stage 800 contains a task of very large size (4288 KiB). The maximum recommended task size is 1000 KiB.\n",
      "22/11/15 02:31:46 WARN TaskSetManager: Stage 802 contains a task of very large size (4288 KiB). The maximum recommended task size is 1000 KiB.\n",
      "22/11/15 02:31:47 WARN TaskSetManager: Stage 804 contains a task of very large size (4288 KiB). The maximum recommended task size is 1000 KiB.\n",
      "22/11/15 02:31:47 WARN TaskSetManager: Stage 805 contains a task of very large size (4288 KiB). The maximum recommended task size is 1000 KiB.\n",
      "22/11/15 02:31:47 WARN TaskSetManager: Stage 806 contains a task of very large size (4288 KiB). The maximum recommended task size is 1000 KiB.\n",
      "22/11/15 02:31:47 WARN TaskSetManager: Stage 807 contains a task of very large size (4288 KiB). The maximum recommended task size is 1000 KiB.\n",
      "22/11/15 02:31:48 WARN TaskSetManager: Stage 809 contains a task of very large size (4288 KiB). The maximum recommended task size is 1000 KiB.\n",
      "22/11/15 02:31:48 WARN TaskSetManager: Stage 811 contains a task of very large size (4288 KiB). The maximum recommended task size is 1000 KiB.\n",
      "22/11/15 02:31:48 WARN TaskSetManager: Stage 813 contains a task of very large size (4288 KiB). The maximum recommended task size is 1000 KiB.\n",
      "22/11/15 02:31:49 WARN TaskSetManager: Stage 815 contains a task of very large size (4288 KiB). The maximum recommended task size is 1000 KiB.\n",
      "22/11/15 02:31:49 WARN TaskSetManager: Stage 817 contains a task of very large size (4288 KiB). The maximum recommended task size is 1000 KiB.\n",
      "22/11/15 02:31:50 WARN TaskSetManager: Stage 819 contains a task of very large size (4288 KiB). The maximum recommended task size is 1000 KiB.\n",
      "22/11/15 02:31:51 WARN TaskSetManager: Stage 821 contains a task of very large size (4288 KiB). The maximum recommended task size is 1000 KiB.\n"
     ]
    },
    {
     "name": "stderr",
     "output_type": "stream",
     "text": [
      "                                                                                \r"
     ]
    },
    {
     "name": "stdout",
     "output_type": "stream",
     "text": [
      "22/11/15 02:31:52 WARN TaskSetManager: Stage 823 contains a task of very large size (4288 KiB). The maximum recommended task size is 1000 KiB.\n"
     ]
    },
    {
     "name": "stderr",
     "output_type": "stream",
     "text": [
      "                                                                                \r"
     ]
    },
    {
     "name": "stdout",
     "output_type": "stream",
     "text": [
      "22/11/15 02:31:54 WARN TaskSetManager: Stage 825 contains a task of very large size (4288 KiB). The maximum recommended task size is 1000 KiB.\n",
      "22/11/15 02:31:54 WARN TaskSetManager: Stage 826 contains a task of very large size (4288 KiB). The maximum recommended task size is 1000 KiB.\n",
      "22/11/15 02:31:54 WARN TaskSetManager: Stage 827 contains a task of very large size (4288 KiB). The maximum recommended task size is 1000 KiB.\n",
      "22/11/15 02:31:54 WARN TaskSetManager: Stage 828 contains a task of very large size (4288 KiB). The maximum recommended task size is 1000 KiB.\n",
      "22/11/15 02:31:55 WARN TaskSetManager: Stage 830 contains a task of very large size (4288 KiB). The maximum recommended task size is 1000 KiB.\n",
      "22/11/15 02:31:55 WARN TaskSetManager: Stage 832 contains a task of very large size (4288 KiB). The maximum recommended task size is 1000 KiB.\n",
      "22/11/15 02:31:55 WARN TaskSetManager: Stage 834 contains a task of very large size (4288 KiB). The maximum recommended task size is 1000 KiB.\n",
      "22/11/15 02:31:55 WARN TaskSetManager: Stage 836 contains a task of very large size (4288 KiB). The maximum recommended task size is 1000 KiB.\n",
      "22/11/15 02:31:56 WARN TaskSetManager: Stage 838 contains a task of very large size (4288 KiB). The maximum recommended task size is 1000 KiB.\n",
      "22/11/15 02:31:56 WARN TaskSetManager: Stage 840 contains a task of very large size (4288 KiB). The maximum recommended task size is 1000 KiB.\n",
      "22/11/15 02:31:56 WARN TaskSetManager: Stage 842 contains a task of very large size (4288 KiB). The maximum recommended task size is 1000 KiB.\n",
      "22/11/15 02:31:57 WARN TaskSetManager: Stage 844 contains a task of very large size (4288 KiB). The maximum recommended task size is 1000 KiB.\n",
      "22/11/15 02:31:57 WARN TaskSetManager: Stage 846 contains a task of very large size (4288 KiB). The maximum recommended task size is 1000 KiB.\n",
      "22/11/15 02:31:58 WARN TaskSetManager: Stage 848 contains a task of very large size (4288 KiB). The maximum recommended task size is 1000 KiB.\n",
      "22/11/15 02:31:58 WARN TaskSetManager: Stage 850 contains a task of very large size (4288 KiB). The maximum recommended task size is 1000 KiB.\n",
      "22/11/15 02:31:59 WARN TaskSetManager: Stage 851 contains a task of very large size (4288 KiB). The maximum recommended task size is 1000 KiB.\n",
      "22/11/15 02:31:59 WARN TaskSetManager: Stage 852 contains a task of very large size (4288 KiB). The maximum recommended task size is 1000 KiB.\n",
      "22/11/15 02:31:59 WARN TaskSetManager: Stage 853 contains a task of very large size (4288 KiB). The maximum recommended task size is 1000 KiB.\n",
      "22/11/15 02:31:59 WARN TaskSetManager: Stage 855 contains a task of very large size (4288 KiB). The maximum recommended task size is 1000 KiB.\n",
      "22/11/15 02:31:59 WARN TaskSetManager: Stage 857 contains a task of very large size (4288 KiB). The maximum recommended task size is 1000 KiB.\n",
      "22/11/15 02:32:00 WARN TaskSetManager: Stage 859 contains a task of very large size (4288 KiB). The maximum recommended task size is 1000 KiB.\n",
      "22/11/15 02:32:00 WARN TaskSetManager: Stage 861 contains a task of very large size (4288 KiB). The maximum recommended task size is 1000 KiB.\n",
      "22/11/15 02:32:00 WARN TaskSetManager: Stage 863 contains a task of very large size (4288 KiB). The maximum recommended task size is 1000 KiB.\n",
      "22/11/15 02:32:00 WARN TaskSetManager: Stage 865 contains a task of very large size (4288 KiB). The maximum recommended task size is 1000 KiB.\n",
      "22/11/15 02:32:01 WARN TaskSetManager: Stage 867 contains a task of very large size (4288 KiB). The maximum recommended task size is 1000 KiB.\n",
      "22/11/15 02:32:01 WARN TaskSetManager: Stage 869 contains a task of very large size (4288 KiB). The maximum recommended task size is 1000 KiB.\n",
      "22/11/15 02:32:02 WARN TaskSetManager: Stage 871 contains a task of very large size (4288 KiB). The maximum recommended task size is 1000 KiB.\n",
      "22/11/15 02:32:03 WARN DAGScheduler: Broadcasting large task binary with size 1198.2 KiB\n",
      "22/11/15 02:32:03 WARN TaskSetManager: Stage 873 contains a task of very large size (4288 KiB). The maximum recommended task size is 1000 KiB.\n"
     ]
    },
    {
     "name": "stderr",
     "output_type": "stream",
     "text": [
      "                                                                                \r"
     ]
    },
    {
     "name": "stdout",
     "output_type": "stream",
     "text": [
      "22/11/15 02:32:04 WARN TaskSetManager: Stage 875 contains a task of very large size (4288 KiB). The maximum recommended task size is 1000 KiB.\n",
      "22/11/15 02:32:04 WARN TaskSetManager: Stage 876 contains a task of very large size (4288 KiB). The maximum recommended task size is 1000 KiB.\n",
      "22/11/15 02:32:05 WARN TaskSetManager: Stage 877 contains a task of very large size (4288 KiB). The maximum recommended task size is 1000 KiB.\n",
      "22/11/15 02:32:05 WARN TaskSetManager: Stage 878 contains a task of very large size (4288 KiB). The maximum recommended task size is 1000 KiB.\n",
      "22/11/15 02:32:05 WARN TaskSetManager: Stage 880 contains a task of very large size (4288 KiB). The maximum recommended task size is 1000 KiB.\n",
      "22/11/15 02:32:06 WARN TaskSetManager: Stage 882 contains a task of very large size (4288 KiB). The maximum recommended task size is 1000 KiB.\n",
      "22/11/15 02:32:06 WARN TaskSetManager: Stage 884 contains a task of very large size (4288 KiB). The maximum recommended task size is 1000 KiB.\n",
      "22/11/15 02:32:06 WARN TaskSetManager: Stage 886 contains a task of very large size (4288 KiB). The maximum recommended task size is 1000 KiB.\n",
      "22/11/15 02:32:06 WARN TaskSetManager: Stage 888 contains a task of very large size (4288 KiB). The maximum recommended task size is 1000 KiB.\n",
      "22/11/15 02:32:07 WARN TaskSetManager: Stage 890 contains a task of very large size (4288 KiB). The maximum recommended task size is 1000 KiB.\n",
      "22/11/15 02:32:07 WARN TaskSetManager: Stage 892 contains a task of very large size (4288 KiB). The maximum recommended task size is 1000 KiB.\n"
     ]
    },
    {
     "name": "stderr",
     "output_type": "stream",
     "text": [
      "\r",
      "[Stage 892:==========================================>              (3 + 1) / 4]\r",
      "\r",
      "                                                                                \r"
     ]
    },
    {
     "name": "stdout",
     "output_type": "stream",
     "text": [
      "22/11/15 02:32:08 WARN TaskSetManager: Stage 894 contains a task of very large size (4288 KiB). The maximum recommended task size is 1000 KiB.\n"
     ]
    },
    {
     "name": "stderr",
     "output_type": "stream",
     "text": [
      "                                                                                \r"
     ]
    },
    {
     "name": "stdout",
     "output_type": "stream",
     "text": [
      "22/11/15 02:32:10 WARN DAGScheduler: Broadcasting large task binary with size 1433.2 KiB\n",
      "22/11/15 02:32:10 WARN TaskSetManager: Stage 896 contains a task of very large size (4288 KiB). The maximum recommended task size is 1000 KiB.\n"
     ]
    },
    {
     "name": "stderr",
     "output_type": "stream",
     "text": [
      "                                                                                \r"
     ]
    },
    {
     "name": "stdout",
     "output_type": "stream",
     "text": [
      "22/11/15 02:32:11 WARN DAGScheduler: Broadcasting large task binary with size 2.2 MiB\n",
      "22/11/15 02:32:11 WARN TaskSetManager: Stage 898 contains a task of very large size (4288 KiB). The maximum recommended task size is 1000 KiB.\n"
     ]
    },
    {
     "name": "stderr",
     "output_type": "stream",
     "text": [
      "                                                                                \r"
     ]
    },
    {
     "name": "stdout",
     "output_type": "stream",
     "text": [
      "22/11/15 02:32:13 WARN TaskSetManager: Stage 900 contains a task of very large size (4288 KiB). The maximum recommended task size is 1000 KiB.\n",
      "22/11/15 02:32:14 WARN TaskSetManager: Stage 901 contains a task of very large size (4288 KiB). The maximum recommended task size is 1000 KiB.\n",
      "22/11/15 02:32:14 WARN TaskSetManager: Stage 902 contains a task of very large size (4288 KiB). The maximum recommended task size is 1000 KiB.\n",
      "22/11/15 02:32:14 WARN TaskSetManager: Stage 903 contains a task of very large size (4288 KiB). The maximum recommended task size is 1000 KiB.\n",
      "22/11/15 02:32:14 WARN TaskSetManager: Stage 905 contains a task of very large size (4288 KiB). The maximum recommended task size is 1000 KiB.\n"
     ]
    },
    {
     "name": "stderr",
     "output_type": "stream",
     "text": [
      "\r",
      "[Stage 905:==========================================>              (3 + 1) / 4]\r",
      "\r",
      "                                                                                \r"
     ]
    },
    {
     "name": "stdout",
     "output_type": "stream",
     "text": [
      "22/11/15 02:32:15 WARN TaskSetManager: Stage 907 contains a task of very large size (4288 KiB). The maximum recommended task size is 1000 KiB.\n",
      "22/11/15 02:32:15 WARN TaskSetManager: Stage 909 contains a task of very large size (4288 KiB). The maximum recommended task size is 1000 KiB.\n",
      "22/11/15 02:32:15 WARN TaskSetManager: Stage 911 contains a task of very large size (4288 KiB). The maximum recommended task size is 1000 KiB.\n",
      "22/11/15 02:32:15 WARN TaskSetManager: Stage 913 contains a task of very large size (4288 KiB). The maximum recommended task size is 1000 KiB.\n",
      "22/11/15 02:32:15 WARN TaskSetManager: Stage 915 contains a task of very large size (4288 KiB). The maximum recommended task size is 1000 KiB.\n",
      "22/11/15 02:32:16 WARN TaskSetManager: Stage 917 contains a task of very large size (4288 KiB). The maximum recommended task size is 1000 KiB.\n",
      "22/11/15 02:32:16 WARN TaskSetManager: Stage 919 contains a task of very large size (4288 KiB). The maximum recommended task size is 1000 KiB.\n",
      "22/11/15 02:32:17 WARN TaskSetManager: Stage 921 contains a task of very large size (4288 KiB). The maximum recommended task size is 1000 KiB.\n",
      "22/11/15 02:32:17 WARN TaskSetManager: Stage 923 contains a task of very large size (4288 KiB). The maximum recommended task size is 1000 KiB.\n",
      "22/11/15 02:32:18 WARN TaskSetManager: Stage 925 contains a task of very large size (4288 KiB). The maximum recommended task size is 1000 KiB.\n",
      "22/11/15 02:32:18 WARN TaskSetManager: Stage 926 contains a task of very large size (4288 KiB). The maximum recommended task size is 1000 KiB.\n",
      "22/11/15 02:32:18 WARN TaskSetManager: Stage 927 contains a task of very large size (4288 KiB). The maximum recommended task size is 1000 KiB.\n",
      "22/11/15 02:32:19 WARN TaskSetManager: Stage 928 contains a task of very large size (4288 KiB). The maximum recommended task size is 1000 KiB.\n",
      "22/11/15 02:32:19 WARN TaskSetManager: Stage 930 contains a task of very large size (4288 KiB). The maximum recommended task size is 1000 KiB.\n",
      "22/11/15 02:32:19 WARN TaskSetManager: Stage 932 contains a task of very large size (4288 KiB). The maximum recommended task size is 1000 KiB.\n",
      "22/11/15 02:32:20 WARN TaskSetManager: Stage 934 contains a task of very large size (4288 KiB). The maximum recommended task size is 1000 KiB.\n",
      "22/11/15 02:32:20 WARN TaskSetManager: Stage 936 contains a task of very large size (4288 KiB). The maximum recommended task size is 1000 KiB.\n",
      "22/11/15 02:32:20 WARN TaskSetManager: Stage 938 contains a task of very large size (4288 KiB). The maximum recommended task size is 1000 KiB.\n",
      "22/11/15 02:32:20 WARN TaskSetManager: Stage 940 contains a task of very large size (4288 KiB). The maximum recommended task size is 1000 KiB.\n",
      "22/11/15 02:32:21 WARN TaskSetManager: Stage 942 contains a task of very large size (4288 KiB). The maximum recommended task size is 1000 KiB.\n"
     ]
    },
    {
     "name": "stderr",
     "output_type": "stream",
     "text": [
      "\r",
      "[Stage 942:==========================================>              (3 + 1) / 4]\r",
      "\r",
      "                                                                                \r"
     ]
    },
    {
     "name": "stdout",
     "output_type": "stream",
     "text": [
      "22/11/15 02:32:22 WARN TaskSetManager: Stage 944 contains a task of very large size (4288 KiB). The maximum recommended task size is 1000 KiB.\n",
      "22/11/15 02:32:23 WARN TaskSetManager: Stage 946 contains a task of very large size (4288 KiB). The maximum recommended task size is 1000 KiB.\n"
     ]
    },
    {
     "name": "stderr",
     "output_type": "stream",
     "text": [
      "                                                                                \r"
     ]
    },
    {
     "name": "stdout",
     "output_type": "stream",
     "text": [
      "22/11/15 02:32:24 WARN DAGScheduler: Broadcasting large task binary with size 1184.6 KiB\n",
      "22/11/15 02:32:24 WARN TaskSetManager: Stage 948 contains a task of very large size (4288 KiB). The maximum recommended task size is 1000 KiB.\n"
     ]
    },
    {
     "name": "stderr",
     "output_type": "stream",
     "text": [
      "                                                                                \r"
     ]
    },
    {
     "name": "stdout",
     "output_type": "stream",
     "text": [
      "22/11/15 02:32:25 WARN TaskSetManager: Stage 950 contains a task of very large size (4288 KiB). The maximum recommended task size is 1000 KiB.\n",
      "22/11/15 02:32:25 WARN TaskSetManager: Stage 951 contains a task of very large size (4288 KiB). The maximum recommended task size is 1000 KiB.\n",
      "22/11/15 02:32:25 WARN TaskSetManager: Stage 952 contains a task of very large size (4288 KiB). The maximum recommended task size is 1000 KiB.\n",
      "22/11/15 02:32:25 WARN TaskSetManager: Stage 953 contains a task of very large size (4288 KiB). The maximum recommended task size is 1000 KiB.\n",
      "22/11/15 02:32:26 WARN TaskSetManager: Stage 955 contains a task of very large size (4288 KiB). The maximum recommended task size is 1000 KiB.\n"
     ]
    },
    {
     "name": "stderr",
     "output_type": "stream",
     "text": [
      "\r",
      "[Stage 955:============================>                            (2 + 2) / 4]\r",
      "\r",
      "                                                                                \r"
     ]
    },
    {
     "name": "stdout",
     "output_type": "stream",
     "text": [
      "22/11/15 02:32:26 WARN TaskSetManager: Stage 957 contains a task of very large size (4288 KiB). The maximum recommended task size is 1000 KiB.\n",
      "22/11/15 02:32:27 WARN TaskSetManager: Stage 959 contains a task of very large size (4288 KiB). The maximum recommended task size is 1000 KiB.\n",
      "22/11/15 02:32:27 WARN TaskSetManager: Stage 961 contains a task of very large size (4288 KiB). The maximum recommended task size is 1000 KiB.\n",
      "22/11/15 02:32:27 WARN TaskSetManager: Stage 963 contains a task of very large size (4288 KiB). The maximum recommended task size is 1000 KiB.\n",
      "22/11/15 02:32:28 WARN TaskSetManager: Stage 965 contains a task of very large size (4288 KiB). The maximum recommended task size is 1000 KiB.\n",
      "22/11/15 02:32:29 WARN TaskSetManager: Stage 967 contains a task of very large size (4288 KiB). The maximum recommended task size is 1000 KiB.\n",
      "22/11/15 02:32:30 WARN TaskSetManager: Stage 969 contains a task of very large size (4288 KiB). The maximum recommended task size is 1000 KiB.\n"
     ]
    },
    {
     "name": "stderr",
     "output_type": "stream",
     "text": [
      "                                                                                \r"
     ]
    },
    {
     "name": "stdout",
     "output_type": "stream",
     "text": [
      "22/11/15 02:32:31 WARN DAGScheduler: Broadcasting large task binary with size 1448.8 KiB\n",
      "22/11/15 02:32:31 WARN TaskSetManager: Stage 971 contains a task of very large size (4288 KiB). The maximum recommended task size is 1000 KiB.\n"
     ]
    },
    {
     "name": "stderr",
     "output_type": "stream",
     "text": [
      "                                                                                \r"
     ]
    },
    {
     "name": "stdout",
     "output_type": "stream",
     "text": [
      "22/11/15 02:32:33 WARN DAGScheduler: Broadcasting large task binary with size 2.2 MiB\n",
      "22/11/15 02:32:33 WARN TaskSetManager: Stage 973 contains a task of very large size (4288 KiB). The maximum recommended task size is 1000 KiB.\n"
     ]
    },
    {
     "name": "stderr",
     "output_type": "stream",
     "text": [
      "                                                                                \r"
     ]
    },
    {
     "name": "stdout",
     "output_type": "stream",
     "text": [
      "22/11/15 02:32:36 WARN TaskSetManager: Stage 975 contains a task of very large size (4288 KiB). The maximum recommended task size is 1000 KiB.\n",
      "22/11/15 02:32:36 WARN TaskSetManager: Stage 976 contains a task of very large size (4288 KiB). The maximum recommended task size is 1000 KiB.\n",
      "22/11/15 02:32:36 WARN TaskSetManager: Stage 977 contains a task of very large size (4288 KiB). The maximum recommended task size is 1000 KiB.\n",
      "22/11/15 02:32:36 WARN TaskSetManager: Stage 978 contains a task of very large size (4288 KiB). The maximum recommended task size is 1000 KiB.\n",
      "22/11/15 02:32:36 WARN TaskSetManager: Stage 980 contains a task of very large size (4288 KiB). The maximum recommended task size is 1000 KiB.\n",
      "22/11/15 02:32:37 WARN TaskSetManager: Stage 982 contains a task of very large size (4288 KiB). The maximum recommended task size is 1000 KiB.\n",
      "22/11/15 02:32:37 WARN TaskSetManager: Stage 984 contains a task of very large size (4288 KiB). The maximum recommended task size is 1000 KiB.\n",
      "22/11/15 02:32:37 WARN TaskSetManager: Stage 986 contains a task of very large size (4288 KiB). The maximum recommended task size is 1000 KiB.\n",
      "22/11/15 02:32:37 WARN TaskSetManager: Stage 988 contains a task of very large size (4288 KiB). The maximum recommended task size is 1000 KiB.\n",
      "22/11/15 02:32:38 WARN TaskSetManager: Stage 990 contains a task of very large size (4288 KiB). The maximum recommended task size is 1000 KiB.\n",
      "22/11/15 02:32:38 WARN TaskSetManager: Stage 992 contains a task of very large size (4288 KiB). The maximum recommended task size is 1000 KiB.\n",
      "22/11/15 02:32:38 WARN TaskSetManager: Stage 994 contains a task of very large size (4288 KiB). The maximum recommended task size is 1000 KiB.\n",
      "22/11/15 02:32:39 WARN TaskSetManager: Stage 996 contains a task of very large size (4288 KiB). The maximum recommended task size is 1000 KiB.\n",
      "22/11/15 02:32:40 WARN TaskSetManager: Stage 998 contains a task of very large size (4288 KiB). The maximum recommended task size is 1000 KiB.\n",
      "22/11/15 02:32:41 WARN TaskSetManager: Stage 1000 contains a task of very large size (4288 KiB). The maximum recommended task size is 1000 KiB.\n",
      "22/11/15 02:32:41 WARN TaskSetManager: Stage 1001 contains a task of very large size (4288 KiB). The maximum recommended task size is 1000 KiB.\n",
      "22/11/15 02:32:41 WARN TaskSetManager: Stage 1002 contains a task of very large size (4288 KiB). The maximum recommended task size is 1000 KiB.\n",
      "22/11/15 02:32:41 WARN TaskSetManager: Stage 1003 contains a task of very large size (4288 KiB). The maximum recommended task size is 1000 KiB.\n",
      "22/11/15 02:32:41 WARN TaskSetManager: Stage 1005 contains a task of very large size (4288 KiB). The maximum recommended task size is 1000 KiB.\n",
      "22/11/15 02:32:42 WARN TaskSetManager: Stage 1007 contains a task of very large size (4288 KiB). The maximum recommended task size is 1000 KiB.\n",
      "22/11/15 02:32:42 WARN TaskSetManager: Stage 1009 contains a task of very large size (4288 KiB). The maximum recommended task size is 1000 KiB.\n",
      "22/11/15 02:32:42 WARN TaskSetManager: Stage 1011 contains a task of very large size (4288 KiB). The maximum recommended task size is 1000 KiB.\n",
      "22/11/15 02:32:43 WARN TaskSetManager: Stage 1013 contains a task of very large size (4288 KiB). The maximum recommended task size is 1000 KiB.\n",
      "22/11/15 02:32:43 WARN TaskSetManager: Stage 1015 contains a task of very large size (4288 KiB). The maximum recommended task size is 1000 KiB.\n",
      "22/11/15 02:32:43 WARN TaskSetManager: Stage 1017 contains a task of very large size (4288 KiB). The maximum recommended task size is 1000 KiB.\n",
      "22/11/15 02:32:44 WARN TaskSetManager: Stage 1019 contains a task of very large size (4288 KiB). The maximum recommended task size is 1000 KiB.\n",
      "22/11/15 02:32:45 WARN TaskSetManager: Stage 1021 contains a task of very large size (4288 KiB). The maximum recommended task size is 1000 KiB.\n"
     ]
    },
    {
     "name": "stderr",
     "output_type": "stream",
     "text": [
      "                                                                                \r"
     ]
    },
    {
     "name": "stdout",
     "output_type": "stream",
     "text": [
      "22/11/15 02:32:46 WARN DAGScheduler: Broadcasting large task binary with size 1159.9 KiB\n",
      "22/11/15 02:32:46 WARN TaskSetManager: Stage 1023 contains a task of very large size (4288 KiB). The maximum recommended task size is 1000 KiB.\n"
     ]
    },
    {
     "name": "stderr",
     "output_type": "stream",
     "text": [
      "\r",
      "[Stage 1024:============================>                           (2 + 2) / 4]\r",
      "\r",
      "                                                                                \r"
     ]
    },
    {
     "name": "stdout",
     "output_type": "stream",
     "text": [
      "22/11/15 02:32:48 WARN TaskSetManager: Stage 1025 contains a task of very large size (4288 KiB). The maximum recommended task size is 1000 KiB.\n",
      "22/11/15 02:32:48 WARN TaskSetManager: Stage 1026 contains a task of very large size (4288 KiB). The maximum recommended task size is 1000 KiB.\n",
      "22/11/15 02:32:48 WARN TaskSetManager: Stage 1027 contains a task of very large size (4288 KiB). The maximum recommended task size is 1000 KiB.\n",
      "22/11/15 02:32:48 WARN TaskSetManager: Stage 1028 contains a task of very large size (4288 KiB). The maximum recommended task size is 1000 KiB.\n",
      "22/11/15 02:32:48 WARN TaskSetManager: Stage 1030 contains a task of very large size (4288 KiB). The maximum recommended task size is 1000 KiB.\n",
      "22/11/15 02:32:49 WARN TaskSetManager: Stage 1032 contains a task of very large size (4288 KiB). The maximum recommended task size is 1000 KiB.\n",
      "22/11/15 02:32:49 WARN TaskSetManager: Stage 1034 contains a task of very large size (4288 KiB). The maximum recommended task size is 1000 KiB.\n",
      "22/11/15 02:32:49 WARN TaskSetManager: Stage 1036 contains a task of very large size (4288 KiB). The maximum recommended task size is 1000 KiB.\n",
      "22/11/15 02:32:50 WARN TaskSetManager: Stage 1038 contains a task of very large size (4288 KiB). The maximum recommended task size is 1000 KiB.\n",
      "22/11/15 02:32:50 WARN TaskSetManager: Stage 1040 contains a task of very large size (4288 KiB). The maximum recommended task size is 1000 KiB.\n",
      "22/11/15 02:32:51 WARN TaskSetManager: Stage 1042 contains a task of very large size (4288 KiB). The maximum recommended task size is 1000 KiB.\n",
      "22/11/15 02:32:52 WARN TaskSetManager: Stage 1044 contains a task of very large size (4288 KiB). The maximum recommended task size is 1000 KiB.\n"
     ]
    },
    {
     "name": "stderr",
     "output_type": "stream",
     "text": [
      "                                                                                \r"
     ]
    },
    {
     "name": "stdout",
     "output_type": "stream",
     "text": [
      "22/11/15 02:32:54 WARN DAGScheduler: Broadcasting large task binary with size 1474.2 KiB\n",
      "22/11/15 02:32:54 WARN TaskSetManager: Stage 1046 contains a task of very large size (4288 KiB). The maximum recommended task size is 1000 KiB.\n"
     ]
    },
    {
     "name": "stderr",
     "output_type": "stream",
     "text": [
      "                                                                                \r"
     ]
    },
    {
     "name": "stdout",
     "output_type": "stream",
     "text": [
      "22/11/15 02:32:56 WARN DAGScheduler: Broadcasting large task binary with size 2.2 MiB\n",
      "22/11/15 02:32:56 WARN TaskSetManager: Stage 1048 contains a task of very large size (4288 KiB). The maximum recommended task size is 1000 KiB.\n"
     ]
    },
    {
     "name": "stderr",
     "output_type": "stream",
     "text": [
      "                                                                                \r"
     ]
    },
    {
     "name": "stdout",
     "output_type": "stream",
     "text": [
      "22/11/15 02:32:59 WARN TaskSetManager: Stage 1050 contains a task of very large size (4288 KiB). The maximum recommended task size is 1000 KiB.\n",
      "22/11/15 02:33:00 WARN TaskSetManager: Stage 1051 contains a task of very large size (4288 KiB). The maximum recommended task size is 1000 KiB.\n",
      "22/11/15 02:33:00 WARN TaskSetManager: Stage 1052 contains a task of very large size (4288 KiB). The maximum recommended task size is 1000 KiB.\n"
     ]
    },
    {
     "name": "stderr",
     "output_type": "stream",
     "text": [
      "\r",
      "[Stage 1052:============================>                           (2 + 2) / 4]\r",
      "\r",
      "                                                                                \r"
     ]
    },
    {
     "name": "stdout",
     "output_type": "stream",
     "text": [
      "22/11/15 02:33:01 WARN TaskSetManager: Stage 1053 contains a task of very large size (4288 KiB). The maximum recommended task size is 1000 KiB.\n",
      "22/11/15 02:33:01 WARN TaskSetManager: Stage 1055 contains a task of very large size (4288 KiB). The maximum recommended task size is 1000 KiB.\n",
      "22/11/15 02:33:01 WARN TaskSetManager: Stage 1057 contains a task of very large size (4288 KiB). The maximum recommended task size is 1000 KiB.\n",
      "22/11/15 02:33:02 WARN TaskSetManager: Stage 1059 contains a task of very large size (4288 KiB). The maximum recommended task size is 1000 KiB.\n",
      "22/11/15 02:33:02 WARN TaskSetManager: Stage 1061 contains a task of very large size (4288 KiB). The maximum recommended task size is 1000 KiB.\n",
      "22/11/15 02:33:02 WARN TaskSetManager: Stage 1063 contains a task of very large size (4288 KiB). The maximum recommended task size is 1000 KiB.\n",
      "22/11/15 02:33:02 WARN TaskSetManager: Stage 1065 contains a task of very large size (4288 KiB). The maximum recommended task size is 1000 KiB.\n",
      "22/11/15 02:33:03 WARN TaskSetManager: Stage 1066 contains a task of very large size (4288 KiB). The maximum recommended task size is 1000 KiB.\n",
      "22/11/15 02:33:03 WARN TaskSetManager: Stage 1067 contains a task of very large size (4288 KiB). The maximum recommended task size is 1000 KiB.\n",
      "22/11/15 02:33:03 WARN TaskSetManager: Stage 1068 contains a task of very large size (4288 KiB). The maximum recommended task size is 1000 KiB.\n",
      "22/11/15 02:33:04 WARN TaskSetManager: Stage 1070 contains a task of very large size (4288 KiB). The maximum recommended task size is 1000 KiB.\n",
      "22/11/15 02:33:04 WARN TaskSetManager: Stage 1072 contains a task of very large size (4288 KiB). The maximum recommended task size is 1000 KiB.\n",
      "22/11/15 02:33:04 WARN TaskSetManager: Stage 1074 contains a task of very large size (4288 KiB). The maximum recommended task size is 1000 KiB.\n",
      "22/11/15 02:33:05 WARN TaskSetManager: Stage 1076 contains a task of very large size (4288 KiB). The maximum recommended task size is 1000 KiB.\n",
      "22/11/15 02:33:05 WARN TaskSetManager: Stage 1078 contains a task of very large size (4288 KiB). The maximum recommended task size is 1000 KiB.\n",
      "22/11/15 02:33:05 WARN TaskSetManager: Stage 1080 contains a task of very large size (4288 KiB). The maximum recommended task size is 1000 KiB.\n",
      "22/11/15 02:33:05 WARN TaskSetManager: Stage 1081 contains a task of very large size (4288 KiB). The maximum recommended task size is 1000 KiB.\n",
      "22/11/15 02:33:06 WARN TaskSetManager: Stage 1082 contains a task of very large size (4288 KiB). The maximum recommended task size is 1000 KiB.\n",
      "22/11/15 02:33:06 WARN TaskSetManager: Stage 1083 contains a task of very large size (4288 KiB). The maximum recommended task size is 1000 KiB.\n",
      "22/11/15 02:33:06 WARN TaskSetManager: Stage 1085 contains a task of very large size (4288 KiB). The maximum recommended task size is 1000 KiB.\n",
      "22/11/15 02:33:07 WARN TaskSetManager: Stage 1087 contains a task of very large size (4288 KiB). The maximum recommended task size is 1000 KiB.\n",
      "22/11/15 02:33:07 WARN TaskSetManager: Stage 1089 contains a task of very large size (4288 KiB). The maximum recommended task size is 1000 KiB.\n",
      "22/11/15 02:33:07 WARN TaskSetManager: Stage 1091 contains a task of very large size (4288 KiB). The maximum recommended task size is 1000 KiB.\n",
      "22/11/15 02:33:08 WARN TaskSetManager: Stage 1093 contains a task of very large size (4288 KiB). The maximum recommended task size is 1000 KiB.\n",
      "22/11/15 02:33:08 WARN TaskSetManager: Stage 1095 contains a task of very large size (4288 KiB). The maximum recommended task size is 1000 KiB.\n",
      "22/11/15 02:33:09 WARN TaskSetManager: Stage 1096 contains a task of very large size (4288 KiB). The maximum recommended task size is 1000 KiB.\n",
      "22/11/15 02:33:09 WARN TaskSetManager: Stage 1097 contains a task of very large size (4288 KiB). The maximum recommended task size is 1000 KiB.\n",
      "22/11/15 02:33:09 WARN TaskSetManager: Stage 1098 contains a task of very large size (4288 KiB). The maximum recommended task size is 1000 KiB.\n",
      "22/11/15 02:33:09 WARN TaskSetManager: Stage 1100 contains a task of very large size (4288 KiB). The maximum recommended task size is 1000 KiB.\n",
      "22/11/15 02:33:10 WARN TaskSetManager: Stage 1102 contains a task of very large size (4288 KiB). The maximum recommended task size is 1000 KiB.\n",
      "22/11/15 02:33:10 WARN TaskSetManager: Stage 1104 contains a task of very large size (4288 KiB). The maximum recommended task size is 1000 KiB.\n",
      "22/11/15 02:33:10 WARN TaskSetManager: Stage 1106 contains a task of very large size (4288 KiB). The maximum recommended task size is 1000 KiB.\n",
      "22/11/15 02:33:10 WARN TaskSetManager: Stage 1108 contains a task of very large size (4288 KiB). The maximum recommended task size is 1000 KiB.\n",
      "22/11/15 02:33:11 WARN TaskSetManager: Stage 1110 contains a task of very large size (4288 KiB). The maximum recommended task size is 1000 KiB.\n",
      "22/11/15 02:33:11 WARN TaskSetManager: Stage 1111 contains a task of very large size (4288 KiB). The maximum recommended task size is 1000 KiB.\n",
      "22/11/15 02:33:11 WARN TaskSetManager: Stage 1112 contains a task of very large size (4288 KiB). The maximum recommended task size is 1000 KiB.\n",
      "22/11/15 02:33:11 WARN TaskSetManager: Stage 1113 contains a task of very large size (4288 KiB). The maximum recommended task size is 1000 KiB.\n",
      "22/11/15 02:33:11 WARN TaskSetManager: Stage 1115 contains a task of very large size (4288 KiB). The maximum recommended task size is 1000 KiB.\n",
      "22/11/15 02:33:12 WARN TaskSetManager: Stage 1117 contains a task of very large size (4288 KiB). The maximum recommended task size is 1000 KiB.\n",
      "22/11/15 02:33:12 WARN TaskSetManager: Stage 1119 contains a task of very large size (4288 KiB). The maximum recommended task size is 1000 KiB.\n",
      "22/11/15 02:33:13 WARN TaskSetManager: Stage 1121 contains a task of very large size (4288 KiB). The maximum recommended task size is 1000 KiB.\n",
      "22/11/15 02:33:13 WARN TaskSetManager: Stage 1123 contains a task of very large size (4288 KiB). The maximum recommended task size is 1000 KiB.\n",
      "22/11/15 02:33:14 WARN TaskSetManager: Stage 1125 contains a task of very large size (4288 KiB). The maximum recommended task size is 1000 KiB.\n",
      "22/11/15 02:33:14 WARN TaskSetManager: Stage 1126 contains a task of very large size (4288 KiB). The maximum recommended task size is 1000 KiB.\n",
      "22/11/15 02:33:14 WARN TaskSetManager: Stage 1127 contains a task of very large size (4288 KiB). The maximum recommended task size is 1000 KiB.\n",
      "22/11/15 02:33:14 WARN TaskSetManager: Stage 1128 contains a task of very large size (4288 KiB). The maximum recommended task size is 1000 KiB.\n",
      "22/11/15 02:33:14 WARN TaskSetManager: Stage 1130 contains a task of very large size (4288 KiB). The maximum recommended task size is 1000 KiB.\n",
      "22/11/15 02:33:15 WARN TaskSetManager: Stage 1132 contains a task of very large size (4288 KiB). The maximum recommended task size is 1000 KiB.\n",
      "22/11/15 02:33:15 WARN TaskSetManager: Stage 1134 contains a task of very large size (4288 KiB). The maximum recommended task size is 1000 KiB.\n",
      "22/11/15 02:33:15 WARN TaskSetManager: Stage 1136 contains a task of very large size (4288 KiB). The maximum recommended task size is 1000 KiB.\n",
      "22/11/15 02:33:16 WARN TaskSetManager: Stage 1138 contains a task of very large size (4288 KiB). The maximum recommended task size is 1000 KiB.\n",
      "22/11/15 02:33:17 WARN TaskSetManager: Stage 1140 contains a task of very large size (4288 KiB). The maximum recommended task size is 1000 KiB.\n",
      "22/11/15 02:33:17 WARN TaskSetManager: Stage 1141 contains a task of very large size (4288 KiB). The maximum recommended task size is 1000 KiB.\n",
      "22/11/15 02:33:17 WARN TaskSetManager: Stage 1142 contains a task of very large size (4288 KiB). The maximum recommended task size is 1000 KiB.\n",
      "22/11/15 02:33:17 WARN TaskSetManager: Stage 1143 contains a task of very large size (4288 KiB). The maximum recommended task size is 1000 KiB.\n",
      "22/11/15 02:33:18 WARN TaskSetManager: Stage 1145 contains a task of very large size (4288 KiB). The maximum recommended task size is 1000 KiB.\n",
      "22/11/15 02:33:18 WARN TaskSetManager: Stage 1147 contains a task of very large size (4288 KiB). The maximum recommended task size is 1000 KiB.\n",
      "22/11/15 02:33:18 WARN TaskSetManager: Stage 1149 contains a task of very large size (4288 KiB). The maximum recommended task size is 1000 KiB.\n"
     ]
    },
    {
     "name": "stdout",
     "output_type": "stream",
     "text": [
      "22/11/15 02:33:18 WARN TaskSetManager: Stage 1151 contains a task of very large size (4288 KiB). The maximum recommended task size is 1000 KiB.\n",
      "22/11/15 02:33:19 WARN TaskSetManager: Stage 1153 contains a task of very large size (4288 KiB). The maximum recommended task size is 1000 KiB.\n",
      "22/11/15 02:33:19 WARN TaskSetManager: Stage 1155 contains a task of very large size (4288 KiB). The maximum recommended task size is 1000 KiB.\n",
      "22/11/15 02:33:19 WARN TaskSetManager: Stage 1156 contains a task of very large size (4288 KiB). The maximum recommended task size is 1000 KiB.\n",
      "22/11/15 02:33:19 WARN TaskSetManager: Stage 1157 contains a task of very large size (4288 KiB). The maximum recommended task size is 1000 KiB.\n",
      "22/11/15 02:33:19 WARN TaskSetManager: Stage 1158 contains a task of very large size (4288 KiB). The maximum recommended task size is 1000 KiB.\n",
      "22/11/15 02:33:20 WARN TaskSetManager: Stage 1160 contains a task of very large size (4288 KiB). The maximum recommended task size is 1000 KiB.\n",
      "22/11/15 02:33:20 WARN TaskSetManager: Stage 1162 contains a task of very large size (4288 KiB). The maximum recommended task size is 1000 KiB.\n",
      "22/11/15 02:33:20 WARN TaskSetManager: Stage 1164 contains a task of very large size (4288 KiB). The maximum recommended task size is 1000 KiB.\n",
      "22/11/15 02:33:20 WARN TaskSetManager: Stage 1166 contains a task of very large size (4288 KiB). The maximum recommended task size is 1000 KiB.\n",
      "22/11/15 02:33:21 WARN TaskSetManager: Stage 1168 contains a task of very large size (4288 KiB). The maximum recommended task size is 1000 KiB.\n",
      "22/11/15 02:33:21 WARN TaskSetManager: Stage 1170 contains a task of very large size (4288 KiB). The maximum recommended task size is 1000 KiB.\n",
      "22/11/15 02:33:22 WARN TaskSetManager: Stage 1171 contains a task of very large size (4288 KiB). The maximum recommended task size is 1000 KiB.\n",
      "22/11/15 02:33:22 WARN TaskSetManager: Stage 1172 contains a task of very large size (4288 KiB). The maximum recommended task size is 1000 KiB.\n",
      "22/11/15 02:33:22 WARN TaskSetManager: Stage 1173 contains a task of very large size (4288 KiB). The maximum recommended task size is 1000 KiB.\n",
      "22/11/15 02:33:22 WARN TaskSetManager: Stage 1175 contains a task of very large size (4288 KiB). The maximum recommended task size is 1000 KiB.\n",
      "22/11/15 02:33:23 WARN TaskSetManager: Stage 1177 contains a task of very large size (4288 KiB). The maximum recommended task size is 1000 KiB.\n",
      "22/11/15 02:33:23 WARN TaskSetManager: Stage 1179 contains a task of very large size (4288 KiB). The maximum recommended task size is 1000 KiB.\n",
      "22/11/15 02:33:24 WARN TaskSetManager: Stage 1181 contains a task of very large size (4288 KiB). The maximum recommended task size is 1000 KiB.\n",
      "22/11/15 02:33:24 WARN TaskSetManager: Stage 1183 contains a task of very large size (4288 KiB). The maximum recommended task size is 1000 KiB.\n",
      "22/11/15 02:33:25 WARN TaskSetManager: Stage 1185 contains a task of very large size (4288 KiB). The maximum recommended task size is 1000 KiB.\n",
      "22/11/15 02:33:25 WARN TaskSetManager: Stage 1186 contains a task of very large size (4288 KiB). The maximum recommended task size is 1000 KiB.\n",
      "22/11/15 02:33:25 WARN TaskSetManager: Stage 1187 contains a task of very large size (4288 KiB). The maximum recommended task size is 1000 KiB.\n",
      "22/11/15 02:33:25 WARN TaskSetManager: Stage 1188 contains a task of very large size (4288 KiB). The maximum recommended task size is 1000 KiB.\n",
      "22/11/15 02:33:26 WARN TaskSetManager: Stage 1190 contains a task of very large size (4288 KiB). The maximum recommended task size is 1000 KiB.\n",
      "22/11/15 02:33:26 WARN TaskSetManager: Stage 1192 contains a task of very large size (4288 KiB). The maximum recommended task size is 1000 KiB.\n",
      "22/11/15 02:33:26 WARN TaskSetManager: Stage 1194 contains a task of very large size (4288 KiB). The maximum recommended task size is 1000 KiB.\n",
      "22/11/15 02:33:26 WARN TaskSetManager: Stage 1196 contains a task of very large size (4288 KiB). The maximum recommended task size is 1000 KiB.\n",
      "22/11/15 02:33:27 WARN TaskSetManager: Stage 1198 contains a task of very large size (4288 KiB). The maximum recommended task size is 1000 KiB.\n",
      "22/11/15 02:33:27 WARN TaskSetManager: Stage 1200 contains a task of very large size (4288 KiB). The maximum recommended task size is 1000 KiB.\n",
      "22/11/15 02:33:27 WARN TaskSetManager: Stage 1202 contains a task of very large size (4288 KiB). The maximum recommended task size is 1000 KiB.\n",
      "22/11/15 02:33:27 WARN TaskSetManager: Stage 1204 contains a task of very large size (4288 KiB). The maximum recommended task size is 1000 KiB.\n",
      "22/11/15 02:33:28 WARN TaskSetManager: Stage 1206 contains a task of very large size (4288 KiB). The maximum recommended task size is 1000 KiB.\n",
      "22/11/15 02:33:28 WARN TaskSetManager: Stage 1207 contains a task of very large size (4288 KiB). The maximum recommended task size is 1000 KiB.\n",
      "22/11/15 02:33:28 WARN TaskSetManager: Stage 1208 contains a task of very large size (4288 KiB). The maximum recommended task size is 1000 KiB.\n",
      "22/11/15 02:33:28 WARN TaskSetManager: Stage 1209 contains a task of very large size (4288 KiB). The maximum recommended task size is 1000 KiB.\n",
      "22/11/15 02:33:29 WARN TaskSetManager: Stage 1211 contains a task of very large size (4288 KiB). The maximum recommended task size is 1000 KiB.\n",
      "22/11/15 02:33:29 WARN TaskSetManager: Stage 1213 contains a task of very large size (4288 KiB). The maximum recommended task size is 1000 KiB.\n",
      "22/11/15 02:33:29 WARN TaskSetManager: Stage 1215 contains a task of very large size (4288 KiB). The maximum recommended task size is 1000 KiB.\n",
      "22/11/15 02:33:29 WARN TaskSetManager: Stage 1217 contains a task of very large size (4288 KiB). The maximum recommended task size is 1000 KiB.\n",
      "22/11/15 02:33:30 WARN TaskSetManager: Stage 1219 contains a task of very large size (4288 KiB). The maximum recommended task size is 1000 KiB.\n",
      "22/11/15 02:33:30 WARN TaskSetManager: Stage 1221 contains a task of very large size (4288 KiB). The maximum recommended task size is 1000 KiB.\n",
      "22/11/15 02:33:30 WARN TaskSetManager: Stage 1223 contains a task of very large size (4288 KiB). The maximum recommended task size is 1000 KiB.\n",
      "22/11/15 02:33:31 WARN TaskSetManager: Stage 1225 contains a task of very large size (4288 KiB). The maximum recommended task size is 1000 KiB.\n",
      "22/11/15 02:33:31 WARN TaskSetManager: Stage 1227 contains a task of very large size (4288 KiB). The maximum recommended task size is 1000 KiB.\n",
      "22/11/15 02:33:32 WARN TaskSetManager: Stage 1228 contains a task of very large size (4288 KiB). The maximum recommended task size is 1000 KiB.\n",
      "22/11/15 02:33:32 WARN TaskSetManager: Stage 1229 contains a task of very large size (4288 KiB). The maximum recommended task size is 1000 KiB.\n",
      "22/11/15 02:33:32 WARN TaskSetManager: Stage 1230 contains a task of very large size (4288 KiB). The maximum recommended task size is 1000 KiB.\n",
      "22/11/15 02:33:32 WARN TaskSetManager: Stage 1232 contains a task of very large size (4288 KiB). The maximum recommended task size is 1000 KiB.\n",
      "22/11/15 02:33:33 WARN TaskSetManager: Stage 1234 contains a task of very large size (4288 KiB). The maximum recommended task size is 1000 KiB.\n",
      "22/11/15 02:33:33 WARN TaskSetManager: Stage 1236 contains a task of very large size (4288 KiB). The maximum recommended task size is 1000 KiB.\n",
      "22/11/15 02:33:33 WARN TaskSetManager: Stage 1238 contains a task of very large size (4288 KiB). The maximum recommended task size is 1000 KiB.\n",
      "22/11/15 02:33:33 WARN TaskSetManager: Stage 1240 contains a task of very large size (4288 KiB). The maximum recommended task size is 1000 KiB.\n",
      "22/11/15 02:33:34 WARN TaskSetManager: Stage 1242 contains a task of very large size (4288 KiB). The maximum recommended task size is 1000 KiB.\n",
      "22/11/15 02:33:34 WARN TaskSetManager: Stage 1244 contains a task of very large size (4288 KiB). The maximum recommended task size is 1000 KiB.\n"
     ]
    },
    {
     "name": "stderr",
     "output_type": "stream",
     "text": [
      "                                                                                \r"
     ]
    },
    {
     "name": "stdout",
     "output_type": "stream",
     "text": [
      "22/11/15 02:33:36 WARN TaskSetManager: Stage 1246 contains a task of very large size (4288 KiB). The maximum recommended task size is 1000 KiB.\n"
     ]
    },
    {
     "name": "stderr",
     "output_type": "stream",
     "text": [
      "                                                                                \r"
     ]
    },
    {
     "name": "stdout",
     "output_type": "stream",
     "text": [
      "22/11/15 02:33:37 WARN TaskSetManager: Stage 1248 contains a task of very large size (4288 KiB). The maximum recommended task size is 1000 KiB.\n",
      "22/11/15 02:33:37 WARN TaskSetManager: Stage 1249 contains a task of very large size (4288 KiB). The maximum recommended task size is 1000 KiB.\n",
      "22/11/15 02:33:37 WARN TaskSetManager: Stage 1250 contains a task of very large size (4288 KiB). The maximum recommended task size is 1000 KiB.\n",
      "22/11/15 02:33:37 WARN TaskSetManager: Stage 1251 contains a task of very large size (4288 KiB). The maximum recommended task size is 1000 KiB.\n",
      "22/11/15 02:33:38 WARN TaskSetManager: Stage 1253 contains a task of very large size (4288 KiB). The maximum recommended task size is 1000 KiB.\n",
      "22/11/15 02:33:38 WARN TaskSetManager: Stage 1255 contains a task of very large size (4288 KiB). The maximum recommended task size is 1000 KiB.\n",
      "22/11/15 02:33:38 WARN TaskSetManager: Stage 1257 contains a task of very large size (4288 KiB). The maximum recommended task size is 1000 KiB.\n",
      "22/11/15 02:33:38 WARN TaskSetManager: Stage 1259 contains a task of very large size (4288 KiB). The maximum recommended task size is 1000 KiB.\n",
      "22/11/15 02:33:39 WARN TaskSetManager: Stage 1261 contains a task of very large size (4288 KiB). The maximum recommended task size is 1000 KiB.\n",
      "22/11/15 02:33:39 WARN TaskSetManager: Stage 1263 contains a task of very large size (4288 KiB). The maximum recommended task size is 1000 KiB.\n",
      "22/11/15 02:33:39 WARN TaskSetManager: Stage 1265 contains a task of very large size (4288 KiB). The maximum recommended task size is 1000 KiB.\n",
      "22/11/15 02:33:40 WARN TaskSetManager: Stage 1267 contains a task of very large size (4288 KiB). The maximum recommended task size is 1000 KiB.\n",
      "22/11/15 02:33:40 WARN TaskSetManager: Stage 1269 contains a task of very large size (4288 KiB). The maximum recommended task size is 1000 KiB.\n",
      "22/11/15 02:33:40 WARN TaskSetManager: Stage 1270 contains a task of very large size (4288 KiB). The maximum recommended task size is 1000 KiB.\n",
      "22/11/15 02:33:41 WARN TaskSetManager: Stage 1271 contains a task of very large size (4288 KiB). The maximum recommended task size is 1000 KiB.\n",
      "22/11/15 02:33:41 WARN TaskSetManager: Stage 1272 contains a task of very large size (4288 KiB). The maximum recommended task size is 1000 KiB.\n",
      "22/11/15 02:33:41 WARN TaskSetManager: Stage 1274 contains a task of very large size (4288 KiB). The maximum recommended task size is 1000 KiB.\n",
      "22/11/15 02:33:41 WARN TaskSetManager: Stage 1276 contains a task of very large size (4288 KiB). The maximum recommended task size is 1000 KiB.\n",
      "22/11/15 02:33:42 WARN TaskSetManager: Stage 1278 contains a task of very large size (4288 KiB). The maximum recommended task size is 1000 KiB.\n",
      "22/11/15 02:33:42 WARN TaskSetManager: Stage 1280 contains a task of very large size (4288 KiB). The maximum recommended task size is 1000 KiB.\n",
      "22/11/15 02:33:42 WARN TaskSetManager: Stage 1282 contains a task of very large size (4288 KiB). The maximum recommended task size is 1000 KiB.\n",
      "22/11/15 02:33:42 WARN TaskSetManager: Stage 1284 contains a task of very large size (4288 KiB). The maximum recommended task size is 1000 KiB.\n",
      "22/11/15 02:33:43 WARN TaskSetManager: Stage 1286 contains a task of very large size (4288 KiB). The maximum recommended task size is 1000 KiB.\n",
      "22/11/15 02:33:43 WARN TaskSetManager: Stage 1288 contains a task of very large size (4288 KiB). The maximum recommended task size is 1000 KiB.\n",
      "22/11/15 02:33:44 WARN TaskSetManager: Stage 1290 contains a task of very large size (4288 KiB). The maximum recommended task size is 1000 KiB.\n",
      "22/11/15 02:33:44 WARN TaskSetManager: Stage 1291 contains a task of very large size (4288 KiB). The maximum recommended task size is 1000 KiB.\n",
      "22/11/15 02:33:44 WARN TaskSetManager: Stage 1292 contains a task of very large size (4288 KiB). The maximum recommended task size is 1000 KiB.\n",
      "22/11/15 02:33:45 WARN TaskSetManager: Stage 1293 contains a task of very large size (4288 KiB). The maximum recommended task size is 1000 KiB.\n",
      "22/11/15 02:33:45 WARN TaskSetManager: Stage 1295 contains a task of very large size (4288 KiB). The maximum recommended task size is 1000 KiB.\n",
      "22/11/15 02:33:45 WARN TaskSetManager: Stage 1297 contains a task of very large size (4288 KiB). The maximum recommended task size is 1000 KiB.\n",
      "22/11/15 02:33:46 WARN TaskSetManager: Stage 1299 contains a task of very large size (4288 KiB). The maximum recommended task size is 1000 KiB.\n",
      "22/11/15 02:33:46 WARN TaskSetManager: Stage 1301 contains a task of very large size (4288 KiB). The maximum recommended task size is 1000 KiB.\n",
      "22/11/15 02:33:46 WARN TaskSetManager: Stage 1303 contains a task of very large size (4288 KiB). The maximum recommended task size is 1000 KiB.\n",
      "22/11/15 02:33:47 WARN TaskSetManager: Stage 1305 contains a task of very large size (4288 KiB). The maximum recommended task size is 1000 KiB.\n",
      "22/11/15 02:33:48 WARN TaskSetManager: Stage 1307 contains a task of very large size (4288 KiB). The maximum recommended task size is 1000 KiB.\n"
     ]
    },
    {
     "name": "stderr",
     "output_type": "stream",
     "text": [
      "                                                                                \r"
     ]
    },
    {
     "name": "stdout",
     "output_type": "stream",
     "text": [
      "22/11/15 02:33:49 WARN TaskSetManager: Stage 1309 contains a task of very large size (4288 KiB). The maximum recommended task size is 1000 KiB.\n"
     ]
    },
    {
     "name": "stderr",
     "output_type": "stream",
     "text": [
      "                                                                                \r"
     ]
    },
    {
     "name": "stdout",
     "output_type": "stream",
     "text": [
      "22/11/15 02:33:50 WARN TaskSetManager: Stage 1311 contains a task of very large size (4288 KiB). The maximum recommended task size is 1000 KiB.\n",
      "22/11/15 02:33:51 WARN TaskSetManager: Stage 1312 contains a task of very large size (4288 KiB). The maximum recommended task size is 1000 KiB.\n",
      "22/11/15 02:33:51 WARN TaskSetManager: Stage 1313 contains a task of very large size (4288 KiB). The maximum recommended task size is 1000 KiB.\n",
      "22/11/15 02:33:51 WARN TaskSetManager: Stage 1314 contains a task of very large size (4288 KiB). The maximum recommended task size is 1000 KiB.\n",
      "22/11/15 02:33:51 WARN TaskSetManager: Stage 1316 contains a task of very large size (4288 KiB). The maximum recommended task size is 1000 KiB.\n",
      "22/11/15 02:33:52 WARN TaskSetManager: Stage 1318 contains a task of very large size (4288 KiB). The maximum recommended task size is 1000 KiB.\n",
      "22/11/15 02:33:52 WARN TaskSetManager: Stage 1320 contains a task of very large size (4288 KiB). The maximum recommended task size is 1000 KiB.\n",
      "22/11/15 02:33:52 WARN TaskSetManager: Stage 1322 contains a task of very large size (4288 KiB). The maximum recommended task size is 1000 KiB.\n",
      "22/11/15 02:33:52 WARN TaskSetManager: Stage 1324 contains a task of very large size (4288 KiB). The maximum recommended task size is 1000 KiB.\n",
      "22/11/15 02:33:52 WARN TaskSetManager: Stage 1326 contains a task of very large size (4288 KiB). The maximum recommended task size is 1000 KiB.\n",
      "22/11/15 02:33:53 WARN TaskSetManager: Stage 1328 contains a task of very large size (4288 KiB). The maximum recommended task size is 1000 KiB.\n",
      "22/11/15 02:33:53 WARN TaskSetManager: Stage 1330 contains a task of very large size (4288 KiB). The maximum recommended task size is 1000 KiB.\n",
      "22/11/15 02:33:54 WARN TaskSetManager: Stage 1332 contains a task of very large size (4288 KiB). The maximum recommended task size is 1000 KiB.\n",
      "22/11/15 02:33:54 WARN TaskSetManager: Stage 1333 contains a task of very large size (4288 KiB). The maximum recommended task size is 1000 KiB.\n",
      "22/11/15 02:33:54 WARN TaskSetManager: Stage 1334 contains a task of very large size (4288 KiB). The maximum recommended task size is 1000 KiB.\n",
      "22/11/15 02:33:54 WARN TaskSetManager: Stage 1335 contains a task of very large size (4288 KiB). The maximum recommended task size is 1000 KiB.\n",
      "22/11/15 02:33:54 WARN TaskSetManager: Stage 1337 contains a task of very large size (4288 KiB). The maximum recommended task size is 1000 KiB.\n",
      "22/11/15 02:33:55 WARN TaskSetManager: Stage 1339 contains a task of very large size (4288 KiB). The maximum recommended task size is 1000 KiB.\n",
      "22/11/15 02:33:55 WARN TaskSetManager: Stage 1341 contains a task of very large size (4288 KiB). The maximum recommended task size is 1000 KiB.\n",
      "22/11/15 02:33:55 WARN TaskSetManager: Stage 1343 contains a task of very large size (4288 KiB). The maximum recommended task size is 1000 KiB.\n",
      "22/11/15 02:33:55 WARN TaskSetManager: Stage 1345 contains a task of very large size (4288 KiB). The maximum recommended task size is 1000 KiB.\n",
      "22/11/15 02:33:56 WARN TaskSetManager: Stage 1347 contains a task of very large size (4288 KiB). The maximum recommended task size is 1000 KiB.\n",
      "22/11/15 02:33:56 WARN TaskSetManager: Stage 1349 contains a task of very large size (4288 KiB). The maximum recommended task size is 1000 KiB.\n",
      "22/11/15 02:33:57 WARN TaskSetManager: Stage 1351 contains a task of very large size (4288 KiB). The maximum recommended task size is 1000 KiB.\n",
      "22/11/15 02:33:58 WARN TaskSetManager: Stage 1353 contains a task of very large size (4288 KiB). The maximum recommended task size is 1000 KiB.\n",
      "22/11/15 02:33:58 WARN TaskSetManager: Stage 1354 contains a task of very large size (4288 KiB). The maximum recommended task size is 1000 KiB.\n",
      "22/11/15 02:33:58 WARN TaskSetManager: Stage 1355 contains a task of very large size (4288 KiB). The maximum recommended task size is 1000 KiB.\n",
      "22/11/15 02:33:58 WARN TaskSetManager: Stage 1356 contains a task of very large size (4288 KiB). The maximum recommended task size is 1000 KiB.\n",
      "22/11/15 02:33:58 WARN TaskSetManager: Stage 1358 contains a task of very large size (4288 KiB). The maximum recommended task size is 1000 KiB.\n",
      "22/11/15 02:33:59 WARN TaskSetManager: Stage 1360 contains a task of very large size (4288 KiB). The maximum recommended task size is 1000 KiB.\n",
      "22/11/15 02:33:59 WARN TaskSetManager: Stage 1362 contains a task of very large size (4288 KiB). The maximum recommended task size is 1000 KiB.\n",
      "22/11/15 02:33:59 WARN TaskSetManager: Stage 1364 contains a task of very large size (4288 KiB). The maximum recommended task size is 1000 KiB.\n",
      "22/11/15 02:34:00 WARN TaskSetManager: Stage 1366 contains a task of very large size (4288 KiB). The maximum recommended task size is 1000 KiB.\n",
      "22/11/15 02:34:00 WARN TaskSetManager: Stage 1368 contains a task of very large size (4288 KiB). The maximum recommended task size is 1000 KiB.\n"
     ]
    },
    {
     "name": "stderr",
     "output_type": "stream",
     "text": [
      "                                                                                \r"
     ]
    },
    {
     "name": "stdout",
     "output_type": "stream",
     "text": [
      "22/11/15 02:34:01 WARN TaskSetManager: Stage 1370 contains a task of very large size (4288 KiB). The maximum recommended task size is 1000 KiB.\n",
      "22/11/15 02:34:02 WARN TaskSetManager: Stage 1372 contains a task of very large size (4288 KiB). The maximum recommended task size is 1000 KiB.\n"
     ]
    },
    {
     "name": "stderr",
     "output_type": "stream",
     "text": [
      "                                                                                \r"
     ]
    },
    {
     "name": "stdout",
     "output_type": "stream",
     "text": [
      "22/11/15 02:34:04 WARN TaskSetManager: Stage 1374 contains a task of very large size (4288 KiB). The maximum recommended task size is 1000 KiB.\n",
      "22/11/15 02:34:04 WARN TaskSetManager: Stage 1375 contains a task of very large size (4288 KiB). The maximum recommended task size is 1000 KiB.\n",
      "22/11/15 02:34:04 WARN TaskSetManager: Stage 1376 contains a task of very large size (4288 KiB). The maximum recommended task size is 1000 KiB.\n",
      "22/11/15 02:34:04 WARN TaskSetManager: Stage 1377 contains a task of very large size (4288 KiB). The maximum recommended task size is 1000 KiB.\n",
      "22/11/15 02:34:04 WARN TaskSetManager: Stage 1379 contains a task of very large size (4288 KiB). The maximum recommended task size is 1000 KiB.\n",
      "22/11/15 02:34:05 WARN TaskSetManager: Stage 1381 contains a task of very large size (4288 KiB). The maximum recommended task size is 1000 KiB.\n",
      "22/11/15 02:34:05 WARN TaskSetManager: Stage 1383 contains a task of very large size (4288 KiB). The maximum recommended task size is 1000 KiB.\n",
      "22/11/15 02:34:05 WARN TaskSetManager: Stage 1385 contains a task of very large size (4288 KiB). The maximum recommended task size is 1000 KiB.\n",
      "22/11/15 02:34:05 WARN TaskSetManager: Stage 1387 contains a task of very large size (4288 KiB). The maximum recommended task size is 1000 KiB.\n",
      "22/11/15 02:34:06 WARN TaskSetManager: Stage 1389 contains a task of very large size (4288 KiB). The maximum recommended task size is 1000 KiB.\n",
      "22/11/15 02:34:06 WARN TaskSetManager: Stage 1391 contains a task of very large size (4288 KiB). The maximum recommended task size is 1000 KiB.\n",
      "22/11/15 02:34:06 WARN TaskSetManager: Stage 1393 contains a task of very large size (4288 KiB). The maximum recommended task size is 1000 KiB.\n",
      "22/11/15 02:34:07 WARN TaskSetManager: Stage 1395 contains a task of very large size (4288 KiB). The maximum recommended task size is 1000 KiB.\n",
      "22/11/15 02:34:07 WARN TaskSetManager: Stage 1397 contains a task of very large size (4288 KiB). The maximum recommended task size is 1000 KiB.\n",
      "22/11/15 02:34:08 WARN TaskSetManager: Stage 1399 contains a task of very large size (4288 KiB). The maximum recommended task size is 1000 KiB.\n",
      "22/11/15 02:34:08 WARN TaskSetManager: Stage 1400 contains a task of very large size (4288 KiB). The maximum recommended task size is 1000 KiB.\n",
      "22/11/15 02:34:08 WARN TaskSetManager: Stage 1401 contains a task of very large size (4288 KiB). The maximum recommended task size is 1000 KiB.\n",
      "22/11/15 02:34:08 WARN TaskSetManager: Stage 1402 contains a task of very large size (4288 KiB). The maximum recommended task size is 1000 KiB.\n",
      "22/11/15 02:34:09 WARN TaskSetManager: Stage 1404 contains a task of very large size (4288 KiB). The maximum recommended task size is 1000 KiB.\n",
      "22/11/15 02:34:09 WARN TaskSetManager: Stage 1406 contains a task of very large size (4288 KiB). The maximum recommended task size is 1000 KiB.\n",
      "22/11/15 02:34:09 WARN TaskSetManager: Stage 1408 contains a task of very large size (4288 KiB). The maximum recommended task size is 1000 KiB.\n",
      "22/11/15 02:34:10 WARN TaskSetManager: Stage 1410 contains a task of very large size (4288 KiB). The maximum recommended task size is 1000 KiB.\n",
      "22/11/15 02:34:10 WARN TaskSetManager: Stage 1412 contains a task of very large size (4288 KiB). The maximum recommended task size is 1000 KiB.\n",
      "22/11/15 02:34:10 WARN TaskSetManager: Stage 1414 contains a task of very large size (4288 KiB). The maximum recommended task size is 1000 KiB.\n",
      "22/11/15 02:34:11 WARN TaskSetManager: Stage 1416 contains a task of very large size (4288 KiB). The maximum recommended task size is 1000 KiB.\n",
      "22/11/15 02:34:11 WARN TaskSetManager: Stage 1418 contains a task of very large size (4288 KiB). The maximum recommended task size is 1000 KiB.\n",
      "22/11/15 02:34:12 WARN TaskSetManager: Stage 1420 contains a task of very large size (4288 KiB). The maximum recommended task size is 1000 KiB.\n",
      "22/11/15 02:34:13 WARN DAGScheduler: Broadcasting large task binary with size 1185.5 KiB\n",
      "22/11/15 02:34:13 WARN TaskSetManager: Stage 1422 contains a task of very large size (4288 KiB). The maximum recommended task size is 1000 KiB.\n",
      "22/11/15 02:34:14 WARN TaskSetManager: Stage 1424 contains a task of very large size (4288 KiB). The maximum recommended task size is 1000 KiB.\n",
      "22/11/15 02:34:14 WARN TaskSetManager: Stage 1425 contains a task of very large size (4288 KiB). The maximum recommended task size is 1000 KiB.\n",
      "22/11/15 02:34:14 WARN TaskSetManager: Stage 1426 contains a task of very large size (4288 KiB). The maximum recommended task size is 1000 KiB.\n",
      "22/11/15 02:34:14 WARN TaskSetManager: Stage 1427 contains a task of very large size (4288 KiB). The maximum recommended task size is 1000 KiB.\n",
      "22/11/15 02:34:15 WARN TaskSetManager: Stage 1429 contains a task of very large size (4288 KiB). The maximum recommended task size is 1000 KiB.\n",
      "22/11/15 02:34:15 WARN TaskSetManager: Stage 1431 contains a task of very large size (4288 KiB). The maximum recommended task size is 1000 KiB.\n",
      "22/11/15 02:34:15 WARN TaskSetManager: Stage 1433 contains a task of very large size (4288 KiB). The maximum recommended task size is 1000 KiB.\n",
      "22/11/15 02:34:16 WARN TaskSetManager: Stage 1435 contains a task of very large size (4288 KiB). The maximum recommended task size is 1000 KiB.\n",
      "22/11/15 02:34:16 WARN TaskSetManager: Stage 1437 contains a task of very large size (4288 KiB). The maximum recommended task size is 1000 KiB.\n",
      "22/11/15 02:34:16 WARN TaskSetManager: Stage 1439 contains a task of very large size (4288 KiB). The maximum recommended task size is 1000 KiB.\n",
      "22/11/15 02:34:17 WARN TaskSetManager: Stage 1441 contains a task of very large size (4288 KiB). The maximum recommended task size is 1000 KiB.\n"
     ]
    },
    {
     "name": "stderr",
     "output_type": "stream",
     "text": [
      "                                                                                \r"
     ]
    },
    {
     "name": "stdout",
     "output_type": "stream",
     "text": [
      "22/11/15 02:34:18 WARN TaskSetManager: Stage 1443 contains a task of very large size (4288 KiB). The maximum recommended task size is 1000 KiB.\n"
     ]
    },
    {
     "name": "stderr",
     "output_type": "stream",
     "text": [
      "                                                                                \r"
     ]
    },
    {
     "name": "stdout",
     "output_type": "stream",
     "text": [
      "22/11/15 02:34:19 WARN DAGScheduler: Broadcasting large task binary with size 1448.2 KiB\n",
      "22/11/15 02:34:19 WARN TaskSetManager: Stage 1445 contains a task of very large size (4288 KiB). The maximum recommended task size is 1000 KiB.\n"
     ]
    },
    {
     "name": "stderr",
     "output_type": "stream",
     "text": [
      "                                                                                \r"
     ]
    },
    {
     "name": "stdout",
     "output_type": "stream",
     "text": [
      "22/11/15 02:34:21 WARN DAGScheduler: Broadcasting large task binary with size 2.2 MiB\n",
      "22/11/15 02:34:21 WARN TaskSetManager: Stage 1447 contains a task of very large size (4288 KiB). The maximum recommended task size is 1000 KiB.\n"
     ]
    },
    {
     "name": "stderr",
     "output_type": "stream",
     "text": [
      "                                                                                \r"
     ]
    },
    {
     "name": "stdout",
     "output_type": "stream",
     "text": [
      "22/11/15 02:34:23 WARN TaskSetManager: Stage 1449 contains a task of very large size (4288 KiB). The maximum recommended task size is 1000 KiB.\n",
      "22/11/15 02:34:23 WARN TaskSetManager: Stage 1450 contains a task of very large size (4288 KiB). The maximum recommended task size is 1000 KiB.\n",
      "22/11/15 02:34:23 WARN TaskSetManager: Stage 1451 contains a task of very large size (4288 KiB). The maximum recommended task size is 1000 KiB.\n",
      "22/11/15 02:34:23 WARN TaskSetManager: Stage 1452 contains a task of very large size (4288 KiB). The maximum recommended task size is 1000 KiB.\n",
      "22/11/15 02:34:23 WARN TaskSetManager: Stage 1454 contains a task of very large size (4288 KiB). The maximum recommended task size is 1000 KiB.\n",
      "22/11/15 02:34:24 WARN TaskSetManager: Stage 1456 contains a task of very large size (4288 KiB). The maximum recommended task size is 1000 KiB.\n",
      "22/11/15 02:34:24 WARN TaskSetManager: Stage 1458 contains a task of very large size (4288 KiB). The maximum recommended task size is 1000 KiB.\n",
      "22/11/15 02:34:24 WARN TaskSetManager: Stage 1460 contains a task of very large size (4288 KiB). The maximum recommended task size is 1000 KiB.\n",
      "22/11/15 02:34:24 WARN TaskSetManager: Stage 1462 contains a task of very large size (4288 KiB). The maximum recommended task size is 1000 KiB.\n",
      "22/11/15 02:34:25 WARN TaskSetManager: Stage 1464 contains a task of very large size (4288 KiB). The maximum recommended task size is 1000 KiB.\n",
      "22/11/15 02:34:25 WARN TaskSetManager: Stage 1466 contains a task of very large size (4288 KiB). The maximum recommended task size is 1000 KiB.\n",
      "22/11/15 02:34:25 WARN TaskSetManager: Stage 1468 contains a task of very large size (4288 KiB). The maximum recommended task size is 1000 KiB.\n",
      "22/11/15 02:34:26 WARN TaskSetManager: Stage 1470 contains a task of very large size (4288 KiB). The maximum recommended task size is 1000 KiB.\n",
      "22/11/15 02:34:27 WARN TaskSetManager: Stage 1472 contains a task of very large size (4288 KiB). The maximum recommended task size is 1000 KiB.\n",
      "22/11/15 02:34:28 WARN TaskSetManager: Stage 1474 contains a task of very large size (4288 KiB). The maximum recommended task size is 1000 KiB.\n",
      "22/11/15 02:34:28 WARN TaskSetManager: Stage 1475 contains a task of very large size (4288 KiB). The maximum recommended task size is 1000 KiB.\n",
      "22/11/15 02:34:28 WARN TaskSetManager: Stage 1476 contains a task of very large size (4288 KiB). The maximum recommended task size is 1000 KiB.\n",
      "22/11/15 02:34:28 WARN TaskSetManager: Stage 1477 contains a task of very large size (4288 KiB). The maximum recommended task size is 1000 KiB.\n",
      "22/11/15 02:34:28 WARN TaskSetManager: Stage 1479 contains a task of very large size (4288 KiB). The maximum recommended task size is 1000 KiB.\n",
      "22/11/15 02:34:29 WARN TaskSetManager: Stage 1481 contains a task of very large size (4288 KiB). The maximum recommended task size is 1000 KiB.\n",
      "22/11/15 02:34:29 WARN TaskSetManager: Stage 1483 contains a task of very large size (4288 KiB). The maximum recommended task size is 1000 KiB.\n",
      "22/11/15 02:34:29 WARN TaskSetManager: Stage 1485 contains a task of very large size (4288 KiB). The maximum recommended task size is 1000 KiB.\n",
      "22/11/15 02:34:29 WARN TaskSetManager: Stage 1487 contains a task of very large size (4288 KiB). The maximum recommended task size is 1000 KiB.\n",
      "22/11/15 02:34:30 WARN TaskSetManager: Stage 1489 contains a task of very large size (4288 KiB). The maximum recommended task size is 1000 KiB.\n",
      "22/11/15 02:34:30 WARN TaskSetManager: Stage 1491 contains a task of very large size (4288 KiB). The maximum recommended task size is 1000 KiB.\n",
      "22/11/15 02:34:31 WARN TaskSetManager: Stage 1493 contains a task of very large size (4288 KiB). The maximum recommended task size is 1000 KiB.\n",
      "22/11/15 02:34:32 WARN TaskSetManager: Stage 1495 contains a task of very large size (4288 KiB). The maximum recommended task size is 1000 KiB.\n",
      "22/11/15 02:34:33 WARN DAGScheduler: Broadcasting large task binary with size 1179.8 KiB\n",
      "22/11/15 02:34:33 WARN TaskSetManager: Stage 1497 contains a task of very large size (4288 KiB). The maximum recommended task size is 1000 KiB.\n",
      "22/11/15 02:34:34 WARN TaskSetManager: Stage 1499 contains a task of very large size (4288 KiB). The maximum recommended task size is 1000 KiB.\n",
      "22/11/15 02:34:34 WARN TaskSetManager: Stage 1500 contains a task of very large size (4288 KiB). The maximum recommended task size is 1000 KiB.\n",
      "22/11/15 02:34:34 WARN TaskSetManager: Stage 1501 contains a task of very large size (4288 KiB). The maximum recommended task size is 1000 KiB.\n",
      "22/11/15 02:34:34 WARN TaskSetManager: Stage 1502 contains a task of very large size (4288 KiB). The maximum recommended task size is 1000 KiB.\n",
      "22/11/15 02:34:35 WARN TaskSetManager: Stage 1504 contains a task of very large size (4288 KiB). The maximum recommended task size is 1000 KiB.\n",
      "22/11/15 02:34:35 WARN TaskSetManager: Stage 1506 contains a task of very large size (4288 KiB). The maximum recommended task size is 1000 KiB.\n",
      "22/11/15 02:34:36 WARN TaskSetManager: Stage 1508 contains a task of very large size (4288 KiB). The maximum recommended task size is 1000 KiB.\n",
      "22/11/15 02:34:36 WARN TaskSetManager: Stage 1510 contains a task of very large size (4288 KiB). The maximum recommended task size is 1000 KiB.\n",
      "22/11/15 02:34:36 WARN TaskSetManager: Stage 1512 contains a task of very large size (4288 KiB). The maximum recommended task size is 1000 KiB.\n",
      "22/11/15 02:34:37 WARN TaskSetManager: Stage 1514 contains a task of very large size (4288 KiB). The maximum recommended task size is 1000 KiB.\n",
      "22/11/15 02:34:38 WARN TaskSetManager: Stage 1516 contains a task of very large size (4288 KiB). The maximum recommended task size is 1000 KiB.\n",
      "22/11/15 02:34:39 WARN TaskSetManager: Stage 1518 contains a task of very large size (4288 KiB). The maximum recommended task size is 1000 KiB.\n"
     ]
    },
    {
     "name": "stderr",
     "output_type": "stream",
     "text": [
      "                                                                                \r"
     ]
    },
    {
     "name": "stdout",
     "output_type": "stream",
     "text": [
      "22/11/15 02:34:40 WARN DAGScheduler: Broadcasting large task binary with size 1453.1 KiB\n",
      "22/11/15 02:34:40 WARN TaskSetManager: Stage 1520 contains a task of very large size (4288 KiB). The maximum recommended task size is 1000 KiB.\n"
     ]
    },
    {
     "name": "stderr",
     "output_type": "stream",
     "text": [
      "                                                                                \r"
     ]
    },
    {
     "name": "stdout",
     "output_type": "stream",
     "text": [
      "22/11/15 02:34:42 WARN DAGScheduler: Broadcasting large task binary with size 2.2 MiB\n",
      "22/11/15 02:34:42 WARN TaskSetManager: Stage 1522 contains a task of very large size (4288 KiB). The maximum recommended task size is 1000 KiB.\n"
     ]
    },
    {
     "name": "stderr",
     "output_type": "stream",
     "text": [
      "                                                                                \r"
     ]
    },
    {
     "name": "stdout",
     "output_type": "stream",
     "text": [
      "22/11/15 02:34:45 WARN TaskSetManager: Stage 1524 contains a task of very large size (4288 KiB). The maximum recommended task size is 1000 KiB.\n",
      "22/11/15 02:34:45 WARN TaskSetManager: Stage 1525 contains a task of very large size (4288 KiB). The maximum recommended task size is 1000 KiB.\n",
      "22/11/15 02:34:45 WARN TaskSetManager: Stage 1526 contains a task of very large size (4288 KiB). The maximum recommended task size is 1000 KiB.\n",
      "22/11/15 02:34:45 WARN TaskSetManager: Stage 1527 contains a task of very large size (4288 KiB). The maximum recommended task size is 1000 KiB.\n",
      "22/11/15 02:34:45 WARN TaskSetManager: Stage 1529 contains a task of very large size (4288 KiB). The maximum recommended task size is 1000 KiB.\n",
      "22/11/15 02:34:46 WARN TaskSetManager: Stage 1531 contains a task of very large size (4288 KiB). The maximum recommended task size is 1000 KiB.\n",
      "22/11/15 02:34:46 WARN TaskSetManager: Stage 1533 contains a task of very large size (4288 KiB). The maximum recommended task size is 1000 KiB.\n",
      "22/11/15 02:34:46 WARN TaskSetManager: Stage 1535 contains a task of very large size (4288 KiB). The maximum recommended task size is 1000 KiB.\n",
      "22/11/15 02:34:46 WARN TaskSetManager: Stage 1537 contains a task of very large size (4288 KiB). The maximum recommended task size is 1000 KiB.\n",
      "22/11/15 02:34:47 WARN TaskSetManager: Stage 1539 contains a task of very large size (4288 KiB). The maximum recommended task size is 1000 KiB.\n",
      "22/11/15 02:34:47 WARN TaskSetManager: Stage 1541 contains a task of very large size (4288 KiB). The maximum recommended task size is 1000 KiB.\n",
      "22/11/15 02:34:47 WARN TaskSetManager: Stage 1543 contains a task of very large size (4288 KiB). The maximum recommended task size is 1000 KiB.\n",
      "22/11/15 02:34:48 WARN TaskSetManager: Stage 1545 contains a task of very large size (4288 KiB). The maximum recommended task size is 1000 KiB.\n",
      "22/11/15 02:34:49 WARN TaskSetManager: Stage 1547 contains a task of very large size (4288 KiB). The maximum recommended task size is 1000 KiB.\n",
      "22/11/15 02:34:50 WARN TaskSetManager: Stage 1549 contains a task of very large size (4288 KiB). The maximum recommended task size is 1000 KiB.\n",
      "22/11/15 02:34:50 WARN TaskSetManager: Stage 1550 contains a task of very large size (4288 KiB). The maximum recommended task size is 1000 KiB.\n",
      "22/11/15 02:34:50 WARN TaskSetManager: Stage 1551 contains a task of very large size (4288 KiB). The maximum recommended task size is 1000 KiB.\n",
      "22/11/15 02:34:50 WARN TaskSetManager: Stage 1552 contains a task of very large size (4288 KiB). The maximum recommended task size is 1000 KiB.\n",
      "22/11/15 02:34:50 WARN TaskSetManager: Stage 1554 contains a task of very large size (4288 KiB). The maximum recommended task size is 1000 KiB.\n",
      "22/11/15 02:34:51 WARN TaskSetManager: Stage 1556 contains a task of very large size (4288 KiB). The maximum recommended task size is 1000 KiB.\n",
      "22/11/15 02:34:51 WARN TaskSetManager: Stage 1558 contains a task of very large size (4288 KiB). The maximum recommended task size is 1000 KiB.\n",
      "22/11/15 02:34:51 WARN TaskSetManager: Stage 1560 contains a task of very large size (4288 KiB). The maximum recommended task size is 1000 KiB.\n",
      "22/11/15 02:34:51 WARN TaskSetManager: Stage 1562 contains a task of very large size (4288 KiB). The maximum recommended task size is 1000 KiB.\n",
      "22/11/15 02:34:52 WARN TaskSetManager: Stage 1564 contains a task of very large size (4288 KiB). The maximum recommended task size is 1000 KiB.\n",
      "22/11/15 02:34:52 WARN TaskSetManager: Stage 1566 contains a task of very large size (4288 KiB). The maximum recommended task size is 1000 KiB.\n",
      "22/11/15 02:34:53 WARN TaskSetManager: Stage 1568 contains a task of very large size (4288 KiB). The maximum recommended task size is 1000 KiB.\n"
     ]
    },
    {
     "name": "stderr",
     "output_type": "stream",
     "text": [
      "                                                                                \r"
     ]
    },
    {
     "name": "stdout",
     "output_type": "stream",
     "text": [
      "22/11/15 02:34:54 WARN TaskSetManager: Stage 1570 contains a task of very large size (4288 KiB). The maximum recommended task size is 1000 KiB.\n",
      "22/11/15 02:34:55 WARN DAGScheduler: Broadcasting large task binary with size 1172.4 KiB\n",
      "22/11/15 02:34:55 WARN TaskSetManager: Stage 1572 contains a task of very large size (4288 KiB). The maximum recommended task size is 1000 KiB.\n",
      "22/11/15 02:34:56 WARN TaskSetManager: Stage 1574 contains a task of very large size (4288 KiB). The maximum recommended task size is 1000 KiB.\n",
      "22/11/15 02:34:57 WARN TaskSetManager: Stage 1575 contains a task of very large size (4288 KiB). The maximum recommended task size is 1000 KiB.\n",
      "22/11/15 02:34:57 WARN TaskSetManager: Stage 1576 contains a task of very large size (4288 KiB). The maximum recommended task size is 1000 KiB.\n",
      "22/11/15 02:34:57 WARN TaskSetManager: Stage 1577 contains a task of very large size (4288 KiB). The maximum recommended task size is 1000 KiB.\n",
      "22/11/15 02:34:57 WARN TaskSetManager: Stage 1579 contains a task of very large size (4288 KiB). The maximum recommended task size is 1000 KiB.\n",
      "22/11/15 02:34:57 WARN TaskSetManager: Stage 1581 contains a task of very large size (4288 KiB). The maximum recommended task size is 1000 KiB.\n",
      "22/11/15 02:34:58 WARN TaskSetManager: Stage 1583 contains a task of very large size (4288 KiB). The maximum recommended task size is 1000 KiB.\n",
      "22/11/15 02:34:58 WARN TaskSetManager: Stage 1585 contains a task of very large size (4288 KiB). The maximum recommended task size is 1000 KiB.\n",
      "22/11/15 02:34:58 WARN TaskSetManager: Stage 1587 contains a task of very large size (4288 KiB). The maximum recommended task size is 1000 KiB.\n",
      "22/11/15 02:34:59 WARN TaskSetManager: Stage 1589 contains a task of very large size (4288 KiB). The maximum recommended task size is 1000 KiB.\n",
      "22/11/15 02:35:00 WARN TaskSetManager: Stage 1591 contains a task of very large size (4288 KiB). The maximum recommended task size is 1000 KiB.\n"
     ]
    },
    {
     "name": "stderr",
     "output_type": "stream",
     "text": [
      "                                                                                \r"
     ]
    },
    {
     "name": "stdout",
     "output_type": "stream",
     "text": [
      "22/11/15 02:35:01 WARN TaskSetManager: Stage 1593 contains a task of very large size (4288 KiB). The maximum recommended task size is 1000 KiB.\n"
     ]
    },
    {
     "name": "stderr",
     "output_type": "stream",
     "text": [
      "                                                                                \r"
     ]
    },
    {
     "name": "stdout",
     "output_type": "stream",
     "text": [
      "22/11/15 02:35:03 WARN DAGScheduler: Broadcasting large task binary with size 1469.1 KiB\n",
      "22/11/15 02:35:03 WARN TaskSetManager: Stage 1595 contains a task of very large size (4288 KiB). The maximum recommended task size is 1000 KiB.\n"
     ]
    },
    {
     "name": "stderr",
     "output_type": "stream",
     "text": [
      "                                                                                \r"
     ]
    },
    {
     "name": "stdout",
     "output_type": "stream",
     "text": [
      "22/11/15 02:35:05 WARN DAGScheduler: Broadcasting large task binary with size 2.2 MiB\n",
      "22/11/15 02:35:05 WARN TaskSetManager: Stage 1597 contains a task of very large size (4288 KiB). The maximum recommended task size is 1000 KiB.\n"
     ]
    },
    {
     "name": "stderr",
     "output_type": "stream",
     "text": [
      "                                                                                \r"
     ]
    },
    {
     "name": "stdout",
     "output_type": "stream",
     "text": [
      "22/11/15 02:35:08 WARN TaskSetManager: Stage 1599 contains a task of very large size (4288 KiB). The maximum recommended task size is 1000 KiB.\n",
      "22/11/15 02:35:09 WARN TaskSetManager: Stage 1600 contains a task of very large size (4288 KiB). The maximum recommended task size is 1000 KiB.\n",
      "22/11/15 02:35:09 WARN TaskSetManager: Stage 1601 contains a task of very large size (4288 KiB). The maximum recommended task size is 1000 KiB.\n"
     ]
    },
    {
     "name": "stderr",
     "output_type": "stream",
     "text": [
      "\r",
      "[Stage 1601:==============>                                         (1 + 3) / 4]\r",
      "\r",
      "                                                                                \r"
     ]
    },
    {
     "name": "stdout",
     "output_type": "stream",
     "text": [
      "22/11/15 02:35:10 WARN TaskSetManager: Stage 1602 contains a task of very large size (4288 KiB). The maximum recommended task size is 1000 KiB.\n",
      "22/11/15 02:35:10 WARN TaskSetManager: Stage 1604 contains a task of very large size (4288 KiB). The maximum recommended task size is 1000 KiB.\n",
      "22/11/15 02:35:10 WARN TaskSetManager: Stage 1606 contains a task of very large size (4288 KiB). The maximum recommended task size is 1000 KiB.\n",
      "22/11/15 02:35:11 WARN TaskSetManager: Stage 1608 contains a task of very large size (4288 KiB). The maximum recommended task size is 1000 KiB.\n",
      "22/11/15 02:35:11 WARN TaskSetManager: Stage 1610 contains a task of very large size (4288 KiB). The maximum recommended task size is 1000 KiB.\n",
      "22/11/15 02:35:11 WARN TaskSetManager: Stage 1612 contains a task of very large size (4288 KiB). The maximum recommended task size is 1000 KiB.\n",
      "22/11/15 02:35:11 WARN TaskSetManager: Stage 1614 contains a task of very large size (4288 KiB). The maximum recommended task size is 1000 KiB.\n"
     ]
    },
    {
     "name": "stderr",
     "output_type": "stream",
     "text": [
      "                                                                                \r"
     ]
    },
    {
     "name": "stdout",
     "output_type": "stream",
     "text": [
      "22/11/15 02:35:12 WARN TaskSetManager: Stage 1615 contains a task of very large size (4288 KiB). The maximum recommended task size is 1000 KiB.\n",
      "22/11/15 02:35:12 WARN TaskSetManager: Stage 1616 contains a task of very large size (4288 KiB). The maximum recommended task size is 1000 KiB.\n",
      "22/11/15 02:35:12 WARN TaskSetManager: Stage 1617 contains a task of very large size (4288 KiB). The maximum recommended task size is 1000 KiB.\n",
      "22/11/15 02:35:13 WARN TaskSetManager: Stage 1619 contains a task of very large size (4288 KiB). The maximum recommended task size is 1000 KiB.\n",
      "22/11/15 02:35:13 WARN TaskSetManager: Stage 1621 contains a task of very large size (4288 KiB). The maximum recommended task size is 1000 KiB.\n",
      "22/11/15 02:35:13 WARN TaskSetManager: Stage 1623 contains a task of very large size (4288 KiB). The maximum recommended task size is 1000 KiB.\n",
      "22/11/15 02:35:14 WARN TaskSetManager: Stage 1625 contains a task of very large size (4288 KiB). The maximum recommended task size is 1000 KiB.\n",
      "22/11/15 02:35:14 WARN TaskSetManager: Stage 1627 contains a task of very large size (4288 KiB). The maximum recommended task size is 1000 KiB.\n",
      "22/11/15 02:35:14 WARN TaskSetManager: Stage 1629 contains a task of very large size (4288 KiB). The maximum recommended task size is 1000 KiB.\n",
      "22/11/15 02:35:14 WARN TaskSetManager: Stage 1630 contains a task of very large size (4288 KiB). The maximum recommended task size is 1000 KiB.\n",
      "22/11/15 02:35:14 WARN TaskSetManager: Stage 1631 contains a task of very large size (4288 KiB). The maximum recommended task size is 1000 KiB.\n",
      "22/11/15 02:35:15 WARN TaskSetManager: Stage 1632 contains a task of very large size (4288 KiB). The maximum recommended task size is 1000 KiB.\n",
      "22/11/15 02:35:15 WARN TaskSetManager: Stage 1634 contains a task of very large size (4288 KiB). The maximum recommended task size is 1000 KiB.\n",
      "22/11/15 02:35:15 WARN TaskSetManager: Stage 1636 contains a task of very large size (4288 KiB). The maximum recommended task size is 1000 KiB.\n",
      "22/11/15 02:35:16 WARN TaskSetManager: Stage 1638 contains a task of very large size (4288 KiB). The maximum recommended task size is 1000 KiB.\n",
      "22/11/15 02:35:16 WARN TaskSetManager: Stage 1640 contains a task of very large size (4288 KiB). The maximum recommended task size is 1000 KiB.\n",
      "22/11/15 02:35:16 WARN TaskSetManager: Stage 1642 contains a task of very large size (4288 KiB). The maximum recommended task size is 1000 KiB.\n",
      "22/11/15 02:35:17 WARN TaskSetManager: Stage 1644 contains a task of very large size (4288 KiB). The maximum recommended task size is 1000 KiB.\n",
      "22/11/15 02:35:17 WARN TaskSetManager: Stage 1645 contains a task of very large size (4288 KiB). The maximum recommended task size is 1000 KiB.\n",
      "22/11/15 02:35:17 WARN TaskSetManager: Stage 1646 contains a task of very large size (4288 KiB). The maximum recommended task size is 1000 KiB.\n",
      "22/11/15 02:35:17 WARN TaskSetManager: Stage 1647 contains a task of very large size (4288 KiB). The maximum recommended task size is 1000 KiB.\n",
      "22/11/15 02:35:18 WARN TaskSetManager: Stage 1649 contains a task of very large size (4288 KiB). The maximum recommended task size is 1000 KiB.\n",
      "22/11/15 02:35:18 WARN TaskSetManager: Stage 1651 contains a task of very large size (4288 KiB). The maximum recommended task size is 1000 KiB.\n",
      "22/11/15 02:35:18 WARN TaskSetManager: Stage 1653 contains a task of very large size (4288 KiB). The maximum recommended task size is 1000 KiB.\n",
      "22/11/15 02:35:18 WARN TaskSetManager: Stage 1655 contains a task of very large size (4288 KiB). The maximum recommended task size is 1000 KiB.\n",
      "22/11/15 02:35:18 WARN TaskSetManager: Stage 1657 contains a task of very large size (4288 KiB). The maximum recommended task size is 1000 KiB.\n",
      "22/11/15 02:35:19 WARN TaskSetManager: Stage 1659 contains a task of very large size (4288 KiB). The maximum recommended task size is 1000 KiB.\n",
      "22/11/15 02:35:19 WARN TaskSetManager: Stage 1660 contains a task of very large size (4288 KiB). The maximum recommended task size is 1000 KiB.\n",
      "22/11/15 02:35:19 WARN TaskSetManager: Stage 1661 contains a task of very large size (4288 KiB). The maximum recommended task size is 1000 KiB.\n",
      "22/11/15 02:35:19 WARN TaskSetManager: Stage 1662 contains a task of very large size (4288 KiB). The maximum recommended task size is 1000 KiB.\n",
      "22/11/15 02:35:20 WARN TaskSetManager: Stage 1664 contains a task of very large size (4288 KiB). The maximum recommended task size is 1000 KiB.\n",
      "22/11/15 02:35:20 WARN TaskSetManager: Stage 1666 contains a task of very large size (4288 KiB). The maximum recommended task size is 1000 KiB.\n",
      "22/11/15 02:35:20 WARN TaskSetManager: Stage 1668 contains a task of very large size (4288 KiB). The maximum recommended task size is 1000 KiB.\n",
      "22/11/15 02:35:20 WARN TaskSetManager: Stage 1670 contains a task of very large size (4288 KiB). The maximum recommended task size is 1000 KiB.\n",
      "22/11/15 02:35:21 WARN TaskSetManager: Stage 1672 contains a task of very large size (4288 KiB). The maximum recommended task size is 1000 KiB.\n",
      "22/11/15 02:35:21 WARN TaskSetManager: Stage 1674 contains a task of very large size (4288 KiB). The maximum recommended task size is 1000 KiB.\n",
      "22/11/15 02:35:21 WARN TaskSetManager: Stage 1675 contains a task of very large size (4288 KiB). The maximum recommended task size is 1000 KiB.\n",
      "22/11/15 02:35:21 WARN TaskSetManager: Stage 1676 contains a task of very large size (4288 KiB). The maximum recommended task size is 1000 KiB.\n",
      "22/11/15 02:35:21 WARN TaskSetManager: Stage 1677 contains a task of very large size (4288 KiB). The maximum recommended task size is 1000 KiB.\n",
      "22/11/15 02:35:22 WARN TaskSetManager: Stage 1679 contains a task of very large size (4288 KiB). The maximum recommended task size is 1000 KiB.\n",
      "22/11/15 02:35:22 WARN TaskSetManager: Stage 1681 contains a task of very large size (4288 KiB). The maximum recommended task size is 1000 KiB.\n",
      "22/11/15 02:35:23 WARN TaskSetManager: Stage 1683 contains a task of very large size (4288 KiB). The maximum recommended task size is 1000 KiB.\n",
      "22/11/15 02:35:23 WARN TaskSetManager: Stage 1685 contains a task of very large size (4288 KiB). The maximum recommended task size is 1000 KiB.\n",
      "22/11/15 02:35:23 WARN TaskSetManager: Stage 1687 contains a task of very large size (4288 KiB). The maximum recommended task size is 1000 KiB.\n",
      "22/11/15 02:35:24 WARN TaskSetManager: Stage 1689 contains a task of very large size (4288 KiB). The maximum recommended task size is 1000 KiB.\n",
      "22/11/15 02:35:24 WARN TaskSetManager: Stage 1690 contains a task of very large size (4288 KiB). The maximum recommended task size is 1000 KiB.\n",
      "22/11/15 02:35:24 WARN TaskSetManager: Stage 1691 contains a task of very large size (4288 KiB). The maximum recommended task size is 1000 KiB.\n",
      "22/11/15 02:35:24 WARN TaskSetManager: Stage 1692 contains a task of very large size (4288 KiB). The maximum recommended task size is 1000 KiB.\n",
      "22/11/15 02:35:25 WARN TaskSetManager: Stage 1694 contains a task of very large size (4288 KiB). The maximum recommended task size is 1000 KiB.\n",
      "22/11/15 02:35:25 WARN TaskSetManager: Stage 1696 contains a task of very large size (4288 KiB). The maximum recommended task size is 1000 KiB.\n",
      "22/11/15 02:35:25 WARN TaskSetManager: Stage 1698 contains a task of very large size (4288 KiB). The maximum recommended task size is 1000 KiB.\n",
      "22/11/15 02:35:25 WARN TaskSetManager: Stage 1700 contains a task of very large size (4288 KiB). The maximum recommended task size is 1000 KiB.\n",
      "22/11/15 02:35:25 WARN TaskSetManager: Stage 1702 contains a task of very large size (4288 KiB). The maximum recommended task size is 1000 KiB.\n",
      "22/11/15 02:35:26 WARN TaskSetManager: Stage 1704 contains a task of very large size (4288 KiB). The maximum recommended task size is 1000 KiB.\n",
      "22/11/15 02:35:26 WARN TaskSetManager: Stage 1705 contains a task of very large size (4288 KiB). The maximum recommended task size is 1000 KiB.\n",
      "22/11/15 02:35:26 WARN TaskSetManager: Stage 1706 contains a task of very large size (4288 KiB). The maximum recommended task size is 1000 KiB.\n",
      "22/11/15 02:35:26 WARN TaskSetManager: Stage 1707 contains a task of very large size (4288 KiB). The maximum recommended task size is 1000 KiB.\n"
     ]
    },
    {
     "name": "stdout",
     "output_type": "stream",
     "text": [
      "22/11/15 02:35:27 WARN TaskSetManager: Stage 1709 contains a task of very large size (4288 KiB). The maximum recommended task size is 1000 KiB.\n",
      "22/11/15 02:35:27 WARN TaskSetManager: Stage 1711 contains a task of very large size (4288 KiB). The maximum recommended task size is 1000 KiB.\n",
      "22/11/15 02:35:27 WARN TaskSetManager: Stage 1713 contains a task of very large size (4288 KiB). The maximum recommended task size is 1000 KiB.\n",
      "22/11/15 02:35:28 WARN TaskSetManager: Stage 1715 contains a task of very large size (4288 KiB). The maximum recommended task size is 1000 KiB.\n",
      "22/11/15 02:35:28 WARN TaskSetManager: Stage 1717 contains a task of very large size (4288 KiB). The maximum recommended task size is 1000 KiB.\n",
      "22/11/15 02:35:28 WARN TaskSetManager: Stage 1719 contains a task of very large size (4288 KiB). The maximum recommended task size is 1000 KiB.\n",
      "22/11/15 02:35:29 WARN TaskSetManager: Stage 1720 contains a task of very large size (4288 KiB). The maximum recommended task size is 1000 KiB.\n",
      "22/11/15 02:35:29 WARN TaskSetManager: Stage 1721 contains a task of very large size (4288 KiB). The maximum recommended task size is 1000 KiB.\n",
      "22/11/15 02:35:29 WARN TaskSetManager: Stage 1722 contains a task of very large size (4288 KiB). The maximum recommended task size is 1000 KiB.\n",
      "22/11/15 02:35:29 WARN TaskSetManager: Stage 1724 contains a task of very large size (4288 KiB). The maximum recommended task size is 1000 KiB.\n",
      "22/11/15 02:35:30 WARN TaskSetManager: Stage 1726 contains a task of very large size (4288 KiB). The maximum recommended task size is 1000 KiB.\n",
      "22/11/15 02:35:30 WARN TaskSetManager: Stage 1728 contains a task of very large size (4288 KiB). The maximum recommended task size is 1000 KiB.\n",
      "22/11/15 02:35:30 WARN TaskSetManager: Stage 1730 contains a task of very large size (4288 KiB). The maximum recommended task size is 1000 KiB.\n",
      "22/11/15 02:35:31 WARN TaskSetManager: Stage 1732 contains a task of very large size (4288 KiB). The maximum recommended task size is 1000 KiB.\n",
      "22/11/15 02:35:31 WARN TaskSetManager: Stage 1734 contains a task of very large size (4288 KiB). The maximum recommended task size is 1000 KiB.\n",
      "22/11/15 02:35:32 WARN TaskSetManager: Stage 1735 contains a task of very large size (4288 KiB). The maximum recommended task size is 1000 KiB.\n",
      "22/11/15 02:35:32 WARN TaskSetManager: Stage 1736 contains a task of very large size (4288 KiB). The maximum recommended task size is 1000 KiB.\n",
      "22/11/15 02:35:32 WARN TaskSetManager: Stage 1737 contains a task of very large size (4288 KiB). The maximum recommended task size is 1000 KiB.\n",
      "22/11/15 02:35:32 WARN TaskSetManager: Stage 1739 contains a task of very large size (4288 KiB). The maximum recommended task size is 1000 KiB.\n",
      "22/11/15 02:35:33 WARN TaskSetManager: Stage 1741 contains a task of very large size (4288 KiB). The maximum recommended task size is 1000 KiB.\n",
      "22/11/15 02:35:33 WARN TaskSetManager: Stage 1743 contains a task of very large size (4288 KiB). The maximum recommended task size is 1000 KiB.\n",
      "22/11/15 02:35:33 WARN TaskSetManager: Stage 1745 contains a task of very large size (4288 KiB). The maximum recommended task size is 1000 KiB.\n",
      "22/11/15 02:35:33 WARN TaskSetManager: Stage 1747 contains a task of very large size (4288 KiB). The maximum recommended task size is 1000 KiB.\n",
      "22/11/15 02:35:33 WARN TaskSetManager: Stage 1749 contains a task of very large size (4288 KiB). The maximum recommended task size is 1000 KiB.\n",
      "22/11/15 02:35:33 WARN TaskSetManager: Stage 1751 contains a task of very large size (4288 KiB). The maximum recommended task size is 1000 KiB.\n",
      "22/11/15 02:35:34 WARN TaskSetManager: Stage 1753 contains a task of very large size (4288 KiB). The maximum recommended task size is 1000 KiB.\n",
      "22/11/15 02:35:34 WARN TaskSetManager: Stage 1755 contains a task of very large size (4288 KiB). The maximum recommended task size is 1000 KiB.\n",
      "22/11/15 02:35:35 WARN TaskSetManager: Stage 1756 contains a task of very large size (4288 KiB). The maximum recommended task size is 1000 KiB.\n",
      "22/11/15 02:35:35 WARN TaskSetManager: Stage 1757 contains a task of very large size (4288 KiB). The maximum recommended task size is 1000 KiB.\n",
      "22/11/15 02:35:35 WARN TaskSetManager: Stage 1758 contains a task of very large size (4288 KiB). The maximum recommended task size is 1000 KiB.\n",
      "22/11/15 02:35:35 WARN TaskSetManager: Stage 1760 contains a task of very large size (4288 KiB). The maximum recommended task size is 1000 KiB.\n",
      "22/11/15 02:35:35 WARN TaskSetManager: Stage 1762 contains a task of very large size (4288 KiB). The maximum recommended task size is 1000 KiB.\n",
      "22/11/15 02:35:35 WARN TaskSetManager: Stage 1764 contains a task of very large size (4288 KiB). The maximum recommended task size is 1000 KiB.\n",
      "22/11/15 02:35:36 WARN TaskSetManager: Stage 1766 contains a task of very large size (4288 KiB). The maximum recommended task size is 1000 KiB.\n",
      "22/11/15 02:35:36 WARN TaskSetManager: Stage 1768 contains a task of very large size (4288 KiB). The maximum recommended task size is 1000 KiB.\n",
      "22/11/15 02:35:36 WARN TaskSetManager: Stage 1770 contains a task of very large size (4288 KiB). The maximum recommended task size is 1000 KiB.\n",
      "22/11/15 02:35:37 WARN TaskSetManager: Stage 1772 contains a task of very large size (4288 KiB). The maximum recommended task size is 1000 KiB.\n",
      "22/11/15 02:35:37 WARN TaskSetManager: Stage 1774 contains a task of very large size (4288 KiB). The maximum recommended task size is 1000 KiB.\n",
      "22/11/15 02:35:38 WARN TaskSetManager: Stage 1776 contains a task of very large size (4288 KiB). The maximum recommended task size is 1000 KiB.\n",
      "22/11/15 02:35:38 WARN TaskSetManager: Stage 1777 contains a task of very large size (4288 KiB). The maximum recommended task size is 1000 KiB.\n",
      "22/11/15 02:35:38 WARN TaskSetManager: Stage 1778 contains a task of very large size (4288 KiB). The maximum recommended task size is 1000 KiB.\n",
      "22/11/15 02:35:38 WARN TaskSetManager: Stage 1779 contains a task of very large size (4288 KiB). The maximum recommended task size is 1000 KiB.\n",
      "22/11/15 02:35:39 WARN TaskSetManager: Stage 1781 contains a task of very large size (4288 KiB). The maximum recommended task size is 1000 KiB.\n",
      "22/11/15 02:35:39 WARN TaskSetManager: Stage 1783 contains a task of very large size (4288 KiB). The maximum recommended task size is 1000 KiB.\n",
      "22/11/15 02:35:39 WARN TaskSetManager: Stage 1785 contains a task of very large size (4288 KiB). The maximum recommended task size is 1000 KiB.\n",
      "22/11/15 02:35:39 WARN TaskSetManager: Stage 1787 contains a task of very large size (4288 KiB). The maximum recommended task size is 1000 KiB.\n",
      "22/11/15 02:35:40 WARN TaskSetManager: Stage 1789 contains a task of very large size (4288 KiB). The maximum recommended task size is 1000 KiB.\n",
      "22/11/15 02:35:40 WARN TaskSetManager: Stage 1791 contains a task of very large size (4288 KiB). The maximum recommended task size is 1000 KiB.\n",
      "22/11/15 02:35:41 WARN TaskSetManager: Stage 1793 contains a task of very large size (4288 KiB). The maximum recommended task size is 1000 KiB.\n",
      "22/11/15 02:35:42 WARN TaskSetManager: Stage 1795 contains a task of very large size (4288 KiB). The maximum recommended task size is 1000 KiB.\n"
     ]
    },
    {
     "name": "stderr",
     "output_type": "stream",
     "text": [
      "                                                                                \r"
     ]
    },
    {
     "name": "stdout",
     "output_type": "stream",
     "text": [
      "22/11/15 02:35:43 WARN TaskSetManager: Stage 1797 contains a task of very large size (4288 KiB). The maximum recommended task size is 1000 KiB.\n",
      "22/11/15 02:35:43 WARN TaskSetManager: Stage 1798 contains a task of very large size (4288 KiB). The maximum recommended task size is 1000 KiB.\n",
      "22/11/15 02:35:43 WARN TaskSetManager: Stage 1799 contains a task of very large size (4288 KiB). The maximum recommended task size is 1000 KiB.\n",
      "22/11/15 02:35:43 WARN TaskSetManager: Stage 1800 contains a task of very large size (4288 KiB). The maximum recommended task size is 1000 KiB.\n",
      "22/11/15 02:35:44 WARN TaskSetManager: Stage 1802 contains a task of very large size (4288 KiB). The maximum recommended task size is 1000 KiB.\n",
      "22/11/15 02:35:44 WARN TaskSetManager: Stage 1804 contains a task of very large size (4288 KiB). The maximum recommended task size is 1000 KiB.\n",
      "22/11/15 02:35:44 WARN TaskSetManager: Stage 1806 contains a task of very large size (4288 KiB). The maximum recommended task size is 1000 KiB.\n",
      "22/11/15 02:35:44 WARN TaskSetManager: Stage 1808 contains a task of very large size (4288 KiB). The maximum recommended task size is 1000 KiB.\n",
      "22/11/15 02:35:44 WARN TaskSetManager: Stage 1810 contains a task of very large size (4288 KiB). The maximum recommended task size is 1000 KiB.\n",
      "22/11/15 02:35:45 WARN TaskSetManager: Stage 1812 contains a task of very large size (4288 KiB). The maximum recommended task size is 1000 KiB.\n",
      "22/11/15 02:35:45 WARN TaskSetManager: Stage 1814 contains a task of very large size (4288 KiB). The maximum recommended task size is 1000 KiB.\n",
      "22/11/15 02:35:45 WARN TaskSetManager: Stage 1816 contains a task of very large size (4288 KiB). The maximum recommended task size is 1000 KiB.\n",
      "22/11/15 02:35:46 WARN TaskSetManager: Stage 1818 contains a task of very large size (4288 KiB). The maximum recommended task size is 1000 KiB.\n",
      "22/11/15 02:35:46 WARN TaskSetManager: Stage 1819 contains a task of very large size (4288 KiB). The maximum recommended task size is 1000 KiB.\n",
      "22/11/15 02:35:46 WARN TaskSetManager: Stage 1820 contains a task of very large size (4288 KiB). The maximum recommended task size is 1000 KiB.\n",
      "22/11/15 02:35:46 WARN TaskSetManager: Stage 1821 contains a task of very large size (4288 KiB). The maximum recommended task size is 1000 KiB.\n",
      "22/11/15 02:35:46 WARN TaskSetManager: Stage 1823 contains a task of very large size (4288 KiB). The maximum recommended task size is 1000 KiB.\n",
      "22/11/15 02:35:47 WARN TaskSetManager: Stage 1825 contains a task of very large size (4288 KiB). The maximum recommended task size is 1000 KiB.\n",
      "22/11/15 02:35:47 WARN TaskSetManager: Stage 1827 contains a task of very large size (4288 KiB). The maximum recommended task size is 1000 KiB.\n",
      "22/11/15 02:35:47 WARN TaskSetManager: Stage 1829 contains a task of very large size (4288 KiB). The maximum recommended task size is 1000 KiB.\n",
      "22/11/15 02:35:48 WARN TaskSetManager: Stage 1831 contains a task of very large size (4288 KiB). The maximum recommended task size is 1000 KiB.\n",
      "22/11/15 02:35:48 WARN TaskSetManager: Stage 1833 contains a task of very large size (4288 KiB). The maximum recommended task size is 1000 KiB.\n",
      "22/11/15 02:35:48 WARN TaskSetManager: Stage 1835 contains a task of very large size (4288 KiB). The maximum recommended task size is 1000 KiB.\n",
      "22/11/15 02:35:49 WARN TaskSetManager: Stage 1837 contains a task of very large size (4288 KiB). The maximum recommended task size is 1000 KiB.\n",
      "22/11/15 02:35:49 WARN TaskSetManager: Stage 1839 contains a task of very large size (4288 KiB). The maximum recommended task size is 1000 KiB.\n",
      "22/11/15 02:35:50 WARN TaskSetManager: Stage 1840 contains a task of very large size (4288 KiB). The maximum recommended task size is 1000 KiB.\n",
      "22/11/15 02:35:50 WARN TaskSetManager: Stage 1841 contains a task of very large size (4288 KiB). The maximum recommended task size is 1000 KiB.\n",
      "22/11/15 02:35:50 WARN TaskSetManager: Stage 1842 contains a task of very large size (4288 KiB). The maximum recommended task size is 1000 KiB.\n",
      "22/11/15 02:35:50 WARN TaskSetManager: Stage 1844 contains a task of very large size (4288 KiB). The maximum recommended task size is 1000 KiB.\n",
      "22/11/15 02:35:51 WARN TaskSetManager: Stage 1846 contains a task of very large size (4288 KiB). The maximum recommended task size is 1000 KiB.\n",
      "22/11/15 02:35:51 WARN TaskSetManager: Stage 1848 contains a task of very large size (4288 KiB). The maximum recommended task size is 1000 KiB.\n",
      "22/11/15 02:35:51 WARN TaskSetManager: Stage 1850 contains a task of very large size (4288 KiB). The maximum recommended task size is 1000 KiB.\n",
      "22/11/15 02:35:52 WARN TaskSetManager: Stage 1852 contains a task of very large size (4288 KiB). The maximum recommended task size is 1000 KiB.\n",
      "22/11/15 02:35:52 WARN TaskSetManager: Stage 1854 contains a task of very large size (4288 KiB). The maximum recommended task size is 1000 KiB.\n",
      "22/11/15 02:35:53 WARN TaskSetManager: Stage 1856 contains a task of very large size (4288 KiB). The maximum recommended task size is 1000 KiB.\n"
     ]
    },
    {
     "name": "stderr",
     "output_type": "stream",
     "text": [
      "                                                                                \r"
     ]
    },
    {
     "name": "stdout",
     "output_type": "stream",
     "text": [
      "22/11/15 02:35:54 WARN TaskSetManager: Stage 1858 contains a task of very large size (4288 KiB). The maximum recommended task size is 1000 KiB.\n"
     ]
    },
    {
     "name": "stderr",
     "output_type": "stream",
     "text": [
      "                                                                                \r"
     ]
    },
    {
     "name": "stdout",
     "output_type": "stream",
     "text": [
      "22/11/15 02:35:56 WARN TaskSetManager: Stage 1860 contains a task of very large size (4288 KiB). The maximum recommended task size is 1000 KiB.\n",
      "22/11/15 02:35:56 WARN TaskSetManager: Stage 1861 contains a task of very large size (4288 KiB). The maximum recommended task size is 1000 KiB.\n",
      "22/11/15 02:35:56 WARN TaskSetManager: Stage 1862 contains a task of very large size (4288 KiB). The maximum recommended task size is 1000 KiB.\n",
      "22/11/15 02:35:56 WARN TaskSetManager: Stage 1863 contains a task of very large size (4288 KiB). The maximum recommended task size is 1000 KiB.\n",
      "22/11/15 02:35:56 WARN TaskSetManager: Stage 1865 contains a task of very large size (4288 KiB). The maximum recommended task size is 1000 KiB.\n",
      "22/11/15 02:35:57 WARN TaskSetManager: Stage 1867 contains a task of very large size (4288 KiB). The maximum recommended task size is 1000 KiB.\n",
      "22/11/15 02:35:57 WARN TaskSetManager: Stage 1869 contains a task of very large size (4288 KiB). The maximum recommended task size is 1000 KiB.\n",
      "22/11/15 02:35:57 WARN TaskSetManager: Stage 1871 contains a task of very large size (4288 KiB). The maximum recommended task size is 1000 KiB.\n",
      "22/11/15 02:35:57 WARN TaskSetManager: Stage 1873 contains a task of very large size (4288 KiB). The maximum recommended task size is 1000 KiB.\n",
      "22/11/15 02:35:57 WARN TaskSetManager: Stage 1875 contains a task of very large size (4288 KiB). The maximum recommended task size is 1000 KiB.\n",
      "22/11/15 02:35:58 WARN TaskSetManager: Stage 1877 contains a task of very large size (4288 KiB). The maximum recommended task size is 1000 KiB.\n",
      "22/11/15 02:35:58 WARN TaskSetManager: Stage 1879 contains a task of very large size (4288 KiB). The maximum recommended task size is 1000 KiB.\n",
      "22/11/15 02:35:59 WARN TaskSetManager: Stage 1881 contains a task of very large size (4288 KiB). The maximum recommended task size is 1000 KiB.\n",
      "22/11/15 02:35:59 WARN TaskSetManager: Stage 1882 contains a task of very large size (4288 KiB). The maximum recommended task size is 1000 KiB.\n",
      "22/11/15 02:35:59 WARN TaskSetManager: Stage 1883 contains a task of very large size (4288 KiB). The maximum recommended task size is 1000 KiB.\n",
      "22/11/15 02:35:59 WARN TaskSetManager: Stage 1884 contains a task of very large size (4288 KiB). The maximum recommended task size is 1000 KiB.\n",
      "22/11/15 02:35:59 WARN TaskSetManager: Stage 1886 contains a task of very large size (4288 KiB). The maximum recommended task size is 1000 KiB.\n",
      "22/11/15 02:36:00 WARN TaskSetManager: Stage 1888 contains a task of very large size (4288 KiB). The maximum recommended task size is 1000 KiB.\n",
      "22/11/15 02:36:00 WARN TaskSetManager: Stage 1890 contains a task of very large size (4288 KiB). The maximum recommended task size is 1000 KiB.\n",
      "22/11/15 02:36:00 WARN TaskSetManager: Stage 1892 contains a task of very large size (4288 KiB). The maximum recommended task size is 1000 KiB.\n",
      "22/11/15 02:36:01 WARN TaskSetManager: Stage 1894 contains a task of very large size (4288 KiB). The maximum recommended task size is 1000 KiB.\n",
      "22/11/15 02:36:01 WARN TaskSetManager: Stage 1896 contains a task of very large size (4288 KiB). The maximum recommended task size is 1000 KiB.\n",
      "22/11/15 02:36:02 WARN TaskSetManager: Stage 1898 contains a task of very large size (4288 KiB). The maximum recommended task size is 1000 KiB.\n",
      "22/11/15 02:36:02 WARN TaskSetManager: Stage 1900 contains a task of very large size (4288 KiB). The maximum recommended task size is 1000 KiB.\n"
     ]
    },
    {
     "name": "stderr",
     "output_type": "stream",
     "text": [
      "                                                                                \r"
     ]
    },
    {
     "name": "stdout",
     "output_type": "stream",
     "text": [
      "22/11/15 02:36:03 WARN TaskSetManager: Stage 1902 contains a task of very large size (4288 KiB). The maximum recommended task size is 1000 KiB.\n",
      "22/11/15 02:36:04 WARN TaskSetManager: Stage 1903 contains a task of very large size (4288 KiB). The maximum recommended task size is 1000 KiB.\n",
      "22/11/15 02:36:04 WARN TaskSetManager: Stage 1904 contains a task of very large size (4288 KiB). The maximum recommended task size is 1000 KiB.\n",
      "22/11/15 02:36:04 WARN TaskSetManager: Stage 1905 contains a task of very large size (4288 KiB). The maximum recommended task size is 1000 KiB.\n",
      "22/11/15 02:36:04 WARN TaskSetManager: Stage 1907 contains a task of very large size (4288 KiB). The maximum recommended task size is 1000 KiB.\n",
      "22/11/15 02:36:05 WARN TaskSetManager: Stage 1909 contains a task of very large size (4288 KiB). The maximum recommended task size is 1000 KiB.\n",
      "22/11/15 02:36:05 WARN TaskSetManager: Stage 1911 contains a task of very large size (4288 KiB). The maximum recommended task size is 1000 KiB.\n",
      "22/11/15 02:36:05 WARN TaskSetManager: Stage 1913 contains a task of very large size (4288 KiB). The maximum recommended task size is 1000 KiB.\n",
      "22/11/15 02:36:06 WARN TaskSetManager: Stage 1915 contains a task of very large size (4288 KiB). The maximum recommended task size is 1000 KiB.\n",
      "22/11/15 02:36:06 WARN TaskSetManager: Stage 1917 contains a task of very large size (4288 KiB). The maximum recommended task size is 1000 KiB.\n"
     ]
    },
    {
     "name": "stderr",
     "output_type": "stream",
     "text": [
      "                                                                                \r"
     ]
    },
    {
     "name": "stdout",
     "output_type": "stream",
     "text": [
      "22/11/15 02:36:07 WARN TaskSetManager: Stage 1919 contains a task of very large size (4288 KiB). The maximum recommended task size is 1000 KiB.\n"
     ]
    },
    {
     "name": "stderr",
     "output_type": "stream",
     "text": [
      "                                                                                \r"
     ]
    },
    {
     "name": "stdout",
     "output_type": "stream",
     "text": [
      "22/11/15 02:36:09 WARN TaskSetManager: Stage 1921 contains a task of very large size (4288 KiB). The maximum recommended task size is 1000 KiB.\n"
     ]
    },
    {
     "name": "stderr",
     "output_type": "stream",
     "text": [
      "                                                                                \r"
     ]
    },
    {
     "name": "stdout",
     "output_type": "stream",
     "text": [
      "22/11/15 02:36:10 WARN TaskSetManager: Stage 1923 contains a task of very large size (4288 KiB). The maximum recommended task size is 1000 KiB.\n",
      "22/11/15 02:36:11 WARN TaskSetManager: Stage 1924 contains a task of very large size (4288 KiB). The maximum recommended task size is 1000 KiB.\n",
      "22/11/15 02:36:11 WARN TaskSetManager: Stage 1925 contains a task of very large size (4288 KiB). The maximum recommended task size is 1000 KiB.\n",
      "22/11/15 02:36:11 WARN TaskSetManager: Stage 1926 contains a task of very large size (4288 KiB). The maximum recommended task size is 1000 KiB.\n",
      "22/11/15 02:36:11 WARN TaskSetManager: Stage 1928 contains a task of very large size (4288 KiB). The maximum recommended task size is 1000 KiB.\n",
      "22/11/15 02:36:12 WARN TaskSetManager: Stage 1930 contains a task of very large size (4288 KiB). The maximum recommended task size is 1000 KiB.\n",
      "22/11/15 02:36:12 WARN TaskSetManager: Stage 1932 contains a task of very large size (4288 KiB). The maximum recommended task size is 1000 KiB.\n",
      "22/11/15 02:36:12 WARN TaskSetManager: Stage 1934 contains a task of very large size (4288 KiB). The maximum recommended task size is 1000 KiB.\n",
      "22/11/15 02:36:12 WARN TaskSetManager: Stage 1936 contains a task of very large size (4288 KiB). The maximum recommended task size is 1000 KiB.\n",
      "22/11/15 02:36:12 WARN TaskSetManager: Stage 1938 contains a task of very large size (4288 KiB). The maximum recommended task size is 1000 KiB.\n",
      "22/11/15 02:36:12 WARN TaskSetManager: Stage 1940 contains a task of very large size (4288 KiB). The maximum recommended task size is 1000 KiB.\n",
      "22/11/15 02:36:13 WARN TaskSetManager: Stage 1942 contains a task of very large size (4288 KiB). The maximum recommended task size is 1000 KiB.\n",
      "22/11/15 02:36:13 WARN TaskSetManager: Stage 1944 contains a task of very large size (4288 KiB). The maximum recommended task size is 1000 KiB.\n",
      "22/11/15 02:36:14 WARN TaskSetManager: Stage 1946 contains a task of very large size (4288 KiB). The maximum recommended task size is 1000 KiB.\n",
      "22/11/15 02:36:14 WARN TaskSetManager: Stage 1948 contains a task of very large size (4288 KiB). The maximum recommended task size is 1000 KiB.\n",
      "22/11/15 02:36:15 WARN TaskSetManager: Stage 1949 contains a task of very large size (4288 KiB). The maximum recommended task size is 1000 KiB.\n",
      "22/11/15 02:36:15 WARN TaskSetManager: Stage 1950 contains a task of very large size (4288 KiB). The maximum recommended task size is 1000 KiB.\n",
      "22/11/15 02:36:15 WARN TaskSetManager: Stage 1951 contains a task of very large size (4288 KiB). The maximum recommended task size is 1000 KiB.\n",
      "22/11/15 02:36:15 WARN TaskSetManager: Stage 1953 contains a task of very large size (4288 KiB). The maximum recommended task size is 1000 KiB.\n",
      "22/11/15 02:36:15 WARN TaskSetManager: Stage 1955 contains a task of very large size (4288 KiB). The maximum recommended task size is 1000 KiB.\n",
      "22/11/15 02:36:16 WARN TaskSetManager: Stage 1957 contains a task of very large size (4288 KiB). The maximum recommended task size is 1000 KiB.\n",
      "22/11/15 02:36:16 WARN TaskSetManager: Stage 1959 contains a task of very large size (4288 KiB). The maximum recommended task size is 1000 KiB.\n",
      "22/11/15 02:36:16 WARN TaskSetManager: Stage 1961 contains a task of very large size (4288 KiB). The maximum recommended task size is 1000 KiB.\n",
      "22/11/15 02:36:16 WARN TaskSetManager: Stage 1963 contains a task of very large size (4288 KiB). The maximum recommended task size is 1000 KiB.\n",
      "22/11/15 02:36:17 WARN TaskSetManager: Stage 1965 contains a task of very large size (4288 KiB). The maximum recommended task size is 1000 KiB.\n",
      "22/11/15 02:36:17 WARN TaskSetManager: Stage 1967 contains a task of very large size (4288 KiB). The maximum recommended task size is 1000 KiB.\n",
      "22/11/15 02:36:18 WARN TaskSetManager: Stage 1969 contains a task of very large size (4288 KiB). The maximum recommended task size is 1000 KiB.\n",
      "22/11/15 02:36:19 WARN DAGScheduler: Broadcasting large task binary with size 1185.4 KiB\n",
      "22/11/15 02:36:19 WARN TaskSetManager: Stage 1971 contains a task of very large size (4288 KiB). The maximum recommended task size is 1000 KiB.\n",
      "22/11/15 02:36:20 WARN TaskSetManager: Stage 1973 contains a task of very large size (4288 KiB). The maximum recommended task size is 1000 KiB.\n",
      "22/11/15 02:36:20 WARN TaskSetManager: Stage 1974 contains a task of very large size (4288 KiB). The maximum recommended task size is 1000 KiB.\n",
      "22/11/15 02:36:20 WARN TaskSetManager: Stage 1975 contains a task of very large size (4288 KiB). The maximum recommended task size is 1000 KiB.\n",
      "22/11/15 02:36:20 WARN TaskSetManager: Stage 1976 contains a task of very large size (4288 KiB). The maximum recommended task size is 1000 KiB.\n",
      "22/11/15 02:36:20 WARN TaskSetManager: Stage 1978 contains a task of very large size (4288 KiB). The maximum recommended task size is 1000 KiB.\n",
      "22/11/15 02:36:21 WARN TaskSetManager: Stage 1980 contains a task of very large size (4288 KiB). The maximum recommended task size is 1000 KiB.\n",
      "22/11/15 02:36:21 WARN TaskSetManager: Stage 1982 contains a task of very large size (4288 KiB). The maximum recommended task size is 1000 KiB.\n",
      "22/11/15 02:36:21 WARN TaskSetManager: Stage 1984 contains a task of very large size (4288 KiB). The maximum recommended task size is 1000 KiB.\n",
      "22/11/15 02:36:22 WARN TaskSetManager: Stage 1986 contains a task of very large size (4288 KiB). The maximum recommended task size is 1000 KiB.\n",
      "22/11/15 02:36:22 WARN TaskSetManager: Stage 1988 contains a task of very large size (4288 KiB). The maximum recommended task size is 1000 KiB.\n",
      "22/11/15 02:36:23 WARN TaskSetManager: Stage 1990 contains a task of very large size (4288 KiB). The maximum recommended task size is 1000 KiB.\n",
      "22/11/15 02:36:24 WARN TaskSetManager: Stage 1992 contains a task of very large size (4288 KiB). The maximum recommended task size is 1000 KiB.\n"
     ]
    },
    {
     "name": "stderr",
     "output_type": "stream",
     "text": [
      "                                                                                \r"
     ]
    },
    {
     "name": "stdout",
     "output_type": "stream",
     "text": [
      "22/11/15 02:36:25 WARN DAGScheduler: Broadcasting large task binary with size 1446.2 KiB\n",
      "22/11/15 02:36:25 WARN TaskSetManager: Stage 1994 contains a task of very large size (4288 KiB). The maximum recommended task size is 1000 KiB.\n"
     ]
    },
    {
     "name": "stderr",
     "output_type": "stream",
     "text": [
      "                                                                                \r"
     ]
    },
    {
     "name": "stdout",
     "output_type": "stream",
     "text": [
      "22/11/15 02:36:27 WARN DAGScheduler: Broadcasting large task binary with size 2.2 MiB\n",
      "22/11/15 02:36:27 WARN TaskSetManager: Stage 1996 contains a task of very large size (4288 KiB). The maximum recommended task size is 1000 KiB.\n"
     ]
    },
    {
     "name": "stderr",
     "output_type": "stream",
     "text": [
      "                                                                                \r"
     ]
    },
    {
     "name": "stdout",
     "output_type": "stream",
     "text": [
      "22/11/15 02:36:29 WARN TaskSetManager: Stage 1998 contains a task of very large size (4288 KiB). The maximum recommended task size is 1000 KiB.\n",
      "22/11/15 02:36:29 WARN TaskSetManager: Stage 1999 contains a task of very large size (4288 KiB). The maximum recommended task size is 1000 KiB.\n",
      "22/11/15 02:36:29 WARN TaskSetManager: Stage 2000 contains a task of very large size (4288 KiB). The maximum recommended task size is 1000 KiB.\n",
      "22/11/15 02:36:29 WARN TaskSetManager: Stage 2001 contains a task of very large size (4288 KiB). The maximum recommended task size is 1000 KiB.\n",
      "22/11/15 02:36:30 WARN TaskSetManager: Stage 2003 contains a task of very large size (4288 KiB). The maximum recommended task size is 1000 KiB.\n",
      "22/11/15 02:36:30 WARN TaskSetManager: Stage 2005 contains a task of very large size (4288 KiB). The maximum recommended task size is 1000 KiB.\n",
      "22/11/15 02:36:30 WARN TaskSetManager: Stage 2007 contains a task of very large size (4288 KiB). The maximum recommended task size is 1000 KiB.\n",
      "22/11/15 02:36:30 WARN TaskSetManager: Stage 2009 contains a task of very large size (4288 KiB). The maximum recommended task size is 1000 KiB.\n",
      "22/11/15 02:36:30 WARN TaskSetManager: Stage 2011 contains a task of very large size (4288 KiB). The maximum recommended task size is 1000 KiB.\n",
      "22/11/15 02:36:31 WARN TaskSetManager: Stage 2013 contains a task of very large size (4288 KiB). The maximum recommended task size is 1000 KiB.\n",
      "22/11/15 02:36:31 WARN TaskSetManager: Stage 2015 contains a task of very large size (4288 KiB). The maximum recommended task size is 1000 KiB.\n",
      "22/11/15 02:36:31 WARN TaskSetManager: Stage 2017 contains a task of very large size (4288 KiB). The maximum recommended task size is 1000 KiB.\n",
      "22/11/15 02:36:32 WARN TaskSetManager: Stage 2019 contains a task of very large size (4288 KiB). The maximum recommended task size is 1000 KiB.\n",
      "22/11/15 02:36:32 WARN TaskSetManager: Stage 2021 contains a task of very large size (4288 KiB). The maximum recommended task size is 1000 KiB.\n",
      "22/11/15 02:36:33 WARN TaskSetManager: Stage 2023 contains a task of very large size (4288 KiB). The maximum recommended task size is 1000 KiB.\n",
      "22/11/15 02:36:33 WARN TaskSetManager: Stage 2024 contains a task of very large size (4288 KiB). The maximum recommended task size is 1000 KiB.\n",
      "22/11/15 02:36:33 WARN TaskSetManager: Stage 2025 contains a task of very large size (4288 KiB). The maximum recommended task size is 1000 KiB.\n",
      "22/11/15 02:36:33 WARN TaskSetManager: Stage 2026 contains a task of very large size (4288 KiB). The maximum recommended task size is 1000 KiB.\n",
      "22/11/15 02:36:34 WARN TaskSetManager: Stage 2028 contains a task of very large size (4288 KiB). The maximum recommended task size is 1000 KiB.\n",
      "22/11/15 02:36:34 WARN TaskSetManager: Stage 2030 contains a task of very large size (4288 KiB). The maximum recommended task size is 1000 KiB.\n",
      "22/11/15 02:36:34 WARN TaskSetManager: Stage 2032 contains a task of very large size (4288 KiB). The maximum recommended task size is 1000 KiB.\n",
      "22/11/15 02:36:34 WARN TaskSetManager: Stage 2034 contains a task of very large size (4288 KiB). The maximum recommended task size is 1000 KiB.\n",
      "22/11/15 02:36:35 WARN TaskSetManager: Stage 2036 contains a task of very large size (4288 KiB). The maximum recommended task size is 1000 KiB.\n",
      "22/11/15 02:36:35 WARN TaskSetManager: Stage 2038 contains a task of very large size (4288 KiB). The maximum recommended task size is 1000 KiB.\n",
      "22/11/15 02:36:35 WARN TaskSetManager: Stage 2040 contains a task of very large size (4288 KiB). The maximum recommended task size is 1000 KiB.\n",
      "22/11/15 02:36:36 WARN TaskSetManager: Stage 2042 contains a task of very large size (4288 KiB). The maximum recommended task size is 1000 KiB.\n",
      "22/11/15 02:36:37 WARN TaskSetManager: Stage 2044 contains a task of very large size (4288 KiB). The maximum recommended task size is 1000 KiB.\n",
      "22/11/15 02:36:38 WARN DAGScheduler: Broadcasting large task binary with size 1182.1 KiB\n",
      "22/11/15 02:36:38 WARN TaskSetManager: Stage 2046 contains a task of very large size (4288 KiB). The maximum recommended task size is 1000 KiB.\n"
     ]
    },
    {
     "name": "stderr",
     "output_type": "stream",
     "text": [
      "                                                                                \r"
     ]
    },
    {
     "name": "stdout",
     "output_type": "stream",
     "text": [
      "22/11/15 02:36:39 WARN TaskSetManager: Stage 2048 contains a task of very large size (4288 KiB). The maximum recommended task size is 1000 KiB.\n",
      "22/11/15 02:36:39 WARN TaskSetManager: Stage 2049 contains a task of very large size (4288 KiB). The maximum recommended task size is 1000 KiB.\n",
      "22/11/15 02:36:39 WARN TaskSetManager: Stage 2050 contains a task of very large size (4288 KiB). The maximum recommended task size is 1000 KiB.\n",
      "22/11/15 02:36:39 WARN TaskSetManager: Stage 2051 contains a task of very large size (4288 KiB). The maximum recommended task size is 1000 KiB.\n",
      "22/11/15 02:36:40 WARN TaskSetManager: Stage 2053 contains a task of very large size (4288 KiB). The maximum recommended task size is 1000 KiB.\n",
      "22/11/15 02:36:40 WARN TaskSetManager: Stage 2055 contains a task of very large size (4288 KiB). The maximum recommended task size is 1000 KiB.\n",
      "22/11/15 02:36:41 WARN TaskSetManager: Stage 2057 contains a task of very large size (4288 KiB). The maximum recommended task size is 1000 KiB.\n",
      "22/11/15 02:36:41 WARN TaskSetManager: Stage 2059 contains a task of very large size (4288 KiB). The maximum recommended task size is 1000 KiB.\n",
      "22/11/15 02:36:41 WARN TaskSetManager: Stage 2061 contains a task of very large size (4288 KiB). The maximum recommended task size is 1000 KiB.\n",
      "22/11/15 02:36:42 WARN TaskSetManager: Stage 2063 contains a task of very large size (4288 KiB). The maximum recommended task size is 1000 KiB.\n",
      "22/11/15 02:36:43 WARN TaskSetManager: Stage 2065 contains a task of very large size (4288 KiB). The maximum recommended task size is 1000 KiB.\n"
     ]
    },
    {
     "name": "stderr",
     "output_type": "stream",
     "text": [
      "                                                                                \r"
     ]
    },
    {
     "name": "stdout",
     "output_type": "stream",
     "text": [
      "22/11/15 02:36:44 WARN TaskSetManager: Stage 2067 contains a task of very large size (4288 KiB). The maximum recommended task size is 1000 KiB.\n"
     ]
    },
    {
     "name": "stderr",
     "output_type": "stream",
     "text": [
      "                                                                                \r"
     ]
    },
    {
     "name": "stdout",
     "output_type": "stream",
     "text": [
      "22/11/15 02:36:45 WARN DAGScheduler: Broadcasting large task binary with size 1467.7 KiB\n",
      "22/11/15 02:36:45 WARN TaskSetManager: Stage 2069 contains a task of very large size (4288 KiB). The maximum recommended task size is 1000 KiB.\n"
     ]
    },
    {
     "name": "stderr",
     "output_type": "stream",
     "text": [
      "                                                                                \r"
     ]
    },
    {
     "name": "stdout",
     "output_type": "stream",
     "text": [
      "22/11/15 02:36:47 WARN DAGScheduler: Broadcasting large task binary with size 2.2 MiB\n",
      "22/11/15 02:36:47 WARN TaskSetManager: Stage 2071 contains a task of very large size (4288 KiB). The maximum recommended task size is 1000 KiB.\n"
     ]
    },
    {
     "name": "stderr",
     "output_type": "stream",
     "text": [
      "                                                                                \r"
     ]
    },
    {
     "name": "stdout",
     "output_type": "stream",
     "text": [
      "22/11/15 02:36:50 WARN TaskSetManager: Stage 2073 contains a task of very large size (4288 KiB). The maximum recommended task size is 1000 KiB.\n",
      "22/11/15 02:36:51 WARN TaskSetManager: Stage 2074 contains a task of very large size (4288 KiB). The maximum recommended task size is 1000 KiB.\n",
      "22/11/15 02:36:51 WARN TaskSetManager: Stage 2075 contains a task of very large size (4288 KiB). The maximum recommended task size is 1000 KiB.\n",
      "22/11/15 02:36:51 WARN TaskSetManager: Stage 2076 contains a task of very large size (4288 KiB). The maximum recommended task size is 1000 KiB.\n",
      "22/11/15 02:36:51 WARN TaskSetManager: Stage 2078 contains a task of very large size (4288 KiB). The maximum recommended task size is 1000 KiB.\n",
      "22/11/15 02:36:51 WARN TaskSetManager: Stage 2080 contains a task of very large size (4288 KiB). The maximum recommended task size is 1000 KiB.\n",
      "22/11/15 02:36:52 WARN TaskSetManager: Stage 2082 contains a task of very large size (4288 KiB). The maximum recommended task size is 1000 KiB.\n",
      "22/11/15 02:36:52 WARN TaskSetManager: Stage 2084 contains a task of very large size (4288 KiB). The maximum recommended task size is 1000 KiB.\n",
      "22/11/15 02:36:52 WARN TaskSetManager: Stage 2086 contains a task of very large size (4288 KiB). The maximum recommended task size is 1000 KiB.\n",
      "22/11/15 02:36:52 WARN TaskSetManager: Stage 2088 contains a task of very large size (4288 KiB). The maximum recommended task size is 1000 KiB.\n",
      "22/11/15 02:36:53 WARN TaskSetManager: Stage 2090 contains a task of very large size (4288 KiB). The maximum recommended task size is 1000 KiB.\n",
      "22/11/15 02:36:53 WARN TaskSetManager: Stage 2092 contains a task of very large size (4288 KiB). The maximum recommended task size is 1000 KiB.\n",
      "22/11/15 02:36:54 WARN TaskSetManager: Stage 2094 contains a task of very large size (4288 KiB). The maximum recommended task size is 1000 KiB.\n",
      "22/11/15 02:36:54 WARN TaskSetManager: Stage 2096 contains a task of very large size (4288 KiB). The maximum recommended task size is 1000 KiB.\n",
      "22/11/15 02:36:55 WARN TaskSetManager: Stage 2098 contains a task of very large size (4288 KiB). The maximum recommended task size is 1000 KiB.\n",
      "22/11/15 02:36:56 WARN TaskSetManager: Stage 2099 contains a task of very large size (4288 KiB). The maximum recommended task size is 1000 KiB.\n",
      "22/11/15 02:36:56 WARN TaskSetManager: Stage 2100 contains a task of very large size (4288 KiB). The maximum recommended task size is 1000 KiB.\n",
      "22/11/15 02:36:56 WARN TaskSetManager: Stage 2101 contains a task of very large size (4288 KiB). The maximum recommended task size is 1000 KiB.\n",
      "22/11/15 02:36:56 WARN TaskSetManager: Stage 2103 contains a task of very large size (4288 KiB). The maximum recommended task size is 1000 KiB.\n",
      "22/11/15 02:36:57 WARN TaskSetManager: Stage 2105 contains a task of very large size (4288 KiB). The maximum recommended task size is 1000 KiB.\n",
      "22/11/15 02:36:57 WARN TaskSetManager: Stage 2107 contains a task of very large size (4288 KiB). The maximum recommended task size is 1000 KiB.\n",
      "22/11/15 02:36:57 WARN TaskSetManager: Stage 2109 contains a task of very large size (4288 KiB). The maximum recommended task size is 1000 KiB.\n",
      "22/11/15 02:36:57 WARN TaskSetManager: Stage 2111 contains a task of very large size (4288 KiB). The maximum recommended task size is 1000 KiB.\n",
      "22/11/15 02:36:58 WARN TaskSetManager: Stage 2113 contains a task of very large size (4288 KiB). The maximum recommended task size is 1000 KiB.\n",
      "22/11/15 02:36:58 WARN TaskSetManager: Stage 2115 contains a task of very large size (4288 KiB). The maximum recommended task size is 1000 KiB.\n",
      "22/11/15 02:36:59 WARN TaskSetManager: Stage 2117 contains a task of very large size (4288 KiB). The maximum recommended task size is 1000 KiB.\n",
      "22/11/15 02:37:00 WARN TaskSetManager: Stage 2119 contains a task of very large size (4288 KiB). The maximum recommended task size is 1000 KiB.\n"
     ]
    },
    {
     "name": "stderr",
     "output_type": "stream",
     "text": [
      "                                                                                \r"
     ]
    },
    {
     "name": "stdout",
     "output_type": "stream",
     "text": [
      "22/11/15 02:37:01 WARN DAGScheduler: Broadcasting large task binary with size 1168.1 KiB\n",
      "22/11/15 02:37:01 WARN TaskSetManager: Stage 2121 contains a task of very large size (4288 KiB). The maximum recommended task size is 1000 KiB.\n"
     ]
    },
    {
     "name": "stderr",
     "output_type": "stream",
     "text": [
      "                                                                                \r"
     ]
    },
    {
     "name": "stdout",
     "output_type": "stream",
     "text": [
      "22/11/15 02:37:02 WARN TaskSetManager: Stage 2123 contains a task of very large size (4288 KiB). The maximum recommended task size is 1000 KiB.\n",
      "22/11/15 02:37:03 WARN TaskSetManager: Stage 2124 contains a task of very large size (4288 KiB). The maximum recommended task size is 1000 KiB.\n",
      "22/11/15 02:37:03 WARN TaskSetManager: Stage 2125 contains a task of very large size (4288 KiB). The maximum recommended task size is 1000 KiB.\n",
      "22/11/15 02:37:03 WARN TaskSetManager: Stage 2126 contains a task of very large size (4288 KiB). The maximum recommended task size is 1000 KiB.\n",
      "22/11/15 02:37:03 WARN TaskSetManager: Stage 2128 contains a task of very large size (4288 KiB). The maximum recommended task size is 1000 KiB.\n",
      "22/11/15 02:37:03 WARN TaskSetManager: Stage 2130 contains a task of very large size (4288 KiB). The maximum recommended task size is 1000 KiB.\n",
      "22/11/15 02:37:04 WARN TaskSetManager: Stage 2132 contains a task of very large size (4288 KiB). The maximum recommended task size is 1000 KiB.\n",
      "22/11/15 02:37:04 WARN TaskSetManager: Stage 2134 contains a task of very large size (4288 KiB). The maximum recommended task size is 1000 KiB.\n",
      "22/11/15 02:37:04 WARN TaskSetManager: Stage 2136 contains a task of very large size (4288 KiB). The maximum recommended task size is 1000 KiB.\n",
      "22/11/15 02:37:05 WARN TaskSetManager: Stage 2138 contains a task of very large size (4288 KiB). The maximum recommended task size is 1000 KiB.\n"
     ]
    },
    {
     "name": "stderr",
     "output_type": "stream",
     "text": [
      "                                                                                \r"
     ]
    },
    {
     "name": "stdout",
     "output_type": "stream",
     "text": [
      "22/11/15 02:37:06 WARN TaskSetManager: Stage 2140 contains a task of very large size (4288 KiB). The maximum recommended task size is 1000 KiB.\n"
     ]
    },
    {
     "name": "stderr",
     "output_type": "stream",
     "text": [
      "                                                                                \r"
     ]
    },
    {
     "name": "stdout",
     "output_type": "stream",
     "text": [
      "22/11/15 02:37:07 WARN TaskSetManager: Stage 2142 contains a task of very large size (4288 KiB). The maximum recommended task size is 1000 KiB.\n"
     ]
    },
    {
     "name": "stderr",
     "output_type": "stream",
     "text": [
      "                                                                                \r"
     ]
    },
    {
     "name": "stdout",
     "output_type": "stream",
     "text": [
      "22/11/15 02:37:09 WARN DAGScheduler: Broadcasting large task binary with size 1470.9 KiB\n",
      "22/11/15 02:37:09 WARN TaskSetManager: Stage 2144 contains a task of very large size (4288 KiB). The maximum recommended task size is 1000 KiB.\n"
     ]
    },
    {
     "name": "stderr",
     "output_type": "stream",
     "text": [
      "                                                                                \r"
     ]
    },
    {
     "name": "stdout",
     "output_type": "stream",
     "text": [
      "22/11/15 02:37:11 WARN DAGScheduler: Broadcasting large task binary with size 2.2 MiB\n",
      "22/11/15 02:37:11 WARN TaskSetManager: Stage 2146 contains a task of very large size (4288 KiB). The maximum recommended task size is 1000 KiB.\n"
     ]
    },
    {
     "name": "stderr",
     "output_type": "stream",
     "text": [
      "                                                                                \r"
     ]
    },
    {
     "name": "stdout",
     "output_type": "stream",
     "text": [
      "22/11/15 02:37:14 WARN TaskSetManager: Stage 2148 contains a task of very large size (4288 KiB). The maximum recommended task size is 1000 KiB.\n",
      "22/11/15 02:37:15 WARN TaskSetManager: Stage 2149 contains a task of very large size (4288 KiB). The maximum recommended task size is 1000 KiB.\n",
      "22/11/15 02:37:15 WARN TaskSetManager: Stage 2150 contains a task of very large size (4288 KiB). The maximum recommended task size is 1000 KiB.\n"
     ]
    },
    {
     "name": "stderr",
     "output_type": "stream",
     "text": [
      "\r",
      "[Stage 2150:==========================================>             (3 + 1) / 4]\r",
      "\r",
      "                                                                                \r"
     ]
    },
    {
     "name": "stdout",
     "output_type": "stream",
     "text": [
      "22/11/15 02:37:16 WARN TaskSetManager: Stage 2151 contains a task of very large size (4288 KiB). The maximum recommended task size is 1000 KiB.\n",
      "22/11/15 02:37:16 WARN TaskSetManager: Stage 2153 contains a task of very large size (4288 KiB). The maximum recommended task size is 1000 KiB.\n",
      "22/11/15 02:37:16 WARN TaskSetManager: Stage 2155 contains a task of very large size (4288 KiB). The maximum recommended task size is 1000 KiB.\n",
      "22/11/15 02:37:16 WARN TaskSetManager: Stage 2157 contains a task of very large size (4288 KiB). The maximum recommended task size is 1000 KiB.\n",
      "22/11/15 02:37:17 WARN TaskSetManager: Stage 2159 contains a task of very large size (4288 KiB). The maximum recommended task size is 1000 KiB.\n",
      "22/11/15 02:37:17 WARN TaskSetManager: Stage 2161 contains a task of very large size (4288 KiB). The maximum recommended task size is 1000 KiB.\n",
      "22/11/15 02:37:17 WARN TaskSetManager: Stage 2163 contains a task of very large size (4288 KiB). The maximum recommended task size is 1000 KiB.\n",
      "22/11/15 02:37:18 WARN TaskSetManager: Stage 2164 contains a task of very large size (4288 KiB). The maximum recommended task size is 1000 KiB.\n",
      "22/11/15 02:37:18 WARN TaskSetManager: Stage 2165 contains a task of very large size (4288 KiB). The maximum recommended task size is 1000 KiB.\n",
      "22/11/15 02:37:18 WARN TaskSetManager: Stage 2166 contains a task of very large size (4288 KiB). The maximum recommended task size is 1000 KiB.\n",
      "22/11/15 02:37:18 WARN TaskSetManager: Stage 2168 contains a task of very large size (4288 KiB). The maximum recommended task size is 1000 KiB.\n",
      "22/11/15 02:37:19 WARN TaskSetManager: Stage 2170 contains a task of very large size (4288 KiB). The maximum recommended task size is 1000 KiB.\n",
      "22/11/15 02:37:19 WARN TaskSetManager: Stage 2172 contains a task of very large size (4288 KiB). The maximum recommended task size is 1000 KiB.\n",
      "22/11/15 02:37:19 WARN TaskSetManager: Stage 2174 contains a task of very large size (4288 KiB). The maximum recommended task size is 1000 KiB.\n",
      "22/11/15 02:37:19 WARN TaskSetManager: Stage 2176 contains a task of very large size (4288 KiB). The maximum recommended task size is 1000 KiB.\n",
      "22/11/15 02:37:20 WARN TaskSetManager: Stage 2178 contains a task of very large size (4288 KiB). The maximum recommended task size is 1000 KiB.\n",
      "22/11/15 02:37:20 WARN TaskSetManager: Stage 2179 contains a task of very large size (4288 KiB). The maximum recommended task size is 1000 KiB.\n",
      "22/11/15 02:37:20 WARN TaskSetManager: Stage 2180 contains a task of very large size (4288 KiB). The maximum recommended task size is 1000 KiB.\n",
      "22/11/15 02:37:20 WARN TaskSetManager: Stage 2181 contains a task of very large size (4288 KiB). The maximum recommended task size is 1000 KiB.\n",
      "22/11/15 02:37:21 WARN TaskSetManager: Stage 2183 contains a task of very large size (4288 KiB). The maximum recommended task size is 1000 KiB.\n",
      "22/11/15 02:37:21 WARN TaskSetManager: Stage 2185 contains a task of very large size (4288 KiB). The maximum recommended task size is 1000 KiB.\n",
      "22/11/15 02:37:21 WARN TaskSetManager: Stage 2187 contains a task of very large size (4288 KiB). The maximum recommended task size is 1000 KiB.\n",
      "22/11/15 02:37:21 WARN TaskSetManager: Stage 2189 contains a task of very large size (4288 KiB). The maximum recommended task size is 1000 KiB.\n",
      "22/11/15 02:37:22 WARN TaskSetManager: Stage 2191 contains a task of very large size (4288 KiB). The maximum recommended task size is 1000 KiB.\n",
      "22/11/15 02:37:22 WARN TaskSetManager: Stage 2193 contains a task of very large size (4288 KiB). The maximum recommended task size is 1000 KiB.\n",
      "22/11/15 02:37:23 WARN TaskSetManager: Stage 2194 contains a task of very large size (4288 KiB). The maximum recommended task size is 1000 KiB.\n",
      "22/11/15 02:37:23 WARN TaskSetManager: Stage 2195 contains a task of very large size (4288 KiB). The maximum recommended task size is 1000 KiB.\n",
      "22/11/15 02:37:23 WARN TaskSetManager: Stage 2196 contains a task of very large size (4288 KiB). The maximum recommended task size is 1000 KiB.\n",
      "22/11/15 02:37:23 WARN TaskSetManager: Stage 2198 contains a task of very large size (4288 KiB). The maximum recommended task size is 1000 KiB.\n",
      "22/11/15 02:37:23 WARN TaskSetManager: Stage 2200 contains a task of very large size (4288 KiB). The maximum recommended task size is 1000 KiB.\n",
      "22/11/15 02:37:24 WARN TaskSetManager: Stage 2202 contains a task of very large size (4288 KiB). The maximum recommended task size is 1000 KiB.\n",
      "22/11/15 02:37:24 WARN TaskSetManager: Stage 2204 contains a task of very large size (4288 KiB). The maximum recommended task size is 1000 KiB.\n",
      "22/11/15 02:37:24 WARN TaskSetManager: Stage 2206 contains a task of very large size (4288 KiB). The maximum recommended task size is 1000 KiB.\n",
      "22/11/15 02:37:24 WARN TaskSetManager: Stage 2208 contains a task of very large size (4288 KiB). The maximum recommended task size is 1000 KiB.\n",
      "22/11/15 02:37:25 WARN TaskSetManager: Stage 2209 contains a task of very large size (4288 KiB). The maximum recommended task size is 1000 KiB.\n",
      "22/11/15 02:37:25 WARN TaskSetManager: Stage 2210 contains a task of very large size (4288 KiB). The maximum recommended task size is 1000 KiB.\n",
      "22/11/15 02:37:25 WARN TaskSetManager: Stage 2211 contains a task of very large size (4288 KiB). The maximum recommended task size is 1000 KiB.\n",
      "22/11/15 02:37:25 WARN TaskSetManager: Stage 2213 contains a task of very large size (4288 KiB). The maximum recommended task size is 1000 KiB.\n",
      "22/11/15 02:37:26 WARN TaskSetManager: Stage 2215 contains a task of very large size (4288 KiB). The maximum recommended task size is 1000 KiB.\n",
      "22/11/15 02:37:26 WARN TaskSetManager: Stage 2217 contains a task of very large size (4288 KiB). The maximum recommended task size is 1000 KiB.\n",
      "22/11/15 02:37:26 WARN TaskSetManager: Stage 2219 contains a task of very large size (4288 KiB). The maximum recommended task size is 1000 KiB.\n",
      "22/11/15 02:37:26 WARN TaskSetManager: Stage 2221 contains a task of very large size (4288 KiB). The maximum recommended task size is 1000 KiB.\n",
      "22/11/15 02:37:27 WARN TaskSetManager: Stage 2223 contains a task of very large size (4288 KiB). The maximum recommended task size is 1000 KiB.\n",
      "22/11/15 02:37:27 WARN TaskSetManager: Stage 2224 contains a task of very large size (4288 KiB). The maximum recommended task size is 1000 KiB.\n",
      "22/11/15 02:37:27 WARN TaskSetManager: Stage 2225 contains a task of very large size (4288 KiB). The maximum recommended task size is 1000 KiB.\n",
      "22/11/15 02:37:27 WARN TaskSetManager: Stage 2226 contains a task of very large size (4288 KiB). The maximum recommended task size is 1000 KiB.\n",
      "22/11/15 02:37:28 WARN TaskSetManager: Stage 2228 contains a task of very large size (4288 KiB). The maximum recommended task size is 1000 KiB.\n",
      "22/11/15 02:37:28 WARN TaskSetManager: Stage 2230 contains a task of very large size (4288 KiB). The maximum recommended task size is 1000 KiB.\n",
      "22/11/15 02:37:29 WARN TaskSetManager: Stage 2232 contains a task of very large size (4288 KiB). The maximum recommended task size is 1000 KiB.\n",
      "22/11/15 02:37:29 WARN TaskSetManager: Stage 2234 contains a task of very large size (4288 KiB). The maximum recommended task size is 1000 KiB.\n",
      "22/11/15 02:37:30 WARN TaskSetManager: Stage 2236 contains a task of very large size (4288 KiB). The maximum recommended task size is 1000 KiB.\n",
      "22/11/15 02:37:31 WARN TaskSetManager: Stage 2238 contains a task of very large size (4288 KiB). The maximum recommended task size is 1000 KiB.\n",
      "22/11/15 02:37:31 WARN TaskSetManager: Stage 2239 contains a task of very large size (4288 KiB). The maximum recommended task size is 1000 KiB.\n",
      "22/11/15 02:37:31 WARN TaskSetManager: Stage 2240 contains a task of very large size (4288 KiB). The maximum recommended task size is 1000 KiB.\n",
      "22/11/15 02:37:31 WARN TaskSetManager: Stage 2241 contains a task of very large size (4288 KiB). The maximum recommended task size is 1000 KiB.\n",
      "22/11/15 02:37:32 WARN TaskSetManager: Stage 2243 contains a task of very large size (4288 KiB). The maximum recommended task size is 1000 KiB.\n",
      "22/11/15 02:37:32 WARN TaskSetManager: Stage 2245 contains a task of very large size (4288 KiB). The maximum recommended task size is 1000 KiB.\n",
      "22/11/15 02:37:32 WARN TaskSetManager: Stage 2247 contains a task of very large size (4288 KiB). The maximum recommended task size is 1000 KiB.\n"
     ]
    },
    {
     "name": "stdout",
     "output_type": "stream",
     "text": [
      "22/11/15 02:37:33 WARN TaskSetManager: Stage 2249 contains a task of very large size (4288 KiB). The maximum recommended task size is 1000 KiB.\n",
      "22/11/15 02:37:33 WARN TaskSetManager: Stage 2251 contains a task of very large size (4288 KiB). The maximum recommended task size is 1000 KiB.\n",
      "22/11/15 02:37:33 WARN TaskSetManager: Stage 2253 contains a task of very large size (4288 KiB). The maximum recommended task size is 1000 KiB.\n",
      "22/11/15 02:37:34 WARN TaskSetManager: Stage 2254 contains a task of very large size (4288 KiB). The maximum recommended task size is 1000 KiB.\n",
      "22/11/15 02:37:34 WARN TaskSetManager: Stage 2255 contains a task of very large size (4288 KiB). The maximum recommended task size is 1000 KiB.\n",
      "22/11/15 02:37:34 WARN TaskSetManager: Stage 2256 contains a task of very large size (4288 KiB). The maximum recommended task size is 1000 KiB.\n",
      "22/11/15 02:37:34 WARN TaskSetManager: Stage 2258 contains a task of very large size (4288 KiB). The maximum recommended task size is 1000 KiB.\n",
      "22/11/15 02:37:35 WARN TaskSetManager: Stage 2260 contains a task of very large size (4288 KiB). The maximum recommended task size is 1000 KiB.\n",
      "22/11/15 02:37:35 WARN TaskSetManager: Stage 2262 contains a task of very large size (4288 KiB). The maximum recommended task size is 1000 KiB.\n",
      "22/11/15 02:37:35 WARN TaskSetManager: Stage 2264 contains a task of very large size (4288 KiB). The maximum recommended task size is 1000 KiB.\n",
      "22/11/15 02:37:35 WARN TaskSetManager: Stage 2266 contains a task of very large size (4288 KiB). The maximum recommended task size is 1000 KiB.\n",
      "22/11/15 02:37:36 WARN TaskSetManager: Stage 2268 contains a task of very large size (4288 KiB). The maximum recommended task size is 1000 KiB.\n",
      "22/11/15 02:37:36 WARN TaskSetManager: Stage 2269 contains a task of very large size (4288 KiB). The maximum recommended task size is 1000 KiB.\n",
      "22/11/15 02:37:36 WARN TaskSetManager: Stage 2270 contains a task of very large size (4288 KiB). The maximum recommended task size is 1000 KiB.\n",
      "22/11/15 02:37:36 WARN TaskSetManager: Stage 2271 contains a task of very large size (4288 KiB). The maximum recommended task size is 1000 KiB.\n",
      "22/11/15 02:37:36 WARN TaskSetManager: Stage 2273 contains a task of very large size (4288 KiB). The maximum recommended task size is 1000 KiB.\n",
      "22/11/15 02:37:37 WARN TaskSetManager: Stage 2275 contains a task of very large size (4288 KiB). The maximum recommended task size is 1000 KiB.\n",
      "22/11/15 02:37:37 WARN TaskSetManager: Stage 2277 contains a task of very large size (4288 KiB). The maximum recommended task size is 1000 KiB.\n",
      "22/11/15 02:37:38 WARN TaskSetManager: Stage 2279 contains a task of very large size (4288 KiB). The maximum recommended task size is 1000 KiB.\n",
      "22/11/15 02:37:38 WARN TaskSetManager: Stage 2281 contains a task of very large size (4288 KiB). The maximum recommended task size is 1000 KiB.\n",
      "22/11/15 02:37:39 WARN TaskSetManager: Stage 2283 contains a task of very large size (4288 KiB). The maximum recommended task size is 1000 KiB.\n",
      "22/11/15 02:37:39 WARN TaskSetManager: Stage 2284 contains a task of very large size (4288 KiB). The maximum recommended task size is 1000 KiB.\n",
      "22/11/15 02:37:39 WARN TaskSetManager: Stage 2285 contains a task of very large size (4288 KiB). The maximum recommended task size is 1000 KiB.\n",
      "22/11/15 02:37:39 WARN TaskSetManager: Stage 2286 contains a task of very large size (4288 KiB). The maximum recommended task size is 1000 KiB.\n",
      "22/11/15 02:37:40 WARN TaskSetManager: Stage 2288 contains a task of very large size (4288 KiB). The maximum recommended task size is 1000 KiB.\n",
      "22/11/15 02:37:40 WARN TaskSetManager: Stage 2290 contains a task of very large size (4288 KiB). The maximum recommended task size is 1000 KiB.\n",
      "22/11/15 02:37:40 WARN TaskSetManager: Stage 2292 contains a task of very large size (4288 KiB). The maximum recommended task size is 1000 KiB.\n",
      "22/11/15 02:37:41 WARN TaskSetManager: Stage 2294 contains a task of very large size (4288 KiB). The maximum recommended task size is 1000 KiB.\n",
      "22/11/15 02:37:41 WARN TaskSetManager: Stage 2296 contains a task of very large size (4288 KiB). The maximum recommended task size is 1000 KiB.\n",
      "22/11/15 02:37:41 WARN TaskSetManager: Stage 2298 contains a task of very large size (4288 KiB). The maximum recommended task size is 1000 KiB.\n",
      "22/11/15 02:37:41 WARN TaskSetManager: Stage 2300 contains a task of very large size (4288 KiB). The maximum recommended task size is 1000 KiB.\n",
      "22/11/15 02:37:41 WARN TaskSetManager: Stage 2302 contains a task of very large size (4288 KiB). The maximum recommended task size is 1000 KiB.\n",
      "22/11/15 02:37:42 WARN TaskSetManager: Stage 2304 contains a task of very large size (4288 KiB). The maximum recommended task size is 1000 KiB.\n",
      "22/11/15 02:37:42 WARN TaskSetManager: Stage 2305 contains a task of very large size (4288 KiB). The maximum recommended task size is 1000 KiB.\n",
      "22/11/15 02:37:42 WARN TaskSetManager: Stage 2306 contains a task of very large size (4288 KiB). The maximum recommended task size is 1000 KiB.\n",
      "22/11/15 02:37:42 WARN TaskSetManager: Stage 2307 contains a task of very large size (4288 KiB). The maximum recommended task size is 1000 KiB.\n",
      "22/11/15 02:37:43 WARN TaskSetManager: Stage 2309 contains a task of very large size (4288 KiB). The maximum recommended task size is 1000 KiB.\n",
      "22/11/15 02:37:43 WARN TaskSetManager: Stage 2311 contains a task of very large size (4288 KiB). The maximum recommended task size is 1000 KiB.\n",
      "22/11/15 02:37:43 WARN TaskSetManager: Stage 2313 contains a task of very large size (4288 KiB). The maximum recommended task size is 1000 KiB.\n",
      "22/11/15 02:37:43 WARN TaskSetManager: Stage 2315 contains a task of very large size (4288 KiB). The maximum recommended task size is 1000 KiB.\n",
      "22/11/15 02:37:44 WARN TaskSetManager: Stage 2317 contains a task of very large size (4288 KiB). The maximum recommended task size is 1000 KiB.\n",
      "22/11/15 02:37:44 WARN TaskSetManager: Stage 2319 contains a task of very large size (4288 KiB). The maximum recommended task size is 1000 KiB.\n",
      "22/11/15 02:37:44 WARN TaskSetManager: Stage 2321 contains a task of very large size (4288 KiB). The maximum recommended task size is 1000 KiB.\n",
      "22/11/15 02:37:45 WARN TaskSetManager: Stage 2323 contains a task of very large size (4288 KiB). The maximum recommended task size is 1000 KiB.\n",
      "22/11/15 02:37:46 WARN TaskSetManager: Stage 2325 contains a task of very large size (4288 KiB). The maximum recommended task size is 1000 KiB.\n",
      "22/11/15 02:37:46 WARN TaskSetManager: Stage 2326 contains a task of very large size (4288 KiB). The maximum recommended task size is 1000 KiB.\n",
      "22/11/15 02:37:46 WARN TaskSetManager: Stage 2327 contains a task of very large size (4288 KiB). The maximum recommended task size is 1000 KiB.\n",
      "22/11/15 02:37:46 WARN TaskSetManager: Stage 2328 contains a task of very large size (4288 KiB). The maximum recommended task size is 1000 KiB.\n",
      "22/11/15 02:37:46 WARN TaskSetManager: Stage 2330 contains a task of very large size (4288 KiB). The maximum recommended task size is 1000 KiB.\n",
      "22/11/15 02:37:47 WARN TaskSetManager: Stage 2332 contains a task of very large size (4288 KiB). The maximum recommended task size is 1000 KiB.\n",
      "22/11/15 02:37:47 WARN TaskSetManager: Stage 2334 contains a task of very large size (4288 KiB). The maximum recommended task size is 1000 KiB.\n",
      "22/11/15 02:37:47 WARN TaskSetManager: Stage 2336 contains a task of very large size (4288 KiB). The maximum recommended task size is 1000 KiB.\n",
      "22/11/15 02:37:47 WARN TaskSetManager: Stage 2338 contains a task of very large size (4288 KiB). The maximum recommended task size is 1000 KiB.\n",
      "22/11/15 02:37:48 WARN TaskSetManager: Stage 2340 contains a task of very large size (4288 KiB). The maximum recommended task size is 1000 KiB.\n",
      "22/11/15 02:37:49 WARN TaskSetManager: Stage 2342 contains a task of very large size (4288 KiB). The maximum recommended task size is 1000 KiB.\n",
      "22/11/15 02:37:49 WARN TaskSetManager: Stage 2344 contains a task of very large size (4288 KiB). The maximum recommended task size is 1000 KiB.\n"
     ]
    },
    {
     "name": "stderr",
     "output_type": "stream",
     "text": [
      "                                                                                \r"
     ]
    },
    {
     "name": "stdout",
     "output_type": "stream",
     "text": [
      "22/11/15 02:37:51 WARN TaskSetManager: Stage 2346 contains a task of very large size (4288 KiB). The maximum recommended task size is 1000 KiB.\n",
      "22/11/15 02:37:51 WARN TaskSetManager: Stage 2347 contains a task of very large size (4288 KiB). The maximum recommended task size is 1000 KiB.\n",
      "22/11/15 02:37:51 WARN TaskSetManager: Stage 2348 contains a task of very large size (4288 KiB). The maximum recommended task size is 1000 KiB.\n",
      "22/11/15 02:37:51 WARN TaskSetManager: Stage 2349 contains a task of very large size (4288 KiB). The maximum recommended task size is 1000 KiB.\n",
      "22/11/15 02:37:51 WARN TaskSetManager: Stage 2351 contains a task of very large size (4288 KiB). The maximum recommended task size is 1000 KiB.\n",
      "22/11/15 02:37:52 WARN TaskSetManager: Stage 2353 contains a task of very large size (4288 KiB). The maximum recommended task size is 1000 KiB.\n",
      "22/11/15 02:37:52 WARN TaskSetManager: Stage 2355 contains a task of very large size (4288 KiB). The maximum recommended task size is 1000 KiB.\n",
      "22/11/15 02:37:52 WARN TaskSetManager: Stage 2357 contains a task of very large size (4288 KiB). The maximum recommended task size is 1000 KiB.\n",
      "22/11/15 02:37:52 WARN TaskSetManager: Stage 2359 contains a task of very large size (4288 KiB). The maximum recommended task size is 1000 KiB.\n",
      "22/11/15 02:37:52 WARN TaskSetManager: Stage 2361 contains a task of very large size (4288 KiB). The maximum recommended task size is 1000 KiB.\n",
      "22/11/15 02:37:53 WARN TaskSetManager: Stage 2363 contains a task of very large size (4288 KiB). The maximum recommended task size is 1000 KiB.\n",
      "22/11/15 02:37:53 WARN TaskSetManager: Stage 2365 contains a task of very large size (4288 KiB). The maximum recommended task size is 1000 KiB.\n",
      "22/11/15 02:37:53 WARN TaskSetManager: Stage 2367 contains a task of very large size (4288 KiB). The maximum recommended task size is 1000 KiB.\n",
      "22/11/15 02:37:54 WARN TaskSetManager: Stage 2368 contains a task of very large size (4288 KiB). The maximum recommended task size is 1000 KiB.\n",
      "22/11/15 02:37:54 WARN TaskSetManager: Stage 2369 contains a task of very large size (4288 KiB). The maximum recommended task size is 1000 KiB.\n",
      "22/11/15 02:37:54 WARN TaskSetManager: Stage 2370 contains a task of very large size (4288 KiB). The maximum recommended task size is 1000 KiB.\n",
      "22/11/15 02:37:54 WARN TaskSetManager: Stage 2372 contains a task of very large size (4288 KiB). The maximum recommended task size is 1000 KiB.\n",
      "22/11/15 02:37:54 WARN TaskSetManager: Stage 2374 contains a task of very large size (4288 KiB). The maximum recommended task size is 1000 KiB.\n",
      "22/11/15 02:37:55 WARN TaskSetManager: Stage 2376 contains a task of very large size (4288 KiB). The maximum recommended task size is 1000 KiB.\n",
      "22/11/15 02:37:55 WARN TaskSetManager: Stage 2378 contains a task of very large size (4288 KiB). The maximum recommended task size is 1000 KiB.\n",
      "22/11/15 02:37:55 WARN TaskSetManager: Stage 2380 contains a task of very large size (4288 KiB). The maximum recommended task size is 1000 KiB.\n",
      "22/11/15 02:37:55 WARN TaskSetManager: Stage 2382 contains a task of very large size (4288 KiB). The maximum recommended task size is 1000 KiB.\n",
      "22/11/15 02:37:56 WARN TaskSetManager: Stage 2384 contains a task of very large size (4288 KiB). The maximum recommended task size is 1000 KiB.\n",
      "22/11/15 02:37:56 WARN TaskSetManager: Stage 2386 contains a task of very large size (4288 KiB). The maximum recommended task size is 1000 KiB.\n",
      "22/11/15 02:37:57 WARN TaskSetManager: Stage 2388 contains a task of very large size (4288 KiB). The maximum recommended task size is 1000 KiB.\n",
      "22/11/15 02:37:57 WARN TaskSetManager: Stage 2389 contains a task of very large size (4288 KiB). The maximum recommended task size is 1000 KiB.\n",
      "22/11/15 02:37:57 WARN TaskSetManager: Stage 2390 contains a task of very large size (4288 KiB). The maximum recommended task size is 1000 KiB.\n",
      "22/11/15 02:37:58 WARN TaskSetManager: Stage 2391 contains a task of very large size (4288 KiB). The maximum recommended task size is 1000 KiB.\n",
      "22/11/15 02:37:58 WARN TaskSetManager: Stage 2393 contains a task of very large size (4288 KiB). The maximum recommended task size is 1000 KiB.\n",
      "22/11/15 02:37:58 WARN TaskSetManager: Stage 2395 contains a task of very large size (4288 KiB). The maximum recommended task size is 1000 KiB.\n",
      "22/11/15 02:37:59 WARN TaskSetManager: Stage 2397 contains a task of very large size (4288 KiB). The maximum recommended task size is 1000 KiB.\n",
      "22/11/15 02:37:59 WARN TaskSetManager: Stage 2399 contains a task of very large size (4288 KiB). The maximum recommended task size is 1000 KiB.\n",
      "22/11/15 02:37:59 WARN TaskSetManager: Stage 2401 contains a task of very large size (4288 KiB). The maximum recommended task size is 1000 KiB.\n",
      "22/11/15 02:38:00 WARN TaskSetManager: Stage 2403 contains a task of very large size (4288 KiB). The maximum recommended task size is 1000 KiB.\n",
      "22/11/15 02:38:00 WARN TaskSetManager: Stage 2405 contains a task of very large size (4288 KiB). The maximum recommended task size is 1000 KiB.\n"
     ]
    },
    {
     "name": "stderr",
     "output_type": "stream",
     "text": [
      "                                                                                \r"
     ]
    },
    {
     "name": "stdout",
     "output_type": "stream",
     "text": [
      "22/11/15 02:38:01 WARN TaskSetManager: Stage 2407 contains a task of very large size (4288 KiB). The maximum recommended task size is 1000 KiB.\n"
     ]
    },
    {
     "name": "stderr",
     "output_type": "stream",
     "text": [
      "                                                                                \r"
     ]
    },
    {
     "name": "stdout",
     "output_type": "stream",
     "text": [
      "22/11/15 02:38:03 WARN TaskSetManager: Stage 2409 contains a task of very large size (4288 KiB). The maximum recommended task size is 1000 KiB.\n",
      "22/11/15 02:38:03 WARN TaskSetManager: Stage 2410 contains a task of very large size (4288 KiB). The maximum recommended task size is 1000 KiB.\n",
      "22/11/15 02:38:03 WARN TaskSetManager: Stage 2411 contains a task of very large size (4288 KiB). The maximum recommended task size is 1000 KiB.\n",
      "22/11/15 02:38:03 WARN TaskSetManager: Stage 2412 contains a task of very large size (4288 KiB). The maximum recommended task size is 1000 KiB.\n",
      "22/11/15 02:38:04 WARN TaskSetManager: Stage 2414 contains a task of very large size (4288 KiB). The maximum recommended task size is 1000 KiB.\n",
      "22/11/15 02:38:04 WARN TaskSetManager: Stage 2416 contains a task of very large size (4288 KiB). The maximum recommended task size is 1000 KiB.\n",
      "22/11/15 02:38:04 WARN TaskSetManager: Stage 2418 contains a task of very large size (4288 KiB). The maximum recommended task size is 1000 KiB.\n",
      "22/11/15 02:38:04 WARN TaskSetManager: Stage 2420 contains a task of very large size (4288 KiB). The maximum recommended task size is 1000 KiB.\n",
      "22/11/15 02:38:04 WARN TaskSetManager: Stage 2422 contains a task of very large size (4288 KiB). The maximum recommended task size is 1000 KiB.\n",
      "22/11/15 02:38:05 WARN TaskSetManager: Stage 2424 contains a task of very large size (4288 KiB). The maximum recommended task size is 1000 KiB.\n",
      "22/11/15 02:38:05 WARN TaskSetManager: Stage 2426 contains a task of very large size (4288 KiB). The maximum recommended task size is 1000 KiB.\n",
      "22/11/15 02:38:05 WARN TaskSetManager: Stage 2428 contains a task of very large size (4288 KiB). The maximum recommended task size is 1000 KiB.\n",
      "22/11/15 02:38:06 WARN TaskSetManager: Stage 2430 contains a task of very large size (4288 KiB). The maximum recommended task size is 1000 KiB.\n",
      "22/11/15 02:38:06 WARN TaskSetManager: Stage 2431 contains a task of very large size (4288 KiB). The maximum recommended task size is 1000 KiB.\n",
      "22/11/15 02:38:06 WARN TaskSetManager: Stage 2432 contains a task of very large size (4288 KiB). The maximum recommended task size is 1000 KiB.\n",
      "22/11/15 02:38:06 WARN TaskSetManager: Stage 2433 contains a task of very large size (4288 KiB). The maximum recommended task size is 1000 KiB.\n",
      "22/11/15 02:38:07 WARN TaskSetManager: Stage 2435 contains a task of very large size (4288 KiB). The maximum recommended task size is 1000 KiB.\n",
      "22/11/15 02:38:07 WARN TaskSetManager: Stage 2437 contains a task of very large size (4288 KiB). The maximum recommended task size is 1000 KiB.\n",
      "22/11/15 02:38:07 WARN TaskSetManager: Stage 2439 contains a task of very large size (4288 KiB). The maximum recommended task size is 1000 KiB.\n",
      "22/11/15 02:38:07 WARN TaskSetManager: Stage 2441 contains a task of very large size (4288 KiB). The maximum recommended task size is 1000 KiB.\n",
      "22/11/15 02:38:08 WARN TaskSetManager: Stage 2443 contains a task of very large size (4288 KiB). The maximum recommended task size is 1000 KiB.\n",
      "22/11/15 02:38:08 WARN TaskSetManager: Stage 2445 contains a task of very large size (4288 KiB). The maximum recommended task size is 1000 KiB.\n",
      "22/11/15 02:38:08 WARN TaskSetManager: Stage 2447 contains a task of very large size (4288 KiB). The maximum recommended task size is 1000 KiB.\n",
      "22/11/15 02:38:09 WARN TaskSetManager: Stage 2449 contains a task of very large size (4288 KiB). The maximum recommended task size is 1000 KiB.\n",
      "22/11/15 02:38:10 WARN TaskSetManager: Stage 2451 contains a task of very large size (4288 KiB). The maximum recommended task size is 1000 KiB.\n",
      "22/11/15 02:38:10 WARN TaskSetManager: Stage 2452 contains a task of very large size (4288 KiB). The maximum recommended task size is 1000 KiB.\n",
      "22/11/15 02:38:10 WARN TaskSetManager: Stage 2453 contains a task of very large size (4288 KiB). The maximum recommended task size is 1000 KiB.\n",
      "22/11/15 02:38:10 WARN TaskSetManager: Stage 2454 contains a task of very large size (4288 KiB). The maximum recommended task size is 1000 KiB.\n",
      "22/11/15 02:38:11 WARN TaskSetManager: Stage 2456 contains a task of very large size (4288 KiB). The maximum recommended task size is 1000 KiB.\n",
      "22/11/15 02:38:11 WARN TaskSetManager: Stage 2458 contains a task of very large size (4288 KiB). The maximum recommended task size is 1000 KiB.\n",
      "22/11/15 02:38:11 WARN TaskSetManager: Stage 2460 contains a task of very large size (4288 KiB). The maximum recommended task size is 1000 KiB.\n",
      "22/11/15 02:38:12 WARN TaskSetManager: Stage 2462 contains a task of very large size (4288 KiB). The maximum recommended task size is 1000 KiB.\n",
      "22/11/15 02:38:12 WARN TaskSetManager: Stage 2464 contains a task of very large size (4288 KiB). The maximum recommended task size is 1000 KiB.\n",
      "22/11/15 02:38:12 WARN TaskSetManager: Stage 2466 contains a task of very large size (4288 KiB). The maximum recommended task size is 1000 KiB.\n",
      "22/11/15 02:38:13 WARN TaskSetManager: Stage 2468 contains a task of very large size (4288 KiB). The maximum recommended task size is 1000 KiB.\n"
     ]
    },
    {
     "name": "stderr",
     "output_type": "stream",
     "text": [
      "                                                                                \r"
     ]
    },
    {
     "name": "stdout",
     "output_type": "stream",
     "text": [
      "22/11/15 02:38:14 WARN TaskSetManager: Stage 2470 contains a task of very large size (4288 KiB). The maximum recommended task size is 1000 KiB.\n"
     ]
    },
    {
     "name": "stderr",
     "output_type": "stream",
     "text": [
      "                                                                                \r"
     ]
    },
    {
     "name": "stdout",
     "output_type": "stream",
     "text": [
      "22/11/15 02:38:16 WARN TaskSetManager: Stage 2472 contains a task of very large size (4288 KiB). The maximum recommended task size is 1000 KiB.\n",
      "22/11/15 02:38:16 WARN TaskSetManager: Stage 2473 contains a task of very large size (4288 KiB). The maximum recommended task size is 1000 KiB.\n",
      "22/11/15 02:38:16 WARN TaskSetManager: Stage 2474 contains a task of very large size (4288 KiB). The maximum recommended task size is 1000 KiB.\n",
      "22/11/15 02:38:16 WARN TaskSetManager: Stage 2475 contains a task of very large size (4288 KiB). The maximum recommended task size is 1000 KiB.\n",
      "22/11/15 02:38:17 WARN TaskSetManager: Stage 2477 contains a task of very large size (4288 KiB). The maximum recommended task size is 1000 KiB.\n",
      "22/11/15 02:38:17 WARN TaskSetManager: Stage 2479 contains a task of very large size (4288 KiB). The maximum recommended task size is 1000 KiB.\n",
      "22/11/15 02:38:17 WARN TaskSetManager: Stage 2481 contains a task of very large size (4288 KiB). The maximum recommended task size is 1000 KiB.\n",
      "22/11/15 02:38:17 WARN TaskSetManager: Stage 2483 contains a task of very large size (4288 KiB). The maximum recommended task size is 1000 KiB.\n",
      "22/11/15 02:38:18 WARN TaskSetManager: Stage 2485 contains a task of very large size (4288 KiB). The maximum recommended task size is 1000 KiB.\n",
      "22/11/15 02:38:18 WARN TaskSetManager: Stage 2487 contains a task of very large size (4288 KiB). The maximum recommended task size is 1000 KiB.\n",
      "22/11/15 02:38:18 WARN TaskSetManager: Stage 2489 contains a task of very large size (4288 KiB). The maximum recommended task size is 1000 KiB.\n",
      "22/11/15 02:38:18 WARN TaskSetManager: Stage 2491 contains a task of very large size (4288 KiB). The maximum recommended task size is 1000 KiB.\n",
      "22/11/15 02:38:19 WARN TaskSetManager: Stage 2493 contains a task of very large size (4288 KiB). The maximum recommended task size is 1000 KiB.\n",
      "22/11/15 02:38:19 WARN TaskSetManager: Stage 2495 contains a task of very large size (4288 KiB). The maximum recommended task size is 1000 KiB.\n",
      "22/11/15 02:38:20 WARN TaskSetManager: Stage 2497 contains a task of very large size (4288 KiB). The maximum recommended task size is 1000 KiB.\n",
      "22/11/15 02:38:20 WARN TaskSetManager: Stage 2498 contains a task of very large size (4288 KiB). The maximum recommended task size is 1000 KiB.\n",
      "22/11/15 02:38:20 WARN TaskSetManager: Stage 2499 contains a task of very large size (4288 KiB). The maximum recommended task size is 1000 KiB.\n",
      "22/11/15 02:38:20 WARN TaskSetManager: Stage 2500 contains a task of very large size (4288 KiB). The maximum recommended task size is 1000 KiB.\n",
      "22/11/15 02:38:20 WARN TaskSetManager: Stage 2502 contains a task of very large size (4288 KiB). The maximum recommended task size is 1000 KiB.\n",
      "22/11/15 02:38:21 WARN TaskSetManager: Stage 2504 contains a task of very large size (4288 KiB). The maximum recommended task size is 1000 KiB.\n",
      "22/11/15 02:38:21 WARN TaskSetManager: Stage 2506 contains a task of very large size (4288 KiB). The maximum recommended task size is 1000 KiB.\n",
      "22/11/15 02:38:21 WARN TaskSetManager: Stage 2508 contains a task of very large size (4288 KiB). The maximum recommended task size is 1000 KiB.\n",
      "22/11/15 02:38:21 WARN TaskSetManager: Stage 2510 contains a task of very large size (4288 KiB). The maximum recommended task size is 1000 KiB.\n",
      "22/11/15 02:38:22 WARN TaskSetManager: Stage 2512 contains a task of very large size (4288 KiB). The maximum recommended task size is 1000 KiB.\n",
      "22/11/15 02:38:22 WARN TaskSetManager: Stage 2514 contains a task of very large size (4288 KiB). The maximum recommended task size is 1000 KiB.\n",
      "22/11/15 02:38:23 WARN TaskSetManager: Stage 2516 contains a task of very large size (4288 KiB). The maximum recommended task size is 1000 KiB.\n",
      "22/11/15 02:38:23 WARN TaskSetManager: Stage 2518 contains a task of very large size (4288 KiB). The maximum recommended task size is 1000 KiB.\n",
      "22/11/15 02:38:24 WARN DAGScheduler: Broadcasting large task binary with size 1198.3 KiB\n",
      "22/11/15 02:38:24 WARN TaskSetManager: Stage 2520 contains a task of very large size (4288 KiB). The maximum recommended task size is 1000 KiB.\n"
     ]
    },
    {
     "name": "stderr",
     "output_type": "stream",
     "text": [
      "                                                                                \r"
     ]
    },
    {
     "name": "stdout",
     "output_type": "stream",
     "text": [
      "22/11/15 02:38:25 WARN TaskSetManager: Stage 2522 contains a task of very large size (4288 KiB). The maximum recommended task size is 1000 KiB.\n",
      "22/11/15 02:38:25 WARN TaskSetManager: Stage 2523 contains a task of very large size (4288 KiB). The maximum recommended task size is 1000 KiB.\n",
      "22/11/15 02:38:25 WARN TaskSetManager: Stage 2524 contains a task of very large size (4288 KiB). The maximum recommended task size is 1000 KiB.\n",
      "22/11/15 02:38:25 WARN TaskSetManager: Stage 2525 contains a task of very large size (4288 KiB). The maximum recommended task size is 1000 KiB.\n",
      "22/11/15 02:38:26 WARN TaskSetManager: Stage 2527 contains a task of very large size (4288 KiB). The maximum recommended task size is 1000 KiB.\n",
      "22/11/15 02:38:26 WARN TaskSetManager: Stage 2529 contains a task of very large size (4288 KiB). The maximum recommended task size is 1000 KiB.\n",
      "22/11/15 02:38:26 WARN TaskSetManager: Stage 2531 contains a task of very large size (4288 KiB). The maximum recommended task size is 1000 KiB.\n",
      "22/11/15 02:38:26 WARN TaskSetManager: Stage 2533 contains a task of very large size (4288 KiB). The maximum recommended task size is 1000 KiB.\n",
      "22/11/15 02:38:27 WARN TaskSetManager: Stage 2535 contains a task of very large size (4288 KiB). The maximum recommended task size is 1000 KiB.\n",
      "22/11/15 02:38:27 WARN TaskSetManager: Stage 2537 contains a task of very large size (4288 KiB). The maximum recommended task size is 1000 KiB.\n",
      "22/11/15 02:38:28 WARN TaskSetManager: Stage 2539 contains a task of very large size (4288 KiB). The maximum recommended task size is 1000 KiB.\n",
      "22/11/15 02:38:29 WARN TaskSetManager: Stage 2541 contains a task of very large size (4288 KiB). The maximum recommended task size is 1000 KiB.\n"
     ]
    },
    {
     "name": "stderr",
     "output_type": "stream",
     "text": [
      "                                                                                \r"
     ]
    },
    {
     "name": "stdout",
     "output_type": "stream",
     "text": [
      "22/11/15 02:38:31 WARN DAGScheduler: Broadcasting large task binary with size 1449.9 KiB\n",
      "22/11/15 02:38:31 WARN TaskSetManager: Stage 2543 contains a task of very large size (4288 KiB). The maximum recommended task size is 1000 KiB.\n"
     ]
    },
    {
     "name": "stderr",
     "output_type": "stream",
     "text": [
      "                                                                                \r"
     ]
    },
    {
     "name": "stdout",
     "output_type": "stream",
     "text": [
      "22/11/15 02:38:33 WARN DAGScheduler: Broadcasting large task binary with size 2.2 MiB\n",
      "22/11/15 02:38:33 WARN TaskSetManager: Stage 2545 contains a task of very large size (4288 KiB). The maximum recommended task size is 1000 KiB.\n"
     ]
    },
    {
     "name": "stderr",
     "output_type": "stream",
     "text": [
      "                                                                                \r"
     ]
    },
    {
     "name": "stdout",
     "output_type": "stream",
     "text": [
      "22/11/15 02:38:35 WARN TaskSetManager: Stage 2547 contains a task of very large size (4288 KiB). The maximum recommended task size is 1000 KiB.\n",
      "22/11/15 02:38:35 WARN TaskSetManager: Stage 2548 contains a task of very large size (4288 KiB). The maximum recommended task size is 1000 KiB.\n",
      "22/11/15 02:38:35 WARN TaskSetManager: Stage 2549 contains a task of very large size (4288 KiB). The maximum recommended task size is 1000 KiB.\n",
      "22/11/15 02:38:35 WARN TaskSetManager: Stage 2550 contains a task of very large size (4288 KiB). The maximum recommended task size is 1000 KiB.\n",
      "22/11/15 02:38:36 WARN TaskSetManager: Stage 2552 contains a task of very large size (4288 KiB). The maximum recommended task size is 1000 KiB.\n",
      "22/11/15 02:38:36 WARN TaskSetManager: Stage 2554 contains a task of very large size (4288 KiB). The maximum recommended task size is 1000 KiB.\n",
      "22/11/15 02:38:36 WARN TaskSetManager: Stage 2556 contains a task of very large size (4288 KiB). The maximum recommended task size is 1000 KiB.\n",
      "22/11/15 02:38:37 WARN TaskSetManager: Stage 2558 contains a task of very large size (4288 KiB). The maximum recommended task size is 1000 KiB.\n",
      "22/11/15 02:38:37 WARN TaskSetManager: Stage 2560 contains a task of very large size (4288 KiB). The maximum recommended task size is 1000 KiB.\n",
      "22/11/15 02:38:37 WARN TaskSetManager: Stage 2562 contains a task of very large size (4288 KiB). The maximum recommended task size is 1000 KiB.\n",
      "22/11/15 02:38:37 WARN TaskSetManager: Stage 2564 contains a task of very large size (4288 KiB). The maximum recommended task size is 1000 KiB.\n",
      "22/11/15 02:38:38 WARN TaskSetManager: Stage 2566 contains a task of very large size (4288 KiB). The maximum recommended task size is 1000 KiB.\n",
      "22/11/15 02:38:38 WARN TaskSetManager: Stage 2568 contains a task of very large size (4288 KiB). The maximum recommended task size is 1000 KiB.\n",
      "22/11/15 02:38:39 WARN TaskSetManager: Stage 2570 contains a task of very large size (4288 KiB). The maximum recommended task size is 1000 KiB.\n",
      "22/11/15 02:38:40 WARN TaskSetManager: Stage 2572 contains a task of very large size (4288 KiB). The maximum recommended task size is 1000 KiB.\n",
      "22/11/15 02:38:40 WARN TaskSetManager: Stage 2573 contains a task of very large size (4288 KiB). The maximum recommended task size is 1000 KiB.\n",
      "22/11/15 02:38:40 WARN TaskSetManager: Stage 2574 contains a task of very large size (4288 KiB). The maximum recommended task size is 1000 KiB.\n",
      "22/11/15 02:38:40 WARN TaskSetManager: Stage 2575 contains a task of very large size (4288 KiB). The maximum recommended task size is 1000 KiB.\n",
      "22/11/15 02:38:41 WARN TaskSetManager: Stage 2577 contains a task of very large size (4288 KiB). The maximum recommended task size is 1000 KiB.\n",
      "22/11/15 02:38:41 WARN TaskSetManager: Stage 2579 contains a task of very large size (4288 KiB). The maximum recommended task size is 1000 KiB.\n",
      "22/11/15 02:38:41 WARN TaskSetManager: Stage 2581 contains a task of very large size (4288 KiB). The maximum recommended task size is 1000 KiB.\n",
      "22/11/15 02:38:41 WARN TaskSetManager: Stage 2583 contains a task of very large size (4288 KiB). The maximum recommended task size is 1000 KiB.\n",
      "22/11/15 02:38:42 WARN TaskSetManager: Stage 2585 contains a task of very large size (4288 KiB). The maximum recommended task size is 1000 KiB.\n",
      "22/11/15 02:38:42 WARN TaskSetManager: Stage 2587 contains a task of very large size (4288 KiB). The maximum recommended task size is 1000 KiB.\n",
      "22/11/15 02:38:43 WARN TaskSetManager: Stage 2589 contains a task of very large size (4288 KiB). The maximum recommended task size is 1000 KiB.\n",
      "22/11/15 02:38:43 WARN TaskSetManager: Stage 2591 contains a task of very large size (4288 KiB). The maximum recommended task size is 1000 KiB.\n",
      "22/11/15 02:38:44 WARN TaskSetManager: Stage 2593 contains a task of very large size (4288 KiB). The maximum recommended task size is 1000 KiB.\n"
     ]
    },
    {
     "name": "stderr",
     "output_type": "stream",
     "text": [
      "                                                                                \r"
     ]
    },
    {
     "name": "stdout",
     "output_type": "stream",
     "text": [
      "22/11/15 02:38:45 WARN DAGScheduler: Broadcasting large task binary with size 1198.6 KiB\n",
      "22/11/15 02:38:45 WARN TaskSetManager: Stage 2595 contains a task of very large size (4288 KiB). The maximum recommended task size is 1000 KiB.\n"
     ]
    },
    {
     "name": "stderr",
     "output_type": "stream",
     "text": [
      "                                                                                \r"
     ]
    },
    {
     "name": "stdout",
     "output_type": "stream",
     "text": [
      "22/11/15 02:38:47 WARN TaskSetManager: Stage 2597 contains a task of very large size (4288 KiB). The maximum recommended task size is 1000 KiB.\n",
      "22/11/15 02:38:47 WARN TaskSetManager: Stage 2598 contains a task of very large size (4288 KiB). The maximum recommended task size is 1000 KiB.\n",
      "22/11/15 02:38:47 WARN TaskSetManager: Stage 2599 contains a task of very large size (4288 KiB). The maximum recommended task size is 1000 KiB.\n",
      "22/11/15 02:38:47 WARN TaskSetManager: Stage 2600 contains a task of very large size (4288 KiB). The maximum recommended task size is 1000 KiB.\n",
      "22/11/15 02:38:48 WARN TaskSetManager: Stage 2602 contains a task of very large size (4288 KiB). The maximum recommended task size is 1000 KiB.\n",
      "22/11/15 02:38:48 WARN TaskSetManager: Stage 2604 contains a task of very large size (4288 KiB). The maximum recommended task size is 1000 KiB.\n",
      "22/11/15 02:38:48 WARN TaskSetManager: Stage 2606 contains a task of very large size (4288 KiB). The maximum recommended task size is 1000 KiB.\n",
      "22/11/15 02:38:49 WARN TaskSetManager: Stage 2608 contains a task of very large size (4288 KiB). The maximum recommended task size is 1000 KiB.\n",
      "22/11/15 02:38:49 WARN TaskSetManager: Stage 2610 contains a task of very large size (4288 KiB). The maximum recommended task size is 1000 KiB.\n",
      "22/11/15 02:38:50 WARN TaskSetManager: Stage 2612 contains a task of very large size (4288 KiB). The maximum recommended task size is 1000 KiB.\n",
      "22/11/15 02:38:50 WARN TaskSetManager: Stage 2614 contains a task of very large size (4288 KiB). The maximum recommended task size is 1000 KiB.\n",
      "22/11/15 02:38:51 WARN TaskSetManager: Stage 2616 contains a task of very large size (4288 KiB). The maximum recommended task size is 1000 KiB.\n"
     ]
    },
    {
     "name": "stderr",
     "output_type": "stream",
     "text": [
      "                                                                                \r"
     ]
    },
    {
     "name": "stdout",
     "output_type": "stream",
     "text": [
      "22/11/15 02:38:53 WARN DAGScheduler: Broadcasting large task binary with size 1453.9 KiB\n",
      "22/11/15 02:38:53 WARN TaskSetManager: Stage 2618 contains a task of very large size (4288 KiB). The maximum recommended task size is 1000 KiB.\n"
     ]
    },
    {
     "name": "stderr",
     "output_type": "stream",
     "text": [
      "                                                                                \r"
     ]
    },
    {
     "name": "stdout",
     "output_type": "stream",
     "text": [
      "22/11/15 02:38:55 WARN DAGScheduler: Broadcasting large task binary with size 2.2 MiB\n",
      "22/11/15 02:38:55 WARN TaskSetManager: Stage 2620 contains a task of very large size (4288 KiB). The maximum recommended task size is 1000 KiB.\n"
     ]
    },
    {
     "name": "stderr",
     "output_type": "stream",
     "text": [
      "                                                                                \r"
     ]
    },
    {
     "name": "stdout",
     "output_type": "stream",
     "text": [
      "22/11/15 02:38:57 WARN TaskSetManager: Stage 2622 contains a task of very large size (4288 KiB). The maximum recommended task size is 1000 KiB.\n",
      "22/11/15 02:38:57 WARN TaskSetManager: Stage 2623 contains a task of very large size (4288 KiB). The maximum recommended task size is 1000 KiB.\n",
      "22/11/15 02:38:57 WARN TaskSetManager: Stage 2624 contains a task of very large size (4288 KiB). The maximum recommended task size is 1000 KiB.\n",
      "22/11/15 02:38:57 WARN TaskSetManager: Stage 2625 contains a task of very large size (4288 KiB). The maximum recommended task size is 1000 KiB.\n",
      "22/11/15 02:38:58 WARN TaskSetManager: Stage 2627 contains a task of very large size (4288 KiB). The maximum recommended task size is 1000 KiB.\n",
      "22/11/15 02:38:58 WARN TaskSetManager: Stage 2629 contains a task of very large size (4288 KiB). The maximum recommended task size is 1000 KiB.\n",
      "22/11/15 02:38:58 WARN TaskSetManager: Stage 2631 contains a task of very large size (4288 KiB). The maximum recommended task size is 1000 KiB.\n",
      "22/11/15 02:38:58 WARN TaskSetManager: Stage 2633 contains a task of very large size (4288 KiB). The maximum recommended task size is 1000 KiB.\n",
      "22/11/15 02:38:59 WARN TaskSetManager: Stage 2635 contains a task of very large size (4288 KiB). The maximum recommended task size is 1000 KiB.\n",
      "22/11/15 02:38:59 WARN TaskSetManager: Stage 2637 contains a task of very large size (4288 KiB). The maximum recommended task size is 1000 KiB.\n",
      "22/11/15 02:38:59 WARN TaskSetManager: Stage 2639 contains a task of very large size (4288 KiB). The maximum recommended task size is 1000 KiB.\n",
      "22/11/15 02:38:59 WARN TaskSetManager: Stage 2641 contains a task of very large size (4288 KiB). The maximum recommended task size is 1000 KiB.\n",
      "22/11/15 02:39:00 WARN TaskSetManager: Stage 2643 contains a task of very large size (4288 KiB). The maximum recommended task size is 1000 KiB.\n",
      "22/11/15 02:39:01 WARN TaskSetManager: Stage 2645 contains a task of very large size (4288 KiB). The maximum recommended task size is 1000 KiB.\n",
      "22/11/15 02:39:02 WARN TaskSetManager: Stage 2647 contains a task of very large size (4288 KiB). The maximum recommended task size is 1000 KiB.\n",
      "22/11/15 02:39:02 WARN TaskSetManager: Stage 2648 contains a task of very large size (4288 KiB). The maximum recommended task size is 1000 KiB.\n",
      "22/11/15 02:39:02 WARN TaskSetManager: Stage 2649 contains a task of very large size (4288 KiB). The maximum recommended task size is 1000 KiB.\n",
      "22/11/15 02:39:02 WARN TaskSetManager: Stage 2650 contains a task of very large size (4288 KiB). The maximum recommended task size is 1000 KiB.\n",
      "22/11/15 02:39:02 WARN TaskSetManager: Stage 2652 contains a task of very large size (4288 KiB). The maximum recommended task size is 1000 KiB.\n",
      "22/11/15 02:39:03 WARN TaskSetManager: Stage 2654 contains a task of very large size (4288 KiB). The maximum recommended task size is 1000 KiB.\n",
      "22/11/15 02:39:03 WARN TaskSetManager: Stage 2656 contains a task of very large size (4288 KiB). The maximum recommended task size is 1000 KiB.\n",
      "22/11/15 02:39:03 WARN TaskSetManager: Stage 2658 contains a task of very large size (4288 KiB). The maximum recommended task size is 1000 KiB.\n",
      "22/11/15 02:39:03 WARN TaskSetManager: Stage 2660 contains a task of very large size (4288 KiB). The maximum recommended task size is 1000 KiB.\n",
      "22/11/15 02:39:04 WARN TaskSetManager: Stage 2662 contains a task of very large size (4288 KiB). The maximum recommended task size is 1000 KiB.\n",
      "22/11/15 02:39:04 WARN TaskSetManager: Stage 2664 contains a task of very large size (4288 KiB). The maximum recommended task size is 1000 KiB.\n",
      "22/11/15 02:39:05 WARN TaskSetManager: Stage 2666 contains a task of very large size (4288 KiB). The maximum recommended task size is 1000 KiB.\n",
      "22/11/15 02:39:06 WARN TaskSetManager: Stage 2668 contains a task of very large size (4288 KiB). The maximum recommended task size is 1000 KiB.\n",
      "22/11/15 02:39:07 WARN DAGScheduler: Broadcasting large task binary with size 1197.0 KiB\n",
      "22/11/15 02:39:07 WARN TaskSetManager: Stage 2670 contains a task of very large size (4288 KiB). The maximum recommended task size is 1000 KiB.\n"
     ]
    },
    {
     "name": "stderr",
     "output_type": "stream",
     "text": [
      "                                                                                \r"
     ]
    },
    {
     "name": "stdout",
     "output_type": "stream",
     "text": [
      "22/11/15 02:39:08 WARN TaskSetManager: Stage 2672 contains a task of very large size (4288 KiB). The maximum recommended task size is 1000 KiB.\n",
      "22/11/15 02:39:08 WARN TaskSetManager: Stage 2673 contains a task of very large size (4288 KiB). The maximum recommended task size is 1000 KiB.\n",
      "22/11/15 02:39:08 WARN TaskSetManager: Stage 2674 contains a task of very large size (4288 KiB). The maximum recommended task size is 1000 KiB.\n",
      "22/11/15 02:39:08 WARN TaskSetManager: Stage 2675 contains a task of very large size (4288 KiB). The maximum recommended task size is 1000 KiB.\n",
      "22/11/15 02:39:09 WARN TaskSetManager: Stage 2677 contains a task of very large size (4288 KiB). The maximum recommended task size is 1000 KiB.\n",
      "22/11/15 02:39:09 WARN TaskSetManager: Stage 2679 contains a task of very large size (4288 KiB). The maximum recommended task size is 1000 KiB.\n",
      "22/11/15 02:39:09 WARN TaskSetManager: Stage 2681 contains a task of very large size (4288 KiB). The maximum recommended task size is 1000 KiB.\n",
      "22/11/15 02:39:10 WARN TaskSetManager: Stage 2683 contains a task of very large size (4288 KiB). The maximum recommended task size is 1000 KiB.\n",
      "22/11/15 02:39:10 WARN TaskSetManager: Stage 2685 contains a task of very large size (4288 KiB). The maximum recommended task size is 1000 KiB.\n",
      "22/11/15 02:39:10 WARN TaskSetManager: Stage 2687 contains a task of very large size (4288 KiB). The maximum recommended task size is 1000 KiB.\n"
     ]
    },
    {
     "name": "stderr",
     "output_type": "stream",
     "text": [
      "\r",
      "[Stage 2687:==========================================>             (3 + 1) / 4]\r",
      "\r",
      "                                                                                \r"
     ]
    },
    {
     "name": "stdout",
     "output_type": "stream",
     "text": [
      "22/11/15 02:39:11 WARN TaskSetManager: Stage 2689 contains a task of very large size (4288 KiB). The maximum recommended task size is 1000 KiB.\n"
     ]
    },
    {
     "name": "stderr",
     "output_type": "stream",
     "text": [
      "                                                                                \r"
     ]
    },
    {
     "name": "stdout",
     "output_type": "stream",
     "text": [
      "22/11/15 02:39:13 WARN TaskSetManager: Stage 2691 contains a task of very large size (4288 KiB). The maximum recommended task size is 1000 KiB.\n"
     ]
    },
    {
     "name": "stderr",
     "output_type": "stream",
     "text": [
      "                                                                                \r"
     ]
    },
    {
     "name": "stdout",
     "output_type": "stream",
     "text": [
      "22/11/15 02:39:15 WARN DAGScheduler: Broadcasting large task binary with size 1456.2 KiB\n",
      "22/11/15 02:39:15 WARN TaskSetManager: Stage 2693 contains a task of very large size (4288 KiB). The maximum recommended task size is 1000 KiB.\n"
     ]
    },
    {
     "name": "stderr",
     "output_type": "stream",
     "text": [
      "                                                                                \r"
     ]
    },
    {
     "name": "stdout",
     "output_type": "stream",
     "text": [
      "22/11/15 02:39:17 WARN DAGScheduler: Broadcasting large task binary with size 2.2 MiB\n",
      "22/11/15 02:39:17 WARN TaskSetManager: Stage 2695 contains a task of very large size (4288 KiB). The maximum recommended task size is 1000 KiB.\n"
     ]
    },
    {
     "name": "stderr",
     "output_type": "stream",
     "text": [
      "                                                                                \r"
     ]
    },
    {
     "name": "stdout",
     "output_type": "stream",
     "text": [
      "22/11/15 02:39:21 WARN TaskSetManager: Stage 2697 contains a task of very large size (4288 KiB). The maximum recommended task size is 1000 KiB.\n",
      "22/11/15 02:39:21 WARN TaskSetManager: Stage 2698 contains a task of very large size (4288 KiB). The maximum recommended task size is 1000 KiB.\n",
      "22/11/15 02:39:22 WARN TaskSetManager: Stage 2699 contains a task of very large size (4288 KiB). The maximum recommended task size is 1000 KiB.\n"
     ]
    },
    {
     "name": "stderr",
     "output_type": "stream",
     "text": [
      "\r",
      "[Stage 2699:==========================================>             (3 + 1) / 4]\r",
      "\r",
      "                                                                                \r"
     ]
    },
    {
     "name": "stdout",
     "output_type": "stream",
     "text": [
      "22/11/15 02:39:22 WARN TaskSetManager: Stage 2700 contains a task of very large size (4288 KiB). The maximum recommended task size is 1000 KiB.\n",
      "22/11/15 02:39:23 WARN TaskSetManager: Stage 2702 contains a task of very large size (4288 KiB). The maximum recommended task size is 1000 KiB.\n",
      "22/11/15 02:39:23 WARN TaskSetManager: Stage 2704 contains a task of very large size (4288 KiB). The maximum recommended task size is 1000 KiB.\n",
      "22/11/15 02:39:23 WARN TaskSetManager: Stage 2706 contains a task of very large size (4288 KiB). The maximum recommended task size is 1000 KiB.\n",
      "22/11/15 02:39:23 WARN TaskSetManager: Stage 2708 contains a task of very large size (4288 KiB). The maximum recommended task size is 1000 KiB.\n",
      "22/11/15 02:39:24 WARN TaskSetManager: Stage 2710 contains a task of very large size (4288 KiB). The maximum recommended task size is 1000 KiB.\n",
      "22/11/15 02:39:24 WARN TaskSetManager: Stage 2712 contains a task of very large size (4288 KiB). The maximum recommended task size is 1000 KiB.\n"
     ]
    },
    {
     "name": "stderr",
     "output_type": "stream",
     "text": [
      "\r",
      "[Stage 2712:==============>                                         (1 + 3) / 4]\r",
      "\r",
      "                                                                                \r"
     ]
    },
    {
     "name": "stdout",
     "output_type": "stream",
     "text": [
      "22/11/15 02:39:25 WARN TaskSetManager: Stage 2713 contains a task of very large size (4288 KiB). The maximum recommended task size is 1000 KiB.\n",
      "22/11/15 02:39:25 WARN TaskSetManager: Stage 2714 contains a task of very large size (4288 KiB). The maximum recommended task size is 1000 KiB.\n",
      "22/11/15 02:39:25 WARN TaskSetManager: Stage 2715 contains a task of very large size (4288 KiB). The maximum recommended task size is 1000 KiB.\n",
      "22/11/15 02:39:25 WARN TaskSetManager: Stage 2717 contains a task of very large size (4288 KiB). The maximum recommended task size is 1000 KiB.\n",
      "22/11/15 02:39:26 WARN TaskSetManager: Stage 2719 contains a task of very large size (4288 KiB). The maximum recommended task size is 1000 KiB.\n",
      "22/11/15 02:39:26 WARN TaskSetManager: Stage 2721 contains a task of very large size (4288 KiB). The maximum recommended task size is 1000 KiB.\n",
      "22/11/15 02:39:26 WARN TaskSetManager: Stage 2723 contains a task of very large size (4288 KiB). The maximum recommended task size is 1000 KiB.\n",
      "22/11/15 02:39:27 WARN TaskSetManager: Stage 2725 contains a task of very large size (4288 KiB). The maximum recommended task size is 1000 KiB.\n",
      "22/11/15 02:39:27 WARN TaskSetManager: Stage 2727 contains a task of very large size (4288 KiB). The maximum recommended task size is 1000 KiB.\n",
      "22/11/15 02:39:27 WARN TaskSetManager: Stage 2728 contains a task of very large size (4288 KiB). The maximum recommended task size is 1000 KiB.\n",
      "22/11/15 02:39:28 WARN TaskSetManager: Stage 2729 contains a task of very large size (4288 KiB). The maximum recommended task size is 1000 KiB.\n",
      "22/11/15 02:39:28 WARN TaskSetManager: Stage 2730 contains a task of very large size (4288 KiB). The maximum recommended task size is 1000 KiB.\n",
      "22/11/15 02:39:28 WARN TaskSetManager: Stage 2732 contains a task of very large size (4288 KiB). The maximum recommended task size is 1000 KiB.\n",
      "22/11/15 02:39:29 WARN TaskSetManager: Stage 2734 contains a task of very large size (4288 KiB). The maximum recommended task size is 1000 KiB.\n",
      "22/11/15 02:39:29 WARN TaskSetManager: Stage 2736 contains a task of very large size (4288 KiB). The maximum recommended task size is 1000 KiB.\n",
      "22/11/15 02:39:30 WARN TaskSetManager: Stage 2738 contains a task of very large size (4288 KiB). The maximum recommended task size is 1000 KiB.\n",
      "22/11/15 02:39:30 WARN TaskSetManager: Stage 2740 contains a task of very large size (4288 KiB). The maximum recommended task size is 1000 KiB.\n",
      "22/11/15 02:39:31 WARN TaskSetManager: Stage 2742 contains a task of very large size (4288 KiB). The maximum recommended task size is 1000 KiB.\n",
      "22/11/15 02:39:31 WARN TaskSetManager: Stage 2743 contains a task of very large size (4288 KiB). The maximum recommended task size is 1000 KiB.\n",
      "22/11/15 02:39:31 WARN TaskSetManager: Stage 2744 contains a task of very large size (4288 KiB). The maximum recommended task size is 1000 KiB.\n",
      "22/11/15 02:39:31 WARN TaskSetManager: Stage 2745 contains a task of very large size (4288 KiB). The maximum recommended task size is 1000 KiB.\n",
      "22/11/15 02:39:31 WARN TaskSetManager: Stage 2747 contains a task of very large size (4288 KiB). The maximum recommended task size is 1000 KiB.\n",
      "22/11/15 02:39:32 WARN TaskSetManager: Stage 2749 contains a task of very large size (4288 KiB). The maximum recommended task size is 1000 KiB.\n",
      "22/11/15 02:39:32 WARN TaskSetManager: Stage 2751 contains a task of very large size (4288 KiB). The maximum recommended task size is 1000 KiB.\n",
      "22/11/15 02:39:32 WARN TaskSetManager: Stage 2753 contains a task of very large size (4288 KiB). The maximum recommended task size is 1000 KiB.\n",
      "22/11/15 02:39:32 WARN TaskSetManager: Stage 2755 contains a task of very large size (4288 KiB). The maximum recommended task size is 1000 KiB.\n",
      "22/11/15 02:39:33 WARN TaskSetManager: Stage 2757 contains a task of very large size (4288 KiB). The maximum recommended task size is 1000 KiB.\n",
      "22/11/15 02:39:33 WARN TaskSetManager: Stage 2758 contains a task of very large size (4288 KiB). The maximum recommended task size is 1000 KiB.\n",
      "22/11/15 02:39:33 WARN TaskSetManager: Stage 2759 contains a task of very large size (4288 KiB). The maximum recommended task size is 1000 KiB.\n",
      "22/11/15 02:39:34 WARN TaskSetManager: Stage 2760 contains a task of very large size (4288 KiB). The maximum recommended task size is 1000 KiB.\n",
      "22/11/15 02:39:34 WARN TaskSetManager: Stage 2762 contains a task of very large size (4288 KiB). The maximum recommended task size is 1000 KiB.\n",
      "22/11/15 02:39:34 WARN TaskSetManager: Stage 2764 contains a task of very large size (4288 KiB). The maximum recommended task size is 1000 KiB.\n",
      "22/11/15 02:39:35 WARN TaskSetManager: Stage 2766 contains a task of very large size (4288 KiB). The maximum recommended task size is 1000 KiB.\n",
      "22/11/15 02:39:35 WARN TaskSetManager: Stage 2768 contains a task of very large size (4288 KiB). The maximum recommended task size is 1000 KiB.\n",
      "22/11/15 02:39:35 WARN TaskSetManager: Stage 2770 contains a task of very large size (4288 KiB). The maximum recommended task size is 1000 KiB.\n",
      "22/11/15 02:39:36 WARN TaskSetManager: Stage 2772 contains a task of very large size (4288 KiB). The maximum recommended task size is 1000 KiB.\n",
      "22/11/15 02:39:36 WARN TaskSetManager: Stage 2773 contains a task of very large size (4288 KiB). The maximum recommended task size is 1000 KiB.\n",
      "22/11/15 02:39:36 WARN TaskSetManager: Stage 2774 contains a task of very large size (4288 KiB). The maximum recommended task size is 1000 KiB.\n",
      "22/11/15 02:39:36 WARN TaskSetManager: Stage 2775 contains a task of very large size (4288 KiB). The maximum recommended task size is 1000 KiB.\n",
      "22/11/15 02:39:37 WARN TaskSetManager: Stage 2777 contains a task of very large size (4288 KiB). The maximum recommended task size is 1000 KiB.\n",
      "22/11/15 02:39:37 WARN TaskSetManager: Stage 2779 contains a task of very large size (4288 KiB). The maximum recommended task size is 1000 KiB.\n",
      "22/11/15 02:39:37 WARN TaskSetManager: Stage 2781 contains a task of very large size (4288 KiB). The maximum recommended task size is 1000 KiB.\n",
      "22/11/15 02:39:38 WARN TaskSetManager: Stage 2783 contains a task of very large size (4288 KiB). The maximum recommended task size is 1000 KiB.\n",
      "22/11/15 02:39:38 WARN TaskSetManager: Stage 2785 contains a task of very large size (4288 KiB). The maximum recommended task size is 1000 KiB.\n",
      "22/11/15 02:39:39 WARN TaskSetManager: Stage 2787 contains a task of very large size (4288 KiB). The maximum recommended task size is 1000 KiB.\n",
      "22/11/15 02:39:39 WARN TaskSetManager: Stage 2788 contains a task of very large size (4288 KiB). The maximum recommended task size is 1000 KiB.\n",
      "22/11/15 02:39:39 WARN TaskSetManager: Stage 2789 contains a task of very large size (4288 KiB). The maximum recommended task size is 1000 KiB.\n",
      "22/11/15 02:39:40 WARN TaskSetManager: Stage 2790 contains a task of very large size (4288 KiB). The maximum recommended task size is 1000 KiB.\n",
      "22/11/15 02:39:40 WARN TaskSetManager: Stage 2792 contains a task of very large size (4288 KiB). The maximum recommended task size is 1000 KiB.\n",
      "22/11/15 02:39:40 WARN TaskSetManager: Stage 2794 contains a task of very large size (4288 KiB). The maximum recommended task size is 1000 KiB.\n",
      "22/11/15 02:39:41 WARN TaskSetManager: Stage 2796 contains a task of very large size (4288 KiB). The maximum recommended task size is 1000 KiB.\n",
      "22/11/15 02:39:41 WARN TaskSetManager: Stage 2798 contains a task of very large size (4288 KiB). The maximum recommended task size is 1000 KiB.\n",
      "22/11/15 02:39:41 WARN TaskSetManager: Stage 2800 contains a task of very large size (4288 KiB). The maximum recommended task size is 1000 KiB.\n",
      "22/11/15 02:39:42 WARN TaskSetManager: Stage 2802 contains a task of very large size (4288 KiB). The maximum recommended task size is 1000 KiB.\n",
      "22/11/15 02:39:42 WARN TaskSetManager: Stage 2803 contains a task of very large size (4288 KiB). The maximum recommended task size is 1000 KiB.\n",
      "22/11/15 02:39:42 WARN TaskSetManager: Stage 2804 contains a task of very large size (4288 KiB). The maximum recommended task size is 1000 KiB.\n",
      "22/11/15 02:39:42 WARN TaskSetManager: Stage 2805 contains a task of very large size (4288 KiB). The maximum recommended task size is 1000 KiB.\n"
     ]
    },
    {
     "name": "stdout",
     "output_type": "stream",
     "text": [
      "22/11/15 02:39:43 WARN TaskSetManager: Stage 2807 contains a task of very large size (4288 KiB). The maximum recommended task size is 1000 KiB.\n",
      "22/11/15 02:39:43 WARN TaskSetManager: Stage 2809 contains a task of very large size (4288 KiB). The maximum recommended task size is 1000 KiB.\n",
      "22/11/15 02:39:43 WARN TaskSetManager: Stage 2811 contains a task of very large size (4288 KiB). The maximum recommended task size is 1000 KiB.\n",
      "22/11/15 02:39:44 WARN TaskSetManager: Stage 2813 contains a task of very large size (4288 KiB). The maximum recommended task size is 1000 KiB.\n",
      "22/11/15 02:39:44 WARN TaskSetManager: Stage 2815 contains a task of very large size (4288 KiB). The maximum recommended task size is 1000 KiB.\n",
      "22/11/15 02:39:45 WARN TaskSetManager: Stage 2817 contains a task of very large size (4288 KiB). The maximum recommended task size is 1000 KiB.\n",
      "22/11/15 02:39:45 WARN TaskSetManager: Stage 2818 contains a task of very large size (4288 KiB). The maximum recommended task size is 1000 KiB.\n",
      "22/11/15 02:39:45 WARN TaskSetManager: Stage 2819 contains a task of very large size (4288 KiB). The maximum recommended task size is 1000 KiB.\n",
      "22/11/15 02:39:45 WARN TaskSetManager: Stage 2820 contains a task of very large size (4288 KiB). The maximum recommended task size is 1000 KiB.\n",
      "22/11/15 02:39:45 WARN TaskSetManager: Stage 2822 contains a task of very large size (4288 KiB). The maximum recommended task size is 1000 KiB.\n"
     ]
    },
    {
     "name": "stderr",
     "output_type": "stream",
     "text": [
      "\r",
      "[Stage 2822:>                                                       (0 + 4) / 4]\r",
      "\r",
      "                                                                                \r"
     ]
    },
    {
     "name": "stdout",
     "output_type": "stream",
     "text": [
      "22/11/15 02:39:46 WARN TaskSetManager: Stage 2824 contains a task of very large size (4288 KiB). The maximum recommended task size is 1000 KiB.\n",
      "22/11/15 02:39:46 WARN TaskSetManager: Stage 2826 contains a task of very large size (4288 KiB). The maximum recommended task size is 1000 KiB.\n",
      "22/11/15 02:39:47 WARN TaskSetManager: Stage 2828 contains a task of very large size (4288 KiB). The maximum recommended task size is 1000 KiB.\n",
      "22/11/15 02:39:47 WARN TaskSetManager: Stage 2830 contains a task of very large size (4288 KiB). The maximum recommended task size is 1000 KiB.\n"
     ]
    },
    {
     "name": "stderr",
     "output_type": "stream",
     "text": [
      "\r",
      "[Stage 2830:==========================================>             (3 + 1) / 4]\r",
      "\r",
      "                                                                                \r"
     ]
    },
    {
     "name": "stdout",
     "output_type": "stream",
     "text": [
      "22/11/15 02:39:48 WARN TaskSetManager: Stage 2832 contains a task of very large size (4288 KiB). The maximum recommended task size is 1000 KiB.\n",
      "22/11/15 02:39:49 WARN TaskSetManager: Stage 2833 contains a task of very large size (4288 KiB). The maximum recommended task size is 1000 KiB.\n",
      "22/11/15 02:39:49 WARN TaskSetManager: Stage 2834 contains a task of very large size (4288 KiB). The maximum recommended task size is 1000 KiB.\n",
      "22/11/15 02:39:49 WARN TaskSetManager: Stage 2835 contains a task of very large size (4288 KiB). The maximum recommended task size is 1000 KiB.\n",
      "22/11/15 02:39:49 WARN TaskSetManager: Stage 2837 contains a task of very large size (4288 KiB). The maximum recommended task size is 1000 KiB.\n",
      "22/11/15 02:39:50 WARN TaskSetManager: Stage 2839 contains a task of very large size (4288 KiB). The maximum recommended task size is 1000 KiB.\n",
      "22/11/15 02:39:50 WARN TaskSetManager: Stage 2841 contains a task of very large size (4288 KiB). The maximum recommended task size is 1000 KiB.\n",
      "22/11/15 02:39:50 WARN TaskSetManager: Stage 2843 contains a task of very large size (4288 KiB). The maximum recommended task size is 1000 KiB.\n",
      "22/11/15 02:39:50 WARN TaskSetManager: Stage 2845 contains a task of very large size (4288 KiB). The maximum recommended task size is 1000 KiB.\n",
      "22/11/15 02:39:51 WARN TaskSetManager: Stage 2847 contains a task of very large size (4288 KiB). The maximum recommended task size is 1000 KiB.\n",
      "22/11/15 02:39:51 WARN TaskSetManager: Stage 2849 contains a task of very large size (4288 KiB). The maximum recommended task size is 1000 KiB.\n",
      "22/11/15 02:39:51 WARN TaskSetManager: Stage 2851 contains a task of very large size (4288 KiB). The maximum recommended task size is 1000 KiB.\n",
      "22/11/15 02:39:52 WARN TaskSetManager: Stage 2853 contains a task of very large size (4288 KiB). The maximum recommended task size is 1000 KiB.\n",
      "22/11/15 02:39:52 WARN TaskSetManager: Stage 2854 contains a task of very large size (4288 KiB). The maximum recommended task size is 1000 KiB.\n",
      "22/11/15 02:39:52 WARN TaskSetManager: Stage 2855 contains a task of very large size (4288 KiB). The maximum recommended task size is 1000 KiB.\n",
      "22/11/15 02:39:52 WARN TaskSetManager: Stage 2856 contains a task of very large size (4288 KiB). The maximum recommended task size is 1000 KiB.\n",
      "22/11/15 02:39:53 WARN TaskSetManager: Stage 2858 contains a task of very large size (4288 KiB). The maximum recommended task size is 1000 KiB.\n",
      "22/11/15 02:39:53 WARN TaskSetManager: Stage 2860 contains a task of very large size (4288 KiB). The maximum recommended task size is 1000 KiB.\n",
      "22/11/15 02:39:53 WARN TaskSetManager: Stage 2862 contains a task of very large size (4288 KiB). The maximum recommended task size is 1000 KiB.\n",
      "22/11/15 02:39:54 WARN TaskSetManager: Stage 2864 contains a task of very large size (4288 KiB). The maximum recommended task size is 1000 KiB.\n",
      "22/11/15 02:39:54 WARN TaskSetManager: Stage 2866 contains a task of very large size (4288 KiB). The maximum recommended task size is 1000 KiB.\n",
      "22/11/15 02:39:54 WARN TaskSetManager: Stage 2868 contains a task of very large size (4288 KiB). The maximum recommended task size is 1000 KiB.\n",
      "22/11/15 02:39:55 WARN TaskSetManager: Stage 2870 contains a task of very large size (4288 KiB). The maximum recommended task size is 1000 KiB.\n",
      "22/11/15 02:39:55 WARN TaskSetManager: Stage 2872 contains a task of very large size (4288 KiB). The maximum recommended task size is 1000 KiB.\n",
      "22/11/15 02:39:56 WARN TaskSetManager: Stage 2874 contains a task of very large size (4288 KiB). The maximum recommended task size is 1000 KiB.\n",
      "22/11/15 02:39:56 WARN TaskSetManager: Stage 2875 contains a task of very large size (4288 KiB). The maximum recommended task size is 1000 KiB.\n",
      "22/11/15 02:39:56 WARN TaskSetManager: Stage 2876 contains a task of very large size (4288 KiB). The maximum recommended task size is 1000 KiB.\n",
      "22/11/15 02:39:57 WARN TaskSetManager: Stage 2877 contains a task of very large size (4288 KiB). The maximum recommended task size is 1000 KiB.\n",
      "22/11/15 02:39:57 WARN TaskSetManager: Stage 2879 contains a task of very large size (4288 KiB). The maximum recommended task size is 1000 KiB.\n",
      "22/11/15 02:39:57 WARN TaskSetManager: Stage 2881 contains a task of very large size (4288 KiB). The maximum recommended task size is 1000 KiB.\n",
      "22/11/15 02:39:58 WARN TaskSetManager: Stage 2883 contains a task of very large size (4288 KiB). The maximum recommended task size is 1000 KiB.\n",
      "22/11/15 02:39:58 WARN TaskSetManager: Stage 2885 contains a task of very large size (4288 KiB). The maximum recommended task size is 1000 KiB.\n",
      "22/11/15 02:39:58 WARN TaskSetManager: Stage 2887 contains a task of very large size (4288 KiB). The maximum recommended task size is 1000 KiB.\n",
      "22/11/15 02:39:59 WARN TaskSetManager: Stage 2889 contains a task of very large size (4288 KiB). The maximum recommended task size is 1000 KiB.\n"
     ]
    },
    {
     "name": "stderr",
     "output_type": "stream",
     "text": [
      "                                                                                \r"
     ]
    },
    {
     "name": "stdout",
     "output_type": "stream",
     "text": [
      "22/11/15 02:40:00 WARN TaskSetManager: Stage 2891 contains a task of very large size (4288 KiB). The maximum recommended task size is 1000 KiB.\n",
      "22/11/15 02:40:01 WARN TaskSetManager: Stage 2893 contains a task of very large size (4288 KiB). The maximum recommended task size is 1000 KiB.\n"
     ]
    },
    {
     "name": "stderr",
     "output_type": "stream",
     "text": [
      "                                                                                \r"
     ]
    },
    {
     "name": "stdout",
     "output_type": "stream",
     "text": [
      "22/11/15 02:40:02 WARN TaskSetManager: Stage 2895 contains a task of very large size (4288 KiB). The maximum recommended task size is 1000 KiB.\n",
      "22/11/15 02:40:02 WARN TaskSetManager: Stage 2896 contains a task of very large size (4288 KiB). The maximum recommended task size is 1000 KiB.\n",
      "22/11/15 02:40:02 WARN TaskSetManager: Stage 2897 contains a task of very large size (4288 KiB). The maximum recommended task size is 1000 KiB.\n",
      "22/11/15 02:40:02 WARN TaskSetManager: Stage 2898 contains a task of very large size (4288 KiB). The maximum recommended task size is 1000 KiB.\n",
      "22/11/15 02:40:03 WARN TaskSetManager: Stage 2900 contains a task of very large size (4288 KiB). The maximum recommended task size is 1000 KiB.\n",
      "22/11/15 02:40:03 WARN TaskSetManager: Stage 2902 contains a task of very large size (4288 KiB). The maximum recommended task size is 1000 KiB.\n",
      "22/11/15 02:40:03 WARN TaskSetManager: Stage 2904 contains a task of very large size (4288 KiB). The maximum recommended task size is 1000 KiB.\n",
      "22/11/15 02:40:04 WARN TaskSetManager: Stage 2906 contains a task of very large size (4288 KiB). The maximum recommended task size is 1000 KiB.\n",
      "22/11/15 02:40:04 WARN TaskSetManager: Stage 2908 contains a task of very large size (4288 KiB). The maximum recommended task size is 1000 KiB.\n",
      "22/11/15 02:40:04 WARN TaskSetManager: Stage 2910 contains a task of very large size (4288 KiB). The maximum recommended task size is 1000 KiB.\n",
      "22/11/15 02:40:04 WARN TaskSetManager: Stage 2912 contains a task of very large size (4288 KiB). The maximum recommended task size is 1000 KiB.\n",
      "22/11/15 02:40:05 WARN TaskSetManager: Stage 2914 contains a task of very large size (4288 KiB). The maximum recommended task size is 1000 KiB.\n",
      "22/11/15 02:40:05 WARN TaskSetManager: Stage 2916 contains a task of very large size (4288 KiB). The maximum recommended task size is 1000 KiB.\n",
      "22/11/15 02:40:05 WARN TaskSetManager: Stage 2917 contains a task of very large size (4288 KiB). The maximum recommended task size is 1000 KiB.\n",
      "22/11/15 02:40:05 WARN TaskSetManager: Stage 2918 contains a task of very large size (4288 KiB). The maximum recommended task size is 1000 KiB.\n",
      "22/11/15 02:40:05 WARN TaskSetManager: Stage 2919 contains a task of very large size (4288 KiB). The maximum recommended task size is 1000 KiB.\n",
      "22/11/15 02:40:06 WARN TaskSetManager: Stage 2921 contains a task of very large size (4288 KiB). The maximum recommended task size is 1000 KiB.\n",
      "22/11/15 02:40:06 WARN TaskSetManager: Stage 2923 contains a task of very large size (4288 KiB). The maximum recommended task size is 1000 KiB.\n",
      "22/11/15 02:40:06 WARN TaskSetManager: Stage 2925 contains a task of very large size (4288 KiB). The maximum recommended task size is 1000 KiB.\n",
      "22/11/15 02:40:06 WARN TaskSetManager: Stage 2927 contains a task of very large size (4288 KiB). The maximum recommended task size is 1000 KiB.\n",
      "22/11/15 02:40:07 WARN TaskSetManager: Stage 2929 contains a task of very large size (4288 KiB). The maximum recommended task size is 1000 KiB.\n",
      "22/11/15 02:40:07 WARN TaskSetManager: Stage 2931 contains a task of very large size (4288 KiB). The maximum recommended task size is 1000 KiB.\n",
      "22/11/15 02:40:07 WARN TaskSetManager: Stage 2933 contains a task of very large size (4288 KiB). The maximum recommended task size is 1000 KiB.\n",
      "22/11/15 02:40:08 WARN TaskSetManager: Stage 2935 contains a task of very large size (4288 KiB). The maximum recommended task size is 1000 KiB.\n",
      "22/11/15 02:40:09 WARN TaskSetManager: Stage 2937 contains a task of very large size (4288 KiB). The maximum recommended task size is 1000 KiB.\n",
      "22/11/15 02:40:09 WARN TaskSetManager: Stage 2938 contains a task of very large size (4288 KiB). The maximum recommended task size is 1000 KiB.\n",
      "22/11/15 02:40:09 WARN TaskSetManager: Stage 2939 contains a task of very large size (4288 KiB). The maximum recommended task size is 1000 KiB.\n",
      "22/11/15 02:40:09 WARN TaskSetManager: Stage 2940 contains a task of very large size (4288 KiB). The maximum recommended task size is 1000 KiB.\n",
      "22/11/15 02:40:09 WARN TaskSetManager: Stage 2942 contains a task of very large size (4288 KiB). The maximum recommended task size is 1000 KiB.\n",
      "22/11/15 02:40:10 WARN TaskSetManager: Stage 2944 contains a task of very large size (4288 KiB). The maximum recommended task size is 1000 KiB.\n",
      "22/11/15 02:40:10 WARN TaskSetManager: Stage 2946 contains a task of very large size (4288 KiB). The maximum recommended task size is 1000 KiB.\n",
      "22/11/15 02:40:10 WARN TaskSetManager: Stage 2948 contains a task of very large size (4288 KiB). The maximum recommended task size is 1000 KiB.\n",
      "22/11/15 02:40:11 WARN TaskSetManager: Stage 2950 contains a task of very large size (4288 KiB). The maximum recommended task size is 1000 KiB.\n",
      "22/11/15 02:40:11 WARN TaskSetManager: Stage 2952 contains a task of very large size (4288 KiB). The maximum recommended task size is 1000 KiB.\n"
     ]
    },
    {
     "name": "stderr",
     "output_type": "stream",
     "text": [
      "                                                                                \r"
     ]
    },
    {
     "name": "stdout",
     "output_type": "stream",
     "text": [
      "22/11/15 02:40:12 WARN TaskSetManager: Stage 2954 contains a task of very large size (4288 KiB). The maximum recommended task size is 1000 KiB.\n"
     ]
    },
    {
     "name": "stderr",
     "output_type": "stream",
     "text": [
      "                                                                                \r"
     ]
    },
    {
     "name": "stdout",
     "output_type": "stream",
     "text": [
      "22/11/15 02:40:13 WARN TaskSetManager: Stage 2956 contains a task of very large size (4288 KiB). The maximum recommended task size is 1000 KiB.\n"
     ]
    },
    {
     "name": "stderr",
     "output_type": "stream",
     "text": [
      "                                                                                \r"
     ]
    },
    {
     "name": "stdout",
     "output_type": "stream",
     "text": [
      "22/11/15 02:40:15 WARN TaskSetManager: Stage 2958 contains a task of very large size (4288 KiB). The maximum recommended task size is 1000 KiB.\n",
      "22/11/15 02:40:15 WARN TaskSetManager: Stage 2959 contains a task of very large size (4288 KiB). The maximum recommended task size is 1000 KiB.\n",
      "22/11/15 02:40:15 WARN TaskSetManager: Stage 2960 contains a task of very large size (4288 KiB). The maximum recommended task size is 1000 KiB.\n",
      "22/11/15 02:40:15 WARN TaskSetManager: Stage 2961 contains a task of very large size (4288 KiB). The maximum recommended task size is 1000 KiB.\n",
      "22/11/15 02:40:15 WARN TaskSetManager: Stage 2963 contains a task of very large size (4288 KiB). The maximum recommended task size is 1000 KiB.\n",
      "22/11/15 02:40:16 WARN TaskSetManager: Stage 2965 contains a task of very large size (4288 KiB). The maximum recommended task size is 1000 KiB.\n",
      "22/11/15 02:40:16 WARN TaskSetManager: Stage 2967 contains a task of very large size (4288 KiB). The maximum recommended task size is 1000 KiB.\n",
      "22/11/15 02:40:16 WARN TaskSetManager: Stage 2969 contains a task of very large size (4288 KiB). The maximum recommended task size is 1000 KiB.\n",
      "22/11/15 02:40:17 WARN TaskSetManager: Stage 2971 contains a task of very large size (4288 KiB). The maximum recommended task size is 1000 KiB.\n",
      "22/11/15 02:40:17 WARN TaskSetManager: Stage 2973 contains a task of very large size (4288 KiB). The maximum recommended task size is 1000 KiB.\n",
      "22/11/15 02:40:17 WARN TaskSetManager: Stage 2975 contains a task of very large size (4288 KiB). The maximum recommended task size is 1000 KiB.\n",
      "22/11/15 02:40:17 WARN TaskSetManager: Stage 2977 contains a task of very large size (4288 KiB). The maximum recommended task size is 1000 KiB.\n",
      "22/11/15 02:40:18 WARN TaskSetManager: Stage 2979 contains a task of very large size (4288 KiB). The maximum recommended task size is 1000 KiB.\n",
      "22/11/15 02:40:19 WARN TaskSetManager: Stage 2980 contains a task of very large size (4288 KiB). The maximum recommended task size is 1000 KiB.\n",
      "22/11/15 02:40:19 WARN TaskSetManager: Stage 2981 contains a task of very large size (4288 KiB). The maximum recommended task size is 1000 KiB.\n",
      "22/11/15 02:40:19 WARN TaskSetManager: Stage 2982 contains a task of very large size (4288 KiB). The maximum recommended task size is 1000 KiB.\n",
      "22/11/15 02:40:19 WARN TaskSetManager: Stage 2984 contains a task of very large size (4288 KiB). The maximum recommended task size is 1000 KiB.\n",
      "22/11/15 02:40:19 WARN TaskSetManager: Stage 2986 contains a task of very large size (4288 KiB). The maximum recommended task size is 1000 KiB.\n",
      "22/11/15 02:40:20 WARN TaskSetManager: Stage 2988 contains a task of very large size (4288 KiB). The maximum recommended task size is 1000 KiB.\n",
      "22/11/15 02:40:20 WARN TaskSetManager: Stage 2990 contains a task of very large size (4288 KiB). The maximum recommended task size is 1000 KiB.\n",
      "22/11/15 02:40:20 WARN TaskSetManager: Stage 2992 contains a task of very large size (4288 KiB). The maximum recommended task size is 1000 KiB.\n",
      "22/11/15 02:40:20 WARN TaskSetManager: Stage 2994 contains a task of very large size (4288 KiB). The maximum recommended task size is 1000 KiB.\n",
      "22/11/15 02:40:21 WARN TaskSetManager: Stage 2996 contains a task of very large size (4288 KiB). The maximum recommended task size is 1000 KiB.\n",
      "22/11/15 02:40:22 WARN TaskSetManager: Stage 2998 contains a task of very large size (4288 KiB). The maximum recommended task size is 1000 KiB.\n",
      "22/11/15 02:40:23 WARN TaskSetManager: Stage 3000 contains a task of very large size (4288 KiB). The maximum recommended task size is 1000 KiB.\n",
      "22/11/15 02:40:23 WARN TaskSetManager: Stage 3001 contains a task of very large size (4288 KiB). The maximum recommended task size is 1000 KiB.\n",
      "22/11/15 02:40:23 WARN TaskSetManager: Stage 3002 contains a task of very large size (4288 KiB). The maximum recommended task size is 1000 KiB.\n",
      "22/11/15 02:40:23 WARN TaskSetManager: Stage 3003 contains a task of very large size (4288 KiB). The maximum recommended task size is 1000 KiB.\n",
      "22/11/15 02:40:23 WARN TaskSetManager: Stage 3005 contains a task of very large size (4288 KiB). The maximum recommended task size is 1000 KiB.\n",
      "22/11/15 02:40:24 WARN TaskSetManager: Stage 3007 contains a task of very large size (4288 KiB). The maximum recommended task size is 1000 KiB.\n",
      "22/11/15 02:40:24 WARN TaskSetManager: Stage 3009 contains a task of very large size (4288 KiB). The maximum recommended task size is 1000 KiB.\n",
      "22/11/15 02:40:25 WARN TaskSetManager: Stage 3011 contains a task of very large size (4288 KiB). The maximum recommended task size is 1000 KiB.\n",
      "22/11/15 02:40:25 WARN TaskSetManager: Stage 3013 contains a task of very large size (4288 KiB). The maximum recommended task size is 1000 KiB.\n",
      "22/11/15 02:40:26 WARN TaskSetManager: Stage 3015 contains a task of very large size (4288 KiB). The maximum recommended task size is 1000 KiB.\n",
      "22/11/15 02:40:27 WARN TaskSetManager: Stage 3017 contains a task of very large size (4288 KiB). The maximum recommended task size is 1000 KiB.\n"
     ]
    },
    {
     "name": "stderr",
     "output_type": "stream",
     "text": [
      "                                                                                \r"
     ]
    },
    {
     "name": "stdout",
     "output_type": "stream",
     "text": [
      "22/11/15 02:40:28 WARN TaskSetManager: Stage 3019 contains a task of very large size (4288 KiB). The maximum recommended task size is 1000 KiB.\n"
     ]
    },
    {
     "name": "stderr",
     "output_type": "stream",
     "text": [
      "                                                                                \r"
     ]
    },
    {
     "name": "stdout",
     "output_type": "stream",
     "text": [
      "22/11/15 02:40:30 WARN TaskSetManager: Stage 3021 contains a task of very large size (4288 KiB). The maximum recommended task size is 1000 KiB.\n",
      "22/11/15 02:40:30 WARN TaskSetManager: Stage 3022 contains a task of very large size (4288 KiB). The maximum recommended task size is 1000 KiB.\n",
      "22/11/15 02:40:30 WARN TaskSetManager: Stage 3023 contains a task of very large size (4288 KiB). The maximum recommended task size is 1000 KiB.\n",
      "22/11/15 02:40:30 WARN TaskSetManager: Stage 3024 contains a task of very large size (4288 KiB). The maximum recommended task size is 1000 KiB.\n",
      "22/11/15 02:40:30 WARN TaskSetManager: Stage 3026 contains a task of very large size (4288 KiB). The maximum recommended task size is 1000 KiB.\n",
      "22/11/15 02:40:31 WARN TaskSetManager: Stage 3028 contains a task of very large size (4288 KiB). The maximum recommended task size is 1000 KiB.\n",
      "22/11/15 02:40:31 WARN TaskSetManager: Stage 3030 contains a task of very large size (4288 KiB). The maximum recommended task size is 1000 KiB.\n",
      "22/11/15 02:40:31 WARN TaskSetManager: Stage 3032 contains a task of very large size (4288 KiB). The maximum recommended task size is 1000 KiB.\n",
      "22/11/15 02:40:31 WARN TaskSetManager: Stage 3034 contains a task of very large size (4288 KiB). The maximum recommended task size is 1000 KiB.\n",
      "22/11/15 02:40:31 WARN TaskSetManager: Stage 3036 contains a task of very large size (4288 KiB). The maximum recommended task size is 1000 KiB.\n",
      "22/11/15 02:40:32 WARN TaskSetManager: Stage 3038 contains a task of very large size (4288 KiB). The maximum recommended task size is 1000 KiB.\n",
      "22/11/15 02:40:32 WARN TaskSetManager: Stage 3040 contains a task of very large size (4288 KiB). The maximum recommended task size is 1000 KiB.\n",
      "22/11/15 02:40:32 WARN TaskSetManager: Stage 3042 contains a task of very large size (4288 KiB). The maximum recommended task size is 1000 KiB.\n",
      "22/11/15 02:40:33 WARN TaskSetManager: Stage 3044 contains a task of very large size (4288 KiB). The maximum recommended task size is 1000 KiB.\n",
      "22/11/15 02:40:34 WARN TaskSetManager: Stage 3046 contains a task of very large size (4288 KiB). The maximum recommended task size is 1000 KiB.\n",
      "22/11/15 02:40:34 WARN TaskSetManager: Stage 3047 contains a task of very large size (4288 KiB). The maximum recommended task size is 1000 KiB.\n",
      "22/11/15 02:40:34 WARN TaskSetManager: Stage 3048 contains a task of very large size (4288 KiB). The maximum recommended task size is 1000 KiB.\n",
      "22/11/15 02:40:34 WARN TaskSetManager: Stage 3049 contains a task of very large size (4288 KiB). The maximum recommended task size is 1000 KiB.\n",
      "22/11/15 02:40:34 WARN TaskSetManager: Stage 3051 contains a task of very large size (4288 KiB). The maximum recommended task size is 1000 KiB.\n",
      "22/11/15 02:40:35 WARN TaskSetManager: Stage 3053 contains a task of very large size (4288 KiB). The maximum recommended task size is 1000 KiB.\n",
      "22/11/15 02:40:35 WARN TaskSetManager: Stage 3055 contains a task of very large size (4288 KiB). The maximum recommended task size is 1000 KiB.\n",
      "22/11/15 02:40:35 WARN TaskSetManager: Stage 3057 contains a task of very large size (4288 KiB). The maximum recommended task size is 1000 KiB.\n",
      "22/11/15 02:40:35 WARN TaskSetManager: Stage 3059 contains a task of very large size (4288 KiB). The maximum recommended task size is 1000 KiB.\n",
      "22/11/15 02:40:35 WARN TaskSetManager: Stage 3061 contains a task of very large size (4288 KiB). The maximum recommended task size is 1000 KiB.\n",
      "22/11/15 02:40:36 WARN TaskSetManager: Stage 3063 contains a task of very large size (4288 KiB). The maximum recommended task size is 1000 KiB.\n",
      "22/11/15 02:40:37 WARN TaskSetManager: Stage 3065 contains a task of very large size (4288 KiB). The maximum recommended task size is 1000 KiB.\n",
      "22/11/15 02:40:37 WARN TaskSetManager: Stage 3067 contains a task of very large size (4288 KiB). The maximum recommended task size is 1000 KiB.\n",
      "22/11/15 02:40:38 WARN DAGScheduler: Broadcasting large task binary with size 1237.0 KiB\n",
      "22/11/15 02:40:38 WARN TaskSetManager: Stage 3069 contains a task of very large size (4288 KiB). The maximum recommended task size is 1000 KiB.\n"
     ]
    },
    {
     "name": "stderr",
     "output_type": "stream",
     "text": [
      "                                                                                \r"
     ]
    },
    {
     "name": "stdout",
     "output_type": "stream",
     "text": [
      "22/11/15 02:40:39 WARN TaskSetManager: Stage 3071 contains a task of very large size (4288 KiB). The maximum recommended task size is 1000 KiB.\n",
      "22/11/15 02:40:40 WARN TaskSetManager: Stage 3072 contains a task of very large size (4288 KiB). The maximum recommended task size is 1000 KiB.\n",
      "22/11/15 02:40:40 WARN TaskSetManager: Stage 3073 contains a task of very large size (4288 KiB). The maximum recommended task size is 1000 KiB.\n",
      "22/11/15 02:40:40 WARN TaskSetManager: Stage 3074 contains a task of very large size (4288 KiB). The maximum recommended task size is 1000 KiB.\n",
      "22/11/15 02:40:40 WARN TaskSetManager: Stage 3076 contains a task of very large size (4288 KiB). The maximum recommended task size is 1000 KiB.\n",
      "22/11/15 02:40:41 WARN TaskSetManager: Stage 3078 contains a task of very large size (4288 KiB). The maximum recommended task size is 1000 KiB.\n",
      "22/11/15 02:40:41 WARN TaskSetManager: Stage 3080 contains a task of very large size (4288 KiB). The maximum recommended task size is 1000 KiB.\n",
      "22/11/15 02:40:41 WARN TaskSetManager: Stage 3082 contains a task of very large size (4288 KiB). The maximum recommended task size is 1000 KiB.\n",
      "22/11/15 02:40:41 WARN TaskSetManager: Stage 3084 contains a task of very large size (4288 KiB). The maximum recommended task size is 1000 KiB.\n",
      "22/11/15 02:40:42 WARN TaskSetManager: Stage 3086 contains a task of very large size (4288 KiB). The maximum recommended task size is 1000 KiB.\n",
      "22/11/15 02:40:42 WARN TaskSetManager: Stage 3088 contains a task of very large size (4288 KiB). The maximum recommended task size is 1000 KiB.\n"
     ]
    },
    {
     "name": "stderr",
     "output_type": "stream",
     "text": [
      "                                                                                \r"
     ]
    },
    {
     "name": "stdout",
     "output_type": "stream",
     "text": [
      "22/11/15 02:40:44 WARN TaskSetManager: Stage 3090 contains a task of very large size (4288 KiB). The maximum recommended task size is 1000 KiB.\n"
     ]
    },
    {
     "name": "stderr",
     "output_type": "stream",
     "text": [
      "                                                                                \r"
     ]
    },
    {
     "name": "stdout",
     "output_type": "stream",
     "text": [
      "22/11/15 02:40:45 WARN DAGScheduler: Broadcasting large task binary with size 1488.5 KiB\n",
      "22/11/15 02:40:45 WARN TaskSetManager: Stage 3092 contains a task of very large size (4288 KiB). The maximum recommended task size is 1000 KiB.\n"
     ]
    },
    {
     "name": "stderr",
     "output_type": "stream",
     "text": [
      "                                                                                \r"
     ]
    },
    {
     "name": "stdout",
     "output_type": "stream",
     "text": [
      "22/11/15 02:40:46 WARN DAGScheduler: Broadcasting large task binary with size 2.3 MiB\n",
      "22/11/15 02:40:46 WARN TaskSetManager: Stage 3094 contains a task of very large size (4288 KiB). The maximum recommended task size is 1000 KiB.\n"
     ]
    },
    {
     "name": "stderr",
     "output_type": "stream",
     "text": [
      "                                                                                \r"
     ]
    },
    {
     "name": "stdout",
     "output_type": "stream",
     "text": [
      "22/11/15 02:40:48 WARN TaskSetManager: Stage 3096 contains a task of very large size (4288 KiB). The maximum recommended task size is 1000 KiB.\n",
      "22/11/15 02:40:48 WARN TaskSetManager: Stage 3097 contains a task of very large size (4288 KiB). The maximum recommended task size is 1000 KiB.\n",
      "22/11/15 02:40:48 WARN TaskSetManager: Stage 3098 contains a task of very large size (4288 KiB). The maximum recommended task size is 1000 KiB.\n",
      "22/11/15 02:40:49 WARN TaskSetManager: Stage 3099 contains a task of very large size (4288 KiB). The maximum recommended task size is 1000 KiB.\n",
      "22/11/15 02:40:49 WARN TaskSetManager: Stage 3101 contains a task of very large size (4288 KiB). The maximum recommended task size is 1000 KiB.\n",
      "22/11/15 02:40:49 WARN TaskSetManager: Stage 3103 contains a task of very large size (4288 KiB). The maximum recommended task size is 1000 KiB.\n",
      "22/11/15 02:40:49 WARN TaskSetManager: Stage 3105 contains a task of very large size (4288 KiB). The maximum recommended task size is 1000 KiB.\n",
      "22/11/15 02:40:50 WARN TaskSetManager: Stage 3107 contains a task of very large size (4288 KiB). The maximum recommended task size is 1000 KiB.\n",
      "22/11/15 02:40:50 WARN TaskSetManager: Stage 3109 contains a task of very large size (4288 KiB). The maximum recommended task size is 1000 KiB.\n",
      "22/11/15 02:40:50 WARN TaskSetManager: Stage 3111 contains a task of very large size (4288 KiB). The maximum recommended task size is 1000 KiB.\n",
      "22/11/15 02:40:50 WARN TaskSetManager: Stage 3113 contains a task of very large size (4288 KiB). The maximum recommended task size is 1000 KiB.\n",
      "22/11/15 02:40:50 WARN TaskSetManager: Stage 3115 contains a task of very large size (4288 KiB). The maximum recommended task size is 1000 KiB.\n",
      "22/11/15 02:40:51 WARN TaskSetManager: Stage 3117 contains a task of very large size (4288 KiB). The maximum recommended task size is 1000 KiB.\n",
      "22/11/15 02:40:51 WARN TaskSetManager: Stage 3119 contains a task of very large size (4288 KiB). The maximum recommended task size is 1000 KiB.\n",
      "22/11/15 02:40:52 WARN TaskSetManager: Stage 3121 contains a task of very large size (4288 KiB). The maximum recommended task size is 1000 KiB.\n",
      "22/11/15 02:40:52 WARN TaskSetManager: Stage 3122 contains a task of very large size (4288 KiB). The maximum recommended task size is 1000 KiB.\n",
      "22/11/15 02:40:53 WARN TaskSetManager: Stage 3123 contains a task of very large size (4288 KiB). The maximum recommended task size is 1000 KiB.\n",
      "22/11/15 02:40:53 WARN TaskSetManager: Stage 3124 contains a task of very large size (4288 KiB). The maximum recommended task size is 1000 KiB.\n",
      "22/11/15 02:40:53 WARN TaskSetManager: Stage 3126 contains a task of very large size (4288 KiB). The maximum recommended task size is 1000 KiB.\n",
      "22/11/15 02:40:53 WARN TaskSetManager: Stage 3128 contains a task of very large size (4288 KiB). The maximum recommended task size is 1000 KiB.\n",
      "22/11/15 02:40:53 WARN TaskSetManager: Stage 3130 contains a task of very large size (4288 KiB). The maximum recommended task size is 1000 KiB.\n",
      "22/11/15 02:40:54 WARN TaskSetManager: Stage 3132 contains a task of very large size (4288 KiB). The maximum recommended task size is 1000 KiB.\n",
      "22/11/15 02:40:54 WARN TaskSetManager: Stage 3134 contains a task of very large size (4288 KiB). The maximum recommended task size is 1000 KiB.\n",
      "22/11/15 02:40:54 WARN TaskSetManager: Stage 3136 contains a task of very large size (4288 KiB). The maximum recommended task size is 1000 KiB.\n",
      "22/11/15 02:40:55 WARN TaskSetManager: Stage 3138 contains a task of very large size (4288 KiB). The maximum recommended task size is 1000 KiB.\n",
      "22/11/15 02:40:55 WARN TaskSetManager: Stage 3140 contains a task of very large size (4288 KiB). The maximum recommended task size is 1000 KiB.\n",
      "22/11/15 02:40:56 WARN TaskSetManager: Stage 3142 contains a task of very large size (4288 KiB). The maximum recommended task size is 1000 KiB.\n",
      "22/11/15 02:40:57 WARN DAGScheduler: Broadcasting large task binary with size 1210.6 KiB\n",
      "22/11/15 02:40:57 WARN TaskSetManager: Stage 3144 contains a task of very large size (4288 KiB). The maximum recommended task size is 1000 KiB.\n"
     ]
    },
    {
     "name": "stderr",
     "output_type": "stream",
     "text": [
      "                                                                                \r"
     ]
    },
    {
     "name": "stdout",
     "output_type": "stream",
     "text": [
      "22/11/15 02:40:58 WARN TaskSetManager: Stage 3146 contains a task of very large size (4288 KiB). The maximum recommended task size is 1000 KiB.\n",
      "22/11/15 02:40:58 WARN TaskSetManager: Stage 3147 contains a task of very large size (4288 KiB). The maximum recommended task size is 1000 KiB.\n",
      "22/11/15 02:40:59 WARN TaskSetManager: Stage 3148 contains a task of very large size (4288 KiB). The maximum recommended task size is 1000 KiB.\n",
      "22/11/15 02:40:59 WARN TaskSetManager: Stage 3149 contains a task of very large size (4288 KiB). The maximum recommended task size is 1000 KiB.\n",
      "22/11/15 02:40:59 WARN TaskSetManager: Stage 3151 contains a task of very large size (4288 KiB). The maximum recommended task size is 1000 KiB.\n",
      "22/11/15 02:40:59 WARN TaskSetManager: Stage 3153 contains a task of very large size (4288 KiB). The maximum recommended task size is 1000 KiB.\n",
      "22/11/15 02:41:00 WARN TaskSetManager: Stage 3155 contains a task of very large size (4288 KiB). The maximum recommended task size is 1000 KiB.\n",
      "22/11/15 02:41:00 WARN TaskSetManager: Stage 3157 contains a task of very large size (4288 KiB). The maximum recommended task size is 1000 KiB.\n",
      "22/11/15 02:41:00 WARN TaskSetManager: Stage 3159 contains a task of very large size (4288 KiB). The maximum recommended task size is 1000 KiB.\n",
      "22/11/15 02:41:01 WARN TaskSetManager: Stage 3161 contains a task of very large size (4288 KiB). The maximum recommended task size is 1000 KiB.\n",
      "22/11/15 02:41:01 WARN TaskSetManager: Stage 3163 contains a task of very large size (4288 KiB). The maximum recommended task size is 1000 KiB.\n",
      "22/11/15 02:41:02 WARN TaskSetManager: Stage 3165 contains a task of very large size (4288 KiB). The maximum recommended task size is 1000 KiB.\n"
     ]
    },
    {
     "name": "stderr",
     "output_type": "stream",
     "text": [
      "                                                                                \r"
     ]
    },
    {
     "name": "stdout",
     "output_type": "stream",
     "text": [
      "22/11/15 02:41:04 WARN DAGScheduler: Broadcasting large task binary with size 1450.1 KiB\n",
      "22/11/15 02:41:04 WARN TaskSetManager: Stage 3167 contains a task of very large size (4288 KiB). The maximum recommended task size is 1000 KiB.\n"
     ]
    },
    {
     "name": "stderr",
     "output_type": "stream",
     "text": [
      "                                                                                \r"
     ]
    },
    {
     "name": "stdout",
     "output_type": "stream",
     "text": [
      "22/11/15 02:41:06 WARN DAGScheduler: Broadcasting large task binary with size 2.2 MiB\n",
      "22/11/15 02:41:06 WARN TaskSetManager: Stage 3169 contains a task of very large size (4288 KiB). The maximum recommended task size is 1000 KiB.\n"
     ]
    },
    {
     "name": "stderr",
     "output_type": "stream",
     "text": [
      "                                                                                \r"
     ]
    },
    {
     "name": "stdout",
     "output_type": "stream",
     "text": [
      "22/11/15 02:41:08 WARN TaskSetManager: Stage 3171 contains a task of very large size (4288 KiB). The maximum recommended task size is 1000 KiB.\n",
      "22/11/15 02:41:08 WARN TaskSetManager: Stage 3172 contains a task of very large size (4288 KiB). The maximum recommended task size is 1000 KiB.\n",
      "22/11/15 02:41:08 WARN TaskSetManager: Stage 3173 contains a task of very large size (4288 KiB). The maximum recommended task size is 1000 KiB.\n",
      "22/11/15 02:41:08 WARN TaskSetManager: Stage 3174 contains a task of very large size (4288 KiB). The maximum recommended task size is 1000 KiB.\n",
      "22/11/15 02:41:09 WARN TaskSetManager: Stage 3176 contains a task of very large size (4288 KiB). The maximum recommended task size is 1000 KiB.\n",
      "22/11/15 02:41:09 WARN TaskSetManager: Stage 3178 contains a task of very large size (4288 KiB). The maximum recommended task size is 1000 KiB.\n",
      "22/11/15 02:41:09 WARN TaskSetManager: Stage 3180 contains a task of very large size (4288 KiB). The maximum recommended task size is 1000 KiB.\n",
      "22/11/15 02:41:09 WARN TaskSetManager: Stage 3182 contains a task of very large size (4288 KiB). The maximum recommended task size is 1000 KiB.\n",
      "22/11/15 02:41:09 WARN TaskSetManager: Stage 3184 contains a task of very large size (4288 KiB). The maximum recommended task size is 1000 KiB.\n",
      "22/11/15 02:41:10 WARN TaskSetManager: Stage 3186 contains a task of very large size (4288 KiB). The maximum recommended task size is 1000 KiB.\n",
      "22/11/15 02:41:10 WARN TaskSetManager: Stage 3188 contains a task of very large size (4288 KiB). The maximum recommended task size is 1000 KiB.\n",
      "22/11/15 02:41:10 WARN TaskSetManager: Stage 3190 contains a task of very large size (4288 KiB). The maximum recommended task size is 1000 KiB.\n",
      "22/11/15 02:41:11 WARN TaskSetManager: Stage 3192 contains a task of very large size (4288 KiB). The maximum recommended task size is 1000 KiB.\n",
      "22/11/15 02:41:11 WARN TaskSetManager: Stage 3194 contains a task of very large size (4288 KiB). The maximum recommended task size is 1000 KiB.\n",
      "22/11/15 02:41:12 WARN TaskSetManager: Stage 3196 contains a task of very large size (4288 KiB). The maximum recommended task size is 1000 KiB.\n",
      "22/11/15 02:41:13 WARN TaskSetManager: Stage 3197 contains a task of very large size (4288 KiB). The maximum recommended task size is 1000 KiB.\n",
      "22/11/15 02:41:13 WARN TaskSetManager: Stage 3198 contains a task of very large size (4288 KiB). The maximum recommended task size is 1000 KiB.\n",
      "22/11/15 02:41:13 WARN TaskSetManager: Stage 3199 contains a task of very large size (4288 KiB). The maximum recommended task size is 1000 KiB.\n",
      "22/11/15 02:41:13 WARN TaskSetManager: Stage 3201 contains a task of very large size (4288 KiB). The maximum recommended task size is 1000 KiB.\n",
      "22/11/15 02:41:13 WARN TaskSetManager: Stage 3203 contains a task of very large size (4288 KiB). The maximum recommended task size is 1000 KiB.\n",
      "22/11/15 02:41:14 WARN TaskSetManager: Stage 3205 contains a task of very large size (4288 KiB). The maximum recommended task size is 1000 KiB.\n",
      "22/11/15 02:41:14 WARN TaskSetManager: Stage 3207 contains a task of very large size (4288 KiB). The maximum recommended task size is 1000 KiB.\n",
      "22/11/15 02:41:14 WARN TaskSetManager: Stage 3209 contains a task of very large size (4288 KiB). The maximum recommended task size is 1000 KiB.\n",
      "22/11/15 02:41:14 WARN TaskSetManager: Stage 3211 contains a task of very large size (4288 KiB). The maximum recommended task size is 1000 KiB.\n",
      "22/11/15 02:41:15 WARN TaskSetManager: Stage 3213 contains a task of very large size (4288 KiB). The maximum recommended task size is 1000 KiB.\n",
      "22/11/15 02:41:16 WARN TaskSetManager: Stage 3215 contains a task of very large size (4288 KiB). The maximum recommended task size is 1000 KiB.\n",
      "22/11/15 02:41:17 WARN TaskSetManager: Stage 3217 contains a task of very large size (4288 KiB). The maximum recommended task size is 1000 KiB.\n",
      "22/11/15 02:41:18 WARN DAGScheduler: Broadcasting large task binary with size 1182.5 KiB\n",
      "22/11/15 02:41:18 WARN TaskSetManager: Stage 3219 contains a task of very large size (4288 KiB). The maximum recommended task size is 1000 KiB.\n"
     ]
    },
    {
     "name": "stderr",
     "output_type": "stream",
     "text": [
      "                                                                                \r"
     ]
    },
    {
     "name": "stdout",
     "output_type": "stream",
     "text": [
      "22/11/15 02:41:19 WARN TaskSetManager: Stage 3221 contains a task of very large size (4288 KiB). The maximum recommended task size is 1000 KiB.\n",
      "22/11/15 02:41:20 WARN TaskSetManager: Stage 3222 contains a task of very large size (4288 KiB). The maximum recommended task size is 1000 KiB.\n",
      "22/11/15 02:41:20 WARN TaskSetManager: Stage 3223 contains a task of very large size (4288 KiB). The maximum recommended task size is 1000 KiB.\n",
      "22/11/15 02:41:20 WARN TaskSetManager: Stage 3224 contains a task of very large size (4288 KiB). The maximum recommended task size is 1000 KiB.\n",
      "22/11/15 02:41:20 WARN TaskSetManager: Stage 3226 contains a task of very large size (4288 KiB). The maximum recommended task size is 1000 KiB.\n",
      "22/11/15 02:41:21 WARN TaskSetManager: Stage 3228 contains a task of very large size (4288 KiB). The maximum recommended task size is 1000 KiB.\n",
      "22/11/15 02:41:21 WARN TaskSetManager: Stage 3230 contains a task of very large size (4288 KiB). The maximum recommended task size is 1000 KiB.\n",
      "22/11/15 02:41:21 WARN TaskSetManager: Stage 3232 contains a task of very large size (4288 KiB). The maximum recommended task size is 1000 KiB.\n",
      "22/11/15 02:41:22 WARN TaskSetManager: Stage 3234 contains a task of very large size (4288 KiB). The maximum recommended task size is 1000 KiB.\n",
      "22/11/15 02:41:22 WARN TaskSetManager: Stage 3236 contains a task of very large size (4288 KiB). The maximum recommended task size is 1000 KiB.\n",
      "22/11/15 02:41:23 WARN TaskSetManager: Stage 3238 contains a task of very large size (4288 KiB). The maximum recommended task size is 1000 KiB.\n"
     ]
    },
    {
     "name": "stderr",
     "output_type": "stream",
     "text": [
      "                                                                                \r"
     ]
    },
    {
     "name": "stdout",
     "output_type": "stream",
     "text": [
      "22/11/15 02:41:24 WARN TaskSetManager: Stage 3240 contains a task of very large size (4288 KiB). The maximum recommended task size is 1000 KiB.\n"
     ]
    },
    {
     "name": "stderr",
     "output_type": "stream",
     "text": [
      "                                                                                \r"
     ]
    },
    {
     "name": "stdout",
     "output_type": "stream",
     "text": [
      "22/11/15 02:41:26 WARN DAGScheduler: Broadcasting large task binary with size 1477.2 KiB\n",
      "22/11/15 02:41:26 WARN TaskSetManager: Stage 3242 contains a task of very large size (4288 KiB). The maximum recommended task size is 1000 KiB.\n"
     ]
    },
    {
     "name": "stderr",
     "output_type": "stream",
     "text": [
      "                                                                                \r"
     ]
    },
    {
     "name": "stdout",
     "output_type": "stream",
     "text": [
      "22/11/15 02:41:28 WARN DAGScheduler: Broadcasting large task binary with size 2.2 MiB\n",
      "22/11/15 02:41:28 WARN TaskSetManager: Stage 3244 contains a task of very large size (4288 KiB). The maximum recommended task size is 1000 KiB.\n"
     ]
    },
    {
     "name": "stderr",
     "output_type": "stream",
     "text": [
      "                                                                                \r"
     ]
    },
    {
     "name": "stdout",
     "output_type": "stream",
     "text": [
      "22/11/15 02:41:31 WARN TaskSetManager: Stage 3246 contains a task of very large size (4288 KiB). The maximum recommended task size is 1000 KiB.\n",
      "22/11/15 02:41:31 WARN TaskSetManager: Stage 3247 contains a task of very large size (4288 KiB). The maximum recommended task size is 1000 KiB.\n",
      "22/11/15 02:41:31 WARN TaskSetManager: Stage 3248 contains a task of very large size (4288 KiB). The maximum recommended task size is 1000 KiB.\n",
      "22/11/15 02:41:32 WARN TaskSetManager: Stage 3249 contains a task of very large size (4288 KiB). The maximum recommended task size is 1000 KiB.\n",
      "22/11/15 02:41:32 WARN TaskSetManager: Stage 3251 contains a task of very large size (4288 KiB). The maximum recommended task size is 1000 KiB.\n"
     ]
    },
    {
     "name": "stderr",
     "output_type": "stream",
     "text": [
      "\r",
      "[Stage 3251:>                                                       (0 + 4) / 4]\r",
      "\r",
      "                                                                                \r"
     ]
    },
    {
     "name": "stdout",
     "output_type": "stream",
     "text": [
      "22/11/15 02:41:33 WARN TaskSetManager: Stage 3253 contains a task of very large size (4288 KiB). The maximum recommended task size is 1000 KiB.\n",
      "22/11/15 02:41:33 WARN TaskSetManager: Stage 3255 contains a task of very large size (4288 KiB). The maximum recommended task size is 1000 KiB.\n",
      "22/11/15 02:41:34 WARN TaskSetManager: Stage 3257 contains a task of very large size (4288 KiB). The maximum recommended task size is 1000 KiB.\n",
      "22/11/15 02:41:34 WARN TaskSetManager: Stage 3259 contains a task of very large size (4288 KiB). The maximum recommended task size is 1000 KiB.\n",
      "22/11/15 02:41:35 WARN TaskSetManager: Stage 3261 contains a task of very large size (4288 KiB). The maximum recommended task size is 1000 KiB.\n",
      "22/11/15 02:41:35 WARN TaskSetManager: Stage 3263 contains a task of very large size (4288 KiB). The maximum recommended task size is 1000 KiB.\n"
     ]
    },
    {
     "name": "stderr",
     "output_type": "stream",
     "text": [
      "                                                                                \r"
     ]
    },
    {
     "name": "stdout",
     "output_type": "stream",
     "text": [
      "22/11/15 02:41:36 WARN TaskSetManager: Stage 3265 contains a task of very large size (4288 KiB). The maximum recommended task size is 1000 KiB.\n"
     ]
    },
    {
     "name": "stderr",
     "output_type": "stream",
     "text": [
      "                                                                                \r"
     ]
    },
    {
     "name": "stdout",
     "output_type": "stream",
     "text": [
      "22/11/15 02:41:38 WARN DAGScheduler: Broadcasting large task binary with size 1457.9 KiB\n",
      "22/11/15 02:41:38 WARN TaskSetManager: Stage 3267 contains a task of very large size (4288 KiB). The maximum recommended task size is 1000 KiB.\n"
     ]
    },
    {
     "name": "stderr",
     "output_type": "stream",
     "text": [
      "                                                                                \r"
     ]
    },
    {
     "name": "stdout",
     "output_type": "stream",
     "text": [
      "22/11/15 02:41:40 WARN DAGScheduler: Broadcasting large task binary with size 2.2 MiB\n",
      "22/11/15 02:41:40 WARN TaskSetManager: Stage 3269 contains a task of very large size (4288 KiB). The maximum recommended task size is 1000 KiB.\n"
     ]
    },
    {
     "name": "stderr",
     "output_type": "stream",
     "text": [
      "                                                                                \r"
     ]
    }
   ],
   "source": [
    "modelos_cross = cross.fit(treino)"
   ]
  },
  {
   "cell_type": "code",
   "execution_count": 125,
   "id": "01226264",
   "metadata": {},
   "outputs": [],
   "source": [
    "previsao_cross = modelos_cross.transform(teste)"
   ]
  },
  {
   "cell_type": "code",
   "execution_count": 128,
   "id": "5fc3e86d",
   "metadata": {},
   "outputs": [],
   "source": [
    "avaliador_cross = RegressionEvaluator(predictionCol=\"prediction\", labelCol=\"cost\", metricName=\"r2\")"
   ]
  },
  {
   "cell_type": "code",
   "execution_count": 129,
   "id": "18eb4876",
   "metadata": {},
   "outputs": [
    {
     "name": "stdout",
     "output_type": "stream",
     "text": [
      "22/11/15 02:42:54 WARN TaskSetManager: Stage 3272 contains a task of very large size (4288 KiB). The maximum recommended task size is 1000 KiB.\n",
      "R2: 0.9996381766787331\n"
     ]
    }
   ],
   "source": [
    "print('R2:', avaliador_cross.evaluate(previsao_cross))"
   ]
  },
  {
   "cell_type": "code",
   "execution_count": 188,
   "id": "5780db7c",
   "metadata": {},
   "outputs": [
    {
     "name": "stdout",
     "output_type": "stream",
     "text": [
      "22/11/15 03:27:55 WARN TaskSetManager: Stage 3308 contains a task of very large size (4288 KiB). The maximum recommended task size is 1000 KiB.\n"
     ]
    },
    {
     "name": "stderr",
     "output_type": "stream",
     "text": [
      "\r",
      "[Stage 3308:>                                                       (0 + 4) / 4]\r"
     ]
    },
    {
     "name": "stdout",
     "output_type": "stream",
     "text": [
      "MSE 0.32708883346617884\n"
     ]
    },
    {
     "name": "stderr",
     "output_type": "stream",
     "text": [
      "\r",
      "                                                                                \r"
     ]
    }
   ],
   "source": [
    "avaliador_cross2 = RegressionEvaluator(predictionCol=\"prediction\", labelCol=\"cost\", metricName=\"mse\")\n",
    "print('MSE', avaliador_cross2.evaluate(previsao_cross))"
   ]
  },
  {
   "cell_type": "code",
   "execution_count": 199,
   "id": "c26d58fb",
   "metadata": {},
   "outputs": [
    {
     "name": "stdout",
     "output_type": "stream",
     "text": [
      "maxDepth 10\n",
      "maxBins 50\n",
      "numTrees 20\n"
     ]
    }
   ],
   "source": [
    "print(\"maxDepth\",modelos_cross.bestModel.getOrDefault(\"maxDepth\"))\n",
    "print(\"maxBins\",modelos_cross.bestModel.getOrDefault(\"maxBins\"))\n",
    "print(\"numTrees\",modelos_cross.bestModel.getOrDefault(\"numTrees\"))"
   ]
  },
  {
   "cell_type": "code",
   "execution_count": 151,
   "id": "adbfe9de",
   "metadata": {},
   "outputs": [
    {
     "name": "stdout",
     "output_type": "stream",
     "text": [
      "22/11/15 03:00:59 WARN TaskSetManager: Stage 3296 contains a task of very large size (4288 KiB). The maximum recommended task size is 1000 KiB.\n"
     ]
    },
    {
     "name": "stderr",
     "output_type": "stream",
     "text": [
      "                                                                                \r"
     ]
    },
    {
     "name": "stdout",
     "output_type": "stream",
     "text": [
      "22/11/15 03:01:00 WARN TaskSetManager: Stage 3299 contains a task of very large size (4288 KiB). The maximum recommended task size is 1000 KiB.\n"
     ]
    },
    {
     "name": "stderr",
     "output_type": "stream",
     "text": [
      "                                                                                \r"
     ]
    },
    {
     "name": "stdout",
     "output_type": "stream",
     "text": [
      "22/11/15 03:01:02 WARN TaskSetManager: Stage 3300 contains a task of very large size (4288 KiB). The maximum recommended task size is 1000 KiB.\n"
     ]
    },
    {
     "name": "stderr",
     "output_type": "stream",
     "text": [
      "                                                                                \r"
     ]
    },
    {
     "data": {
      "image/png": "[encoded data removed]",
      "text/plain": [
       "<Figure size 432x288 with 1 Axes>"
      ]
     },
     "metadata": {
      "needs_background": "light"
     },
     "output_type": "display_data"
    }
   ],
   "source": [
    "x_ax = range(0, previsao_cross.count())\n",
    "y_pred=previsao_cross.select(\"prediction\").collect()\n",
    "y_orig=previsao_cross.select(\"cost\").collect()\n",
    " \n",
    "plt.plot(x_ax, y_orig, label=\"original\")\n",
    "plt.plot(x_ax, y_pred, label=\"previsto\")\n",
    "plt.title(\"teste e previsao\")\n",
    "plt.xlabel('X-axis')\n",
    "plt.ylabel('Y-axis')\n",
    "plt.legend(loc='best',fancybox=True, shadow=True)\n",
    "plt.grid(True)\n",
    "plt.show() "
   ]
  },
  {
   "cell_type": "code",
   "execution_count": null,
   "id": "dad4e89a",
   "metadata": {},
   "outputs": [],
   "source": []
  }
 ],
 "metadata": {
  "kernelspec": {
   "display_name": "Python 3 (ipykernel)",
   "language": "python",
   "name": "python3"
  },
  "language_info": {
   "codemirror_mode": {
    "name": "ipython",
    "version": 3
   },
   "file_extension": ".py",
   "mimetype": "text/x-python",
   "name": "python",
   "nbconvert_exporter": "python",
   "pygments_lexer": "ipython3",
   "version": "3.9.12"
  }
 },
 "nbformat": 4,
 "nbformat_minor": 5
}
